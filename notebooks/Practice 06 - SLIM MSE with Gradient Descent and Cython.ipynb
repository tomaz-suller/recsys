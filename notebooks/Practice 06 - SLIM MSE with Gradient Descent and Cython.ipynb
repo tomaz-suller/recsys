{
 "cells": [
  {
   "cell_type": "markdown",
   "metadata": {},
   "source": [
    "# Recommender Systems 2021/20\n",
    "\n",
    "### Practice - SLIM MSE implemented with Python and Cython\n",
    "\n",
    "\n",
    "### Cython is a superset of Python, allowing you to use C-like operations and import C code. Cython files (.pyx) are compiled and support static typing.\n",
    "\n",
    "### Why do we use it (or any other compiled language)? If the code is written properly it is fast... I mean, FAST"
   ]
  },
  {
   "cell_type": "code",
   "execution_count": 1,
   "metadata": {},
   "outputs": [],
   "source": [
    "import time\n",
    "import numpy as np"
   ]
  },
  {
   "cell_type": "markdown",
   "metadata": {},
   "source": [
    "### Let's implement something simple"
   ]
  },
  {
   "cell_type": "code",
   "execution_count": 2,
   "metadata": {},
   "outputs": [],
   "source": [
    "def isPrime(n):\n",
    "    i = 2\n",
    "\n",
    "    # Usually you loop up to sqrt(n)\n",
    "    while i < n:\n",
    "        if n % i == 0:\n",
    "            return False\n",
    "\n",
    "        i += 1\n",
    "\n",
    "    return True"
   ]
  },
  {
   "cell_type": "code",
   "execution_count": 3,
   "metadata": {},
   "outputs": [
    {
     "name": "stdout",
     "output_type": "stream",
     "text": [
      "Is 2 prime? True\n",
      "Is 3 prime? True\n",
      "Is 5 prime? True\n",
      "Is 15 prime? False\n",
      "Is 20 prime? False\n"
     ]
    }
   ],
   "source": [
    "print(\"Is 2 prime? {}\".format(isPrime(2)))\n",
    "print(\"Is 3 prime? {}\".format(isPrime(3)))\n",
    "print(\"Is 5 prime? {}\".format(isPrime(5)))\n",
    "print(\"Is 15 prime? {}\".format(isPrime(15)))\n",
    "print(\"Is 20 prime? {}\".format(isPrime(20)))"
   ]
  },
  {
   "cell_type": "code",
   "execution_count": 4,
   "metadata": {},
   "outputs": [
    {
     "name": "stdout",
     "output_type": "stream",
     "text": [
      "Is 80000023 prime? True, time required 8.87 sec\n"
     ]
    }
   ],
   "source": [
    "start_time = time.time()\n",
    "\n",
    "result = isPrime(80000023)\n",
    "\n",
    "print(\n",
    "    \"Is 80000023 prime? {}, time required {:.2f} sec\".format(\n",
    "        result, time.time() - start_time\n",
    "    )\n",
    ")"
   ]
  },
  {
   "cell_type": "markdown",
   "metadata": {},
   "source": [
    "#### Load Cython magic command, this takes care of the compilation step. If you are writing code outside Jupyter you'll have to compile using other tools. See at the end of the notebook for details."
   ]
  },
  {
   "cell_type": "code",
   "execution_count": 5,
   "metadata": {},
   "outputs": [],
   "source": [
    "%load_ext Cython"
   ]
  },
  {
   "cell_type": "markdown",
   "metadata": {},
   "source": [
    "#### Declare Cython function, paste the same code as before. The function will be compiled and then executed with a Python interface"
   ]
  },
  {
   "cell_type": "code",
   "execution_count": 6,
   "metadata": {},
   "outputs": [],
   "source": [
    "%%cython\n",
    "def isPrime(n):\n",
    "    \n",
    "    i = 2\n",
    "    \n",
    "    # Usually you loop up to sqrt(n)\n",
    "    while i < n:\n",
    "        if n % i == 0:\n",
    "            return False\n",
    "        \n",
    "        i += 1\n",
    "        \n",
    "    return True"
   ]
  },
  {
   "cell_type": "code",
   "execution_count": 7,
   "metadata": {},
   "outputs": [
    {
     "name": "stdout",
     "output_type": "stream",
     "text": [
      "Is Prime 80000023? True, time required 4.73 sec\n"
     ]
    }
   ],
   "source": [
    "start_time = time.time()\n",
    "\n",
    "result = isPrime(80000023)\n",
    "\n",
    "print(\n",
    "    \"Is Prime 80000023? {}, time required {:.2f} sec\".format(\n",
    "        result, time.time() - start_time\n",
    "    )\n",
    ")"
   ]
  },
  {
   "cell_type": "markdown",
   "metadata": {},
   "source": [
    "#### As you can see by just compiling the same code we got some improvement.\n",
    "#### To go seriously higher, we have to use some static typing"
   ]
  },
  {
   "cell_type": "code",
   "execution_count": 8,
   "metadata": {},
   "outputs": [],
   "source": [
    "%%cython\n",
    "# Declare the tipe of the arguments\n",
    "def isPrime(long n):\n",
    "    \n",
    "    # Declare index of for loop\n",
    "    cdef long i\n",
    "    \n",
    "    i = 2\n",
    "    \n",
    "    # Usually you loop up to sqrt(n)\n",
    "    while i < n:\n",
    "        if n % i == 0:\n",
    "            return False\n",
    "        \n",
    "        i += 1\n",
    "        \n",
    "    return True"
   ]
  },
  {
   "cell_type": "code",
   "execution_count": 9,
   "metadata": {},
   "outputs": [
    {
     "name": "stdout",
     "output_type": "stream",
     "text": [
      "Is 80000023 prime? True, time required 1.20 sec\n"
     ]
    }
   ],
   "source": [
    "start_time = time.time()\n",
    "\n",
    "result = isPrime(80000023)\n",
    "\n",
    "print(\n",
    "    \"Is 80000023 prime? {}, time required {:.2f} sec\".format(\n",
    "        result, time.time() - start_time\n",
    "    )\n",
    ")"
   ]
  },
  {
   "cell_type": "markdown",
   "metadata": {},
   "source": [
    "#### Cython code with two type declarations, for n and i, runs 50x faster than Python"
   ]
  },
  {
   "cell_type": "markdown",
   "metadata": {},
   "source": [
    "#### Main benefits of Cython:\n",
    "* Compiled, no interpreter\n",
    "* Static typing, no overhead\n",
    "* Fast loops, no need to vectorize. Vectorization sometimes performes lots of useless operations\n",
    "* Numpy, which is fast in python, when operations are not vectorizable often becomes slooooow compared to a carefully written Cython code"
   ]
  },
  {
   "cell_type": "markdown",
   "metadata": {},
   "source": [
    "## A few info about gradient descent"
   ]
  },
  {
   "cell_type": "code",
   "execution_count": 10,
   "metadata": {},
   "outputs": [],
   "source": [
    "%matplotlib inline\n",
    "import numpy as np\n",
    "import scipy as sp\n",
    "import matplotlib.pyplot as plt\n",
    "import random\n",
    "from scipy import stats\n",
    "from scipy.optimize import fmin"
   ]
  },
  {
   "cell_type": "markdown",
   "metadata": {},
   "source": [
    "<b>Gradient descent</b>, also known as <b>steepest descent</b>, is an optimization algorithm for finding the local minimum of a function. To find a local minimum, the function \"steps\" in the  direction of the negative of the gradient. <b>Gradient ascent</b> is the same as gradient descent, except that it steps in the direction of the positive of the gradient and therefore finds local maximums instead of minimums. The algorithm of gradient descent can be outlined as follows:\n",
    "\n",
    "&nbsp;&nbsp;&nbsp; 1: &nbsp; Choose initial guess $x_0$ <br>\n",
    "&nbsp;&nbsp;&nbsp;    2: &nbsp; <b>for</b> k = 0, 1, 2, ... <b>do</b> <br>\n",
    "&nbsp;&nbsp;&nbsp;    3:   &nbsp;&nbsp;&nbsp;&nbsp;&nbsp; $s_k$ = -$\\nabla f(x_k)$ <br>\n",
    "&nbsp;&nbsp;&nbsp;    4:   &nbsp;&nbsp;&nbsp;&nbsp;&nbsp; choose $\\alpha_k$ to minimize $f(x_k+\\alpha_k s_k)$ <br>\n",
    "&nbsp;&nbsp;&nbsp;    5:   &nbsp;&nbsp;&nbsp;&nbsp;&nbsp; $x_{k+1} = x_k + \\alpha_k s_k$ <br>\n",
    "&nbsp;&nbsp;&nbsp;    6: &nbsp;  <b>end for</b>\n",
    "\n",
    "As a simple example, let's find a local minimum for the function $f(x) = x^3-2x^2+2$"
   ]
  },
  {
   "cell_type": "code",
   "execution_count": 11,
   "metadata": {},
   "outputs": [],
   "source": [
    "f = lambda x: x**3 - 2 * x**2 + 2"
   ]
  },
  {
   "cell_type": "code",
   "execution_count": 12,
   "metadata": {},
   "outputs": [
    {
     "data": {
      "image/png": "[encoded data removed]",
      "text/plain": [
       "<Figure size 640x480 with 1 Axes>"
      ]
     },
     "metadata": {},
     "output_type": "display_data"
    }
   ],
   "source": [
    "x = np.linspace(-1, 2.5, 1000)\n",
    "plt.plot(x, f(x))\n",
    "plt.xlim([-1, 2.5])\n",
    "plt.ylim([0, 3])\n",
    "plt.show()"
   ]
  },
  {
   "cell_type": "markdown",
   "metadata": {},
   "source": [
    "We can see from plot above that our local minimum is going to be around 1.4 or 1.5 (on the x-axis), but let's pretend that we don't know that, so we set our starting point (arbitrarily, in this case) at $x_0 = 2$"
   ]
  },
  {
   "cell_type": "code",
   "execution_count": 13,
   "metadata": {},
   "outputs": [
    {
     "name": "stdout",
     "output_type": "stream",
     "text": [
      "Local minimum occurs at: 1.33\n",
      "Number of steps: 17\n"
     ]
    }
   ],
   "source": [
    "x_old = 0\n",
    "x_new = 2  # The algorithm starts at x=2\n",
    "n_k = 0.1  # step size\n",
    "precision = 0.0001\n",
    "\n",
    "x_list, y_list = [x_new], [f(x_new)]\n",
    "\n",
    "\n",
    "# returns the value of the derivative of our function\n",
    "def f_gradient(x):\n",
    "    return 3 * x**2 - 4 * x\n",
    "\n",
    "\n",
    "while abs(x_new - x_old) > precision:\n",
    "    x_old = x_new\n",
    "\n",
    "    # Gradient descent step\n",
    "    s_k = -f_gradient(x_old)\n",
    "\n",
    "    x_new = x_old + n_k * s_k\n",
    "\n",
    "    x_list.append(x_new)\n",
    "    y_list.append(f(x_new))\n",
    "\n",
    "print(\"Local minimum occurs at: {:.2f}\".format(x_new))\n",
    "print(\"Number of steps:\", len(x_list))"
   ]
  },
  {
   "cell_type": "markdown",
   "metadata": {},
   "source": [
    "The figures below show the route that was taken to find the local minimum."
   ]
  },
  {
   "cell_type": "code",
   "execution_count": 14,
   "metadata": {},
   "outputs": [
    {
     "data": {
      "image/png": "[encoded data removed]",
      "text/plain": [
       "<Figure size 1000x300 with 2 Axes>"
      ]
     },
     "metadata": {},
     "output_type": "display_data"
    }
   ],
   "source": [
    "plt.figure(figsize=[10, 3])\n",
    "plt.subplot(1, 2, 1)\n",
    "plt.scatter(x_list, y_list, c=\"r\")\n",
    "plt.plot(x_list, y_list, c=\"r\")\n",
    "plt.plot(x, f(x), c=\"b\")\n",
    "plt.xlim([-1, 2.5])\n",
    "plt.ylim([0, 3])\n",
    "plt.title(\"Gradient descent\")\n",
    "plt.subplot(1, 2, 2)\n",
    "plt.scatter(x_list, y_list, c=\"r\")\n",
    "plt.plot(x_list, y_list, c=\"r\")\n",
    "plt.plot(x, f(x), c=\"b\")\n",
    "plt.xlim([1.2, 2.1])\n",
    "plt.ylim([0, 3])\n",
    "plt.title(\"Gradient descent (zoomed in)\")\n",
    "plt.show()"
   ]
  },
  {
   "cell_type": "markdown",
   "metadata": {},
   "source": [
    "# SLIM MSE with Cython\n",
    "\n",
    "#### Load the usual data."
   ]
  },
  {
   "cell_type": "code",
   "execution_count": 15,
   "metadata": {},
   "outputs": [
    {
     "name": "stdout",
     "output_type": "stream",
     "text": [
      "Movielens10M: Verifying data consistency...\n",
      "Movielens10M: Verifying data consistency... Passed!\n",
      "DataReader: current dataset is: Movielens10M\n",
      "\tNumber of items: 10681\n",
      "\tNumber of users: 69878\n",
      "\tNumber of interactions in URM_all: 10000054\n",
      "\tValue range in URM_all: 0.50-5.00\n",
      "\tInteraction density: 1.34E-02\n",
      "\tInteractions per user:\n",
      "\t\t Min: 2.00E+01\n",
      "\t\t Avg: 1.43E+02\n",
      "\t\t Max: 7.36E+03\n",
      "\tInteractions per item:\n",
      "\t\t Min: 0.00E+00\n",
      "\t\t Avg: 9.36E+02\n",
      "\t\t Max: 3.49E+04\n",
      "\tGini Index: 0.57\n",
      "\n",
      "\tICM name: ICM_year, Value range: 1.92E+03 / 2.01E+03, Num features: 1, feature occurrences: 10681, density 1.00E+00\n",
      "\tICM name: ICM_all, Value range: 1.00 / 69.00, Num features: 10126, feature occurrences: 128384, density 1.19E-03\n",
      "\tICM name: ICM_tags, Value range: 1.00 / 69.00, Num features: 10106, feature occurrences: 106820, density 9.90E-04\n",
      "\tICM name: ICM_genres, Value range: 1.00 / 1.00, Num features: 20, feature occurrences: 21564, density 1.01E-01\n",
      "\n",
      "\n",
      "Warning: 87 (0.12 %) of 69878 users have no sampled items\n"
     ]
    }
   ],
   "source": [
    "from Data_manager.split_functions.split_train_validation_random_holdout import (\n",
    "    split_train_in_two_percentage_global_sample,\n",
    ")\n",
    "from Data_manager.Movielens.Movielens10MReader import Movielens10MReader\n",
    "\n",
    "data_reader = Movielens10MReader()\n",
    "data_loaded = data_reader.load_data()\n",
    "\n",
    "URM_all = data_loaded.get_URM_all()\n",
    "\n",
    "URM_train, URM_test = split_train_in_two_percentage_global_sample(\n",
    "    URM_all, train_percentage=0.8\n",
    ")"
   ]
  },
  {
   "cell_type": "code",
   "execution_count": 16,
   "metadata": {},
   "outputs": [
    {
     "data": {
      "text/plain": [
       "<69878x10681 sparse matrix of type '<class 'numpy.float64'>'\n",
       "\twith 8000043 stored elements in Compressed Sparse Row format>"
      ]
     },
     "execution_count": 16,
     "metadata": {},
     "output_type": "execute_result"
    }
   ],
   "source": [
    "URM_train"
   ]
  },
  {
   "cell_type": "markdown",
   "metadata": {},
   "source": [
    "## What do we need for a SLIM MSE?\n",
    "\n",
    "* Loss function\n",
    "* Item-Item similarity matrix\n",
    "* Computing prediction\n",
    "* Update rule\n",
    "* Training loop and some patience\n"
   ]
  },
  {
   "cell_type": "code",
   "execution_count": 17,
   "metadata": {},
   "outputs": [],
   "source": [
    "n_users, n_items = URM_train.shape"
   ]
  },
  {
   "cell_type": "markdown",
   "metadata": {},
   "source": [
    "#### SLIM MSE is based on a dense item-item similarity matrix $ S \\in R^{I \\times I}$ \n",
    "\n",
    "### How to compute the predictions\n",
    "$ \\hat{r}_{ui} = \\sum_{j=0}^{I} r_{uj}S_{ji}$\n",
    "\n",
    "\n",
    "### The loss function we are interested in minimizing is\n",
    "\n",
    "$L = ||R - RS||_2 + \\alpha||S||_2$\n",
    "\n",
    "#### The gradient of this with respect to S is\n",
    "$\\frac{\\partial}{\\partial S} L = -2(R - RS)R + 2 \\alpha S$\n",
    "\n",
    "#### The update is going to be (we can remove the coefficients)\n",
    "$ S = S - \\frac{\\partial}{\\partial S}$, or \n",
    "\n",
    "$ S = S + l((R - RS)R - \\alpha S)$, with $l$ the learning rate"
   ]
  },
  {
   "cell_type": "markdown",
   "metadata": {},
   "source": [
    "### WARNING:\n",
    "During the learning process we must account for the fact that a possible solution for SLIM EN is $S=I$, which is a trivial and useless solution. We want to avoid that the diagonal is 1. This can be done by either introducing a penalty in the loss function or by simply never using and updating the diagonal. In this notebook we will never learn the self-similarity (the similarity of an item with itself, i.e., the diagonal) by ensuring it is always zero."
   ]
  },
  {
   "cell_type": "markdown",
   "metadata": {},
   "source": [
    "## Step 1: We create a dense similarity matrix, initialized as zero"
   ]
  },
  {
   "cell_type": "code",
   "execution_count": 18,
   "metadata": {},
   "outputs": [
    {
     "data": {
      "text/plain": [
       "array([[0., 0., 0., ..., 0., 0., 0.],\n",
       "       [0., 0., 0., ..., 0., 0., 0.],\n",
       "       [0., 0., 0., ..., 0., 0., 0.],\n",
       "       ...,\n",
       "       [0., 0., 0., ..., 0., 0., 0.],\n",
       "       [0., 0., 0., ..., 0., 0., 0.],\n",
       "       [0., 0., 0., ..., 0., 0., 0.]])"
      ]
     },
     "execution_count": 18,
     "metadata": {},
     "output_type": "execute_result"
    }
   ],
   "source": [
    "item_item_S = np.zeros((n_items, n_items), dtype=float)\n",
    "item_item_S"
   ]
  },
  {
   "cell_type": "markdown",
   "metadata": {},
   "source": [
    "## Step 2: We sample an interaction and compute the prediction of the current SLIM model"
   ]
  },
  {
   "cell_type": "code",
   "execution_count": 19,
   "metadata": {},
   "outputs": [
    {
     "data": {
      "text/plain": [
       "714222"
      ]
     },
     "execution_count": 19,
     "metadata": {},
     "output_type": "execute_result"
    }
   ],
   "source": [
    "URM_train_coo = URM_train.tocoo()\n",
    "\n",
    "sample_index = np.random.randint(URM_train_coo.nnz)\n",
    "sample_index"
   ]
  },
  {
   "cell_type": "code",
   "execution_count": 20,
   "metadata": {},
   "outputs": [
    {
     "data": {
      "text/plain": [
       "(6512, 1369, 3.0)"
      ]
     },
     "execution_count": 20,
     "metadata": {},
     "output_type": "execute_result"
    }
   ],
   "source": [
    "user_id = URM_train_coo.row[sample_index]\n",
    "item_id = URM_train_coo.col[sample_index]\n",
    "true_rating = URM_train_coo.data[sample_index]\n",
    "\n",
    "(user_id, item_id, true_rating)"
   ]
  },
  {
   "cell_type": "code",
   "execution_count": 21,
   "metadata": {},
   "outputs": [
    {
     "data": {
      "text/plain": [
       "0.0"
      ]
     },
     "execution_count": 21,
     "metadata": {},
     "output_type": "execute_result"
    }
   ],
   "source": [
    "predicted_rating = URM_train[user_id].dot(item_item_S[:, item_id])[0]\n",
    "predicted_rating"
   ]
  },
  {
   "cell_type": "markdown",
   "metadata": {},
   "source": [
    "#### The first predicted rating is zero, of course, the model is \"empty\"\n",
    "\n",
    "### Step 3: We compute the prediction error and update the item-item similarity"
   ]
  },
  {
   "cell_type": "code",
   "execution_count": 22,
   "metadata": {},
   "outputs": [
    {
     "data": {
      "text/plain": [
       "3.0"
      ]
     },
     "execution_count": 22,
     "metadata": {},
     "output_type": "execute_result"
    }
   ],
   "source": [
    "prediction_error = true_rating - predicted_rating\n",
    "prediction_error"
   ]
  },
  {
   "cell_type": "markdown",
   "metadata": {},
   "source": [
    "### The error is positive, so we need to increase the prediction our model computes. Meaning, we have to increase the values in the item-item similarity matrix\n",
    "\n",
    "### Which item similarities do we modify? Only those we used to compute the prediction, i.e., only the items in the profile of the sampled user. "
   ]
  },
  {
   "cell_type": "code",
   "execution_count": 23,
   "metadata": {},
   "outputs": [
    {
     "data": {
      "text/plain": [
       "array([   4,    5,    7,    9,   14,   18,   19,   20,   21,   22,   24,\n",
       "         30,   31,   34,   36,   37,   38,   40,   43,   47,   51,   57,\n",
       "         58,   60,   63,   64,   68,   72,   74,   75,   81,   83,   84,\n",
       "         85,   86,   91,   92,   93,   95,  133,  148,  171,  175,  177,\n",
       "        178,  179,  187,  192,  196,  198,  201,  205,  206,  210,  217,\n",
       "        228,  248,  252,  259,  260,  271,  279,  280,  296,  300,  307,\n",
       "        327,  346,  376,  381,  399,  411,  413,  415,  416,  424,  425,\n",
       "        426,  443,  458,  461,  464,  488,  489,  504,  505,  509,  519,\n",
       "        521,  536,  537,  543,  546,  547,  554,  584,  585,  598,  603,\n",
       "        620,  621,  628,  638,  642,  653,  654,  658,  687,  694,  718,\n",
       "        755,  760,  788,  793,  798,  819,  822,  823,  826,  827,  849,\n",
       "        856,  864,  866,  867,  874,  902,  927,  942,  949,  958,  962,\n",
       "        968,  972,  992,  993, 1003, 1005, 1031, 1051, 1074, 1077, 1078,\n",
       "       1084, 1093, 1094, 1096, 1119, 1122, 1133, 1176, 1182, 1183, 1187,\n",
       "       1190, 1191, 1200, 1201, 1248, 1296, 1302, 1311, 1314, 1316, 1324,\n",
       "       1330, 1334, 1358, 1366, 1367, 1369, 1418, 1426, 1427, 1434, 1448,\n",
       "       1449, 1451, 1471, 1475, 1505, 1508, 1544, 1599, 1613, 1620, 1622,\n",
       "       1653, 1657, 1658, 1716, 1726, 1762, 1782, 1808, 1813, 1814, 1815,\n",
       "       1820, 1821, 1832, 1838, 1843, 1861, 1864, 1882, 1913, 1919, 1920,\n",
       "       1963, 2008, 2019, 2053, 2071, 2084, 2088, 2109, 2151, 2157, 2177,\n",
       "       2188, 2299, 2310, 2312, 2314, 2477, 2489, 2502, 2514, 2516, 2544,\n",
       "       2574, 2578, 2587, 2594, 2595, 2606, 2694, 2714, 2741, 2747, 2942,\n",
       "       2943, 2948, 2955, 2960, 3006, 3184, 3268, 3294, 3327, 3511, 3536,\n",
       "       3542, 3561, 3602, 3787, 3807, 3810, 3858, 4066, 4394, 4926, 5131,\n",
       "       5401, 6716, 7845, 8990], dtype=int32)"
      ]
     },
     "execution_count": 23,
     "metadata": {},
     "output_type": "execute_result"
    }
   ],
   "source": [
    "items_in_user_profile = URM_train[user_id].indices\n",
    "items_in_user_profile"
   ]
  },
  {
   "cell_type": "code",
   "execution_count": 24,
   "metadata": {},
   "outputs": [
    {
     "data": {
      "text/plain": [
       "array([5. , 3.5, 3. , 5. , 4. , 4.5, 4. , 3. , 3. , 4.5, 4.5, 1.5, 3.5,\n",
       "       5. , 3. , 4. , 4.5, 3.5, 5. , 4. , 4. , 4. , 0.5, 5. , 5. , 5. ,\n",
       "       5. , 3. , 4.5, 3.5, 3. , 4. , 3. , 4. , 3. , 3.5, 2.5, 3.5, 2.5,\n",
       "       5. , 4.5, 4. , 3.5, 5. , 5. , 4.5, 4. , 5. , 4.5, 5. , 4.5, 4.5,\n",
       "       5. , 4. , 5. , 4. , 3. , 1.5, 4.5, 3.5, 4. , 4. , 4. , 4.5, 3. ,\n",
       "       2.5, 1.5, 2.5, 3.5, 4.5, 4. , 4. , 4.5, 4.5, 4. , 3. , 4. , 2. ,\n",
       "       0.5, 2. , 4.5, 2.5, 4. , 4. , 4.5, 4. , 3. , 3. , 3. , 4. , 3. ,\n",
       "       2. , 3. , 3. , 2.5, 3.5, 3. , 3.5, 4.5, 3.5, 4. , 3.5, 4. , 2.5,\n",
       "       3.5, 4. , 2. , 4.5, 3.5, 3.5, 0.5, 2. , 4. , 4.5, 5. , 3. , 5. ,\n",
       "       2. , 4.5, 1. , 4. , 4. , 4.5, 3.5, 3. , 4. , 2.5, 3. , 3. , 4. ,\n",
       "       4.5, 4. , 4.5, 4. , 3.5, 3. , 4. , 4. , 1. , 2.5, 4. , 4.5, 4. ,\n",
       "       2.5, 3.5, 3.5, 3.5, 3.5, 4.5, 3. , 2.5, 3. , 4.5, 0.5, 4.5, 3. ,\n",
       "       1.5, 5. , 3. , 1. , 2. , 2. , 4.5, 4. , 3.5, 0.5, 2.5, 2. , 2.5,\n",
       "       4. , 3. , 3. , 4. , 3.5, 2.5, 3. , 3. , 4. , 4. , 3.5, 3.5, 2.5,\n",
       "       4. , 4. , 2.5, 2.5, 4.5, 4.5, 4.5, 2. , 4. , 3.5, 4. , 3. , 3. ,\n",
       "       2.5, 3. , 3.5, 4. , 4. , 4. , 3.5, 3.5, 4. , 3. , 3.5, 1.5, 3.5,\n",
       "       4. , 3. , 3.5, 4.5, 3. , 3.5, 4.5, 4.5, 3.5, 3. , 3. , 3. , 4.5,\n",
       "       3. , 3.5, 4.5, 4. , 3. , 3.5, 2.5, 4. , 3. , 2.5, 2. , 4.5, 2.5,\n",
       "       4. , 3.5, 4. , 5. , 3. , 4.5, 4. , 4.5, 3. , 1. , 1.5, 4. , 2.5,\n",
       "       0.5, 4.5, 4. , 3.5, 3. , 3. , 4.5, 3. , 4. , 2.5, 4.5, 3.5, 3. ,\n",
       "       1.5, 3.5, 5. , 3.5, 4. , 2. , 1. , 2.5])"
      ]
     },
     "execution_count": 24,
     "metadata": {},
     "output_type": "execute_result"
    }
   ],
   "source": [
    "ratings_in_user_profile = URM_train[user_id].data\n",
    "ratings_in_user_profile"
   ]
  },
  {
   "cell_type": "markdown",
   "metadata": {},
   "source": [
    "#### Apply the update rule"
   ]
  },
  {
   "cell_type": "code",
   "execution_count": 25,
   "metadata": {},
   "outputs": [
    {
     "data": {
      "text/plain": [
       "array([0., 0., 0., 0., 0., 0., 0., 0., 0., 0., 0., 0., 0., 0., 0., 0., 0.,\n",
       "       0., 0., 0., 0., 0., 0., 0., 0., 0., 0., 0., 0., 0., 0., 0., 0., 0.,\n",
       "       0., 0., 0., 0., 0., 0., 0., 0., 0., 0., 0., 0., 0., 0., 0., 0., 0.,\n",
       "       0., 0., 0., 0., 0., 0., 0., 0., 0., 0., 0., 0., 0., 0., 0., 0., 0.,\n",
       "       0., 0., 0., 0., 0., 0., 0., 0., 0., 0., 0., 0., 0., 0., 0., 0., 0.,\n",
       "       0., 0., 0., 0., 0., 0., 0., 0., 0., 0., 0., 0., 0., 0., 0., 0., 0.,\n",
       "       0., 0., 0., 0., 0., 0., 0., 0., 0., 0., 0., 0., 0., 0., 0., 0., 0.,\n",
       "       0., 0., 0., 0., 0., 0., 0., 0., 0., 0., 0., 0., 0., 0., 0., 0., 0.,\n",
       "       0., 0., 0., 0., 0., 0., 0., 0., 0., 0., 0., 0., 0., 0., 0., 0., 0.,\n",
       "       0., 0., 0., 0., 0., 0., 0., 0., 0., 0., 0., 0., 0., 0., 0., 0., 0.,\n",
       "       0., 0., 0., 0., 0., 0., 0., 0., 0., 0., 0., 0., 0., 0., 0., 0., 0.,\n",
       "       0., 0., 0., 0., 0., 0., 0., 0., 0., 0., 0., 0., 0., 0., 0., 0., 0.,\n",
       "       0., 0., 0., 0., 0., 0., 0., 0., 0., 0., 0., 0., 0., 0., 0., 0., 0.,\n",
       "       0., 0., 0., 0., 0., 0., 0., 0., 0., 0., 0., 0., 0., 0., 0., 0., 0.,\n",
       "       0., 0., 0., 0., 0., 0., 0., 0., 0., 0., 0., 0., 0., 0., 0., 0., 0.,\n",
       "       0., 0., 0., 0., 0., 0., 0., 0., 0., 0., 0., 0., 0.])"
      ]
     },
     "execution_count": 25,
     "metadata": {},
     "output_type": "execute_result"
    }
   ],
   "source": [
    "item_item_S[items_in_user_profile, item_id]"
   ]
  },
  {
   "cell_type": "code",
   "execution_count": null,
   "metadata": {},
   "outputs": [],
   "source": [
    "learning_rate = 1e-4\n",
    "regularization_1 = 1e-3\n",
    "regularization_2 = 1e-3\n",
    "\n",
    "item_item_S[items_in_user_profile, item_id] += learning_rate * (\n",
    "    prediction_error * ratings_in_user_profile\n",
    "    - regularization_1 * (item_item_S[items_in_user_profile, item_id] > 0)\n",
    "    - regularization_2 * item_item_S[items_in_user_profile, item_id]\n",
    ")\n",
    "\n",
    "# Ensure diagonal is always zero\n",
    "item_item_S[item_id, item_id] = 0.0"
   ]
  },
  {
   "cell_type": "code",
   "execution_count": 27,
   "metadata": {},
   "outputs": [
    {
     "data": {
      "text/plain": [
       "array([0.0015 , 0.00105, 0.0009 , 0.0015 , 0.0012 , 0.00135, 0.0012 ,\n",
       "       0.0009 , 0.0009 , 0.00135, 0.00135, 0.00045, 0.00105, 0.0015 ,\n",
       "       0.0009 , 0.0012 , 0.00135, 0.00105, 0.0015 , 0.0012 , 0.0012 ,\n",
       "       0.0012 , 0.00015, 0.0015 , 0.0015 , 0.0015 , 0.0015 , 0.0009 ,\n",
       "       0.00135, 0.00105, 0.0009 , 0.0012 , 0.0009 , 0.0012 , 0.0009 ,\n",
       "       0.00105, 0.00075, 0.00105, 0.00075, 0.0015 , 0.00135, 0.0012 ,\n",
       "       0.00105, 0.0015 , 0.0015 , 0.00135, 0.0012 , 0.0015 , 0.00135,\n",
       "       0.0015 , 0.00135, 0.00135, 0.0015 , 0.0012 , 0.0015 , 0.0012 ,\n",
       "       0.0009 , 0.00045, 0.00135, 0.00105, 0.0012 , 0.0012 , 0.0012 ,\n",
       "       0.00135, 0.0009 , 0.00075, 0.00045, 0.00075, 0.00105, 0.00135,\n",
       "       0.0012 , 0.0012 , 0.00135, 0.00135, 0.0012 , 0.0009 , 0.0012 ,\n",
       "       0.0006 , 0.00015, 0.0006 , 0.00135, 0.00075, 0.0012 , 0.0012 ,\n",
       "       0.00135, 0.0012 , 0.0009 , 0.0009 , 0.0009 , 0.0012 , 0.0009 ,\n",
       "       0.0006 , 0.0009 , 0.0009 , 0.00075, 0.00105, 0.0009 , 0.00105,\n",
       "       0.00135, 0.00105, 0.0012 , 0.00105, 0.0012 , 0.00075, 0.00105,\n",
       "       0.0012 , 0.0006 , 0.00135, 0.00105, 0.00105, 0.00015, 0.0006 ,\n",
       "       0.0012 , 0.00135, 0.0015 , 0.0009 , 0.0015 , 0.0006 , 0.00135,\n",
       "       0.0003 , 0.0012 , 0.0012 , 0.00135, 0.00105, 0.0009 , 0.0012 ,\n",
       "       0.00075, 0.0009 , 0.0009 , 0.0012 , 0.00135, 0.0012 , 0.00135,\n",
       "       0.0012 , 0.00105, 0.0009 , 0.0012 , 0.0012 , 0.0003 , 0.00075,\n",
       "       0.0012 , 0.00135, 0.0012 , 0.00075, 0.00105, 0.00105, 0.00105,\n",
       "       0.00105, 0.00135, 0.0009 , 0.00075, 0.0009 , 0.00135, 0.00015,\n",
       "       0.00135, 0.0009 , 0.00045, 0.0015 , 0.0009 , 0.0003 , 0.0006 ,\n",
       "       0.0006 , 0.00135, 0.0012 , 0.00105, 0.00015, 0.00075, 0.0006 ,\n",
       "       0.00075, 0.0012 , 0.     , 0.0009 , 0.0012 , 0.00105, 0.00075,\n",
       "       0.0009 , 0.0009 , 0.0012 , 0.0012 , 0.00105, 0.00105, 0.00075,\n",
       "       0.0012 , 0.0012 , 0.00075, 0.00075, 0.00135, 0.00135, 0.00135,\n",
       "       0.0006 , 0.0012 , 0.00105, 0.0012 , 0.0009 , 0.0009 , 0.00075,\n",
       "       0.0009 , 0.00105, 0.0012 , 0.0012 , 0.0012 , 0.00105, 0.00105,\n",
       "       0.0012 , 0.0009 , 0.00105, 0.00045, 0.00105, 0.0012 , 0.0009 ,\n",
       "       0.00105, 0.00135, 0.0009 , 0.00105, 0.00135, 0.00135, 0.00105,\n",
       "       0.0009 , 0.0009 , 0.0009 , 0.00135, 0.0009 , 0.00105, 0.00135,\n",
       "       0.0012 , 0.0009 , 0.00105, 0.00075, 0.0012 , 0.0009 , 0.00075,\n",
       "       0.0006 , 0.00135, 0.00075, 0.0012 , 0.00105, 0.0012 , 0.0015 ,\n",
       "       0.0009 , 0.00135, 0.0012 , 0.00135, 0.0009 , 0.0003 , 0.00045,\n",
       "       0.0012 , 0.00075, 0.00015, 0.00135, 0.0012 , 0.00105, 0.0009 ,\n",
       "       0.0009 , 0.00135, 0.0009 , 0.0012 , 0.00075, 0.00135, 0.00105,\n",
       "       0.0009 , 0.00045, 0.00105, 0.0015 , 0.00105, 0.0012 , 0.0006 ,\n",
       "       0.0003 , 0.00075])"
      ]
     },
     "execution_count": 27,
     "metadata": {},
     "output_type": "execute_result"
    }
   ],
   "source": [
    "item_item_S[items_in_user_profile, item_id]"
   ]
  },
  {
   "cell_type": "markdown",
   "metadata": {},
   "source": [
    "### Let's check what the new prediction for the same user-item interaction would be"
   ]
  },
  {
   "cell_type": "code",
   "execution_count": 28,
   "metadata": {},
   "outputs": [
    {
     "data": {
      "text/plain": [
       "1.049250000000002"
      ]
     },
     "execution_count": 28,
     "metadata": {},
     "output_type": "execute_result"
    }
   ],
   "source": [
    "predicted_rating = URM_train[user_id].dot(item_item_S[:, item_id])[0]\n",
    "predicted_rating"
   ]
  },
  {
   "cell_type": "markdown",
   "metadata": {},
   "source": [
    "### The value is not zero anymore, but higher, we are moving in the right direction"
   ]
  },
  {
   "cell_type": "markdown",
   "metadata": {},
   "source": [
    "### And now? Sample another interaction and repeat... a lot of times"
   ]
  },
  {
   "cell_type": "markdown",
   "metadata": {},
   "source": [
    "### Let's put all together in a training loop."
   ]
  },
  {
   "cell_type": "code",
   "execution_count": 29,
   "metadata": {},
   "outputs": [
    {
     "name": "stdout",
     "output_type": "stream",
     "text": [
      "Iteration 5000 in 7.05 seconds, loss is 13.25. Samples per second 708.77\n",
      "Iteration 10000 in 12.87 seconds, loss is 13.35. Samples per second 776.99\n",
      "Iteration 15000 in 18.57 seconds, loss is 13.38. Samples per second 807.90\n",
      "Iteration 20000 in 24.19 seconds, loss is 13.36. Samples per second 826.83\n",
      "Iteration 25000 in 29.57 seconds, loss is 13.35. Samples per second 845.55\n",
      "Iteration 30000 in 35.08 seconds, loss is 13.33. Samples per second 855.31\n",
      "Iteration 35000 in 40.87 seconds, loss is 13.31. Samples per second 856.33\n",
      "Iteration 40000 in 46.45 seconds, loss is 13.28. Samples per second 861.06\n",
      "Iteration 45000 in 51.94 seconds, loss is 13.25. Samples per second 866.39\n",
      "Iteration 50000 in 57.29 seconds, loss is 13.23. Samples per second 872.79\n",
      "Iteration 55000 in 62.64 seconds, loss is 13.20. Samples per second 878.05\n",
      "Iteration 60000 in 68.33 seconds, loss is 13.16. Samples per second 878.10\n",
      "Iteration 65000 in 74.38 seconds, loss is 13.13. Samples per second 873.92\n",
      "Iteration 70000 in 80.36 seconds, loss is 13.11. Samples per second 871.12\n",
      "Iteration 75000 in 86.43 seconds, loss is 13.09. Samples per second 867.78\n",
      "Iteration 80000 in 92.43 seconds, loss is 13.06. Samples per second 865.53\n",
      "Iteration 85000 in 98.49 seconds, loss is 13.03. Samples per second 863.07\n",
      "Iteration 90000 in 104.66 seconds, loss is 13.01. Samples per second 859.96\n",
      "Iteration 95000 in 110.85 seconds, loss is 12.99. Samples per second 857.03\n",
      "Iteration 100000 in 117.00 seconds, loss is 12.96. Samples per second 854.73\n"
     ]
    }
   ],
   "source": [
    "URM_train_coo = URM_train.tocoo()\n",
    "item_item_S = np.zeros((n_items, n_items), dtype=float)\n",
    "\n",
    "learning_rate = 1e-6\n",
    "regularization_1 = 1e-3\n",
    "regularization_2 = 1e-3\n",
    "\n",
    "loss = 0.0\n",
    "start_time = time.time()\n",
    "for sample_num in range(100000):\n",
    "    # Randomly pick sample\n",
    "    sample_index = np.random.randint(URM_train_coo.nnz)\n",
    "\n",
    "    user_id = URM_train_coo.row[sample_index]\n",
    "    item_id = URM_train_coo.col[sample_index]\n",
    "    true_rating = URM_train_coo.data[sample_index]\n",
    "\n",
    "    # Compute prediction\n",
    "    predicted_rating = URM_train[user_id].dot(item_item_S[:, item_id])[0]\n",
    "\n",
    "    # Compute prediction error, or gradient\n",
    "    prediction_error = true_rating - predicted_rating\n",
    "    loss += prediction_error**2\n",
    "\n",
    "    # Update model, in this case the similarity\n",
    "    items_in_user_profile = URM_train[user_id].indices\n",
    "    ratings_in_user_profile = URM_train[user_id].data\n",
    "    item_item_S[items_in_user_profile, item_id] += learning_rate * (\n",
    "        prediction_error * ratings_in_user_profile\n",
    "        - regularization_1 * (item_item_S[items_in_user_profile, item_id] > 0)\n",
    "        - regularization_2 * item_item_S[items_in_user_profile, item_id]\n",
    "    )\n",
    "\n",
    "    # Ensure diagonal is always zero\n",
    "    item_item_S[item_id, item_id] = 0.0\n",
    "\n",
    "    # Print some stats\n",
    "    if (sample_num + 1) % 5000 == 0:\n",
    "        elapsed_time = time.time() - start_time\n",
    "        samples_per_second = (sample_num + 1) / elapsed_time\n",
    "        print(\n",
    "            \"Iteration {} in {:.2f} seconds, loss is {:.2f}. Samples per second {:.2f}\".format(\n",
    "                sample_num + 1,\n",
    "                elapsed_time,\n",
    "                loss / (sample_num + 1),\n",
    "                samples_per_second,\n",
    "            )\n",
    "        )"
   ]
  },
  {
   "cell_type": "markdown",
   "metadata": {},
   "source": [
    "### What do we see? The loss generally goes down but may oscillate a bit.\n",
    "### How long do we train such a model?\n",
    "\n",
    "* An epoch: a complete loop over all the train data\n",
    "* Usually you train for multiple epochs. Depending on the algorithm and data 10s or 100s of epochs."
   ]
  },
  {
   "cell_type": "code",
   "execution_count": 30,
   "metadata": {},
   "outputs": [],
   "source": [
    "def train_one_epoch(\n",
    "    URM_train, item_item_S, learning_rate, regularization_1, regularization_2\n",
    "):\n",
    "    URM_train_coo = URM_train.tocoo()\n",
    "\n",
    "    loss = 0.0\n",
    "    start_time = time.time()\n",
    "    for sample_num in range(URM_train.nnz):\n",
    "        # Randomly pick sample\n",
    "        sample_index = np.random.randint(URM_train_coo.nnz)\n",
    "\n",
    "        user_id = URM_train_coo.row[sample_index]\n",
    "        item_id = URM_train_coo.col[sample_index]\n",
    "        true_rating = URM_train_coo.data[sample_index]\n",
    "\n",
    "        # Compute prediction\n",
    "        predicted_rating = URM_train[user_id].dot(item_item_S[:, item_id])[0]\n",
    "\n",
    "        # Compute prediction error, or gradient\n",
    "        prediction_error = true_rating - predicted_rating\n",
    "        loss += prediction_error**2\n",
    "\n",
    "        # Update model, in this case the similarity\n",
    "        items_in_user_profile = URM_train[user_id].indices\n",
    "        ratings_in_user_profile = URM_train[user_id].data\n",
    "        item_item_S[items_in_user_profile, item_id] += learning_rate * (\n",
    "            prediction_error * ratings_in_user_profile\n",
    "            - regularization_1 * (item_item_S[items_in_user_profile, item_id] > 0)\n",
    "            - regularization_2 * item_item_S[items_in_user_profile, item_id]\n",
    "        )\n",
    "\n",
    "        # Ensure diagonal is always zero\n",
    "        item_item_S[item_id, item_id] = 0.0\n",
    "\n",
    "        # Print some stats\n",
    "        if (sample_num + 1) % 5000 == 0:\n",
    "            elapsed_time = time.time() - start_time\n",
    "            samples_per_second = (sample_num + 1) / elapsed_time\n",
    "            print(\n",
    "                \"Iteration {} in {:.2f} seconds, loss is {:.2f}. Samples per second {:.2f}\".format(\n",
    "                    sample_num + 1,\n",
    "                    elapsed_time,\n",
    "                    loss / (sample_num + 1),\n",
    "                    samples_per_second,\n",
    "                )\n",
    "            )\n",
    "\n",
    "            # Stop training because this implementation is too slow\n",
    "            print(\"\\tStopping the epoch early because this implementation is too slow\")\n",
    "            return item_item_S\n",
    "\n",
    "    return item_item_S"
   ]
  },
  {
   "cell_type": "code",
   "execution_count": 31,
   "metadata": {},
   "outputs": [
    {
     "name": "stdout",
     "output_type": "stream",
     "text": [
      "Iteration 5000 in 6.67 seconds, loss is 13.41. Samples per second 749.76\n",
      "\tStopping the epoch early because this implementation is too slow\n",
      "Iteration 5000 in 5.72 seconds, loss is 13.36. Samples per second 873.67\n",
      "\tStopping the epoch early because this implementation is too slow\n",
      "Iteration 5000 in 5.67 seconds, loss is 13.29. Samples per second 882.19\n",
      "\tStopping the epoch early because this implementation is too slow\n",
      "Iteration 5000 in 5.68 seconds, loss is 13.27. Samples per second 880.88\n",
      "\tStopping the epoch early because this implementation is too slow\n",
      "Iteration 5000 in 6.01 seconds, loss is 13.08. Samples per second 832.17\n",
      "\tStopping the epoch early because this implementation is too slow\n"
     ]
    }
   ],
   "source": [
    "n_items = URM_train.shape[1]\n",
    "learning_rate = 1e-6\n",
    "regularization_1 = 1e-3\n",
    "regularization_2 = 1e-3\n",
    "\n",
    "item_item_S = np.zeros((n_items, n_items), dtype=float)\n",
    "\n",
    "for n_epoch in range(5):\n",
    "    item_item_S = train_one_epoch(\n",
    "        URM_train, item_item_S, learning_rate, regularization_1, regularization_2\n",
    "    )"
   ]
  },
  {
   "cell_type": "code",
   "execution_count": 32,
   "metadata": {},
   "outputs": [
    {
     "data": {
      "text/plain": [
       "array([[0.00000000e+00, 8.93654229e-06, 3.24833494e-05, ...,\n",
       "        0.00000000e+00, 0.00000000e+00, 0.00000000e+00],\n",
       "       [1.59628922e-05, 0.00000000e+00, 1.37651520e-04, ...,\n",
       "        0.00000000e+00, 0.00000000e+00, 0.00000000e+00],\n",
       "       [1.64268941e-05, 1.30798574e-04, 0.00000000e+00, ...,\n",
       "        0.00000000e+00, 0.00000000e+00, 0.00000000e+00],\n",
       "       ...,\n",
       "       [0.00000000e+00, 0.00000000e+00, 0.00000000e+00, ...,\n",
       "        0.00000000e+00, 0.00000000e+00, 0.00000000e+00],\n",
       "       [0.00000000e+00, 0.00000000e+00, 0.00000000e+00, ...,\n",
       "        0.00000000e+00, 0.00000000e+00, 0.00000000e+00],\n",
       "       [0.00000000e+00, 0.00000000e+00, 0.00000000e+00, ...,\n",
       "        0.00000000e+00, 0.00000000e+00, 0.00000000e+00]])"
      ]
     },
     "execution_count": 32,
     "metadata": {},
     "output_type": "execute_result"
    }
   ],
   "source": [
    "item_item_S"
   ]
  },
  {
   "cell_type": "markdown",
   "metadata": {},
   "source": [
    "### How do we use this similarity? As in a simple item-based KNN"
   ]
  },
  {
   "cell_type": "markdown",
   "metadata": {},
   "source": [
    "### Let's estimate the training time. Say we train for 10 epochs and we have 8M interactions in the train data..."
   ]
  },
  {
   "cell_type": "code",
   "execution_count": 33,
   "metadata": {},
   "outputs": [
    {
     "name": "stdout",
     "output_type": "stream",
     "text": [
      "Estimated time with the previous training speed is 93596.90 seconds (1559.95 minutes, 26.00 hours)\n"
     ]
    }
   ],
   "source": [
    "estimated_seconds = 8e6 * 10 / samples_per_second\n",
    "print(\n",
    "    \"Estimated time with the previous training speed is {:.2f} seconds ({:.2f} minutes, {:.2f} hours)\".format(\n",
    "        estimated_seconds, estimated_seconds / 60, estimated_seconds / 3600\n",
    "    )\n",
    ")"
   ]
  },
  {
   "cell_type": "markdown",
   "metadata": {},
   "source": [
    "### Unacceptable!"
   ]
  },
  {
   "cell_type": "markdown",
   "metadata": {},
   "source": [
    "### Let's rewrite the loop with some smarter use of the data structures. In particular:\n",
    "* Use the indptr/indices data structures to get the seen items\n",
    "* Not much else we can do with this tools"
   ]
  },
  {
   "cell_type": "code",
   "execution_count": 34,
   "metadata": {},
   "outputs": [
    {
     "name": "stdout",
     "output_type": "stream",
     "text": [
      "Iteration 5000 in 4.63 seconds, loss is 13.30. Samples per second 1079.06\n",
      "Iteration 10000 in 8.75 seconds, loss is 13.37. Samples per second 1142.22\n",
      "Iteration 15000 in 12.89 seconds, loss is 13.34. Samples per second 1163.44\n",
      "Iteration 20000 in 17.07 seconds, loss is 13.31. Samples per second 1171.58\n",
      "Iteration 25000 in 21.14 seconds, loss is 13.27. Samples per second 1182.75\n",
      "Iteration 30000 in 25.35 seconds, loss is 13.24. Samples per second 1183.37\n",
      "Iteration 35000 in 29.40 seconds, loss is 13.25. Samples per second 1190.34\n",
      "Iteration 40000 in 33.54 seconds, loss is 13.24. Samples per second 1192.77\n",
      "Iteration 45000 in 37.60 seconds, loss is 13.22. Samples per second 1196.81\n",
      "Iteration 50000 in 41.76 seconds, loss is 13.21. Samples per second 1197.34\n",
      "Iteration 55000 in 45.82 seconds, loss is 13.17. Samples per second 1200.23\n",
      "Iteration 60000 in 49.88 seconds, loss is 13.14. Samples per second 1202.98\n",
      "Iteration 65000 in 53.94 seconds, loss is 13.12. Samples per second 1205.14\n",
      "Iteration 70000 in 58.03 seconds, loss is 13.10. Samples per second 1206.37\n",
      "Iteration 75000 in 62.17 seconds, loss is 13.07. Samples per second 1206.44\n",
      "Iteration 80000 in 66.34 seconds, loss is 13.05. Samples per second 1205.93\n",
      "Iteration 85000 in 70.45 seconds, loss is 13.03. Samples per second 1206.57\n",
      "Iteration 90000 in 74.49 seconds, loss is 13.01. Samples per second 1208.15\n",
      "Iteration 95000 in 78.67 seconds, loss is 12.99. Samples per second 1207.53\n",
      "Iteration 100000 in 82.70 seconds, loss is 12.96. Samples per second 1209.13\n"
     ]
    }
   ],
   "source": [
    "URM_train_coo = URM_train.tocoo()\n",
    "item_item_S = np.zeros((n_items, n_items), dtype=float)\n",
    "\n",
    "learning_rate = 1e-6\n",
    "regularization_1 = 1e-3\n",
    "regularization_2 = 1e-3\n",
    "\n",
    "loss = 0.0\n",
    "start_time = time.time()\n",
    "for sample_num in range(100000):\n",
    "    # Randomly pick sample\n",
    "    sample_index = np.random.randint(URM_train_coo.nnz)\n",
    "\n",
    "    user_id = URM_train_coo.row[sample_index]\n",
    "    item_id = URM_train_coo.col[sample_index]\n",
    "    true_rating = URM_train_coo.data[sample_index]\n",
    "\n",
    "    # Compute prediction\n",
    "    predicted_rating = URM_train[user_id].dot(item_item_S[:, item_id])[0]\n",
    "\n",
    "    # Compute prediction error, or gradient\n",
    "    prediction_error = true_rating - predicted_rating\n",
    "    loss += prediction_error**2\n",
    "\n",
    "    # Update model, in this case the similarity\n",
    "    items_in_user_profile = URM_train.indices[\n",
    "        URM_train.indptr[user_id] : URM_train.indptr[user_id + 1]\n",
    "    ]\n",
    "    ratings_in_user_profile = URM_train.data[\n",
    "        URM_train.indptr[user_id] : URM_train.indptr[user_id + 1]\n",
    "    ]\n",
    "    item_item_S[items_in_user_profile, item_id] += learning_rate * (\n",
    "        prediction_error * ratings_in_user_profile\n",
    "        - regularization_1 * (item_item_S[items_in_user_profile, item_id] > 0)\n",
    "        - regularization_2 * item_item_S[items_in_user_profile, item_id]\n",
    "    )\n",
    "\n",
    "    # Ensure diagonal is always zero\n",
    "    item_item_S[item_id, item_id] = 0.0\n",
    "\n",
    "    # Print some stats\n",
    "    if (sample_num + 1) % 5000 == 0:\n",
    "        elapsed_time = time.time() - start_time\n",
    "        samples_per_second = (sample_num + 1) / elapsed_time\n",
    "        print(\n",
    "            \"Iteration {} in {:.2f} seconds, loss is {:.2f}. Samples per second {:.2f}\".format(\n",
    "                sample_num + 1,\n",
    "                elapsed_time,\n",
    "                loss / (sample_num + 1),\n",
    "                samples_per_second,\n",
    "            )\n",
    "        )"
   ]
  },
  {
   "cell_type": "code",
   "execution_count": 35,
   "metadata": {},
   "outputs": [
    {
     "name": "stdout",
     "output_type": "stream",
     "text": [
      "Estimated time with the previous training speed is 66163.27 seconds (1102.72 minutes, 18.38 hours)\n"
     ]
    }
   ],
   "source": [
    "estimated_seconds = 8e6 * 10 / samples_per_second\n",
    "print(\n",
    "    \"Estimated time with the previous training speed is {:.2f} seconds ({:.2f} minutes, {:.2f} hours)\".format(\n",
    "        estimated_seconds, estimated_seconds / 60, estimated_seconds / 3600\n",
    "    )\n",
    ")"
   ]
  },
  {
   "cell_type": "markdown",
   "metadata": {},
   "source": [
    "### Just as bad as before\n",
    "\n",
    "### Let's see what we can do with Cython\n",
    "### First step, just compile it. We do not have the data at compile time, so we put the loop in a function"
   ]
  },
  {
   "cell_type": "code",
   "execution_count": 36,
   "metadata": {},
   "outputs": [],
   "source": [
    "%%cython\n",
    "import numpy as np\n",
    "import time\n",
    "\n",
    "def do_some_training(URM_train):\n",
    "    \n",
    "    URM_train_coo = URM_train.tocoo()\n",
    "    n_items = URM_train.shape[1]\n",
    "    \n",
    "    item_item_S = np.zeros((n_items, n_items), dtype = float)\n",
    "\n",
    "    learning_rate = 1e-6\n",
    "    regularization_1 = 1e-3\n",
    "    regularization_2 = 1e-3\n",
    "\n",
    "    loss = 0.0\n",
    "    start_time = time.time()\n",
    "    for sample_num in range(100000):\n",
    "\n",
    "        # Randomly pick sample\n",
    "        sample_index = np.random.randint(URM_train_coo.nnz)\n",
    "\n",
    "        user_id = URM_train_coo.row[sample_index]\n",
    "        item_id = URM_train_coo.col[sample_index]\n",
    "        true_rating = URM_train_coo.data[sample_index]\n",
    "\n",
    "        # Compute prediction\n",
    "        predicted_rating = URM_train[user_id].dot(item_item_S[:,item_id])[0]\n",
    "\n",
    "        # Compute prediction error, or gradient\n",
    "        prediction_error = true_rating - predicted_rating\n",
    "        loss += prediction_error**2\n",
    "\n",
    "        # Update model, in this case the similarity\n",
    "        items_in_user_profile = URM_train.indices[URM_train.indptr[user_id]:URM_train.indptr[user_id+1]]\n",
    "        ratings_in_user_profile = URM_train.data[URM_train.indptr[user_id]:URM_train.indptr[user_id+1]]\n",
    "        item_item_S[items_in_user_profile,item_id] += learning_rate * (prediction_error * ratings_in_user_profile -\n",
    "                                                                       regularization_1 * (item_item_S[items_in_user_profile,item_id] > 0) -\n",
    "                                                                       regularization_2 * item_item_S[items_in_user_profile,item_id])\n",
    "\n",
    "        # Ensure diagonal is always zero\n",
    "        item_item_S[item_id,item_id] = 0.0\n",
    "    \n",
    "        # Print some stats\n",
    "        if (sample_num +1)% 5000 == 0:\n",
    "            elapsed_time = time.time() - start_time\n",
    "            samples_per_second = (sample_num +1)/elapsed_time\n",
    "            print(\"Iteration {} in {:.2f} seconds, loss is {:.2f}. Samples per second {:.2f}\".format(sample_num+1, elapsed_time, loss/(sample_num +1), samples_per_second))\n",
    "    \n",
    "    return loss, samples_per_second"
   ]
  },
  {
   "cell_type": "code",
   "execution_count": 37,
   "metadata": {},
   "outputs": [
    {
     "name": "stdout",
     "output_type": "stream",
     "text": [
      "Iteration 5000 in 4.86 seconds, loss is 13.32. Samples per second 1028.64\n",
      "Iteration 10000 in 8.69 seconds, loss is 13.31. Samples per second 1150.86\n",
      "Iteration 15000 in 12.46 seconds, loss is 13.31. Samples per second 1203.60\n",
      "Iteration 20000 in 16.21 seconds, loss is 13.30. Samples per second 1233.82\n",
      "Iteration 25000 in 19.88 seconds, loss is 13.29. Samples per second 1257.41\n",
      "Iteration 30000 in 23.59 seconds, loss is 13.27. Samples per second 1271.66\n",
      "Iteration 35000 in 27.33 seconds, loss is 13.24. Samples per second 1280.75\n",
      "Iteration 40000 in 31.00 seconds, loss is 13.23. Samples per second 1290.48\n",
      "Iteration 45000 in 34.52 seconds, loss is 13.20. Samples per second 1303.46\n",
      "Iteration 50000 in 38.43 seconds, loss is 13.17. Samples per second 1301.08\n",
      "Iteration 55000 in 42.28 seconds, loss is 13.14. Samples per second 1300.82\n",
      "Iteration 60000 in 46.02 seconds, loss is 13.13. Samples per second 1303.87\n",
      "Iteration 65000 in 49.75 seconds, loss is 13.08. Samples per second 1306.60\n",
      "Iteration 70000 in 53.36 seconds, loss is 13.05. Samples per second 1311.89\n",
      "Iteration 75000 in 56.89 seconds, loss is 13.03. Samples per second 1318.36\n",
      "Iteration 80000 in 60.55 seconds, loss is 13.01. Samples per second 1321.20\n",
      "Iteration 85000 in 64.22 seconds, loss is 12.98. Samples per second 1323.65\n",
      "Iteration 90000 in 67.76 seconds, loss is 12.96. Samples per second 1328.18\n",
      "Iteration 95000 in 71.69 seconds, loss is 12.93. Samples per second 1325.08\n",
      "Iteration 100000 in 75.49 seconds, loss is 12.91. Samples per second 1324.72\n"
     ]
    }
   ],
   "source": [
    "loss, samples_per_second = do_some_training(URM_train)"
   ]
  },
  {
   "cell_type": "code",
   "execution_count": 38,
   "metadata": {},
   "outputs": [
    {
     "name": "stdout",
     "output_type": "stream",
     "text": [
      "Estimated time with the previous training speed is 60390.28 seconds (1006.50 minutes, 16.78 hours)\n"
     ]
    }
   ],
   "source": [
    "estimated_seconds = 8e6 * 10 / samples_per_second\n",
    "print(\n",
    "    \"Estimated time with the previous training speed is {:.2f} seconds ({:.2f} minutes, {:.2f} hours)\".format(\n",
    "        estimated_seconds, estimated_seconds / 60, estimated_seconds / 3600\n",
    "    )\n",
    ")"
   ]
  },
  {
   "cell_type": "markdown",
   "metadata": {},
   "source": [
    "### Still far too time consuming\n",
    "### The compiler is just porting in C all operations that the python interpreter would have to perform, dynamic typing included. Have a look at the html reports in the Cython_examples folder\n",
    "\n",
    "### Now try to add some types: If you use a variable only as a C object, use primitive tipes\n",
    "\n",
    "* cdef int namevar\n",
    "* cdef double namevar\n",
    "* cdef float namevar\n",
    "* cdef double[:] singledimensionarray\n",
    "* cdef double[:,:] bidimensionalmatrix\n",
    "\n",
    "\n",
    "### We now use types for all main variables\n"
   ]
  },
  {
   "cell_type": "code",
   "execution_count": 39,
   "metadata": {},
   "outputs": [],
   "source": [
    "%%cython\n",
    "import numpy as np\n",
    "import time\n",
    "\n",
    "def do_some_training(URM_train):\n",
    "\n",
    "    URM_train_coo = URM_train.tocoo()\n",
    "    n_items = URM_train.shape[1]\n",
    "\n",
    "    cdef double[:,:] item_item_S = np.zeros((n_items, n_items), dtype = float)\n",
    "    cdef double learning_rate = 1e-6, regularization_1 = 1e-3, regularization_2 = 1e-3\n",
    "    cdef double loss = 0.0\n",
    "    cdef long start_time = time.time()\n",
    "    cdef double true_rating, predicted_rating, prediction_error, profile_rating\n",
    "    cdef int[:] items_in_user_profile\n",
    "    cdef double[:] ratings_in_user_profile\n",
    "    cdef int index, sample_num, user_id, item_id, profile_item_id\n",
    "\n",
    "    for sample_num in range(100000):\n",
    "\n",
    "        # Randomly pick sample\n",
    "        sample_index = np.random.randint(URM_train_coo.nnz)\n",
    "\n",
    "        user_id = URM_train_coo.row[sample_index]\n",
    "        item_id = URM_train_coo.col[sample_index]\n",
    "        true_rating = URM_train_coo.data[sample_index]\n",
    "\n",
    "        # Compute prediction\n",
    "        items_in_user_profile = URM_train.indices[URM_train.indptr[user_id]:URM_train.indptr[user_id+1]]\n",
    "        ratings_in_user_profile = URM_train.data[URM_train.indptr[user_id]:URM_train.indptr[user_id+1]]\n",
    "        predicted_rating = 0.0\n",
    "\n",
    "        for index in range(len(items_in_user_profile)):\n",
    "            profile_item_id = items_in_user_profile[index]\n",
    "            profile_rating = ratings_in_user_profile[index]\n",
    "            predicted_rating += profile_rating * item_item_S[profile_item_id,item_id]\n",
    "\n",
    "        # Compute prediction error, or gradient\n",
    "        prediction_error = true_rating - predicted_rating\n",
    "        loss += prediction_error**2\n",
    "\n",
    "        # Update model, in this case the similarity\n",
    "        for index in range(len(items_in_user_profile)):\n",
    "            profile_item_id = items_in_user_profile[index]\n",
    "            profile_rating = ratings_in_user_profile[index]\n",
    "            item_item_S[profile_item_id,item_id] += learning_rate * (prediction_error * profile_rating -\n",
    "                                                                     regularization_1 * (item_item_S[profile_item_id,item_id] > 0) -\n",
    "                                                                     regularization_2 * item_item_S[profile_item_id,item_id])\n",
    "\n",
    "        # Ensure diagonal is always zero\n",
    "        item_item_S[item_id,item_id] = 0.0\n",
    "    \n",
    "        # Print some stats\n",
    "        if (sample_num +1)% 5000 == 0:\n",
    "            elapsed_time = time.time() - start_time\n",
    "            samples_per_second = (sample_num +1)/elapsed_time\n",
    "            print(\"Iteration {} in {:.2f} seconds, loss is {:.2f}. Samples per second {:.2f}\".format(sample_num+1, elapsed_time, loss/(sample_num +1), samples_per_second))\n",
    "\n",
    "    return loss, samples_per_second"
   ]
  },
  {
   "cell_type": "code",
   "execution_count": 40,
   "metadata": {},
   "outputs": [
    {
     "name": "stdout",
     "output_type": "stream",
     "text": [
      "Iteration 5000 in 1.20 seconds, loss is 13.31. Samples per second 4167.44\n",
      "Iteration 10000 in 1.62 seconds, loss is 13.35. Samples per second 6179.08\n",
      "Iteration 15000 in 1.88 seconds, loss is 13.37. Samples per second 7992.60\n",
      "Iteration 20000 in 2.11 seconds, loss is 13.30. Samples per second 9465.20\n",
      "Iteration 25000 in 2.32 seconds, loss is 13.23. Samples per second 10765.29\n",
      "Iteration 30000 in 2.57 seconds, loss is 13.23. Samples per second 11685.30\n",
      "Iteration 35000 in 2.77 seconds, loss is 13.21. Samples per second 12641.41\n",
      "Iteration 40000 in 2.95 seconds, loss is 13.20. Samples per second 13562.21\n",
      "Iteration 45000 in 3.12 seconds, loss is 13.18. Samples per second 14407.45\n",
      "Iteration 50000 in 3.30 seconds, loss is 13.15. Samples per second 15160.34\n",
      "Iteration 55000 in 3.47 seconds, loss is 13.13. Samples per second 15827.43\n",
      "Iteration 60000 in 3.66 seconds, loss is 13.11. Samples per second 16391.67\n",
      "Iteration 65000 in 3.82 seconds, loss is 13.08. Samples per second 17029.99\n",
      "Iteration 70000 in 3.98 seconds, loss is 13.07. Samples per second 17604.08\n",
      "Iteration 75000 in 4.14 seconds, loss is 13.03. Samples per second 18135.68\n",
      "Iteration 80000 in 4.29 seconds, loss is 13.00. Samples per second 18634.18\n",
      "Iteration 85000 in 4.45 seconds, loss is 12.98. Samples per second 19095.09\n",
      "Iteration 90000 in 4.61 seconds, loss is 12.94. Samples per second 19510.13\n",
      "Iteration 95000 in 4.77 seconds, loss is 12.92. Samples per second 19911.86\n",
      "Iteration 100000 in 4.94 seconds, loss is 12.89. Samples per second 20256.18\n"
     ]
    }
   ],
   "source": [
    "loss, samples_per_second = do_some_training(URM_train)"
   ]
  },
  {
   "cell_type": "code",
   "execution_count": 41,
   "metadata": {},
   "outputs": [
    {
     "name": "stdout",
     "output_type": "stream",
     "text": [
      "Estimated time with the previous training speed is 3949.41 seconds (65.82 minutes, 1.10 hours)\n"
     ]
    }
   ],
   "source": [
    "estimated_seconds = 8e6 * 10 / samples_per_second\n",
    "print(\n",
    "    \"Estimated time with the previous training speed is {:.2f} seconds ({:.2f} minutes, {:.2f} hours)\".format(\n",
    "        estimated_seconds, estimated_seconds / 60, estimated_seconds / 3600\n",
    "    )\n",
    ")"
   ]
  },
  {
   "cell_type": "markdown",
   "metadata": {},
   "source": [
    "### This is why we use it for machine learning algorithms...\n",
    "\n",
    "### Some operations are still done with sparse matrices, those cannot be correctly optimized because the compiler does not know how what is the type of the data.\n",
    "\n",
    "### To address this, we create typed arrays in which we put the URM_train data\n",
    "For example, this operation: user_id = URM_train_coo.row[sample_index]\n",
    "\n",
    "Becomes:\n",
    "\n",
    "cdef int user_id\n",
    "\n",
    "cdef int[:] URM_train_coo_row = URM_train_coo.row\n",
    "\n",
    "user_id = URM_train_coo_row[sample_index]\n",
    "\n",
    "\n",
    "### We can also skip the creation of the items_in_user_profile array and replace the np.random call with the faster native C function rand()\n",
    "\n",
    "## To obtain a more reliable speed estimate we increase the number of samples and the print step by a factor of 10"
   ]
  },
  {
   "cell_type": "code",
   "execution_count": 42,
   "metadata": {},
   "outputs": [],
   "source": [
    "%%cython\n",
    "\n",
    "import numpy as np\n",
    "import time\n",
    "\n",
    "from libc.stdlib cimport rand, srand, RAND_MAX\n",
    "\n",
    "def do_some_training(URM_train):\n",
    "\n",
    "    URM_train_coo = URM_train.tocoo()\n",
    "    cdef int n_items = URM_train.shape[1]\n",
    "    cdef int n_interactions = URM_train.nnz\n",
    "    cdef int[:] URM_train_coo_row = URM_train_coo.row\n",
    "    cdef int[:] URM_train_coo_col = URM_train_coo.col\n",
    "    cdef double[:] URM_train_coo_data = URM_train_coo.data\n",
    "    cdef int[:] URM_train_indices = URM_train.indices\n",
    "    cdef int[:] URM_train_indptr = URM_train.indptr\n",
    "    cdef double[:] URM_train_data = URM_train.data\n",
    "\n",
    "    cdef double[:,:] item_item_S = np.zeros((n_items, n_items), dtype = float)\n",
    "    cdef double learning_rate = 1e-6, regularization_1 = 1e-3, regularization_2 = 1e-3\n",
    "    cdef double loss = 0.0\n",
    "    cdef long start_time = time.time()\n",
    "    cdef double true_rating, predicted_rating, prediction_error, profile_rating\n",
    "    cdef int start_profile, end_profile\n",
    "    cdef int index, sample_num, user_id, item_id, profile_item_id\n",
    "\n",
    "    for sample_num in range(1000000):\n",
    "\n",
    "        # Randomly pick sample\n",
    "        index = rand() % n_interactions\n",
    "\n",
    "        user_id = URM_train_coo_row[index]\n",
    "        item_id = URM_train_coo_col[index]\n",
    "        true_rating = URM_train_coo_data[index]\n",
    "\n",
    "        # Compute prediction\n",
    "        start_profile = URM_train_indptr[user_id]\n",
    "        end_profile = URM_train_indptr[user_id+1]\n",
    "        predicted_rating = 0.0\n",
    "\n",
    "        for index in range(start_profile, end_profile):\n",
    "            profile_item_id = URM_train_indices[index]\n",
    "            profile_rating = URM_train_data[index]\n",
    "            predicted_rating += item_item_S[profile_item_id,item_id] * profile_rating\n",
    "\n",
    "        # Compute prediction error, or gradient\n",
    "        prediction_error = true_rating - predicted_rating\n",
    "        loss += prediction_error**2\n",
    "\n",
    "        # Update model, in this case the similarity\n",
    "        for index in range(start_profile, end_profile):\n",
    "            profile_item_id = URM_train_indices[index]\n",
    "            profile_rating = URM_train_data[index]\n",
    "            item_item_S[profile_item_id,item_id] += learning_rate * (prediction_error * profile_rating - \n",
    "                                                                     regularization_1 * (item_item_S[profile_item_id,item_id] > 0) -\n",
    "                                                                     regularization_2 * item_item_S[profile_item_id,item_id])\n",
    "\n",
    "        # Ensure diagonal is always zero\n",
    "        item_item_S[item_id,item_id] = 0.0\n",
    "        \n",
    "        # Print some stats\n",
    "        if (sample_num +1)% 50000 == 0:\n",
    "            elapsed_time = time.time() - start_time\n",
    "            samples_per_second = (sample_num +1)/elapsed_time\n",
    "            print(\"Iteration {} in {:.2f} seconds, loss is {:.2f}. Samples per second {:.2f}\".format(sample_num+1, elapsed_time, loss/(sample_num +1), samples_per_second))\n",
    "\n",
    "    return loss, samples_per_second"
   ]
  },
  {
   "cell_type": "code",
   "execution_count": 43,
   "metadata": {},
   "outputs": [
    {
     "name": "stdout",
     "output_type": "stream",
     "text": [
      "Iteration 50000 in 3.12 seconds, loss is 13.19. Samples per second 16024.97\n",
      "Iteration 100000 in 4.21 seconds, loss is 12.93. Samples per second 23758.03\n",
      "Iteration 150000 in 5.26 seconds, loss is 12.70. Samples per second 28526.27\n",
      "Iteration 200000 in 6.29 seconds, loss is 12.47. Samples per second 31805.45\n",
      "Iteration 250000 in 7.29 seconds, loss is 12.25. Samples per second 34310.53\n",
      "Iteration 300000 in 8.28 seconds, loss is 12.04. Samples per second 36221.45\n",
      "Iteration 350000 in 9.25 seconds, loss is 11.86. Samples per second 37856.85\n",
      "Iteration 400000 in 10.23 seconds, loss is 11.67. Samples per second 39112.58\n",
      "Iteration 450000 in 11.19 seconds, loss is 11.50. Samples per second 40225.88\n",
      "Iteration 500000 in 12.17 seconds, loss is 11.33. Samples per second 41085.30\n",
      "Iteration 550000 in 13.20 seconds, loss is 11.18. Samples per second 41661.56\n",
      "Iteration 600000 in 14.15 seconds, loss is 11.02. Samples per second 42389.78\n",
      "Iteration 650000 in 15.11 seconds, loss is 10.88. Samples per second 43027.64\n",
      "Iteration 700000 in 16.05 seconds, loss is 10.74. Samples per second 43618.52\n",
      "Iteration 750000 in 17.15 seconds, loss is 10.61. Samples per second 43722.56\n",
      "Iteration 800000 in 18.13 seconds, loss is 10.48. Samples per second 44128.69\n",
      "Iteration 850000 in 19.09 seconds, loss is 10.36. Samples per second 44526.81\n",
      "Iteration 900000 in 20.06 seconds, loss is 10.25. Samples per second 44867.47\n",
      "Iteration 950000 in 21.03 seconds, loss is 10.14. Samples per second 45175.27\n",
      "Iteration 1000000 in 22.12 seconds, loss is 10.03. Samples per second 45208.94\n"
     ]
    }
   ],
   "source": [
    "loss, samples_per_second = do_some_training(URM_train)"
   ]
  },
  {
   "cell_type": "code",
   "execution_count": 44,
   "metadata": {},
   "outputs": [
    {
     "name": "stdout",
     "output_type": "stream",
     "text": [
      "Estimated time with the previous training speed is 1769.56 seconds (29.49 minutes, 0.49 hours)\n"
     ]
    }
   ],
   "source": [
    "estimated_seconds = 8e6 * 10 / samples_per_second\n",
    "print(\n",
    "    \"Estimated time with the previous training speed is {:.2f} seconds ({:.2f} minutes, {:.2f} hours)\".format(\n",
    "        estimated_seconds, estimated_seconds / 60, estimated_seconds / 3600\n",
    "    )\n",
    ")"
   ]
  },
  {
   "cell_type": "markdown",
   "metadata": {},
   "source": [
    "### As the source code gets less readable due to the addition of types and native C functions, it also gets remarkably faster\n",
    "\n",
    "### We started from a naive python implementation which took 30 hours (1k samples per second) and we now have a Cython one with takes only a few minutes (50k samples per second)."
   ]
  },
  {
   "cell_type": "code",
   "execution_count": 45,
   "metadata": {},
   "outputs": [],
   "source": [
    "%%cython\n",
    "\n",
    "import numpy as np\n",
    "import time\n",
    "\n",
    "from libc.stdlib cimport rand, srand, RAND_MAX\n",
    "\n",
    "def train_multiple_epochs(URM_train, learning_rate_input, regularization_1_input, regularization_2_input, n_epochs):\n",
    "\n",
    "    URM_train_coo = URM_train.tocoo()\n",
    "    cdef int n_items = URM_train.shape[1]\n",
    "    cdef int n_interactions = URM_train.nnz\n",
    "    cdef int[:] URM_train_coo_row = URM_train_coo.row\n",
    "    cdef int[:] URM_train_coo_col = URM_train_coo.col\n",
    "    cdef double[:] URM_train_coo_data = URM_train_coo.data\n",
    "    cdef int[:] URM_train_indices = URM_train.indices\n",
    "    cdef int[:] URM_train_indptr = URM_train.indptr\n",
    "    cdef double[:] URM_train_data = URM_train.data\n",
    "\n",
    "    cdef double[:,:] item_item_S = np.zeros((n_items, n_items), dtype = float)\n",
    "    cdef double learning_rate = learning_rate_input\n",
    "    cdef double regularization_1 = regularization_1_input\n",
    "    cdef double regularization_2 = regularization_2_input\n",
    "    cdef double loss = 0.0\n",
    "    cdef long start_time\n",
    "    cdef double true_rating, predicted_rating, prediction_error, profile_rating\n",
    "    cdef int start_profile, end_profile\n",
    "    cdef int index, sample_num, user_id, item_id, profile_item_id\n",
    "    \n",
    "    for n_epoch in range(n_epochs):\n",
    "        \n",
    "        loss = 0.0\n",
    "        start_time = time.time()\n",
    "        \n",
    "        for sample_num in range(n_interactions):\n",
    "\n",
    "            # Randomly pick sample\n",
    "            index = rand() % n_interactions\n",
    "\n",
    "            user_id = URM_train_coo_row[index]\n",
    "            item_id = URM_train_coo_col[index]\n",
    "            true_rating = URM_train_coo_data[index]\n",
    "\n",
    "            # Compute prediction\n",
    "            start_profile = URM_train_indptr[user_id]\n",
    "            end_profile = URM_train_indptr[user_id+1]\n",
    "            predicted_rating = 0.0\n",
    "\n",
    "            for index in range(start_profile, end_profile):\n",
    "                profile_item_id = URM_train_indices[index]\n",
    "                profile_rating = URM_train_data[index]\n",
    "                predicted_rating += item_item_S[profile_item_id,item_id] * profile_rating\n",
    "\n",
    "            # Compute prediction error, or gradient\n",
    "            prediction_error = true_rating - predicted_rating\n",
    "            loss += prediction_error**2\n",
    "\n",
    "            # Update model, in this case the similarity\n",
    "            for index in range(start_profile, end_profile):\n",
    "                profile_item_id = URM_train_indices[index]\n",
    "                profile_rating = URM_train_data[index]\n",
    "                item_item_S[profile_item_id,item_id] += learning_rate * (prediction_error * profile_rating - \n",
    "                                                                         regularization_1 * (item_item_S[profile_item_id,item_id] > 0) -\n",
    "                                                                         regularization_2 * item_item_S[profile_item_id,item_id])\n",
    "\n",
    "            # Ensure diagonal is always zero\n",
    "            item_item_S[item_id,item_id] = 0.0\n",
    "        \n",
    "#             if sample_num % 1000000 == 0:\n",
    "#                 print(\"Epoch {}: {:.2f}%\".format(n_epoch+1, sample_num/n_interactions*100))\n",
    "            \n",
    "            \n",
    "        elapsed_time = time.time() - start_time\n",
    "        samples_per_second = (sample_num+1)/elapsed_time\n",
    "     \n",
    "        print(\"Epoch {} complete in in {:.2f} seconds, loss is {:.3E}. Samples per second {:.2f}\".format(n_epoch+1, time.time() - start_time, loss/(sample_num+1), samples_per_second))\n",
    "\n",
    "    return np.array(item_item_S), loss/(sample_num+1), samples_per_second"
   ]
  },
  {
   "cell_type": "markdown",
   "metadata": {},
   "source": [
    "### Now let's compare the loss function if we use no regularization"
   ]
  },
  {
   "cell_type": "code",
   "execution_count": 46,
   "metadata": {},
   "outputs": [
    {
     "name": "stdout",
     "output_type": "stream",
     "text": [
      "Epoch 1 complete in in 160.86 seconds, loss is 5.754E+00. Samples per second 49733.88\n",
      "Epoch 2 complete in in 177.63 seconds, loss is 3.707E+00. Samples per second 45037.10\n",
      "Epoch 3 complete in in 175.62 seconds, loss is 3.240E+00. Samples per second 45552.25\n",
      "Epoch 4 complete in in 178.31 seconds, loss is 2.986E+00. Samples per second 44866.18\n",
      "Epoch 5 complete in in 177.54 seconds, loss is 2.824E+00. Samples per second 45060.94\n",
      "Epoch 6 complete in in 181.85 seconds, loss is 2.701E+00. Samples per second 43993.20\n",
      "Epoch 7 complete in in 177.91 seconds, loss is 2.608E+00. Samples per second 44967.43\n",
      "Epoch 8 complete in in 182.84 seconds, loss is 2.536E+00. Samples per second 43755.38\n",
      "Epoch 9 complete in in 186.96 seconds, loss is 2.475E+00. Samples per second 42790.43\n",
      "Epoch 10 complete in in 172.62 seconds, loss is 2.420E+00. Samples per second 46345.60\n"
     ]
    }
   ],
   "source": [
    "n_items = URM_train.shape[1]\n",
    "learning_rate = 1e-6\n",
    "regularization_1 = 1e-3\n",
    "regularization_2 = 1e-3\n",
    "\n",
    "item_item_S, loss, samples_per_second = train_multiple_epochs(\n",
    "    URM_train, learning_rate, regularization_1, regularization_2, 10\n",
    ")"
   ]
  },
  {
   "cell_type": "code",
   "execution_count": 47,
   "metadata": {},
   "outputs": [
    {
     "name": "stdout",
     "output_type": "stream",
     "text": [
      "Epoch 1 complete in in 182.39 seconds, loss is 5.753E+00. Samples per second 43862.25\n",
      "Epoch 2 complete in in 183.98 seconds, loss is 3.707E+00. Samples per second 43482.14\n",
      "Epoch 3 complete in in 181.38 seconds, loss is 3.244E+00. Samples per second 44107.56\n",
      "Epoch 4 complete in in 178.94 seconds, loss is 2.987E+00. Samples per second 44709.07\n",
      "Epoch 5 complete in in 179.09 seconds, loss is 2.821E+00. Samples per second 44670.98\n",
      "Epoch 6 complete in in 181.81 seconds, loss is 2.701E+00. Samples per second 44003.44\n",
      "Epoch 7 complete in in 180.49 seconds, loss is 2.607E+00. Samples per second 44323.22\n",
      "Epoch 8 complete in in 176.34 seconds, loss is 2.536E+00. Samples per second 45368.11\n",
      "Epoch 9 complete in in 179.19 seconds, loss is 2.472E+00. Samples per second 44644.40\n",
      "Epoch 10 complete in in 180.35 seconds, loss is 2.419E+00. Samples per second 44358.80\n"
     ]
    }
   ],
   "source": [
    "item_item_S, loss, samples_per_second = train_multiple_epochs(\n",
    "    URM_train, learning_rate, 0.0, 0.0, 10\n",
    ")"
   ]
  },
  {
   "cell_type": "markdown",
   "metadata": {
    "collapsed": true
   },
   "source": [
    "## How to use Cython outside a notebook\n",
    "\n",
    "### Step1: Create a .pyx file and write your code\n",
    "\n",
    "### Step2: Create a compilation script \"compileCython.py\" with the following content"
   ]
  },
  {
   "cell_type": "code",
   "execution_count": null,
   "metadata": {
    "scrolled": false
   },
   "outputs": [],
   "source": [
    "# This code will not run in a notebook cell\n",
    "\n",
    "try:\n",
    "    from setuptools import setup\n",
    "    from setuptools import Extension\n",
    "except ImportError:\n",
    "    from distutils.core import setup\n",
    "    from distutils.extension import Extension\n",
    "\n",
    "\n",
    "from Cython.Distutils import build_ext\n",
    "import numpy\n",
    "import sys\n",
    "import re\n",
    "\n",
    "\n",
    "if len(sys.argv) != 4:\n",
    "    raise ValueError(\n",
    "        \"Wrong number of paramethers received. Expected 4, got {}\".format(sys.argv)\n",
    "    )\n",
    "\n",
    "\n",
    "# Get the name of the file to compile\n",
    "fileToCompile = sys.argv[1]\n",
    "\n",
    "# Remove the argument from sys argv in order for it to contain only what setup needs\n",
    "del sys.argv[1]\n",
    "\n",
    "extensionName = re.sub(\"\\.pyx\", \"\", fileToCompile)\n",
    "\n",
    "\n",
    "ext_modules = Extension(\n",
    "    extensionName,\n",
    "    [fileToCompile],\n",
    "    extra_compile_args=[\"-O3\"],\n",
    "    include_dirs=[\n",
    "        numpy.get_include(),\n",
    "    ],\n",
    ")\n",
    "\n",
    "setup(cmdclass={\"build_ext\": build_ext}, ext_modules=[ext_modules])"
   ]
  },
  {
   "cell_type": "markdown",
   "metadata": {},
   "source": [
    "### Step3: Compile your code with the following command \n",
    "\n",
    "python compileCython.py Cython_examples\\SLIM_MSE_fastest.pyx build_ext --inplace"
   ]
  },
  {
   "cell_type": "markdown",
   "metadata": {},
   "source": [
    "### Step4: Generate cython report and look for \"yellow lines\". The report is an .html file which represents how many operations are necessary to translate each python operation in cython code. If a line is white, it has a direct C translation. If it is yellow it will require many indirect steps that will slow down execution. Some of those steps may be inevitable, some may be removed via static typing.\n",
    "\n",
    "### IMPORTANT: white does not mean fast!! If a system call is involved that part might be slow anyway.\n",
    "\n",
    "cython -a Cython_examples\\SLIM_MSE_fastest.pyx"
   ]
  },
  {
   "cell_type": "markdown",
   "metadata": {},
   "source": [
    "### Step5: Add static types and C functions to remove \"yellow\" lines.\n",
    "\n",
    "#### If you use a variable only as a C object, use primitive tipes \n",
    "cdef int namevar\n",
    "\n",
    "cdef double namevar\n",
    "\n",
    "cdef float namevar\n",
    "\n",
    "#### If you call a function only within C code, use a specific declaration \"cdef\"\n",
    "\n",
    "cdef function_name(self, int param1, double param2):\n",
    "...\n",
    "\n"
   ]
  },
  {
   "cell_type": "markdown",
   "metadata": {},
   "source": [
    "## Step6: Iterate step 4 and 5 until you are satisfied with how clean your code is, then compile. An example of non optimized code can be found in the source folder of this notebook with the _SLOW suffix\n",
    "\n",
    "## Step7: the compilation generates a file whose name is something like \"SLIM_MSE_fastest.cp36-win_amd64.pyd\" and tells you the source file, the architecture it is compiled for and the OS\n",
    "\n",
    "## Step8: Import and use the compiled file as if it were any python object, function or class"
   ]
  },
  {
   "cell_type": "code",
   "execution_count": null,
   "metadata": {},
   "outputs": [],
   "source": [
    "from Cython_examples.SLIM_MSE_fastest import train_multiple_epochs\n",
    "\n",
    "train_multiple_epochs(URM_train, 1e-3, 1)"
   ]
  },
  {
   "cell_type": "markdown",
   "metadata": {},
   "source": [
    "# A few warnings on ML algorithms"
   ]
  },
  {
   "cell_type": "markdown",
   "metadata": {},
   "source": [
    "### - Why do we bother with KNNs if we have ML?\n",
    "Because sometimes ML algorithms work better than heuristic ones, sometimes they do not\n",
    "\n",
    "### - ML algorithms are always best because they learn from the data\n",
    "Not really... Yes they learn from the data but the data is sometimes too noisy, too sparse and does not yeld good results. There is plenty of examples of cases where ML algorithms are not the best choice.\n",
    "\n",
    "### - We should use this complex model because it can in theory approximate any function!!\n",
    "Theory is important but... does it work in practice? Often complex modes are veeeery difficult to train and you need to use lots of tricks: adaptive gradients, data normalization, careful initialization and crafted batches...\n",
    "\n",
    "### - I have trained my model for 2 epochs but the result is not great\n",
    "Have you just used the default learning rate or have you optimized it? Why did you stop after 2 epochs? You may need 100s of epochs\n",
    "\n",
    "### - If I select a high learning rate (maybe 1e-3) after 5 epochs I get a result wich is not very good, if I use a lower learning rate (maybe 1e-6) the result is much worse\n",
    "Of course, the lower the learning rate the slower the training process but the better the solution you may find. Again, you may need 100s of epochs\n",
    "\n",
    "### - Training and optimizing the hyperparameters of this ML model takes several hours, what am I doing wrong?\n",
    "Probably nothing, ML is computationally expensive and takes time... A few hours is a normal timespan. Sometimes the end result is still not satisfactory."
   ]
  }
 ],
 "metadata": {
  "kernelspec": {
   "display_name": "RecSysFramework",
   "language": "python",
   "name": "python3"
  },
  "language_info": {
   "codemirror_mode": {
    "name": "ipython",
    "version": 3
   },
   "file_extension": ".py",
   "mimetype": "text/x-python",
   "name": "python",
   "nbconvert_exporter": "python",
   "pygments_lexer": "ipython3",
   "version": "3.8.20"
  }
 },
 "nbformat": 4,
 "nbformat_minor": 2
}
