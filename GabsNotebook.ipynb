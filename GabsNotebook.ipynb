{
 "cells": [
  {
   "cell_type": "code",
   "execution_count": 1,
   "metadata": {
    "execution": {
     "iopub.execute_input": "2024-11-22T04:02:38.384669Z",
     "iopub.status.busy": "2024-11-22T04:02:38.383973Z",
     "iopub.status.idle": "2024-11-22T04:02:43.008258Z",
     "shell.execute_reply": "2024-11-22T04:02:43.006639Z",
     "shell.execute_reply.started": "2024-11-22T04:02:38.384613Z"
    },
    "trusted": true
   },
   "outputs": [
    {
     "name": "stdout",
     "output_type": "stream",
     "text": [
      "Cloning into 'recsys'...\n",
      "remote: Enumerating objects: 1895, done.\u001b[K\n",
      "remote: Counting objects: 100% (41/41), done.\u001b[K\n",
      "remote: Compressing objects: 100% (33/33), done.\u001b[K\n",
      "remote: Total 1895 (delta 13), reused 20 (delta 8), pack-reused 1854 (from 1)\u001b[K\n",
      "Receiving objects: 100% (1895/1895), 52.25 MiB | 26.18 MiB/s, done.\n",
      "Resolving deltas: 100% (1180/1180), done.\n"
     ]
    }
   ],
   "source": [
    ""
   ]
  },
  {
   "cell_type": "markdown",
   "metadata": {},
   "source": [
    "# INTRO"
   ]
  },
  {
   "cell_type": "code",
   "execution_count": 1,
   "metadata": {
    "execution": {
     "iopub.execute_input": "2024-11-22T04:03:05.923505Z",
     "iopub.status.busy": "2024-11-22T04:03:05.922922Z",
     "iopub.status.idle": "2024-11-22T04:03:05.931829Z",
     "shell.execute_reply": "2024-11-22T04:03:05.930335Z",
     "shell.execute_reply.started": "2024-11-22T04:03:05.923451Z"
    },
    "trusted": true
   },
   "outputs": [],
   "source": [
    "import os\n",
    "from typing import Tuple, Callable, Dict, Optional, List\n",
    "\n",
    "import pandas as pd\n",
    "import numpy as np\n",
    "import scipy.sparse as sp\n",
    "from tqdm import tqdm\n",
    "from sklearn.metrics import average_precision_score\n",
    "from sklearn.model_selection import train_test_split\n",
    "\n",
    "from Evaluation.Evaluator import EvaluatorHoldout"
   ]
  },
  {
   "cell_type": "code",
   "execution_count": 2,
   "metadata": {
    "execution": {
     "iopub.execute_input": "2024-11-22T04:03:07.406552Z",
     "iopub.status.busy": "2024-11-22T04:03:07.406140Z",
     "iopub.status.idle": "2024-11-22T04:03:08.724401Z",
     "shell.execute_reply": "2024-11-22T04:03:08.723294Z",
     "shell.execute_reply.started": "2024-11-22T04:03:07.406516Z"
    },
    "trusted": true
   },
   "outputs": [],
   "source": [
    "URM = pd.read_csv(\"./data/data_train.csv\")\n",
    "ICM = pd.read_csv(\"./data/data_ICM_metadata.csv\")"
   ]
  },
  {
   "cell_type": "code",
   "execution_count": 3,
   "metadata": {
    "execution": {
     "iopub.execute_input": "2024-11-22T04:03:08.726842Z",
     "iopub.status.busy": "2024-11-22T04:03:08.726486Z",
     "iopub.status.idle": "2024-11-22T04:03:08.801814Z",
     "shell.execute_reply": "2024-11-22T04:03:08.800434Z",
     "shell.execute_reply.started": "2024-11-22T04:03:08.726808Z"
    },
    "trusted": true
   },
   "outputs": [
    {
     "name": "stdout",
     "output_type": "stream",
     "text": [
      "Max User ID: 35735, Min User ID: 0, Number of IDs: 35736\n",
      "Max Item ID: 38120, Min Item ID: 0, Number of IDs: 38121\n",
      "Max Feature ID: 94330, Min Item ID: 0, Number of IDs: 94331\n"
     ]
    }
   ],
   "source": [
    "unique_users = URM.user_id.unique()\n",
    "max_user_id = unique_users.max()\n",
    "min_user_id = unique_users.min()\n",
    "num_users = unique_users.size\n",
    "print(f\"Max User ID: {max_user_id}, Min User ID: {min_user_id}, Number of IDs: {num_users}\")\n",
    "\n",
    "unique_items = ICM.item_id.unique()\n",
    "max_item_id = ICM.item_id.max()\n",
    "min_item_id = ICM.item_id.min()\n",
    "num_items = unique_items.size\n",
    "unique_features = ICM.feature_id.unique()\n",
    "num_features = unique_features.size\n",
    "min_features_id = ICM.feature_id.min()\n",
    "max_features_id = ICM.feature_id.max()\n",
    "print(f\"Max Item ID: {max_item_id}, Min Item ID: {min_item_id}, Number of IDs: {num_items}\")\n",
    "print(f\"Max Feature ID: {max_features_id}, Min Item ID: {min_features_id}, Number of IDs: {num_features}\")"
   ]
  },
  {
   "cell_type": "code",
   "execution_count": 4,
   "metadata": {
    "execution": {
     "iopub.execute_input": "2024-11-22T04:03:08.803437Z",
     "iopub.status.busy": "2024-11-22T04:03:08.803094Z",
     "iopub.status.idle": "2024-11-22T04:03:08.814027Z",
     "shell.execute_reply": "2024-11-22T04:03:08.812704Z",
     "shell.execute_reply.started": "2024-11-22T04:03:08.803400Z"
    },
    "trusted": true
   },
   "outputs": [
    {
     "name": "stdout",
     "output_type": "stream",
     "text": [
      "URM\n",
      "   user_id  item_id  data\n",
      "0        0        0   1.0\n",
      "1        0        2   1.0\n",
      "2        0      120   1.0\n",
      "3        0      128   1.0\n",
      "4        0      211   1.0\n",
      "\n",
      "ICM\n",
      "   item_id  feature_id  data\n",
      "0     2519           0   1.0\n",
      "1     2642           0   1.0\n",
      "2     3316           0   1.0\n",
      "3     3400           0   1.0\n",
      "4     3472           0   1.0\n"
     ]
    }
   ],
   "source": [
    "print(\"URM\")\n",
    "print(URM.head())\n",
    "print(\"\\nICM\")\n",
    "print(ICM.head())"
   ]
  },
  {
   "cell_type": "code",
   "execution_count": 5,
   "metadata": {
    "execution": {
     "iopub.execute_input": "2024-11-22T04:03:08.816211Z",
     "iopub.status.busy": "2024-11-22T04:03:08.815851Z",
     "iopub.status.idle": "2024-11-22T04:03:08.835162Z",
     "shell.execute_reply": "2024-11-22T04:03:08.833984Z",
     "shell.execute_reply.started": "2024-11-22T04:03:08.816176Z"
    },
    "trusted": true
   },
   "outputs": [
    {
     "data": {
      "text/plain": [
       "0              0\n",
       "1              0\n",
       "2              0\n",
       "3              0\n",
       "4              0\n",
       "           ...  \n",
       "1764602    35735\n",
       "1764603    35735\n",
       "1764604    35735\n",
       "1764605    35735\n",
       "1764606    35735\n",
       "Name: user_id, Length: 1764607, dtype: int64"
      ]
     },
     "execution_count": 5,
     "metadata": {},
     "output_type": "execute_result"
    }
   ],
   "source": [
    "URM.user_id"
   ]
  },
  {
   "cell_type": "code",
   "execution_count": 6,
   "metadata": {
    "execution": {
     "iopub.execute_input": "2024-11-22T04:03:09.635325Z",
     "iopub.status.busy": "2024-11-22T04:03:09.634754Z",
     "iopub.status.idle": "2024-11-22T04:03:09.644838Z",
     "shell.execute_reply": "2024-11-22T04:03:09.643521Z",
     "shell.execute_reply.started": "2024-11-22T04:03:09.635281Z"
    },
    "trusted": true
   },
   "outputs": [],
   "source": [
    "def dataset_splits(ratings, num_users, num_items, validation_percentage: float, testing_percentage: float):\n",
    "    seed = 1234\n",
    "\n",
    "    # Construct the whole URM as a sparse matrix\n",
    "    urm_all = sp.csr_matrix((ratings.data, (ratings.user_id, ratings.item_id)),\n",
    "                            shape=(num_users, num_items))\n",
    "\n",
    "    # Split into train + validation and test sets\n",
    "    train_val_indices, test_indices = train_test_split(\n",
    "        np.arange(len(ratings)),\n",
    "        test_size=testing_percentage,\n",
    "        shuffle=True,\n",
    "        random_state=seed\n",
    "    )\n",
    "    \n",
    "    # Split train + validation into train and validation\n",
    "    train_indices, val_indices = train_test_split(\n",
    "        train_val_indices,\n",
    "        test_size=validation_percentage / (1 - testing_percentage),\n",
    "        shuffle=True,\n",
    "        random_state=seed\n",
    "    )\n",
    "    \n",
    "    # Get user, item, and rating data for each set\n",
    "    train_data = ratings.iloc[train_indices]\n",
    "    val_data = ratings.iloc[val_indices]\n",
    "    test_data = ratings.iloc[test_indices]\n",
    "    \n",
    "    # Construct sparse matrices\n",
    "    urm_train = sp.csr_matrix((train_data.data, (train_data.user_id, train_data.item_id)), \n",
    "                              shape=(num_users, num_items))\n",
    "    urm_validation = sp.csr_matrix((val_data.data, (val_data.user_id, val_data.item_id)), \n",
    "                                   shape=(num_users, num_items))\n",
    "    urm_test = sp.csr_matrix((test_data.data, (test_data.user_id, test_data.item_id)), \n",
    "                             shape=(num_users, num_items))\n",
    "\n",
    "    return urm_all, urm_train, urm_validation, urm_test\n"
   ]
  },
  {
   "cell_type": "code",
   "execution_count": 7,
   "metadata": {
    "execution": {
     "iopub.execute_input": "2024-11-22T04:03:11.913728Z",
     "iopub.status.busy": "2024-11-22T04:03:11.913259Z",
     "iopub.status.idle": "2024-11-22T04:03:12.318554Z",
     "shell.execute_reply": "2024-11-22T04:03:12.317276Z",
     "shell.execute_reply.started": "2024-11-22T04:03:11.913692Z"
    },
    "trusted": true
   },
   "outputs": [],
   "source": [
    "urm_all, urm_train, urm_validation, urm_test = dataset_splits(URM, \n",
    "                                                     num_users=num_users, \n",
    "                                                     num_items=num_items, \n",
    "                                                     validation_percentage=0.10, \n",
    "                                                     testing_percentage=0.20)"
   ]
  },
  {
   "cell_type": "code",
   "execution_count": 8,
   "metadata": {
    "execution": {
     "iopub.execute_input": "2024-11-22T04:03:12.325835Z",
     "iopub.status.busy": "2024-11-22T04:03:12.325437Z",
     "iopub.status.idle": "2024-11-22T04:03:12.452137Z",
     "shell.execute_reply": "2024-11-22T04:03:12.450738Z",
     "shell.execute_reply.started": "2024-11-22T04:03:12.325800Z"
    },
    "trusted": true
   },
   "outputs": [],
   "source": [
    "icm_matrix = sp.csr_matrix((ICM.data, (ICM.item_id, ICM.feature_id)), \n",
    "                           shape=(num_items, num_features))\n"
   ]
  },
  {
   "cell_type": "markdown",
   "metadata": {},
   "source": [
    "# Top Popular For Reference"
   ]
  },
  {
   "cell_type": "code",
   "execution_count": 12,
   "metadata": {
    "execution": {
     "iopub.execute_input": "2024-11-20T01:22:26.129753Z",
     "iopub.status.busy": "2024-11-20T01:22:26.129314Z",
     "iopub.status.idle": "2024-11-20T01:22:26.137655Z",
     "shell.execute_reply": "2024-11-20T01:22:26.136380Z",
     "shell.execute_reply.started": "2024-11-20T01:22:26.129714Z"
    },
    "trusted": true
   },
   "outputs": [],
   "source": [
    "class TopPopularRecommender:\n",
    "    \"\"\"Top Popular Recommender\"\"\"\n",
    "    \n",
    "    def __init__(self, URM_train):\n",
    "        \"\"\"\n",
    "        Initialize the recommender with the training user-item matrix.\n",
    "\n",
    "        Parameters:\n",
    "        URM_train: Sparse matrix (csr) representing the training interactions.\n",
    "        \"\"\"\n",
    "        self.URM_train = URM_train\n",
    "        self.popular_items = None\n",
    "\n",
    "    def fit(self):\n",
    "        \"\"\"Calculate the most popular items based on URM_train.\"\"\"\n",
    "        # Sum interactions for each item to get popularity\n",
    "        item_popularity = np.array(self.URM_train.sum(axis=0)).flatten()\n",
    "        \n",
    "        # Get item indices sorted by popularity in descending order\n",
    "        self.popular_items = np.argsort(-item_popularity)\n",
    "    \n",
    "    def recommend(self, user_id, top_k=10):\n",
    "        \"\"\"\n",
    "        Recommend top-k popular items for a user.\n",
    "\n",
    "        Parameters:\n",
    "        user_id: The user ID for whom to recommend (not used here).\n",
    "        top_k: Number of top popular items to return.\n",
    "\n",
    "        Returns:\n",
    "        List of top-k popular item IDs.\n",
    "        \"\"\"\n",
    "        return self.popular_items[:top_k]\n"
   ]
  },
  {
   "cell_type": "code",
   "execution_count": 13,
   "metadata": {
    "execution": {
     "iopub.execute_input": "2024-11-20T01:22:26.779610Z",
     "iopub.status.busy": "2024-11-20T01:22:26.779208Z",
     "iopub.status.idle": "2024-11-20T01:22:26.792734Z",
     "shell.execute_reply": "2024-11-20T01:22:26.791554Z",
     "shell.execute_reply.started": "2024-11-20T01:22:26.779561Z"
    },
    "trusted": true
   },
   "outputs": [],
   "source": [
    "recommender = TopPopularRecommender(URM_train=urm_train)\n",
    "recommender.fit()"
   ]
  },
  {
   "cell_type": "code",
   "execution_count": 15,
   "metadata": {
    "execution": {
     "iopub.execute_input": "2024-11-20T01:23:43.044777Z",
     "iopub.status.busy": "2024-11-20T01:23:43.044353Z",
     "iopub.status.idle": "2024-11-20T01:23:43.159080Z",
     "shell.execute_reply": "2024-11-20T01:23:43.157557Z",
     "shell.execute_reply.started": "2024-11-20T01:23:43.044741Z"
    },
    "trusted": true
   },
   "outputs": [
    {
     "name": "stdout",
     "output_type": "stream",
     "text": [
      "EvaluatorHoldout: Ignoring 175 ( 0.5%) Users that have less than 1 test interactions\n"
     ]
    },
    {
     "ename": "AttributeError",
     "evalue": "'TopPopularRecommender' object has no attribute 'get_URM_train'",
     "output_type": "error",
     "traceback": [
      "\u001b[0;31m---------------------------------------------------------------------------\u001b[0m",
      "\u001b[0;31mAttributeError\u001b[0m                            Traceback (most recent call last)",
      "Cell \u001b[0;32mIn[15], line 5\u001b[0m\n\u001b[1;32m      2\u001b[0m evaluator \u001b[38;5;241m=\u001b[39m EvaluatorHoldout(urm_test, cutoff_list\u001b[38;5;241m=\u001b[39m[\u001b[38;5;241m10\u001b[39m] )\n\u001b[1;32m      4\u001b[0m \u001b[38;5;66;03m# Evaluate the TopPopularRecommender\u001b[39;00m\n\u001b[0;32m----> 5\u001b[0m results_df, results_run_string \u001b[38;5;241m=\u001b[39m \u001b[43mevaluator\u001b[49m\u001b[38;5;241;43m.\u001b[39;49m\u001b[43mevaluateRecommender\u001b[49m\u001b[43m(\u001b[49m\u001b[43mrecommender\u001b[49m\u001b[43m)\u001b[49m\n\u001b[1;32m      7\u001b[0m \u001b[38;5;66;03m# Print the evaluation results\u001b[39;00m\n\u001b[1;32m      8\u001b[0m \u001b[38;5;28mprint\u001b[39m(results_run_string)\n",
      "File \u001b[0;32m/kaggle/working/recsys/Evaluation/Evaluator.py:322\u001b[0m, in \u001b[0;36mEvaluator.evaluateRecommender\u001b[0;34m(self, recommender_object)\u001b[0m\n\u001b[1;32m    319\u001b[0m \u001b[38;5;28mself\u001b[39m\u001b[38;5;241m.\u001b[39m_start_time_print \u001b[38;5;241m=\u001b[39m time\u001b[38;5;241m.\u001b[39mtime()\n\u001b[1;32m    320\u001b[0m \u001b[38;5;28mself\u001b[39m\u001b[38;5;241m.\u001b[39m_n_users_evaluated \u001b[38;5;241m=\u001b[39m \u001b[38;5;241m0\u001b[39m\n\u001b[0;32m--> 322\u001b[0m results_dict \u001b[38;5;241m=\u001b[39m \u001b[38;5;28;43mself\u001b[39;49m\u001b[38;5;241;43m.\u001b[39;49m\u001b[43m_run_evaluation_on_selected_users\u001b[49m\u001b[43m(\u001b[49m\n\u001b[1;32m    323\u001b[0m \u001b[43m    \u001b[49m\u001b[43mrecommender_object\u001b[49m\u001b[43m,\u001b[49m\u001b[43m \u001b[49m\u001b[38;5;28;43mself\u001b[39;49m\u001b[38;5;241;43m.\u001b[39;49m\u001b[43musers_to_evaluate\u001b[49m\n\u001b[1;32m    324\u001b[0m \u001b[43m\u001b[49m\u001b[43m)\u001b[49m\n\u001b[1;32m    326\u001b[0m \u001b[38;5;28;01mif\u001b[39;00m \u001b[38;5;28mself\u001b[39m\u001b[38;5;241m.\u001b[39m_n_users_evaluated \u001b[38;5;241m>\u001b[39m \u001b[38;5;241m0\u001b[39m:\n\u001b[1;32m    327\u001b[0m     \u001b[38;5;28;01mfor\u001b[39;00m cutoff \u001b[38;5;129;01min\u001b[39;00m \u001b[38;5;28mself\u001b[39m\u001b[38;5;241m.\u001b[39mcutoff_list:\n",
      "File \u001b[0;32m/kaggle/working/recsys/Evaluation/Evaluator.py:588\u001b[0m, in \u001b[0;36mEvaluatorHoldout._run_evaluation_on_selected_users\u001b[0;34m(self, recommender_object, users_to_evaluate, block_size)\u001b[0m\n\u001b[1;32m    578\u001b[0m \u001b[38;5;28;01mif\u001b[39;00m block_size \u001b[38;5;129;01mis\u001b[39;00m \u001b[38;5;28;01mNone\u001b[39;00m:\n\u001b[1;32m    579\u001b[0m     \u001b[38;5;66;03m# Reduce block size if estimated memory requirement exceeds 4 GB\u001b[39;00m\n\u001b[1;32m    580\u001b[0m     block_size \u001b[38;5;241m=\u001b[39m \u001b[38;5;28mmin\u001b[39m(\n\u001b[1;32m    581\u001b[0m         [\u001b[38;5;241m1000\u001b[39m, \u001b[38;5;28mint\u001b[39m(\u001b[38;5;241m4\u001b[39m \u001b[38;5;241m*\u001b[39m \u001b[38;5;241m1e9\u001b[39m \u001b[38;5;241m*\u001b[39m \u001b[38;5;241m8\u001b[39m \u001b[38;5;241m/\u001b[39m \u001b[38;5;241m64\u001b[39m \u001b[38;5;241m/\u001b[39m \u001b[38;5;28mself\u001b[39m\u001b[38;5;241m.\u001b[39mn_items), \u001b[38;5;28mlen\u001b[39m(users_to_evaluate)]\n\u001b[1;32m    582\u001b[0m     )\n\u001b[1;32m    584\u001b[0m results_dict \u001b[38;5;241m=\u001b[39m _create_empty_metrics_dict(\n\u001b[1;32m    585\u001b[0m     \u001b[38;5;28mself\u001b[39m\u001b[38;5;241m.\u001b[39mcutoff_list,\n\u001b[1;32m    586\u001b[0m     \u001b[38;5;28mself\u001b[39m\u001b[38;5;241m.\u001b[39mn_items,\n\u001b[1;32m    587\u001b[0m     \u001b[38;5;28mself\u001b[39m\u001b[38;5;241m.\u001b[39mn_users,\n\u001b[0;32m--> 588\u001b[0m     \u001b[43mrecommender_object\u001b[49m\u001b[38;5;241;43m.\u001b[39;49m\u001b[43mget_URM_train\u001b[49m(),\n\u001b[1;32m    589\u001b[0m     \u001b[38;5;28mself\u001b[39m\u001b[38;5;241m.\u001b[39mURM_test,\n\u001b[1;32m    590\u001b[0m     \u001b[38;5;28mself\u001b[39m\u001b[38;5;241m.\u001b[39mignore_items_ID,\n\u001b[1;32m    591\u001b[0m     \u001b[38;5;28mself\u001b[39m\u001b[38;5;241m.\u001b[39mignore_users_ID,\n\u001b[1;32m    592\u001b[0m     \u001b[38;5;28mself\u001b[39m\u001b[38;5;241m.\u001b[39mdiversity_object,\n\u001b[1;32m    593\u001b[0m )\n\u001b[1;32m    595\u001b[0m \u001b[38;5;28;01mif\u001b[39;00m \u001b[38;5;28mself\u001b[39m\u001b[38;5;241m.\u001b[39mignore_items_flag:\n\u001b[1;32m    596\u001b[0m     recommender_object\u001b[38;5;241m.\u001b[39mset_items_to_ignore(\u001b[38;5;28mself\u001b[39m\u001b[38;5;241m.\u001b[39mignore_items_ID)\n",
      "\u001b[0;31mAttributeError\u001b[0m: 'TopPopularRecommender' object has no attribute 'get_URM_train'"
     ]
    }
   ],
   "source": [
    "# Initialize the evaluator with the test user-item matrix\n",
    "evaluator = EvaluatorHoldout(urm_test, cutoff_list=[10] )\n",
    "\n",
    "# Evaluate the TopPopularRecommender\n",
    "results_df, results_run_string = evaluator.evaluateRecommender(recommender)\n",
    "\n",
    "# Print the evaluation results\n",
    "print(results_run_string)\n"
   ]
  },
  {
   "cell_type": "code",
   "execution_count": null,
   "metadata": {
    "trusted": true
   },
   "outputs": [],
   "source": [
    "def calculate_map_at_k(recommender, urm_test, target_user_ids, k=10):\n",
    "    \"\"\"\n",
    "    Calculate MAP@K for a given recommender and test data.\n",
    "\n",
    "    Parameters:\n",
    "    recommender: The fitted recommender model.\n",
    "    urm_test: Sparse matrix (csr) representing the test interactions.\n",
    "    target_user_ids: List of user IDs to evaluate.\n",
    "    k: The number of top recommendations to consider (e.g., 10 for MAP@10).\n",
    "\n",
    "    Returns:\n",
    "    mean_ap: The mean average precision at K across target users.\n",
    "    \"\"\"\n",
    "    # List to store AP@K for each user\n",
    "    average_precisions = []\n",
    "\n",
    "    # Go through each target user with a progress bar\n",
    "    for user_id in tqdm(target_user_ids, desc=\"Evaluating MAP@K\"):\n",
    "        # Get ground truth items for the user\n",
    "        relevant_items = urm_test[user_id].indices\n",
    "\n",
    "        # Generate recommendations and take the top-k\n",
    "        recommended_items = recommender.recommend(user_id)[:k]\n",
    "\n",
    "        # Calculate binary relevance\n",
    "        relevance = np.isin(recommended_items, relevant_items).astype(int)\n",
    "\n",
    "        # Calculate average precision for this user\n",
    "        if relevance.sum() > 0:  # Only consider users with at least one relevant item in the test set\n",
    "            ap = average_precision_score(relevance, np.ones(len(relevance)))\n",
    "            average_precisions.append(ap)\n",
    "\n",
    "    # Calculate mean AP@K\n",
    "    mean_ap = np.mean(average_precisions) if average_precisions else 0.0\n",
    "    return mean_ap\n",
    "\n",
    "\n"
   ]
  },
  {
   "cell_type": "code",
   "execution_count": null,
   "metadata": {
    "trusted": true
   },
   "outputs": [],
   "source": [
    "# Use the list of target user IDs from data_target_users_test.csv\n",
    "target_user_ids = pd.read_csv(\"/kaggle/input/recommender-system-2024-challenge-polimi/data_target_users_test.csv\")['user_id'].tolist()\n",
    "map_at_10 = calculate_map_at_k(recommender, urm_test, target_user_ids, k=10)\n",
    "\n",
    "print(f\"MAP@10 for Top Popular Recommender: {map_at_10}\")\n"
   ]
  },
  {
   "cell_type": "markdown",
   "metadata": {},
   "source": [
    "# Graph Based Implementation"
   ]
  },
  {
   "cell_type": "markdown",
   "metadata": {},
   "source": [
    "## P3alphaRecommender Import Test"
   ]
  },
  {
   "cell_type": "code",
   "execution_count": 11,
   "metadata": {
    "execution": {
     "iopub.execute_input": "2024-11-20T13:48:32.558024Z",
     "iopub.status.busy": "2024-11-20T13:48:32.557571Z",
     "iopub.status.idle": "2024-11-20T13:48:32.578091Z",
     "shell.execute_reply": "2024-11-20T13:48:32.576997Z",
     "shell.execute_reply.started": "2024-11-20T13:48:32.557987Z"
    },
    "trusted": true
   },
   "outputs": [],
   "source": [
    "from Recommenders.GraphBased.P3alphaRecommender import P3alphaRecommender"
   ]
  },
  {
   "cell_type": "code",
   "execution_count": 19,
   "metadata": {
    "execution": {
     "iopub.execute_input": "2024-11-20T01:36:09.911392Z",
     "iopub.status.busy": "2024-11-20T01:36:09.910961Z",
     "iopub.status.idle": "2024-11-20T01:36:32.049496Z",
     "shell.execute_reply": "2024-11-20T01:36:32.048197Z",
     "shell.execute_reply.started": "2024-11-20T01:36:09.911354Z"
    },
    "trusted": true
   },
   "outputs": [
    {
     "name": "stdout",
     "output_type": "stream",
     "text": [
      "P3alphaRecommender: Similarity column 38121 (100.0%), 2350.31 column/sec. Elapsed time 16.22 sec\n"
     ]
    }
   ],
   "source": [
    "recommender = P3alphaRecommender(URM_train=urm_train)\n",
    "recommender.fit(topK=100, alpha=1.0, min_rating=0, implicit=True, normalize_similarity=True)"
   ]
  },
  {
   "cell_type": "code",
   "execution_count": 17,
   "metadata": {
    "execution": {
     "iopub.execute_input": "2024-11-20T01:36:58.267553Z",
     "iopub.status.busy": "2024-11-20T01:36:58.267154Z",
     "iopub.status.idle": "2024-11-20T01:37:28.980166Z",
     "shell.execute_reply": "2024-11-20T01:37:28.978656Z",
     "shell.execute_reply.started": "2024-11-20T01:36:58.267510Z"
    },
    "trusted": true
   },
   "outputs": [
    {
     "name": "stdout",
     "output_type": "stream",
     "text": [
      "EvaluatorHoldout: Ignoring 175 ( 0.5%) Users that have less than 1 test interactions\n",
      "EvaluatorHoldout: Processed 35561 (100.0%) in 30.66 sec. Users per second: 1160\n",
      "CUTOFF: 10 - PRECISION: 0.0813222, PRECISION_RECALL_MIN_DEN: 0.1241966, RECALL: 0.1073040, MAP: 0.0393514, MAP_MIN_DEN: 0.0589435, MRR: 0.2356996, NDCG: 0.1181363, F1: 0.0925237, HIT_RATE: 0.4893844, ARHR_ALL_HITS: 0.3013392, NOVELTY: 0.0035830, AVERAGE_POPULARITY: 0.1494924, DIVERSITY_MEAN_INTER_LIST: 0.9941785, DIVERSITY_HERFINDAHL: 0.9994151, COVERAGE_ITEM: 0.5019805, COVERAGE_ITEM_HIT: 0.2047953, ITEMS_IN_GT: 0.9957504, COVERAGE_USER: 0.9951030, COVERAGE_USER_HIT: 0.4869879, USERS_IN_GT: 0.9951030, DIVERSITY_GINI: 0.1263450, SHANNON_ENTROPY: 12.3358126, RATIO_DIVERSITY_HERFINDAHL: 0.9994729, RATIO_DIVERSITY_GINI: 0.2082600, RATIO_SHANNON_ENTROPY: 0.8357690, RATIO_AVERAGE_POPULARITY: 2.0453177, RATIO_NOVELTY: 0.2677232, \n",
      "\n"
     ]
    }
   ],
   "source": [
    "# Initialize the evaluator with the test user-item matrix\n",
    "evaluator = EvaluatorHoldout(urm_test, cutoff_list=[10] )\n",
    "\n",
    "# Evaluate the TopPopularRecommender\n",
    "results_df, results_run_string = evaluator.evaluateRecommender(recommender)\n",
    "\n",
    "# Print the evaluation results\n",
    "print(results_run_string)"
   ]
  },
  {
   "cell_type": "code",
   "execution_count": 26,
   "metadata": {
    "execution": {
     "iopub.execute_input": "2024-11-20T13:57:56.236139Z",
     "iopub.status.busy": "2024-11-20T13:57:56.235650Z",
     "iopub.status.idle": "2024-11-20T13:57:56.257490Z",
     "shell.execute_reply": "2024-11-20T13:57:56.256322Z",
     "shell.execute_reply.started": "2024-11-20T13:57:56.236099Z"
    },
    "trusted": true
   },
   "outputs": [
    {
     "name": "stdout",
     "output_type": "stream",
     "text": [
      "EvaluatorHoldout: Ignoring 1909 ( 5.3%) Users that have less than 1 test interactions\n"
     ]
    }
   ],
   "source": [
    "import optuna\n",
    "from Evaluation.Evaluator import EvaluatorHoldout\n",
    "\n",
    "# Define the number of trials\n",
    "n_trials = 30\n",
    "\n",
    "# Define the evaluator for validation\n",
    "evaluator_validation = EvaluatorHoldout(urm_validation, cutoff_list=[10])\n",
    "\n",
    "# Define the objective function as before\n",
    "def objective(trial):\n",
    "    topK = trial.suggest_int(\"topK\", 10, 200)\n",
    "    alpha = trial.suggest_float(\"alpha\", 0.1, 1.5)\n",
    "    min_rating = trial.suggest_int(\"min_rating\", 0, 5)\n",
    "    implicit = trial.suggest_categorical(\"implicit\", [True, False])\n",
    "    normalize_similarity = trial.suggest_categorical(\"normalize_similarity\", [True, False])\n",
    "    \n",
    "    # Initialize and fit the recommender with the suggested hyperparameters\n",
    "    recommender = P3alphaRecommender(URM_train=urm_train)\n",
    "    recommender.fit(topK=topK, alpha=alpha, min_rating=min_rating, implicit=implicit, \n",
    "                    normalize_similarity=normalize_similarity)\n",
    "    \n",
    "    # Use EvaluatorHoldout to calculate MAP@10\n",
    "    results_df, _ = evaluator_validation.evaluateRecommender(recommender)\n",
    "    map_at_10 = results_df.loc[10][\"MAP\"]  # Extract MAP@10 from results\n",
    "    \n",
    "    return map_at_10"
   ]
  },
  {
   "cell_type": "code",
   "execution_count": null,
   "metadata": {
    "execution": {
     "iopub.execute_input": "2024-11-20T13:57:57.776136Z",
     "iopub.status.busy": "2024-11-20T13:57:57.775745Z",
     "iopub.status.idle": "2024-11-20T14:20:03.728036Z",
     "shell.execute_reply": "2024-11-20T14:20:03.726877Z",
     "shell.execute_reply.started": "2024-11-20T13:57:57.776099Z"
    },
    "trusted": true
   },
   "outputs": [],
   "source": [
    "# Create and run the Optuna study without the progress bar callback\n",
    "study = optuna.create_study(direction=\"maximize\")\n",
    "study.optimize(objective, n_trials=n_trials)\n",
    "\n",
    "# Output the best hyperparameters found\n",
    "print(\"Best hyperparameters:\", study.best_params)\n",
    "print(\"Best MAP@10:\", study.best_value)"
   ]
  },
  {
   "cell_type": "code",
   "execution_count": 28,
   "metadata": {
    "execution": {
     "iopub.execute_input": "2024-11-20T14:28:47.742826Z",
     "iopub.status.busy": "2024-11-20T14:28:47.742392Z",
     "iopub.status.idle": "2024-11-20T14:29:04.846580Z",
     "shell.execute_reply": "2024-11-20T14:29:04.845568Z",
     "shell.execute_reply.started": "2024-11-20T14:28:47.742789Z"
    },
    "trusted": true
   },
   "outputs": [
    {
     "name": "stdout",
     "output_type": "stream",
     "text": [
      "P3alphaRecommender: Similarity column 38121 (100.0%), 2432.32 column/sec. Elapsed time 15.67 sec\n"
     ]
    }
   ],
   "source": [
    "from Recommenders.GraphBased.P3alphaRecommender import P3alphaRecommender\n",
    "\n",
    "\n",
    "p3opt = P3alphaRecommender(URM_train=urm_train)\n",
    "p3opt.fit(topK= 28, alpha= 0.10129039554581817, min_rating= 1, implicit= True, normalize_similarity= True)\n"
   ]
  },
  {
   "cell_type": "code",
   "execution_count": 30,
   "metadata": {
    "execution": {
     "iopub.execute_input": "2024-11-20T14:29:54.241122Z",
     "iopub.status.busy": "2024-11-20T14:29:54.240717Z",
     "iopub.status.idle": "2024-11-20T14:30:27.063575Z",
     "shell.execute_reply": "2024-11-20T14:30:27.062286Z",
     "shell.execute_reply.started": "2024-11-20T14:29:54.241090Z"
    },
    "trusted": true
   },
   "outputs": [
    {
     "name": "stdout",
     "output_type": "stream",
     "text": [
      "EvaluatorHoldout: Ignoring 175 ( 0.5%) Users that have less than 1 test interactions\n",
      "EvaluatorHoldout: Processed 35561 (100.0%) in 32.77 sec. Users per second: 1085\n",
      "CUTOFF: 10 - PRECISION: 0.0878519, PRECISION_RECALL_MIN_DEN: 0.1329276, RECALL: 0.1141491, MAP: 0.0437163, MAP_MIN_DEN: 0.0648082, MRR: 0.2515054, NDCG: 0.1275903, F1: 0.0992888, HIT_RATE: 0.5067630, ARHR_ALL_HITS: 0.3277530, NOVELTY: 0.0036988, AVERAGE_POPULARITY: 0.1055988, DIVERSITY_MEAN_INTER_LIST: 0.9976242, DIVERSITY_HERFINDAHL: 0.9997596, COVERAGE_ITEM: 0.5591669, COVERAGE_ITEM_HIT: 0.2519871, ITEMS_IN_GT: 0.9957504, COVERAGE_USER: 0.9951030, COVERAGE_USER_HIT: 0.5042814, USERS_IN_GT: 0.9951030, DIVERSITY_GINI: 0.1942625, SHANNON_ENTROPY: 13.1392412, RATIO_DIVERSITY_HERFINDAHL: 0.9998175, RATIO_DIVERSITY_GINI: 0.3202114, RATIO_SHANNON_ENTROPY: 0.8902024, RATIO_AVERAGE_POPULARITY: 1.4447768, RATIO_NOVELTY: 0.2763754, \n",
      "\n"
     ]
    }
   ],
   "source": [
    "# Initialize the evaluator with the test user-item matrix\n",
    "evaluator = EvaluatorHoldout(urm_test, cutoff_list=[10] )\n",
    "\n",
    "# Evaluate the TopPopularRecommender\n",
    "results_df, results_run_string = evaluator.evaluateRecommender(p3opt)\n",
    "\n",
    "# Print the evaluation results\n",
    "print(results_run_string)"
   ]
  },
  {
   "cell_type": "code",
   "execution_count": 32,
   "metadata": {
    "execution": {
     "iopub.execute_input": "2024-11-20T14:32:34.134552Z",
     "iopub.status.busy": "2024-11-20T14:32:34.134098Z",
     "iopub.status.idle": "2024-11-20T14:33:06.244223Z",
     "shell.execute_reply": "2024-11-20T14:33:06.243060Z",
     "shell.execute_reply.started": "2024-11-20T14:32:34.134516Z"
    },
    "trusted": true
   },
   "outputs": [
    {
     "name": "stdout",
     "output_type": "stream",
     "text": [
      "EvaluatorHoldout: Ignoring 175 ( 0.5%) Users that have less than 1 test interactions\n",
      "EvaluatorHoldout: Processed 35561 (100.0%) in 32.06 sec. Users per second: 1109\n",
      "CUTOFF: 10 - PRECISION: 0.0878519, PRECISION_RECALL_MIN_DEN: 0.1329276, RECALL: 0.1141491, MAP: 0.0437163, MAP_MIN_DEN: 0.0648082, MRR: 0.2515054, NDCG: 0.1275903, F1: 0.0992888, HIT_RATE: 0.5067630, ARHR_ALL_HITS: 0.3277530, NOVELTY: 0.0036988, AVERAGE_POPULARITY: 0.1055988, DIVERSITY_MEAN_INTER_LIST: 0.9976242, DIVERSITY_HERFINDAHL: 0.9997596, COVERAGE_ITEM: 0.5591669, COVERAGE_ITEM_HIT: 0.2519871, ITEMS_IN_GT: 0.9957504, COVERAGE_USER: 0.9951030, COVERAGE_USER_HIT: 0.5042814, USERS_IN_GT: 0.9951030, DIVERSITY_GINI: 0.1942625, SHANNON_ENTROPY: 13.1392412, RATIO_DIVERSITY_HERFINDAHL: 0.9998175, RATIO_DIVERSITY_GINI: 0.3202114, RATIO_SHANNON_ENTROPY: 0.8902024, RATIO_AVERAGE_POPULARITY: 1.4447768, RATIO_NOVELTY: 0.2763754, \n",
      "\n"
     ]
    }
   ],
   "source": [
    "# Initialize the evaluator with the test user-item matrix\n",
    "evaluator = EvaluatorHoldout(urm_test, cutoff_list=[10] )\n",
    "\n",
    "# Evaluate the TopPopularRecommender\n",
    "results_df, results_run_string = evaluator.evaluateRecommender(p3opt)\n",
    "\n",
    "# Print the evaluation results\n",
    "print(results_run_string)\n"
   ]
  },
  {
   "cell_type": "code",
   "execution_count": 12,
   "metadata": {},
   "outputs": [
    {
     "name": "stdout",
     "output_type": "stream",
     "text": [
      "P3alphaRecommender: Similarity column 38121 (100.0%), 2216.98 column/sec. Elapsed time 17.19 sec\n"
     ]
    }
   ],
   "source": [
    "p3opt = P3alphaRecommender(URM_train=urm_all)\n",
    "p3opt.fit(topK= 28, alpha= 0.10129039554581817, min_rating= 1, implicit= True, normalize_similarity= True)\n"
   ]
  },
  {
   "cell_type": "markdown",
   "metadata": {},
   "source": [
    "## RP3 beta"
   ]
  },
  {
   "cell_type": "code",
   "execution_count": 28,
   "metadata": {
    "execution": {
     "iopub.execute_input": "2024-11-22T04:03:17.019708Z",
     "iopub.status.busy": "2024-11-22T04:03:17.019164Z",
     "iopub.status.idle": "2024-11-22T04:03:17.025243Z",
     "shell.execute_reply": "2024-11-22T04:03:17.023872Z",
     "shell.execute_reply.started": "2024-11-22T04:03:17.019664Z"
    },
    "trusted": true
   },
   "outputs": [],
   "source": [
    "from Recommenders.GraphBased.RP3betaRecommenderICM import RP3betaRecommenderICM"
   ]
  },
  {
   "cell_type": "code",
   "execution_count": 29,
   "metadata": {
    "execution": {
     "iopub.execute_input": "2024-11-22T04:03:18.359341Z",
     "iopub.status.busy": "2024-11-22T04:03:18.358826Z",
     "iopub.status.idle": "2024-11-22T04:03:18.647381Z",
     "shell.execute_reply": "2024-11-22T04:03:18.645421Z",
     "shell.execute_reply.started": "2024-11-22T04:03:18.359293Z"
    },
    "trusted": true
   },
   "outputs": [
    {
     "name": "stdout",
     "output_type": "stream",
     "text": [
      "RP3betaRecommenderICM: Normalized URM and ICM\n",
      "RP3betaRecommenderICM: Processed 38121 ( 100.00% ) in 1.59 min. Items per second: 401\n",
      "RP3betaRecommenderICM: Computation completed\n"
     ]
    }
   ],
   "source": [
    "# Initialize with both URM and ICM\n",
    "recommender = RP3betaRecommenderICM(urm_train, icm_matrix)\n",
    "\n",
    "# Fit with desired parameters\n",
    "recommender.fit(\n",
    "    alpha=1.0,    # Power for final normalization\n",
    "    beta=0.6,     # Power for popularity scaling\n",
    "    delta=0.5,    # Weight between URM and ICM paths\n",
    "    topK=100      # Number of similar items to keep\n",
    ")"
   ]
  },
  {
   "cell_type": "code",
   "execution_count": 13,
   "metadata": {
    "execution": {
     "iopub.execute_input": "2024-11-21T16:53:56.890041Z",
     "iopub.status.busy": "2024-11-21T16:53:56.889586Z",
     "iopub.status.idle": "2024-11-21T16:54:33.446857Z",
     "shell.execute_reply": "2024-11-21T16:54:33.445547Z",
     "shell.execute_reply.started": "2024-11-21T16:53:56.890003Z"
    },
    "trusted": true
   },
   "outputs": [
    {
     "name": "stdout",
     "output_type": "stream",
     "text": [
      "EvaluatorHoldout: Ignoring 175 ( 0.5%) Users that have less than 1 test interactions\n",
      "EvaluatorHoldout: Processed 35561 (100.0%) in 20.89 sec. Users per second: 1702\n",
      "CUTOFF: 10 - PRECISION: 0.0730069, PRECISION_RECALL_MIN_DEN: 0.1118715, RECALL: 0.0970264, MAP: 0.0351426, MAP_MIN_DEN: 0.0529834, MRR: 0.2137484, NDCG: 0.1065018, F1: 0.0833202, HIT_RATE: 0.4468378, ARHR_ALL_HITS: 0.2711985, NOVELTY: 0.0039341, AVERAGE_POPULARITY: 0.0720026, DIVERSITY_MEAN_INTER_LIST: 0.9982356, DIVERSITY_HERFINDAHL: 0.9998208, COVERAGE_ITEM: 0.7736681, COVERAGE_ITEM_HIT: 0.2553186, ITEMS_IN_GT: 0.9957504, COVERAGE_USER: 0.9951030, COVERAGE_USER_HIT: 0.4446497, USERS_IN_GT: 0.9951030, DIVERSITY_GINI: 0.2988214, SHANNON_ENTROPY: 13.7400169, RATIO_DIVERSITY_HERFINDAHL: 0.9998786, RATIO_DIVERSITY_GINI: 0.4925605, RATIO_SHANNON_ENTROPY: 0.9309058, RATIO_AVERAGE_POPULARITY: 0.9851215, RATIO_NOVELTY: 0.2939597, \n",
      "\n"
     ]
    }
   ],
   "source": [
    "# Initialize the evaluator with the test user-item matrix\n",
    "evaluator = EvaluatorHoldout(urm_test, cutoff_list=[10] )\n",
    "\n",
    "# Evaluate the TopPopularRecommender\n",
    "results_df, results_run_string = evaluator.evaluateRecommender(recommender)\n",
    "\n",
    "# Print the evaluation results\n",
    "print(results_run_string)"
   ]
  },
  {
   "cell_type": "code",
   "execution_count": 67,
   "metadata": {},
   "outputs": [],
   "source": [
    "import optuna\n",
    "import numpy as np\n",
    "from Evaluation.Evaluator import EvaluatorHoldout\n",
    "import logging\n",
    "import os\n",
    "from datetime import datetime\n",
    "\n",
    "def optimize_rp3beta_icm(urm_train, icm, urm_validation, n_trials=30, output_folder=\"optimization_results\"):\n",
    "    # Setup logging\n",
    "    os.makedirs(output_folder, exist_ok=True)\n",
    "    log_file = os.path.join(output_folder, f'optimization_log_{datetime.now().strftime(\"%Y%m%d_%H%M%S\")}.log')\n",
    "    \n",
    "    logging.basicConfig(\n",
    "        level=logging.INFO,\n",
    "        format='%(asctime)s - %(levelname)s - %(message)s',\n",
    "        handlers=[\n",
    "            logging.FileHandler(log_file),\n",
    "            logging.StreamHandler()\n",
    "        ]\n",
    "    )\n",
    "    \n",
    "    # Define the evaluator for validation\n",
    "    evaluator_validation = EvaluatorHoldout(urm_validation, cutoff_list=[10])\n",
    "    \n",
    "    def objective(trial):\n",
    "        # Define hyperparameter search spaces\n",
    "        params = params = {\n",
    "            \"topK\": trial.suggest_int(\"topK\", 10, 200),\n",
    "            \"alpha\": trial.suggest_float(\"alpha\", 0.1, 1.0),\n",
    "            \"beta\": trial.suggest_float(\"beta\", 0.1, 1.0),    \n",
    "            \"delta\": trial.suggest_float(\"delta\", 0.0, 1.0), \n",
    "            \"min_rating\": trial.suggest_float(\"min_rating\", 0.0, 5.0),  \n",
    "            \"implicit\": trial.suggest_categorical(\"implicit\", [True, False]),\n",
    "            \"normalize_similarity\": trial.suggest_categorical(\"normalize_similarity\", [True, False])\n",
    "        }\n",
    "        \n",
    "        try:\n",
    "            # Initialize and fit the recommender\n",
    "            recommender = RP3betaRecommenderICM(URM_train=urm_train, ICM=icm)\n",
    "            recommender.fit(**params)\n",
    "            \n",
    "            # Calculate MAP@10\n",
    "            results_df, _ = evaluator_validation.evaluateRecommender(recommender)\n",
    "            map_at_10 = results_df.loc[10][\"MAP\"]\n",
    "            \n",
    "            # Log the trial results\n",
    "            logging.info(f\"Trial {trial.number}:\")\n",
    "            logging.info(f\"Params: {params}\")\n",
    "            logging.info(f\"MAP@10: {map_at_10}\")\n",
    "            \n",
    "            return map_at_10\n",
    "            \n",
    "        except Exception as e:\n",
    "            logging.error(f\"Error in trial {trial.number}: {str(e)}\")\n",
    "            raise optuna.exceptions.TrialPruned()\n",
    "    \n",
    "    # Create and run the study\n",
    "    study = optuna.create_study(direction=\"maximize\")\n",
    "    \n",
    "    # Add logging callback\n",
    "    def logging_callback(study, trial):\n",
    "        if study.best_trial == trial:\n",
    "            logging.info(f\"New best trial (#{trial.number}) - MAP@10: {trial.value}\")\n",
    "            logging.info(f\"Best hyperparameters: {trial.params}\")\n",
    "    \n",
    "    try:\n",
    "        study.optimize(objective, n_trials=n_trials, callbacks=[logging_callback])\n",
    "        \n",
    "        # Save the results\n",
    "        results = {\n",
    "            \"best_params\": study.best_params,\n",
    "            \"best_map\": study.best_value,\n",
    "            \"n_trials\": n_trials,\n",
    "            \"optimization_history\": [\n",
    "                {\n",
    "                    \"trial\": t.number,\n",
    "                    \"value\": t.value,\n",
    "                    \"params\": t.params\n",
    "                }\n",
    "                for t in study.trials if t.value is not None\n",
    "            ]\n",
    "        }\n",
    "        \n",
    "        # Log final results\n",
    "        logging.info(\"\\nOptimization completed!\")\n",
    "        logging.info(f\"Best MAP@10: {study.best_value}\")\n",
    "        logging.info(f\"Best hyperparameters: {study.best_params}\")\n",
    "        \n",
    "        # Create visualization plots\n",
    "        try:\n",
    "            from optuna.visualization import plot_optimization_history, plot_param_importances\n",
    "            import matplotlib.pyplot as plt\n",
    "            \n",
    "            # Plot optimization history\n",
    "            fig1 = plot_optimization_history(study)\n",
    "            fig1.write_image(os.path.join(output_folder, \"optimization_history.png\"))\n",
    "            \n",
    "            # Plot parameter importances\n",
    "            fig2 = plot_param_importances(study)\n",
    "            fig2.write_image(os.path.join(output_folder, \"param_importances.png\"))\n",
    "            \n",
    "        except ImportError:\n",
    "            logging.warning(\"Plotly not installed. Skipping visualization generation.\")\n",
    "        \n",
    "        return results\n",
    "        \n",
    "    except Exception as e:\n",
    "        logging.error(f\"Optimization failed: {str(e)}\")\n",
    "        raise"
   ]
  },
  {
   "cell_type": "code",
   "execution_count": 68,
   "metadata": {},
   "outputs": [
    {
     "name": "stderr",
     "output_type": "stream",
     "text": [
      "[I 2024-11-26 00:57:27,023] A new study created in memory with name: no-name-77b22015-edb4-4090-86e1-8bb513d34012\n",
      "2024-11-26 00:57:27,027 - INFO - Starting optimization process...\n",
      "2024-11-26 00:57:27,039 - INFO - \n",
      "Starting Trial 0\n",
      "2024-11-26 00:57:27,042 - INFO - Parameters: {'alpha': 0.04216944928979198, 'l1_ratio': 0.874776361499749, 'topK': 218, 'workers': 4, 'positive_only': True, 'verbose': False}\n",
      "2024-11-26 00:57:27,044 - INFO - Initializing recommender...\n",
      "2024-11-26 00:57:27,045 - ERROR - Error in trial 0:\n",
      "2024-11-26 00:57:27,053 - ERROR - Traceback (most recent call last):\n",
      "  File \"/var/folders/t_/9cbyldyd2bv5q2656cp65pbr0000gn/T/ipykernel_39320/27809788.py\", line 44, in objective\n",
      "    recommender = MultiThreadSLIM_SLIMElasticNetRecommender(URM_train=urm_train)\n",
      "NameError: name 'MultiThreadSLIM_SLIMElasticNetRecommender' is not defined\n",
      "\n",
      "[I 2024-11-26 00:57:27,056] Trial 0 finished with value: -inf and parameters: {'alpha': 0.04216944928979198, 'l1_ratio': 0.874776361499749, 'topK': 218}. Best is trial 0 with value: -inf.\n",
      "2024-11-26 00:57:27,057 - INFO - \n",
      "New best trial (#0) - NDCG@10: -inf\n",
      "2024-11-26 00:57:27,059 - INFO - Best hyperparameters: {'alpha': 0.04216944928979198, 'l1_ratio': 0.874776361499749, 'topK': 218}\n",
      "2024-11-26 00:57:27,060 - INFO - \n",
      "Starting Trial 1\n",
      "2024-11-26 00:57:27,060 - INFO - Parameters: {'alpha': 0.0005537996817478246, 'l1_ratio': 0.04765289836773945, 'topK': 997, 'workers': 4, 'positive_only': True, 'verbose': False}\n",
      "2024-11-26 00:57:27,061 - INFO - Initializing recommender...\n",
      "2024-11-26 00:57:27,062 - ERROR - Error in trial 1:\n",
      "2024-11-26 00:57:27,062 - ERROR - Traceback (most recent call last):\n",
      "  File \"/var/folders/t_/9cbyldyd2bv5q2656cp65pbr0000gn/T/ipykernel_39320/27809788.py\", line 44, in objective\n",
      "    recommender = MultiThreadSLIM_SLIMElasticNetRecommender(URM_train=urm_train)\n",
      "NameError: name 'MultiThreadSLIM_SLIMElasticNetRecommender' is not defined\n",
      "\n",
      "[I 2024-11-26 00:57:27,063] Trial 1 finished with value: -inf and parameters: {'alpha': 0.0005537996817478246, 'l1_ratio': 0.04765289836773945, 'topK': 997}. Best is trial 0 with value: -inf.\n",
      "2024-11-26 00:57:27,064 - INFO - \n",
      "Starting Trial 2\n",
      "2024-11-26 00:57:27,064 - INFO - Parameters: {'alpha': 0.09658884221070613, 'l1_ratio': 0.7551741711588554, 'topK': 178, 'workers': 4, 'positive_only': True, 'verbose': False}\n",
      "2024-11-26 00:57:27,065 - INFO - Initializing recommender...\n",
      "2024-11-26 00:57:27,065 - ERROR - Error in trial 2:\n",
      "2024-11-26 00:57:27,066 - ERROR - Traceback (most recent call last):\n",
      "  File \"/var/folders/t_/9cbyldyd2bv5q2656cp65pbr0000gn/T/ipykernel_39320/27809788.py\", line 44, in objective\n",
      "    recommender = MultiThreadSLIM_SLIMElasticNetRecommender(URM_train=urm_train)\n",
      "NameError: name 'MultiThreadSLIM_SLIMElasticNetRecommender' is not defined\n",
      "\n",
      "[I 2024-11-26 00:57:27,067] Trial 2 finished with value: -inf and parameters: {'alpha': 0.09658884221070613, 'l1_ratio': 0.7551741711588554, 'topK': 178}. Best is trial 0 with value: -inf.\n",
      "2024-11-26 00:57:27,068 - INFO - \n",
      "Starting Trial 3\n",
      "2024-11-26 00:57:27,068 - INFO - Parameters: {'alpha': 0.029985852519114443, 'l1_ratio': 0.5226750207627674, 'topK': 760, 'workers': 4, 'positive_only': True, 'verbose': False}\n",
      "2024-11-26 00:57:27,069 - INFO - Initializing recommender...\n",
      "2024-11-26 00:57:27,069 - ERROR - Error in trial 3:\n",
      "2024-11-26 00:57:27,070 - ERROR - Traceback (most recent call last):\n",
      "  File \"/var/folders/t_/9cbyldyd2bv5q2656cp65pbr0000gn/T/ipykernel_39320/27809788.py\", line 44, in objective\n",
      "    recommender = MultiThreadSLIM_SLIMElasticNetRecommender(URM_train=urm_train)\n",
      "NameError: name 'MultiThreadSLIM_SLIMElasticNetRecommender' is not defined\n",
      "\n",
      "[I 2024-11-26 00:57:27,070] Trial 3 finished with value: -inf and parameters: {'alpha': 0.029985852519114443, 'l1_ratio': 0.5226750207627674, 'topK': 760}. Best is trial 0 with value: -inf.\n",
      "2024-11-26 00:57:27,071 - INFO - \n",
      "Starting Trial 4\n",
      "2024-11-26 00:57:27,072 - INFO - Parameters: {'alpha': 0.0021893998778871908, 'l1_ratio': 0.9773080227842456, 'topK': 657, 'workers': 4, 'positive_only': True, 'verbose': False}\n",
      "2024-11-26 00:57:27,072 - INFO - Initializing recommender...\n",
      "2024-11-26 00:57:27,073 - ERROR - Error in trial 4:\n",
      "2024-11-26 00:57:27,073 - ERROR - Traceback (most recent call last):\n",
      "  File \"/var/folders/t_/9cbyldyd2bv5q2656cp65pbr0000gn/T/ipykernel_39320/27809788.py\", line 44, in objective\n",
      "    recommender = MultiThreadSLIM_SLIMElasticNetRecommender(URM_train=urm_train)\n",
      "NameError: name 'MultiThreadSLIM_SLIMElasticNetRecommender' is not defined\n",
      "\n",
      "[I 2024-11-26 00:57:27,074] Trial 4 finished with value: -inf and parameters: {'alpha': 0.0021893998778871908, 'l1_ratio': 0.9773080227842456, 'topK': 657}. Best is trial 0 with value: -inf.\n",
      "2024-11-26 00:57:27,075 - INFO - \n",
      "Starting Trial 5\n",
      "2024-11-26 00:57:27,075 - INFO - Parameters: {'alpha': 0.0006004094673389258, 'l1_ratio': 0.5743999920055989, 'topK': 577, 'workers': 4, 'positive_only': True, 'verbose': False}\n",
      "2024-11-26 00:57:27,076 - INFO - Initializing recommender...\n",
      "2024-11-26 00:57:27,076 - ERROR - Error in trial 5:\n",
      "2024-11-26 00:57:27,077 - ERROR - Traceback (most recent call last):\n",
      "  File \"/var/folders/t_/9cbyldyd2bv5q2656cp65pbr0000gn/T/ipykernel_39320/27809788.py\", line 44, in objective\n",
      "    recommender = MultiThreadSLIM_SLIMElasticNetRecommender(URM_train=urm_train)\n",
      "NameError: name 'MultiThreadSLIM_SLIMElasticNetRecommender' is not defined\n",
      "\n",
      "[I 2024-11-26 00:57:27,077] Trial 5 finished with value: -inf and parameters: {'alpha': 0.0006004094673389258, 'l1_ratio': 0.5743999920055989, 'topK': 577}. Best is trial 0 with value: -inf.\n",
      "2024-11-26 00:57:27,078 - INFO - \n",
      "Starting Trial 6\n",
      "2024-11-26 00:57:27,079 - INFO - Parameters: {'alpha': 0.0014136250642093628, 'l1_ratio': 0.8772965961558317, 'topK': 239, 'workers': 4, 'positive_only': True, 'verbose': False}\n",
      "2024-11-26 00:57:27,080 - INFO - Initializing recommender...\n",
      "2024-11-26 00:57:27,080 - ERROR - Error in trial 6:\n",
      "2024-11-26 00:57:27,081 - ERROR - Traceback (most recent call last):\n",
      "  File \"/var/folders/t_/9cbyldyd2bv5q2656cp65pbr0000gn/T/ipykernel_39320/27809788.py\", line 44, in objective\n",
      "    recommender = MultiThreadSLIM_SLIMElasticNetRecommender(URM_train=urm_train)\n",
      "NameError: name 'MultiThreadSLIM_SLIMElasticNetRecommender' is not defined\n",
      "\n",
      "[I 2024-11-26 00:57:27,088] Trial 6 finished with value: -inf and parameters: {'alpha': 0.0014136250642093628, 'l1_ratio': 0.8772965961558317, 'topK': 239}. Best is trial 0 with value: -inf.\n",
      "2024-11-26 00:57:27,091 - INFO - \n",
      "Starting Trial 7\n",
      "2024-11-26 00:57:27,093 - INFO - Parameters: {'alpha': 0.00011200858960028781, 'l1_ratio': 0.015381947985887323, 'topK': 764, 'workers': 4, 'positive_only': True, 'verbose': False}\n",
      "2024-11-26 00:57:27,097 - INFO - Initializing recommender...\n",
      "2024-11-26 00:57:27,101 - ERROR - Error in trial 7:\n",
      "2024-11-26 00:57:27,102 - ERROR - Traceback (most recent call last):\n",
      "  File \"/var/folders/t_/9cbyldyd2bv5q2656cp65pbr0000gn/T/ipykernel_39320/27809788.py\", line 44, in objective\n",
      "    recommender = MultiThreadSLIM_SLIMElasticNetRecommender(URM_train=urm_train)\n",
      "NameError: name 'MultiThreadSLIM_SLIMElasticNetRecommender' is not defined\n",
      "\n",
      "[I 2024-11-26 00:57:27,104] Trial 7 finished with value: -inf and parameters: {'alpha': 0.00011200858960028781, 'l1_ratio': 0.015381947985887323, 'topK': 764}. Best is trial 0 with value: -inf.\n",
      "2024-11-26 00:57:27,105 - INFO - \n",
      "Starting Trial 8\n",
      "2024-11-26 00:57:27,105 - INFO - Parameters: {'alpha': 0.01467967791192806, 'l1_ratio': 0.9225258463491328, 'topK': 333, 'workers': 4, 'positive_only': True, 'verbose': False}\n",
      "2024-11-26 00:57:27,106 - INFO - Initializing recommender...\n",
      "2024-11-26 00:57:27,107 - ERROR - Error in trial 8:\n",
      "2024-11-26 00:57:27,108 - ERROR - Traceback (most recent call last):\n",
      "  File \"/var/folders/t_/9cbyldyd2bv5q2656cp65pbr0000gn/T/ipykernel_39320/27809788.py\", line 44, in objective\n",
      "    recommender = MultiThreadSLIM_SLIMElasticNetRecommender(URM_train=urm_train)\n",
      "NameError: name 'MultiThreadSLIM_SLIMElasticNetRecommender' is not defined\n",
      "\n",
      "[I 2024-11-26 00:57:27,109] Trial 8 finished with value: -inf and parameters: {'alpha': 0.01467967791192806, 'l1_ratio': 0.9225258463491328, 'topK': 333}. Best is trial 0 with value: -inf.\n",
      "2024-11-26 00:57:27,112 - INFO - \n",
      "Starting Trial 9\n",
      "2024-11-26 00:57:27,114 - INFO - Parameters: {'alpha': 0.00021099516454034157, 'l1_ratio': 0.760983054527132, 'topK': 326, 'workers': 4, 'positive_only': True, 'verbose': False}\n",
      "2024-11-26 00:57:27,114 - INFO - Initializing recommender...\n",
      "2024-11-26 00:57:27,114 - ERROR - Error in trial 9:\n",
      "2024-11-26 00:57:27,115 - ERROR - Traceback (most recent call last):\n",
      "  File \"/var/folders/t_/9cbyldyd2bv5q2656cp65pbr0000gn/T/ipykernel_39320/27809788.py\", line 44, in objective\n",
      "    recommender = MultiThreadSLIM_SLIMElasticNetRecommender(URM_train=urm_train)\n",
      "NameError: name 'MultiThreadSLIM_SLIMElasticNetRecommender' is not defined\n",
      "\n",
      "[I 2024-11-26 00:57:27,116] Trial 9 finished with value: -inf and parameters: {'alpha': 0.00021099516454034157, 'l1_ratio': 0.760983054527132, 'topK': 326}. Best is trial 0 with value: -inf.\n",
      "2024-11-26 00:57:27,139 - INFO - \n",
      "Starting Trial 10\n",
      "2024-11-26 00:57:27,140 - INFO - Parameters: {'alpha': 0.5336849027351223, 'l1_ratio': 0.194623514276968, 'topK': 112, 'workers': 4, 'positive_only': True, 'verbose': False}\n",
      "2024-11-26 00:57:27,140 - INFO - Initializing recommender...\n",
      "2024-11-26 00:57:27,141 - ERROR - Error in trial 10:\n",
      "2024-11-26 00:57:27,141 - ERROR - Traceback (most recent call last):\n",
      "  File \"/var/folders/t_/9cbyldyd2bv5q2656cp65pbr0000gn/T/ipykernel_39320/27809788.py\", line 44, in objective\n",
      "    recommender = MultiThreadSLIM_SLIMElasticNetRecommender(URM_train=urm_train)\n",
      "NameError: name 'MultiThreadSLIM_SLIMElasticNetRecommender' is not defined\n",
      "\n",
      "[I 2024-11-26 00:57:27,142] Trial 10 finished with value: -inf and parameters: {'alpha': 0.5336849027351223, 'l1_ratio': 0.194623514276968, 'topK': 112}. Best is trial 0 with value: -inf.\n",
      "2024-11-26 00:57:27,153 - INFO - \n",
      "Starting Trial 11\n",
      "2024-11-26 00:57:27,153 - INFO - Parameters: {'alpha': 0.004908857527774545, 'l1_ratio': 0.32555506244930305, 'topK': 991, 'workers': 4, 'positive_only': True, 'verbose': False}\n",
      "2024-11-26 00:57:27,154 - INFO - Initializing recommender...\n",
      "2024-11-26 00:57:27,155 - ERROR - Error in trial 11:\n",
      "2024-11-26 00:57:27,156 - ERROR - Traceback (most recent call last):\n",
      "  File \"/var/folders/t_/9cbyldyd2bv5q2656cp65pbr0000gn/T/ipykernel_39320/27809788.py\", line 44, in objective\n",
      "    recommender = MultiThreadSLIM_SLIMElasticNetRecommender(URM_train=urm_train)\n",
      "NameError: name 'MultiThreadSLIM_SLIMElasticNetRecommender' is not defined\n",
      "\n",
      "[I 2024-11-26 00:57:27,156] Trial 11 finished with value: -inf and parameters: {'alpha': 0.004908857527774545, 'l1_ratio': 0.32555506244930305, 'topK': 991}. Best is trial 0 with value: -inf.\n",
      "2024-11-26 00:57:27,250 - INFO - \n",
      "Starting Trial 12\n"
     ]
    },
    {
     "name": "stdout",
     "output_type": "stream",
     "text": [
      "EvaluatorHoldout: Ignoring 1909 ( 5.3%) Users that have less than 1 test interactions\n"
     ]
    },
    {
     "name": "stderr",
     "output_type": "stream",
     "text": [
      "2024-11-26 00:57:27,250 - INFO - Parameters: {'alpha': 0.1064262463259804, 'l1_ratio': 0.355799248807974, 'topK': 445, 'workers': 4, 'positive_only': True, 'verbose': False}\n",
      "2024-11-26 00:57:27,251 - INFO - Initializing recommender...\n",
      "2024-11-26 00:57:27,252 - ERROR - Error in trial 12:\n",
      "2024-11-26 00:57:27,252 - ERROR - Traceback (most recent call last):\n",
      "  File \"/var/folders/t_/9cbyldyd2bv5q2656cp65pbr0000gn/T/ipykernel_39320/27809788.py\", line 44, in objective\n",
      "    recommender = MultiThreadSLIM_SLIMElasticNetRecommender(URM_train=urm_train)\n",
      "NameError: name 'MultiThreadSLIM_SLIMElasticNetRecommender' is not defined\n",
      "\n",
      "[I 2024-11-26 00:57:27,253] Trial 12 finished with value: -inf and parameters: {'alpha': 0.1064262463259804, 'l1_ratio': 0.355799248807974, 'topK': 445}. Best is trial 0 with value: -inf.\n",
      "2024-11-26 00:57:27,264 - INFO - \n",
      "Starting Trial 13\n",
      "2024-11-26 00:57:27,265 - INFO - Parameters: {'alpha': 0.06254413600484016, 'l1_ratio': 0.08198631431816564, 'topK': 936, 'workers': 4, 'positive_only': True, 'verbose': False}\n",
      "2024-11-26 00:57:27,266 - INFO - Initializing recommender...\n",
      "2024-11-26 00:57:27,267 - ERROR - Error in trial 13:\n",
      "2024-11-26 00:57:27,267 - ERROR - Traceback (most recent call last):\n",
      "  File \"/var/folders/t_/9cbyldyd2bv5q2656cp65pbr0000gn/T/ipykernel_39320/27809788.py\", line 44, in objective\n",
      "    recommender = MultiThreadSLIM_SLIMElasticNetRecommender(URM_train=urm_train)\n",
      "NameError: name 'MultiThreadSLIM_SLIMElasticNetRecommender' is not defined\n",
      "\n",
      "[I 2024-11-26 00:57:27,268] Trial 13 finished with value: -inf and parameters: {'alpha': 0.06254413600484016, 'l1_ratio': 0.08198631431816564, 'topK': 936}. Best is trial 0 with value: -inf.\n",
      "2024-11-26 00:57:27,283 - INFO - \n",
      "Starting Trial 14\n",
      "2024-11-26 00:57:27,283 - INFO - Parameters: {'alpha': 0.7171971177562652, 'l1_ratio': 0.617834186252061, 'topK': 451, 'workers': 4, 'positive_only': True, 'verbose': False}\n",
      "2024-11-26 00:57:27,284 - INFO - Initializing recommender...\n",
      "2024-11-26 00:57:27,284 - ERROR - Error in trial 14:\n",
      "2024-11-26 00:57:27,285 - ERROR - Traceback (most recent call last):\n",
      "  File \"/var/folders/t_/9cbyldyd2bv5q2656cp65pbr0000gn/T/ipykernel_39320/27809788.py\", line 44, in objective\n",
      "    recommender = MultiThreadSLIM_SLIMElasticNetRecommender(URM_train=urm_train)\n",
      "NameError: name 'MultiThreadSLIM_SLIMElasticNetRecommender' is not defined\n",
      "\n",
      "[I 2024-11-26 00:57:27,286] Trial 14 finished with value: -inf and parameters: {'alpha': 0.7171971177562652, 'l1_ratio': 0.617834186252061, 'topK': 451}. Best is trial 0 with value: -inf.\n",
      "2024-11-26 00:57:27,298 - INFO - \n",
      "Starting Trial 15\n",
      "2024-11-26 00:57:27,299 - INFO - Parameters: {'alpha': 0.009621566624981436, 'l1_ratio': 0.3265907516036741, 'topK': 819, 'workers': 4, 'positive_only': True, 'verbose': False}\n",
      "2024-11-26 00:57:27,300 - INFO - Initializing recommender...\n",
      "2024-11-26 00:57:27,300 - ERROR - Error in trial 15:\n",
      "2024-11-26 00:57:27,301 - ERROR - Traceback (most recent call last):\n",
      "  File \"/var/folders/t_/9cbyldyd2bv5q2656cp65pbr0000gn/T/ipykernel_39320/27809788.py\", line 44, in objective\n",
      "    recommender = MultiThreadSLIM_SLIMElasticNetRecommender(URM_train=urm_train)\n",
      "NameError: name 'MultiThreadSLIM_SLIMElasticNetRecommender' is not defined\n",
      "\n",
      "[I 2024-11-26 00:57:27,302] Trial 15 finished with value: -inf and parameters: {'alpha': 0.009621566624981436, 'l1_ratio': 0.3265907516036741, 'topK': 819}. Best is trial 0 with value: -inf.\n",
      "2024-11-26 00:57:27,315 - INFO - \n",
      "Starting Trial 16\n",
      "2024-11-26 00:57:27,316 - INFO - Parameters: {'alpha': 0.0006128072255505237, 'l1_ratio': 0.7409045325931085, 'topK': 58, 'workers': 4, 'positive_only': True, 'verbose': False}\n",
      "2024-11-26 00:57:27,316 - INFO - Initializing recommender...\n",
      "2024-11-26 00:57:27,317 - ERROR - Error in trial 16:\n",
      "2024-11-26 00:57:27,318 - ERROR - Traceback (most recent call last):\n",
      "  File \"/var/folders/t_/9cbyldyd2bv5q2656cp65pbr0000gn/T/ipykernel_39320/27809788.py\", line 44, in objective\n",
      "    recommender = MultiThreadSLIM_SLIMElasticNetRecommender(URM_train=urm_train)\n",
      "NameError: name 'MultiThreadSLIM_SLIMElasticNetRecommender' is not defined\n",
      "\n",
      "[I 2024-11-26 00:57:27,320] Trial 16 finished with value: -inf and parameters: {'alpha': 0.0006128072255505237, 'l1_ratio': 0.7409045325931085, 'topK': 58}. Best is trial 0 with value: -inf.\n",
      "2024-11-26 00:57:27,343 - INFO - \n",
      "Starting Trial 17\n",
      "2024-11-26 00:57:27,344 - INFO - Parameters: {'alpha': 0.265454348699661, 'l1_ratio': 0.4283766711184023, 'topK': 603, 'workers': 4, 'positive_only': True, 'verbose': False}\n",
      "2024-11-26 00:57:27,345 - INFO - Initializing recommender...\n",
      "2024-11-26 00:57:27,346 - ERROR - Error in trial 17:\n",
      "2024-11-26 00:57:27,347 - ERROR - Traceback (most recent call last):\n",
      "  File \"/var/folders/t_/9cbyldyd2bv5q2656cp65pbr0000gn/T/ipykernel_39320/27809788.py\", line 44, in objective\n",
      "    recommender = MultiThreadSLIM_SLIMElasticNetRecommender(URM_train=urm_train)\n",
      "NameError: name 'MultiThreadSLIM_SLIMElasticNetRecommender' is not defined\n",
      "\n",
      "[I 2024-11-26 00:57:27,348] Trial 17 finished with value: -inf and parameters: {'alpha': 0.265454348699661, 'l1_ratio': 0.4283766711184023, 'topK': 603}. Best is trial 0 with value: -inf.\n",
      "2024-11-26 00:57:27,365 - INFO - \n",
      "Starting Trial 18\n",
      "2024-11-26 00:57:27,365 - INFO - Parameters: {'alpha': 0.00591858260944921, 'l1_ratio': 0.20777808488606983, 'topK': 458, 'workers': 4, 'positive_only': True, 'verbose': False}\n",
      "2024-11-26 00:57:27,366 - INFO - Initializing recommender...\n",
      "2024-11-26 00:57:27,367 - ERROR - Error in trial 18:\n",
      "2024-11-26 00:57:27,367 - ERROR - Traceback (most recent call last):\n",
      "  File \"/var/folders/t_/9cbyldyd2bv5q2656cp65pbr0000gn/T/ipykernel_39320/27809788.py\", line 44, in objective\n",
      "    recommender = MultiThreadSLIM_SLIMElasticNetRecommender(URM_train=urm_train)\n",
      "NameError: name 'MultiThreadSLIM_SLIMElasticNetRecommender' is not defined\n",
      "\n",
      "[I 2024-11-26 00:57:27,369] Trial 18 finished with value: -inf and parameters: {'alpha': 0.00591858260944921, 'l1_ratio': 0.20777808488606983, 'topK': 458}. Best is trial 0 with value: -inf.\n",
      "2024-11-26 00:57:27,387 - INFO - \n",
      "Starting Trial 19\n",
      "2024-11-26 00:57:27,389 - INFO - Parameters: {'alpha': 0.026691279293900225, 'l1_ratio': 0.6409238331549343, 'topK': 297, 'workers': 4, 'positive_only': True, 'verbose': False}\n",
      "2024-11-26 00:57:27,390 - INFO - Initializing recommender...\n",
      "2024-11-26 00:57:27,393 - ERROR - Error in trial 19:\n",
      "2024-11-26 00:57:27,394 - ERROR - Traceback (most recent call last):\n",
      "  File \"/var/folders/t_/9cbyldyd2bv5q2656cp65pbr0000gn/T/ipykernel_39320/27809788.py\", line 44, in objective\n",
      "    recommender = MultiThreadSLIM_SLIMElasticNetRecommender(URM_train=urm_train)\n",
      "NameError: name 'MultiThreadSLIM_SLIMElasticNetRecommender' is not defined\n",
      "\n",
      "[I 2024-11-26 00:57:27,396] Trial 19 finished with value: -inf and parameters: {'alpha': 0.026691279293900225, 'l1_ratio': 0.6409238331549343, 'topK': 297}. Best is trial 0 with value: -inf.\n",
      "2024-11-26 00:57:27,415 - INFO - \n",
      "Starting Trial 20\n",
      "2024-11-26 00:57:27,416 - INFO - Parameters: {'alpha': 0.002543411187346666, 'l1_ratio': 0.17627172050458373, 'topK': 192, 'workers': 4, 'positive_only': True, 'verbose': False}\n",
      "2024-11-26 00:57:27,418 - INFO - Initializing recommender...\n",
      "2024-11-26 00:57:27,419 - ERROR - Error in trial 20:\n",
      "2024-11-26 00:57:27,420 - ERROR - Traceback (most recent call last):\n",
      "  File \"/var/folders/t_/9cbyldyd2bv5q2656cp65pbr0000gn/T/ipykernel_39320/27809788.py\", line 44, in objective\n",
      "    recommender = MultiThreadSLIM_SLIMElasticNetRecommender(URM_train=urm_train)\n",
      "NameError: name 'MultiThreadSLIM_SLIMElasticNetRecommender' is not defined\n",
      "\n",
      "[I 2024-11-26 00:57:27,422] Trial 20 finished with value: -inf and parameters: {'alpha': 0.002543411187346666, 'l1_ratio': 0.17627172050458373, 'topK': 192}. Best is trial 0 with value: -inf.\n",
      "2024-11-26 00:57:27,464 - INFO - \n",
      "Starting Trial 21\n",
      "2024-11-26 00:57:27,465 - INFO - Parameters: {'alpha': 0.1111273744291676, 'l1_ratio': 0.7931562131004266, 'topK': 162, 'workers': 4, 'positive_only': True, 'verbose': False}\n",
      "2024-11-26 00:57:27,466 - INFO - Initializing recommender...\n",
      "2024-11-26 00:57:27,468 - ERROR - Error in trial 21:\n",
      "2024-11-26 00:57:27,470 - ERROR - Traceback (most recent call last):\n",
      "  File \"/var/folders/t_/9cbyldyd2bv5q2656cp65pbr0000gn/T/ipykernel_39320/27809788.py\", line 44, in objective\n",
      "    recommender = MultiThreadSLIM_SLIMElasticNetRecommender(URM_train=urm_train)\n",
      "NameError: name 'MultiThreadSLIM_SLIMElasticNetRecommender' is not defined\n",
      "\n",
      "[I 2024-11-26 00:57:27,471] Trial 21 finished with value: -inf and parameters: {'alpha': 0.1111273744291676, 'l1_ratio': 0.7931562131004266, 'topK': 162}. Best is trial 0 with value: -inf.\n",
      "2024-11-26 00:57:27,494 - INFO - \n",
      "Starting Trial 22\n",
      "2024-11-26 00:57:27,495 - INFO - Parameters: {'alpha': 0.22020867261945676, 'l1_ratio': 0.8484350211919555, 'topK': 372, 'workers': 4, 'positive_only': True, 'verbose': False}\n",
      "2024-11-26 00:57:27,497 - INFO - Initializing recommender...\n",
      "2024-11-26 00:57:27,498 - ERROR - Error in trial 22:\n",
      "2024-11-26 00:57:27,499 - ERROR - Traceback (most recent call last):\n",
      "  File \"/var/folders/t_/9cbyldyd2bv5q2656cp65pbr0000gn/T/ipykernel_39320/27809788.py\", line 44, in objective\n",
      "    recommender = MultiThreadSLIM_SLIMElasticNetRecommender(URM_train=urm_train)\n",
      "NameError: name 'MultiThreadSLIM_SLIMElasticNetRecommender' is not defined\n",
      "\n",
      "[I 2024-11-26 00:57:27,500] Trial 22 finished with value: -inf and parameters: {'alpha': 0.22020867261945676, 'l1_ratio': 0.8484350211919555, 'topK': 372}. Best is trial 0 with value: -inf.\n",
      "2024-11-26 00:57:27,532 - INFO - \n",
      "Starting Trial 23\n",
      "2024-11-26 00:57:27,533 - INFO - Parameters: {'alpha': 0.036375003439938366, 'l1_ratio': 0.6908800461990579, 'topK': 207, 'workers': 4, 'positive_only': True, 'verbose': False}\n",
      "2024-11-26 00:57:27,534 - INFO - Initializing recommender...\n",
      "2024-11-26 00:57:27,536 - ERROR - Error in trial 23:\n",
      "2024-11-26 00:57:27,538 - ERROR - Traceback (most recent call last):\n",
      "  File \"/var/folders/t_/9cbyldyd2bv5q2656cp65pbr0000gn/T/ipykernel_39320/27809788.py\", line 44, in objective\n",
      "    recommender = MultiThreadSLIM_SLIMElasticNetRecommender(URM_train=urm_train)\n",
      "NameError: name 'MultiThreadSLIM_SLIMElasticNetRecommender' is not defined\n",
      "\n",
      "[I 2024-11-26 00:57:27,541] Trial 23 finished with value: -inf and parameters: {'alpha': 0.036375003439938366, 'l1_ratio': 0.6908800461990579, 'topK': 207}. Best is trial 0 with value: -inf.\n",
      "2024-11-26 00:57:27,571 - INFO - \n",
      "Starting Trial 24\n",
      "2024-11-26 00:57:27,572 - INFO - Parameters: {'alpha': 0.06467722608462673, 'l1_ratio': 0.9493152955727187, 'topK': 54, 'workers': 4, 'positive_only': True, 'verbose': False}\n",
      "2024-11-26 00:57:27,573 - INFO - Initializing recommender...\n",
      "2024-11-26 00:57:27,574 - ERROR - Error in trial 24:\n",
      "2024-11-26 00:57:27,575 - ERROR - Traceback (most recent call last):\n",
      "  File \"/var/folders/t_/9cbyldyd2bv5q2656cp65pbr0000gn/T/ipykernel_39320/27809788.py\", line 44, in objective\n",
      "    recommender = MultiThreadSLIM_SLIMElasticNetRecommender(URM_train=urm_train)\n",
      "NameError: name 'MultiThreadSLIM_SLIMElasticNetRecommender' is not defined\n",
      "\n",
      "[I 2024-11-26 00:57:27,577] Trial 24 finished with value: -inf and parameters: {'alpha': 0.06467722608462673, 'l1_ratio': 0.9493152955727187, 'topK': 54}. Best is trial 0 with value: -inf.\n",
      "2024-11-26 00:57:27,607 - INFO - \n",
      "Starting Trial 25\n",
      "2024-11-26 00:57:27,609 - INFO - Parameters: {'alpha': 0.015295648969054198, 'l1_ratio': 0.8218484616316981, 'topK': 864, 'workers': 4, 'positive_only': True, 'verbose': False}\n",
      "2024-11-26 00:57:27,610 - INFO - Initializing recommender...\n",
      "2024-11-26 00:57:27,612 - ERROR - Error in trial 25:\n",
      "2024-11-26 00:57:27,613 - ERROR - Traceback (most recent call last):\n",
      "  File \"/var/folders/t_/9cbyldyd2bv5q2656cp65pbr0000gn/T/ipykernel_39320/27809788.py\", line 44, in objective\n",
      "    recommender = MultiThreadSLIM_SLIMElasticNetRecommender(URM_train=urm_train)\n",
      "NameError: name 'MultiThreadSLIM_SLIMElasticNetRecommender' is not defined\n",
      "\n",
      "[I 2024-11-26 00:57:27,615] Trial 25 finished with value: -inf and parameters: {'alpha': 0.015295648969054198, 'l1_ratio': 0.8218484616316981, 'topK': 864}. Best is trial 0 with value: -inf.\n",
      "2024-11-26 00:57:27,649 - INFO - \n",
      "Starting Trial 26\n",
      "2024-11-26 00:57:27,650 - INFO - Parameters: {'alpha': 0.30186885163251237, 'l1_ratio': 0.44780732530007195, 'topK': 261, 'workers': 4, 'positive_only': True, 'verbose': False}\n",
      "2024-11-26 00:57:27,651 - INFO - Initializing recommender...\n",
      "2024-11-26 00:57:27,652 - ERROR - Error in trial 26:\n",
      "2024-11-26 00:57:27,653 - ERROR - Traceback (most recent call last):\n",
      "  File \"/var/folders/t_/9cbyldyd2bv5q2656cp65pbr0000gn/T/ipykernel_39320/27809788.py\", line 44, in objective\n",
      "    recommender = MultiThreadSLIM_SLIMElasticNetRecommender(URM_train=urm_train)\n",
      "NameError: name 'MultiThreadSLIM_SLIMElasticNetRecommender' is not defined\n",
      "\n",
      "[I 2024-11-26 00:57:27,655] Trial 26 finished with value: -inf and parameters: {'alpha': 0.30186885163251237, 'l1_ratio': 0.44780732530007195, 'topK': 261}. Best is trial 0 with value: -inf.\n",
      "2024-11-26 00:57:27,686 - INFO - \n",
      "Starting Trial 27\n",
      "2024-11-26 00:57:27,687 - INFO - Parameters: {'alpha': 0.0005855433789167862, 'l1_ratio': 0.6680330973717027, 'topK': 133, 'workers': 4, 'positive_only': True, 'verbose': False}\n",
      "2024-11-26 00:57:27,688 - INFO - Initializing recommender...\n",
      "2024-11-26 00:57:27,688 - ERROR - Error in trial 27:\n",
      "2024-11-26 00:57:27,690 - ERROR - Traceback (most recent call last):\n",
      "  File \"/var/folders/t_/9cbyldyd2bv5q2656cp65pbr0000gn/T/ipykernel_39320/27809788.py\", line 44, in objective\n",
      "    recommender = MultiThreadSLIM_SLIMElasticNetRecommender(URM_train=urm_train)\n",
      "NameError: name 'MultiThreadSLIM_SLIMElasticNetRecommender' is not defined\n",
      "\n",
      "[I 2024-11-26 00:57:27,692] Trial 27 finished with value: -inf and parameters: {'alpha': 0.0005855433789167862, 'l1_ratio': 0.6680330973717027, 'topK': 133}. Best is trial 0 with value: -inf.\n",
      "2024-11-26 00:57:27,715 - INFO - \n",
      "Starting Trial 28\n",
      "2024-11-26 00:57:27,715 - INFO - Parameters: {'alpha': 0.1120885231231484, 'l1_ratio': 0.7244474030494538, 'topK': 375, 'workers': 4, 'positive_only': True, 'verbose': False}\n",
      "2024-11-26 00:57:27,716 - INFO - Initializing recommender...\n",
      "2024-11-26 00:57:27,718 - ERROR - Error in trial 28:\n",
      "2024-11-26 00:57:27,719 - ERROR - Traceback (most recent call last):\n",
      "  File \"/var/folders/t_/9cbyldyd2bv5q2656cp65pbr0000gn/T/ipykernel_39320/27809788.py\", line 44, in objective\n",
      "    recommender = MultiThreadSLIM_SLIMElasticNetRecommender(URM_train=urm_train)\n",
      "NameError: name 'MultiThreadSLIM_SLIMElasticNetRecommender' is not defined\n",
      "\n",
      "[I 2024-11-26 00:57:27,721] Trial 28 finished with value: -inf and parameters: {'alpha': 0.1120885231231484, 'l1_ratio': 0.7244474030494538, 'topK': 375}. Best is trial 0 with value: -inf.\n",
      "2024-11-26 00:57:27,740 - INFO - \n",
      "Starting Trial 29\n",
      "2024-11-26 00:57:27,740 - INFO - Parameters: {'alpha': 0.031462677526979566, 'l1_ratio': 0.5305586019343889, 'topK': 508, 'workers': 4, 'positive_only': True, 'verbose': False}\n",
      "2024-11-26 00:57:27,741 - INFO - Initializing recommender...\n",
      "2024-11-26 00:57:27,742 - ERROR - Error in trial 29:\n",
      "2024-11-26 00:57:27,743 - ERROR - Traceback (most recent call last):\n",
      "  File \"/var/folders/t_/9cbyldyd2bv5q2656cp65pbr0000gn/T/ipykernel_39320/27809788.py\", line 44, in objective\n",
      "    recommender = MultiThreadSLIM_SLIMElasticNetRecommender(URM_train=urm_train)\n",
      "NameError: name 'MultiThreadSLIM_SLIMElasticNetRecommender' is not defined\n",
      "\n",
      "[I 2024-11-26 00:57:27,744] Trial 29 finished with value: -inf and parameters: {'alpha': 0.031462677526979566, 'l1_ratio': 0.5305586019343889, 'topK': 508}. Best is trial 0 with value: -inf.\n",
      "2024-11-26 00:57:27,761 - INFO - \n",
      "Starting Trial 30\n",
      "2024-11-26 00:57:27,761 - INFO - Parameters: {'alpha': 0.0002860571465139059, 'l1_ratio': 0.8988203713045804, 'topK': 689, 'workers': 4, 'positive_only': True, 'verbose': False}\n",
      "2024-11-26 00:57:27,762 - INFO - Initializing recommender...\n",
      "2024-11-26 00:57:27,762 - ERROR - Error in trial 30:\n",
      "2024-11-26 00:57:27,763 - ERROR - Traceback (most recent call last):\n",
      "  File \"/var/folders/t_/9cbyldyd2bv5q2656cp65pbr0000gn/T/ipykernel_39320/27809788.py\", line 44, in objective\n",
      "    recommender = MultiThreadSLIM_SLIMElasticNetRecommender(URM_train=urm_train)\n",
      "NameError: name 'MultiThreadSLIM_SLIMElasticNetRecommender' is not defined\n",
      "\n",
      "[I 2024-11-26 00:57:27,764] Trial 30 finished with value: -inf and parameters: {'alpha': 0.0002860571465139059, 'l1_ratio': 0.8988203713045804, 'topK': 689}. Best is trial 0 with value: -inf.\n",
      "2024-11-26 00:57:27,834 - INFO - \n",
      "Starting Trial 31\n",
      "2024-11-26 00:57:27,835 - INFO - Parameters: {'alpha': 0.055778161839363016, 'l1_ratio': 0.548457875675957, 'topK': 689, 'workers': 4, 'positive_only': True, 'verbose': False}\n",
      "2024-11-26 00:57:27,835 - INFO - Initializing recommender...\n",
      "2024-11-26 00:57:27,837 - ERROR - Error in trial 31:\n",
      "2024-11-26 00:57:27,837 - ERROR - Traceback (most recent call last):\n",
      "  File \"/var/folders/t_/9cbyldyd2bv5q2656cp65pbr0000gn/T/ipykernel_39320/27809788.py\", line 44, in objective\n",
      "    recommender = MultiThreadSLIM_SLIMElasticNetRecommender(URM_train=urm_train)\n",
      "NameError: name 'MultiThreadSLIM_SLIMElasticNetRecommender' is not defined\n",
      "\n",
      "[I 2024-11-26 00:57:27,838] Trial 31 finished with value: -inf and parameters: {'alpha': 0.055778161839363016, 'l1_ratio': 0.548457875675957, 'topK': 689}. Best is trial 0 with value: -inf.\n",
      "2024-11-26 00:57:27,868 - INFO - \n",
      "Starting Trial 32\n",
      "2024-11-26 00:57:27,869 - INFO - Parameters: {'alpha': 0.01571019046841506, 'l1_ratio': 0.432274601600441, 'topK': 750, 'workers': 4, 'positive_only': True, 'verbose': False}\n",
      "2024-11-26 00:57:27,870 - INFO - Initializing recommender...\n",
      "2024-11-26 00:57:27,871 - ERROR - Error in trial 32:\n",
      "2024-11-26 00:57:27,872 - ERROR - Traceback (most recent call last):\n",
      "  File \"/var/folders/t_/9cbyldyd2bv5q2656cp65pbr0000gn/T/ipykernel_39320/27809788.py\", line 44, in objective\n",
      "    recommender = MultiThreadSLIM_SLIMElasticNetRecommender(URM_train=urm_train)\n",
      "NameError: name 'MultiThreadSLIM_SLIMElasticNetRecommender' is not defined\n",
      "\n",
      "[I 2024-11-26 00:57:27,873] Trial 32 finished with value: -inf and parameters: {'alpha': 0.01571019046841506, 'l1_ratio': 0.432274601600441, 'topK': 750}. Best is trial 0 with value: -inf.\n",
      "2024-11-26 00:57:27,898 - INFO - \n",
      "Starting Trial 33\n",
      "2024-11-26 00:57:27,899 - INFO - Parameters: {'alpha': 0.0020320962324572515, 'l1_ratio': 0.9834242941740963, 'topK': 895, 'workers': 4, 'positive_only': True, 'verbose': False}\n",
      "2024-11-26 00:57:27,900 - INFO - Initializing recommender...\n",
      "2024-11-26 00:57:27,902 - ERROR - Error in trial 33:\n",
      "2024-11-26 00:57:27,903 - ERROR - Traceback (most recent call last):\n",
      "  File \"/var/folders/t_/9cbyldyd2bv5q2656cp65pbr0000gn/T/ipykernel_39320/27809788.py\", line 44, in objective\n",
      "    recommender = MultiThreadSLIM_SLIMElasticNetRecommender(URM_train=urm_train)\n",
      "NameError: name 'MultiThreadSLIM_SLIMElasticNetRecommender' is not defined\n",
      "\n",
      "[I 2024-11-26 00:57:27,904] Trial 33 finished with value: -inf and parameters: {'alpha': 0.0020320962324572515, 'l1_ratio': 0.9834242941740963, 'topK': 895}. Best is trial 0 with value: -inf.\n",
      "2024-11-26 00:57:27,925 - INFO - \n",
      "Starting Trial 34\n",
      "2024-11-26 00:57:27,932 - INFO - Parameters: {'alpha': 0.14203424954738522, 'l1_ratio': 0.8563404358441189, 'topK': 613, 'workers': 4, 'positive_only': True, 'verbose': False}\n",
      "2024-11-26 00:57:27,935 - INFO - Initializing recommender...\n",
      "2024-11-26 00:57:27,936 - ERROR - Error in trial 34:\n",
      "2024-11-26 00:57:27,938 - ERROR - Traceback (most recent call last):\n",
      "  File \"/var/folders/t_/9cbyldyd2bv5q2656cp65pbr0000gn/T/ipykernel_39320/27809788.py\", line 44, in objective\n",
      "    recommender = MultiThreadSLIM_SLIMElasticNetRecommender(URM_train=urm_train)\n",
      "NameError: name 'MultiThreadSLIM_SLIMElasticNetRecommender' is not defined\n",
      "\n",
      "[I 2024-11-26 00:57:27,939] Trial 34 finished with value: -inf and parameters: {'alpha': 0.14203424954738522, 'l1_ratio': 0.8563404358441189, 'topK': 613}. Best is trial 0 with value: -inf.\n",
      "2024-11-26 00:57:27,970 - INFO - \n",
      "Starting Trial 35\n",
      "2024-11-26 00:57:27,972 - INFO - Parameters: {'alpha': 0.02448441489946096, 'l1_ratio': 0.4838478187276521, 'topK': 789, 'workers': 4, 'positive_only': True, 'verbose': False}\n",
      "2024-11-26 00:57:27,974 - INFO - Initializing recommender...\n",
      "2024-11-26 00:57:27,976 - ERROR - Error in trial 35:\n",
      "2024-11-26 00:57:27,977 - ERROR - Traceback (most recent call last):\n",
      "  File \"/var/folders/t_/9cbyldyd2bv5q2656cp65pbr0000gn/T/ipykernel_39320/27809788.py\", line 44, in objective\n",
      "    recommender = MultiThreadSLIM_SLIMElasticNetRecommender(URM_train=urm_train)\n",
      "NameError: name 'MultiThreadSLIM_SLIMElasticNetRecommender' is not defined\n",
      "\n",
      "[I 2024-11-26 00:57:27,978] Trial 35 finished with value: -inf and parameters: {'alpha': 0.02448441489946096, 'l1_ratio': 0.4838478187276521, 'topK': 789}. Best is trial 0 with value: -inf.\n",
      "2024-11-26 00:57:28,002 - INFO - \n",
      "Starting Trial 36\n",
      "2024-11-26 00:57:28,003 - INFO - Parameters: {'alpha': 0.005982076773244747, 'l1_ratio': 0.5875856346975762, 'topK': 954, 'workers': 4, 'positive_only': True, 'verbose': False}\n",
      "2024-11-26 00:57:28,004 - INFO - Initializing recommender...\n",
      "2024-11-26 00:57:28,005 - ERROR - Error in trial 36:\n",
      "2024-11-26 00:57:28,006 - ERROR - Traceback (most recent call last):\n",
      "  File \"/var/folders/t_/9cbyldyd2bv5q2656cp65pbr0000gn/T/ipykernel_39320/27809788.py\", line 44, in objective\n",
      "    recommender = MultiThreadSLIM_SLIMElasticNetRecommender(URM_train=urm_train)\n",
      "NameError: name 'MultiThreadSLIM_SLIMElasticNetRecommender' is not defined\n",
      "\n",
      "[I 2024-11-26 00:57:28,008] Trial 36 finished with value: -inf and parameters: {'alpha': 0.005982076773244747, 'l1_ratio': 0.5875856346975762, 'topK': 954}. Best is trial 0 with value: -inf.\n",
      "2024-11-26 00:57:28,031 - INFO - \n",
      "Starting Trial 37\n",
      "2024-11-26 00:57:28,031 - INFO - Parameters: {'alpha': 0.0010790461703928005, 'l1_ratio': 0.2714629223463921, 'topK': 723, 'workers': 4, 'positive_only': True, 'verbose': False}\n",
      "2024-11-26 00:57:28,032 - INFO - Initializing recommender...\n",
      "2024-11-26 00:57:28,033 - ERROR - Error in trial 37:\n",
      "2024-11-26 00:57:28,034 - ERROR - Traceback (most recent call last):\n",
      "  File \"/var/folders/t_/9cbyldyd2bv5q2656cp65pbr0000gn/T/ipykernel_39320/27809788.py\", line 44, in objective\n",
      "    recommender = MultiThreadSLIM_SLIMElasticNetRecommender(URM_train=urm_train)\n",
      "NameError: name 'MultiThreadSLIM_SLIMElasticNetRecommender' is not defined\n",
      "\n",
      "[I 2024-11-26 00:57:28,036] Trial 37 finished with value: -inf and parameters: {'alpha': 0.0010790461703928005, 'l1_ratio': 0.2714629223463921, 'topK': 723}. Best is trial 0 with value: -inf.\n",
      "2024-11-26 00:57:28,052 - INFO - \n",
      "Starting Trial 38\n",
      "2024-11-26 00:57:28,053 - INFO - Parameters: {'alpha': 0.009553146682666913, 'l1_ratio': 0.0030517261588467043, 'topK': 828, 'workers': 4, 'positive_only': True, 'verbose': False}\n",
      "2024-11-26 00:57:28,053 - INFO - Initializing recommender...\n",
      "2024-11-26 00:57:28,054 - ERROR - Error in trial 38:\n",
      "2024-11-26 00:57:28,054 - ERROR - Traceback (most recent call last):\n",
      "  File \"/var/folders/t_/9cbyldyd2bv5q2656cp65pbr0000gn/T/ipykernel_39320/27809788.py\", line 44, in objective\n",
      "    recommender = MultiThreadSLIM_SLIMElasticNetRecommender(URM_train=urm_train)\n",
      "NameError: name 'MultiThreadSLIM_SLIMElasticNetRecommender' is not defined\n",
      "\n",
      "[I 2024-11-26 00:57:28,055] Trial 38 finished with value: -inf and parameters: {'alpha': 0.009553146682666913, 'l1_ratio': 0.0030517261588467043, 'topK': 828}. Best is trial 0 with value: -inf.\n",
      "2024-11-26 00:57:28,073 - INFO - \n",
      "Starting Trial 39\n",
      "2024-11-26 00:57:28,073 - INFO - Parameters: {'alpha': 0.00010022038929448182, 'l1_ratio': 0.08213241113270181, 'topK': 510, 'workers': 4, 'positive_only': True, 'verbose': False}\n",
      "2024-11-26 00:57:28,074 - INFO - Initializing recommender...\n",
      "2024-11-26 00:57:28,074 - ERROR - Error in trial 39:\n",
      "2024-11-26 00:57:28,075 - ERROR - Traceback (most recent call last):\n",
      "  File \"/var/folders/t_/9cbyldyd2bv5q2656cp65pbr0000gn/T/ipykernel_39320/27809788.py\", line 44, in objective\n",
      "    recommender = MultiThreadSLIM_SLIMElasticNetRecommender(URM_train=urm_train)\n",
      "NameError: name 'MultiThreadSLIM_SLIMElasticNetRecommender' is not defined\n",
      "\n",
      "[I 2024-11-26 00:57:28,076] Trial 39 finished with value: -inf and parameters: {'alpha': 0.00010022038929448182, 'l1_ratio': 0.08213241113270181, 'topK': 510}. Best is trial 0 with value: -inf.\n",
      "2024-11-26 00:57:28,093 - INFO - \n",
      "Starting Trial 40\n",
      "2024-11-26 00:57:28,094 - INFO - Parameters: {'alpha': 0.04796704813131742, 'l1_ratio': 0.9132797974293786, 'topK': 260, 'workers': 4, 'positive_only': True, 'verbose': False}\n",
      "2024-11-26 00:57:28,094 - INFO - Initializing recommender...\n",
      "2024-11-26 00:57:28,095 - ERROR - Error in trial 40:\n",
      "2024-11-26 00:57:28,096 - ERROR - Traceback (most recent call last):\n",
      "  File \"/var/folders/t_/9cbyldyd2bv5q2656cp65pbr0000gn/T/ipykernel_39320/27809788.py\", line 44, in objective\n",
      "    recommender = MultiThreadSLIM_SLIMElasticNetRecommender(URM_train=urm_train)\n",
      "NameError: name 'MultiThreadSLIM_SLIMElasticNetRecommender' is not defined\n",
      "\n",
      "[I 2024-11-26 00:57:28,097] Trial 40 finished with value: -inf and parameters: {'alpha': 0.04796704813131742, 'l1_ratio': 0.9132797974293786, 'topK': 260}. Best is trial 0 with value: -inf.\n",
      "2024-11-26 00:57:28,113 - INFO - \n",
      "Starting Trial 41\n",
      "2024-11-26 00:57:28,114 - INFO - Parameters: {'alpha': 0.0034601056402945307, 'l1_ratio': 0.9942584611842357, 'topK': 674, 'workers': 4, 'positive_only': True, 'verbose': False}\n",
      "2024-11-26 00:57:28,114 - INFO - Initializing recommender...\n",
      "2024-11-26 00:57:28,115 - ERROR - Error in trial 41:\n",
      "2024-11-26 00:57:28,116 - ERROR - Traceback (most recent call last):\n",
      "  File \"/var/folders/t_/9cbyldyd2bv5q2656cp65pbr0000gn/T/ipykernel_39320/27809788.py\", line 44, in objective\n",
      "    recommender = MultiThreadSLIM_SLIMElasticNetRecommender(URM_train=urm_train)\n",
      "NameError: name 'MultiThreadSLIM_SLIMElasticNetRecommender' is not defined\n",
      "\n",
      "[I 2024-11-26 00:57:28,116] Trial 41 finished with value: -inf and parameters: {'alpha': 0.0034601056402945307, 'l1_ratio': 0.9942584611842357, 'topK': 674}. Best is trial 0 with value: -inf.\n",
      "2024-11-26 00:57:28,133 - INFO - \n",
      "Starting Trial 42\n",
      "2024-11-26 00:57:28,134 - INFO - Parameters: {'alpha': 0.00020804892853929904, 'l1_ratio': 0.7852327682914062, 'topK': 574, 'workers': 4, 'positive_only': True, 'verbose': False}\n",
      "2024-11-26 00:57:28,135 - INFO - Initializing recommender...\n",
      "2024-11-26 00:57:28,136 - ERROR - Error in trial 42:\n",
      "2024-11-26 00:57:28,136 - ERROR - Traceback (most recent call last):\n",
      "  File \"/var/folders/t_/9cbyldyd2bv5q2656cp65pbr0000gn/T/ipykernel_39320/27809788.py\", line 44, in objective\n",
      "    recommender = MultiThreadSLIM_SLIMElasticNetRecommender(URM_train=urm_train)\n",
      "NameError: name 'MultiThreadSLIM_SLIMElasticNetRecommender' is not defined\n",
      "\n",
      "[I 2024-11-26 00:57:28,137] Trial 42 finished with value: -inf and parameters: {'alpha': 0.00020804892853929904, 'l1_ratio': 0.7852327682914062, 'topK': 574}. Best is trial 0 with value: -inf.\n",
      "2024-11-26 00:57:28,154 - INFO - \n",
      "Starting Trial 43\n",
      "2024-11-26 00:57:28,155 - INFO - Parameters: {'alpha': 0.001171620823605868, 'l1_ratio': 0.9492045029152097, 'topK': 992, 'workers': 4, 'positive_only': True, 'verbose': False}\n",
      "2024-11-26 00:57:28,155 - INFO - Initializing recommender...\n",
      "2024-11-26 00:57:28,156 - ERROR - Error in trial 43:\n",
      "2024-11-26 00:57:28,157 - ERROR - Traceback (most recent call last):\n",
      "  File \"/var/folders/t_/9cbyldyd2bv5q2656cp65pbr0000gn/T/ipykernel_39320/27809788.py\", line 44, in objective\n",
      "    recommender = MultiThreadSLIM_SLIMElasticNetRecommender(URM_train=urm_train)\n",
      "NameError: name 'MultiThreadSLIM_SLIMElasticNetRecommender' is not defined\n",
      "\n",
      "[I 2024-11-26 00:57:28,157] Trial 43 finished with value: -inf and parameters: {'alpha': 0.001171620823605868, 'l1_ratio': 0.9492045029152097, 'topK': 992}. Best is trial 0 with value: -inf.\n",
      "2024-11-26 00:57:28,174 - INFO - \n",
      "Starting Trial 44\n",
      "2024-11-26 00:57:28,174 - INFO - Parameters: {'alpha': 0.0004894436218798978, 'l1_ratio': 0.883721553677287, 'topK': 641, 'workers': 4, 'positive_only': True, 'verbose': False}\n",
      "2024-11-26 00:57:28,175 - INFO - Initializing recommender...\n",
      "2024-11-26 00:57:28,175 - ERROR - Error in trial 44:\n",
      "2024-11-26 00:57:28,177 - ERROR - Traceback (most recent call last):\n",
      "  File \"/var/folders/t_/9cbyldyd2bv5q2656cp65pbr0000gn/T/ipykernel_39320/27809788.py\", line 44, in objective\n",
      "    recommender = MultiThreadSLIM_SLIMElasticNetRecommender(URM_train=urm_train)\n",
      "NameError: name 'MultiThreadSLIM_SLIMElasticNetRecommender' is not defined\n",
      "\n",
      "[I 2024-11-26 00:57:28,178] Trial 44 finished with value: -inf and parameters: {'alpha': 0.0004894436218798978, 'l1_ratio': 0.883721553677287, 'topK': 641}. Best is trial 0 with value: -inf.\n",
      "2024-11-26 00:57:28,199 - INFO - \n",
      "Starting Trial 45\n",
      "2024-11-26 00:57:28,200 - INFO - Parameters: {'alpha': 0.07603348944750746, 'l1_ratio': 0.8150721234000305, 'topK': 544, 'workers': 4, 'positive_only': True, 'verbose': False}\n",
      "2024-11-26 00:57:28,202 - INFO - Initializing recommender...\n",
      "2024-11-26 00:57:28,202 - ERROR - Error in trial 45:\n",
      "2024-11-26 00:57:28,204 - ERROR - Traceback (most recent call last):\n",
      "  File \"/var/folders/t_/9cbyldyd2bv5q2656cp65pbr0000gn/T/ipykernel_39320/27809788.py\", line 44, in objective\n",
      "    recommender = MultiThreadSLIM_SLIMElasticNetRecommender(URM_train=urm_train)\n",
      "NameError: name 'MultiThreadSLIM_SLIMElasticNetRecommender' is not defined\n",
      "\n",
      "[I 2024-11-26 00:57:28,205] Trial 45 finished with value: -inf and parameters: {'alpha': 0.07603348944750746, 'l1_ratio': 0.8150721234000305, 'topK': 544}. Best is trial 0 with value: -inf.\n",
      "2024-11-26 00:57:28,225 - INFO - \n",
      "Starting Trial 46\n",
      "2024-11-26 00:57:28,225 - INFO - Parameters: {'alpha': 0.40561795283853336, 'l1_ratio': 0.7292431431643346, 'topK': 883, 'workers': 4, 'positive_only': True, 'verbose': False}\n",
      "2024-11-26 00:57:28,226 - INFO - Initializing recommender...\n",
      "2024-11-26 00:57:28,226 - ERROR - Error in trial 46:\n",
      "2024-11-26 00:57:28,227 - ERROR - Traceback (most recent call last):\n",
      "  File \"/var/folders/t_/9cbyldyd2bv5q2656cp65pbr0000gn/T/ipykernel_39320/27809788.py\", line 44, in objective\n",
      "    recommender = MultiThreadSLIM_SLIMElasticNetRecommender(URM_train=urm_train)\n",
      "NameError: name 'MultiThreadSLIM_SLIMElasticNetRecommender' is not defined\n",
      "\n",
      "[I 2024-11-26 00:57:28,228] Trial 46 finished with value: -inf and parameters: {'alpha': 0.40561795283853336, 'l1_ratio': 0.7292431431643346, 'topK': 883}. Best is trial 0 with value: -inf.\n",
      "2024-11-26 00:57:28,247 - INFO - \n",
      "Starting Trial 47\n",
      "2024-11-26 00:57:28,248 - INFO - Parameters: {'alpha': 0.0009118153611992017, 'l1_ratio': 0.3468542441077017, 'topK': 106, 'workers': 4, 'positive_only': True, 'verbose': False}\n",
      "2024-11-26 00:57:28,248 - INFO - Initializing recommender...\n",
      "2024-11-26 00:57:28,249 - ERROR - Error in trial 47:\n",
      "2024-11-26 00:57:28,250 - ERROR - Traceback (most recent call last):\n",
      "  File \"/var/folders/t_/9cbyldyd2bv5q2656cp65pbr0000gn/T/ipykernel_39320/27809788.py\", line 44, in objective\n",
      "    recommender = MultiThreadSLIM_SLIMElasticNetRecommender(URM_train=urm_train)\n",
      "NameError: name 'MultiThreadSLIM_SLIMElasticNetRecommender' is not defined\n",
      "\n",
      "[I 2024-11-26 00:57:28,251] Trial 47 finished with value: -inf and parameters: {'alpha': 0.0009118153611992017, 'l1_ratio': 0.3468542441077017, 'topK': 106}. Best is trial 0 with value: -inf.\n",
      "2024-11-26 00:57:28,269 - INFO - \n",
      "Starting Trial 48\n",
      "2024-11-26 00:57:28,270 - INFO - Parameters: {'alpha': 0.17412165595734946, 'l1_ratio': 0.3814955929367335, 'topK': 929, 'workers': 4, 'positive_only': True, 'verbose': False}\n",
      "2024-11-26 00:57:28,270 - INFO - Initializing recommender...\n",
      "2024-11-26 00:57:28,271 - ERROR - Error in trial 48:\n",
      "2024-11-26 00:57:28,272 - ERROR - Traceback (most recent call last):\n",
      "  File \"/var/folders/t_/9cbyldyd2bv5q2656cp65pbr0000gn/T/ipykernel_39320/27809788.py\", line 44, in objective\n",
      "    recommender = MultiThreadSLIM_SLIMElasticNetRecommender(URM_train=urm_train)\n",
      "NameError: name 'MultiThreadSLIM_SLIMElasticNetRecommender' is not defined\n",
      "\n",
      "[I 2024-11-26 00:57:28,272] Trial 48 finished with value: -inf and parameters: {'alpha': 0.17412165595734946, 'l1_ratio': 0.3814955929367335, 'topK': 929}. Best is trial 0 with value: -inf.\n",
      "2024-11-26 00:57:28,293 - INFO - \n",
      "Starting Trial 49\n",
      "2024-11-26 00:57:28,294 - INFO - Parameters: {'alpha': 0.0018862166776453199, 'l1_ratio': 0.2658516525883761, 'topK': 797, 'workers': 4, 'positive_only': True, 'verbose': False}\n",
      "2024-11-26 00:57:28,294 - INFO - Initializing recommender...\n",
      "2024-11-26 00:57:28,295 - ERROR - Error in trial 49:\n",
      "2024-11-26 00:57:28,295 - ERROR - Traceback (most recent call last):\n",
      "  File \"/var/folders/t_/9cbyldyd2bv5q2656cp65pbr0000gn/T/ipykernel_39320/27809788.py\", line 44, in objective\n",
      "    recommender = MultiThreadSLIM_SLIMElasticNetRecommender(URM_train=urm_train)\n",
      "NameError: name 'MultiThreadSLIM_SLIMElasticNetRecommender' is not defined\n",
      "\n",
      "[I 2024-11-26 00:57:28,296] Trial 49 finished with value: -inf and parameters: {'alpha': 0.0018862166776453199, 'l1_ratio': 0.2658516525883761, 'topK': 797}. Best is trial 0 with value: -inf.\n",
      "2024-11-26 00:57:28,368 - INFO - \n",
      "Starting Trial 50\n",
      "2024-11-26 00:57:28,368 - INFO - Parameters: {'alpha': 0.9549958567155982, 'l1_ratio': 0.11600145403021689, 'topK': 377, 'workers': 4, 'positive_only': True, 'verbose': False}\n",
      "2024-11-26 00:57:28,369 - INFO - Initializing recommender...\n",
      "2024-11-26 00:57:28,372 - ERROR - Error in trial 50:\n",
      "2024-11-26 00:57:28,373 - ERROR - Traceback (most recent call last):\n",
      "  File \"/var/folders/t_/9cbyldyd2bv5q2656cp65pbr0000gn/T/ipykernel_39320/27809788.py\", line 44, in objective\n",
      "    recommender = MultiThreadSLIM_SLIMElasticNetRecommender(URM_train=urm_train)\n",
      "NameError: name 'MultiThreadSLIM_SLIMElasticNetRecommender' is not defined\n",
      "\n",
      "[I 2024-11-26 00:57:28,377] Trial 50 finished with value: -inf and parameters: {'alpha': 0.9549958567155982, 'l1_ratio': 0.11600145403021689, 'topK': 377}. Best is trial 0 with value: -inf.\n",
      "2024-11-26 00:57:28,399 - INFO - \n",
      "Starting Trial 51\n",
      "2024-11-26 00:57:28,400 - INFO - Parameters: {'alpha': 0.000406251170623927, 'l1_ratio': 0.5896286394443582, 'topK': 450, 'workers': 4, 'positive_only': True, 'verbose': False}\n",
      "2024-11-26 00:57:28,401 - INFO - Initializing recommender...\n",
      "2024-11-26 00:57:28,402 - ERROR - Error in trial 51:\n",
      "2024-11-26 00:57:28,402 - ERROR - Traceback (most recent call last):\n",
      "  File \"/var/folders/t_/9cbyldyd2bv5q2656cp65pbr0000gn/T/ipykernel_39320/27809788.py\", line 44, in objective\n",
      "    recommender = MultiThreadSLIM_SLIMElasticNetRecommender(URM_train=urm_train)\n",
      "NameError: name 'MultiThreadSLIM_SLIMElasticNetRecommender' is not defined\n",
      "\n",
      "[I 2024-11-26 00:57:28,404] Trial 51 finished with value: -inf and parameters: {'alpha': 0.000406251170623927, 'l1_ratio': 0.5896286394443582, 'topK': 450}. Best is trial 0 with value: -inf.\n",
      "2024-11-26 00:57:28,424 - INFO - \n",
      "Starting Trial 52\n",
      "2024-11-26 00:57:28,425 - INFO - Parameters: {'alpha': 0.00020636608292080811, 'l1_ratio': 0.5272934277305985, 'topK': 565, 'workers': 4, 'positive_only': True, 'verbose': False}\n",
      "2024-11-26 00:57:28,426 - INFO - Initializing recommender...\n",
      "2024-11-26 00:57:28,426 - ERROR - Error in trial 52:\n",
      "2024-11-26 00:57:28,428 - ERROR - Traceback (most recent call last):\n",
      "  File \"/var/folders/t_/9cbyldyd2bv5q2656cp65pbr0000gn/T/ipykernel_39320/27809788.py\", line 44, in objective\n",
      "    recommender = MultiThreadSLIM_SLIMElasticNetRecommender(URM_train=urm_train)\n",
      "NameError: name 'MultiThreadSLIM_SLIMElasticNetRecommender' is not defined\n",
      "\n",
      "[I 2024-11-26 00:57:28,429] Trial 52 finished with value: -inf and parameters: {'alpha': 0.00020636608292080811, 'l1_ratio': 0.5272934277305985, 'topK': 565}. Best is trial 0 with value: -inf.\n",
      "2024-11-26 00:57:28,450 - INFO - \n",
      "Starting Trial 53\n",
      "2024-11-26 00:57:28,451 - INFO - Parameters: {'alpha': 0.020143617564217377, 'l1_ratio': 0.4812843537623035, 'topK': 642, 'workers': 4, 'positive_only': True, 'verbose': False}\n",
      "2024-11-26 00:57:28,451 - INFO - Initializing recommender...\n",
      "2024-11-26 00:57:28,452 - ERROR - Error in trial 53:\n",
      "2024-11-26 00:57:28,453 - ERROR - Traceback (most recent call last):\n",
      "  File \"/var/folders/t_/9cbyldyd2bv5q2656cp65pbr0000gn/T/ipykernel_39320/27809788.py\", line 44, in objective\n",
      "    recommender = MultiThreadSLIM_SLIMElasticNetRecommender(URM_train=urm_train)\n",
      "NameError: name 'MultiThreadSLIM_SLIMElasticNetRecommender' is not defined\n",
      "\n",
      "[I 2024-11-26 00:57:28,454] Trial 53 finished with value: -inf and parameters: {'alpha': 0.020143617564217377, 'l1_ratio': 0.4812843537623035, 'topK': 642}. Best is trial 0 with value: -inf.\n",
      "2024-11-26 00:57:28,475 - INFO - \n",
      "Starting Trial 54\n",
      "2024-11-26 00:57:28,476 - INFO - Parameters: {'alpha': 0.0008697436064747977, 'l1_ratio': 0.6745668512908085, 'topK': 420, 'workers': 4, 'positive_only': True, 'verbose': False}\n",
      "2024-11-26 00:57:28,477 - INFO - Initializing recommender...\n",
      "2024-11-26 00:57:28,478 - ERROR - Error in trial 54:\n",
      "2024-11-26 00:57:28,479 - ERROR - Traceback (most recent call last):\n",
      "  File \"/var/folders/t_/9cbyldyd2bv5q2656cp65pbr0000gn/T/ipykernel_39320/27809788.py\", line 44, in objective\n",
      "    recommender = MultiThreadSLIM_SLIMElasticNetRecommender(URM_train=urm_train)\n",
      "NameError: name 'MultiThreadSLIM_SLIMElasticNetRecommender' is not defined\n",
      "\n",
      "[I 2024-11-26 00:57:28,480] Trial 54 finished with value: -inf and parameters: {'alpha': 0.0008697436064747977, 'l1_ratio': 0.6745668512908085, 'topK': 420}. Best is trial 0 with value: -inf.\n",
      "2024-11-26 00:57:28,502 - INFO - \n",
      "Starting Trial 55\n",
      "2024-11-26 00:57:28,503 - INFO - Parameters: {'alpha': 0.0003115333719325331, 'l1_ratio': 0.9491695430877104, 'topK': 732, 'workers': 4, 'positive_only': True, 'verbose': False}\n",
      "2024-11-26 00:57:28,503 - INFO - Initializing recommender...\n",
      "2024-11-26 00:57:28,504 - ERROR - Error in trial 55:\n",
      "2024-11-26 00:57:28,505 - ERROR - Traceback (most recent call last):\n",
      "  File \"/var/folders/t_/9cbyldyd2bv5q2656cp65pbr0000gn/T/ipykernel_39320/27809788.py\", line 44, in objective\n",
      "    recommender = MultiThreadSLIM_SLIMElasticNetRecommender(URM_train=urm_train)\n",
      "NameError: name 'MultiThreadSLIM_SLIMElasticNetRecommender' is not defined\n",
      "\n",
      "[I 2024-11-26 00:57:28,506] Trial 55 finished with value: -inf and parameters: {'alpha': 0.0003115333719325331, 'l1_ratio': 0.9491695430877104, 'topK': 732}. Best is trial 0 with value: -inf.\n",
      "2024-11-26 00:57:28,533 - INFO - \n",
      "Starting Trial 56\n",
      "2024-11-26 00:57:28,534 - INFO - Parameters: {'alpha': 0.009682411575793614, 'l1_ratio': 0.760574038821517, 'topK': 312, 'workers': 4, 'positive_only': True, 'verbose': False}\n",
      "2024-11-26 00:57:28,534 - INFO - Initializing recommender...\n",
      "2024-11-26 00:57:28,535 - ERROR - Error in trial 56:\n",
      "2024-11-26 00:57:28,536 - ERROR - Traceback (most recent call last):\n",
      "  File \"/var/folders/t_/9cbyldyd2bv5q2656cp65pbr0000gn/T/ipykernel_39320/27809788.py\", line 44, in objective\n",
      "    recommender = MultiThreadSLIM_SLIMElasticNetRecommender(URM_train=urm_train)\n",
      "NameError: name 'MultiThreadSLIM_SLIMElasticNetRecommender' is not defined\n",
      "\n",
      "[I 2024-11-26 00:57:28,537] Trial 56 finished with value: -inf and parameters: {'alpha': 0.009682411575793614, 'l1_ratio': 0.760574038821517, 'topK': 312}. Best is trial 0 with value: -inf.\n",
      "2024-11-26 00:57:28,563 - INFO - \n",
      "Starting Trial 57\n",
      "2024-11-26 00:57:28,564 - INFO - Parameters: {'alpha': 0.00393664203000252, 'l1_ratio': 0.624487825204421, 'topK': 498, 'workers': 4, 'positive_only': True, 'verbose': False}\n",
      "2024-11-26 00:57:28,565 - INFO - Initializing recommender...\n",
      "2024-11-26 00:57:28,566 - ERROR - Error in trial 57:\n",
      "2024-11-26 00:57:28,567 - ERROR - Traceback (most recent call last):\n",
      "  File \"/var/folders/t_/9cbyldyd2bv5q2656cp65pbr0000gn/T/ipykernel_39320/27809788.py\", line 44, in objective\n",
      "    recommender = MultiThreadSLIM_SLIMElasticNetRecommender(URM_train=urm_train)\n",
      "NameError: name 'MultiThreadSLIM_SLIMElasticNetRecommender' is not defined\n",
      "\n",
      "[I 2024-11-26 00:57:28,568] Trial 57 finished with value: -inf and parameters: {'alpha': 0.00393664203000252, 'l1_ratio': 0.624487825204421, 'topK': 498}. Best is trial 0 with value: -inf.\n",
      "2024-11-26 00:57:28,596 - INFO - \n",
      "Starting Trial 58\n",
      "2024-11-26 00:57:28,597 - INFO - Parameters: {'alpha': 0.00015461594185863545, 'l1_ratio': 0.3892671812226266, 'topK': 169, 'workers': 4, 'positive_only': True, 'verbose': False}\n",
      "2024-11-26 00:57:28,597 - INFO - Initializing recommender...\n",
      "2024-11-26 00:57:28,599 - ERROR - Error in trial 58:\n",
      "2024-11-26 00:57:28,599 - ERROR - Traceback (most recent call last):\n",
      "  File \"/var/folders/t_/9cbyldyd2bv5q2656cp65pbr0000gn/T/ipykernel_39320/27809788.py\", line 44, in objective\n",
      "    recommender = MultiThreadSLIM_SLIMElasticNetRecommender(URM_train=urm_train)\n",
      "NameError: name 'MultiThreadSLIM_SLIMElasticNetRecommender' is not defined\n",
      "\n",
      "[I 2024-11-26 00:57:28,601] Trial 58 finished with value: -inf and parameters: {'alpha': 0.00015461594185863545, 'l1_ratio': 0.3892671812226266, 'topK': 169}. Best is trial 0 with value: -inf.\n",
      "2024-11-26 00:57:28,622 - INFO - \n",
      "Starting Trial 59\n",
      "2024-11-26 00:57:28,623 - INFO - Parameters: {'alpha': 0.04358696290822613, 'l1_ratio': 0.8546003562320875, 'topK': 83, 'workers': 4, 'positive_only': True, 'verbose': False}\n",
      "2024-11-26 00:57:28,623 - INFO - Initializing recommender...\n",
      "2024-11-26 00:57:28,625 - ERROR - Error in trial 59:\n",
      "2024-11-26 00:57:28,626 - ERROR - Traceback (most recent call last):\n",
      "  File \"/var/folders/t_/9cbyldyd2bv5q2656cp65pbr0000gn/T/ipykernel_39320/27809788.py\", line 44, in objective\n",
      "    recommender = MultiThreadSLIM_SLIMElasticNetRecommender(URM_train=urm_train)\n",
      "NameError: name 'MultiThreadSLIM_SLIMElasticNetRecommender' is not defined\n",
      "\n",
      "[I 2024-11-26 00:57:28,627] Trial 59 finished with value: -inf and parameters: {'alpha': 0.04358696290822613, 'l1_ratio': 0.8546003562320875, 'topK': 83}. Best is trial 0 with value: -inf.\n",
      "2024-11-26 00:57:28,648 - INFO - \n",
      "Starting Trial 60\n",
      "2024-11-26 00:57:28,649 - INFO - Parameters: {'alpha': 0.07538792750164576, 'l1_ratio': 0.7068055660049317, 'topK': 239, 'workers': 4, 'positive_only': True, 'verbose': False}\n",
      "2024-11-26 00:57:28,650 - INFO - Initializing recommender...\n",
      "2024-11-26 00:57:28,650 - ERROR - Error in trial 60:\n",
      "2024-11-26 00:57:28,651 - ERROR - Traceback (most recent call last):\n",
      "  File \"/var/folders/t_/9cbyldyd2bv5q2656cp65pbr0000gn/T/ipykernel_39320/27809788.py\", line 44, in objective\n",
      "    recommender = MultiThreadSLIM_SLIMElasticNetRecommender(URM_train=urm_train)\n",
      "NameError: name 'MultiThreadSLIM_SLIMElasticNetRecommender' is not defined\n",
      "\n",
      "[I 2024-11-26 00:57:28,652] Trial 60 finished with value: -inf and parameters: {'alpha': 0.07538792750164576, 'l1_ratio': 0.7068055660049317, 'topK': 239}. Best is trial 0 with value: -inf.\n",
      "2024-11-26 00:57:28,674 - INFO - \n",
      "Starting Trial 61\n",
      "2024-11-26 00:57:28,674 - INFO - Parameters: {'alpha': 0.0006183164881864685, 'l1_ratio': 0.8796083016971811, 'topK': 227, 'workers': 4, 'positive_only': True, 'verbose': False}\n",
      "2024-11-26 00:57:28,675 - INFO - Initializing recommender...\n",
      "2024-11-26 00:57:28,675 - ERROR - Error in trial 61:\n",
      "2024-11-26 00:57:28,676 - ERROR - Traceback (most recent call last):\n",
      "  File \"/var/folders/t_/9cbyldyd2bv5q2656cp65pbr0000gn/T/ipykernel_39320/27809788.py\", line 44, in objective\n",
      "    recommender = MultiThreadSLIM_SLIMElasticNetRecommender(URM_train=urm_train)\n",
      "NameError: name 'MultiThreadSLIM_SLIMElasticNetRecommender' is not defined\n",
      "\n",
      "[I 2024-11-26 00:57:28,677] Trial 61 finished with value: -inf and parameters: {'alpha': 0.0006183164881864685, 'l1_ratio': 0.8796083016971811, 'topK': 227}. Best is trial 0 with value: -inf.\n",
      "2024-11-26 00:57:28,697 - INFO - \n",
      "Starting Trial 62\n",
      "2024-11-26 00:57:28,698 - INFO - Parameters: {'alpha': 0.001301629934577317, 'l1_ratio': 0.8261225385936268, 'topK': 157, 'workers': 4, 'positive_only': True, 'verbose': False}\n",
      "2024-11-26 00:57:28,698 - INFO - Initializing recommender...\n",
      "2024-11-26 00:57:28,699 - ERROR - Error in trial 62:\n",
      "2024-11-26 00:57:28,700 - ERROR - Traceback (most recent call last):\n",
      "  File \"/var/folders/t_/9cbyldyd2bv5q2656cp65pbr0000gn/T/ipykernel_39320/27809788.py\", line 44, in objective\n",
      "    recommender = MultiThreadSLIM_SLIMElasticNetRecommender(URM_train=urm_train)\n",
      "NameError: name 'MultiThreadSLIM_SLIMElasticNetRecommender' is not defined\n",
      "\n",
      "[I 2024-11-26 00:57:28,700] Trial 62 finished with value: -inf and parameters: {'alpha': 0.001301629934577317, 'l1_ratio': 0.8261225385936268, 'topK': 157}. Best is trial 0 with value: -inf.\n",
      "2024-11-26 00:57:28,730 - INFO - \n",
      "Starting Trial 63\n",
      "2024-11-26 00:57:28,730 - INFO - Parameters: {'alpha': 0.0022024454237969757, 'l1_ratio': 0.93165213110655, 'topK': 270, 'workers': 4, 'positive_only': True, 'verbose': False}\n",
      "2024-11-26 00:57:28,731 - INFO - Initializing recommender...\n",
      "2024-11-26 00:57:28,732 - ERROR - Error in trial 63:\n",
      "2024-11-26 00:57:28,734 - ERROR - Traceback (most recent call last):\n",
      "  File \"/var/folders/t_/9cbyldyd2bv5q2656cp65pbr0000gn/T/ipykernel_39320/27809788.py\", line 44, in objective\n",
      "    recommender = MultiThreadSLIM_SLIMElasticNetRecommender(URM_train=urm_train)\n",
      "NameError: name 'MultiThreadSLIM_SLIMElasticNetRecommender' is not defined\n",
      "\n",
      "[I 2024-11-26 00:57:28,735] Trial 63 finished with value: -inf and parameters: {'alpha': 0.0022024454237969757, 'l1_ratio': 0.93165213110655, 'topK': 270}. Best is trial 0 with value: -inf.\n",
      "2024-11-26 00:57:28,758 - INFO - \n",
      "Starting Trial 64\n",
      "2024-11-26 00:57:28,759 - INFO - Parameters: {'alpha': 0.0007441572049958181, 'l1_ratio': 0.765232742993878, 'topK': 205, 'workers': 4, 'positive_only': True, 'verbose': False}\n",
      "2024-11-26 00:57:28,760 - INFO - Initializing recommender...\n",
      "2024-11-26 00:57:28,761 - ERROR - Error in trial 64:\n",
      "2024-11-26 00:57:28,762 - ERROR - Traceback (most recent call last):\n",
      "  File \"/var/folders/t_/9cbyldyd2bv5q2656cp65pbr0000gn/T/ipykernel_39320/27809788.py\", line 44, in objective\n",
      "    recommender = MultiThreadSLIM_SLIMElasticNetRecommender(URM_train=urm_train)\n",
      "NameError: name 'MultiThreadSLIM_SLIMElasticNetRecommender' is not defined\n",
      "\n",
      "[I 2024-11-26 00:57:28,763] Trial 64 finished with value: -inf and parameters: {'alpha': 0.0007441572049958181, 'l1_ratio': 0.765232742993878, 'topK': 205}. Best is trial 0 with value: -inf.\n",
      "2024-11-26 00:57:28,787 - INFO - \n",
      "Starting Trial 65\n",
      "2024-11-26 00:57:28,796 - INFO - Parameters: {'alpha': 0.0015780777471259145, 'l1_ratio': 0.6509469725668098, 'topK': 335, 'workers': 4, 'positive_only': True, 'verbose': False}\n",
      "2024-11-26 00:57:28,805 - INFO - Initializing recommender...\n",
      "2024-11-26 00:57:28,837 - ERROR - Error in trial 65:\n",
      "2024-11-26 00:57:28,838 - ERROR - Traceback (most recent call last):\n",
      "  File \"/var/folders/t_/9cbyldyd2bv5q2656cp65pbr0000gn/T/ipykernel_39320/27809788.py\", line 44, in objective\n",
      "    recommender = MultiThreadSLIM_SLIMElasticNetRecommender(URM_train=urm_train)\n",
      "NameError: name 'MultiThreadSLIM_SLIMElasticNetRecommender' is not defined\n",
      "\n",
      "[I 2024-11-26 00:57:28,839] Trial 65 finished with value: -inf and parameters: {'alpha': 0.0015780777471259145, 'l1_ratio': 0.6509469725668098, 'topK': 335}. Best is trial 0 with value: -inf.\n",
      "2024-11-26 00:57:28,879 - INFO - \n",
      "Starting Trial 66\n",
      "2024-11-26 00:57:28,879 - INFO - Parameters: {'alpha': 0.03206832599787142, 'l1_ratio': 0.5634366752885309, 'topK': 616, 'workers': 4, 'positive_only': True, 'verbose': False}\n",
      "2024-11-26 00:57:28,880 - INFO - Initializing recommender...\n",
      "2024-11-26 00:57:28,881 - ERROR - Error in trial 66:\n",
      "2024-11-26 00:57:28,882 - ERROR - Traceback (most recent call last):\n",
      "  File \"/var/folders/t_/9cbyldyd2bv5q2656cp65pbr0000gn/T/ipykernel_39320/27809788.py\", line 44, in objective\n",
      "    recommender = MultiThreadSLIM_SLIMElasticNetRecommender(URM_train=urm_train)\n",
      "NameError: name 'MultiThreadSLIM_SLIMElasticNetRecommender' is not defined\n",
      "\n",
      "[I 2024-11-26 00:57:28,883] Trial 66 finished with value: -inf and parameters: {'alpha': 0.03206832599787142, 'l1_ratio': 0.5634366752885309, 'topK': 616}. Best is trial 0 with value: -inf.\n",
      "2024-11-26 00:57:28,910 - INFO - \n",
      "Starting Trial 67\n",
      "2024-11-26 00:57:28,910 - INFO - Parameters: {'alpha': 0.006826313364787259, 'l1_ratio': 0.46130487404597775, 'topK': 840, 'workers': 4, 'positive_only': True, 'verbose': False}\n",
      "2024-11-26 00:57:28,911 - INFO - Initializing recommender...\n",
      "2024-11-26 00:57:28,912 - ERROR - Error in trial 67:\n",
      "2024-11-26 00:57:28,914 - ERROR - Traceback (most recent call last):\n",
      "  File \"/var/folders/t_/9cbyldyd2bv5q2656cp65pbr0000gn/T/ipykernel_39320/27809788.py\", line 44, in objective\n",
      "    recommender = MultiThreadSLIM_SLIMElasticNetRecommender(URM_train=urm_train)\n",
      "NameError: name 'MultiThreadSLIM_SLIMElasticNetRecommender' is not defined\n",
      "\n",
      "[I 2024-11-26 00:57:28,915] Trial 67 finished with value: -inf and parameters: {'alpha': 0.006826313364787259, 'l1_ratio': 0.46130487404597775, 'topK': 840}. Best is trial 0 with value: -inf.\n",
      "2024-11-26 00:57:28,941 - INFO - \n",
      "Starting Trial 68\n",
      "2024-11-26 00:57:28,942 - INFO - Parameters: {'alpha': 0.00036722347811619563, 'l1_ratio': 0.9627919180403537, 'topK': 132, 'workers': 4, 'positive_only': True, 'verbose': False}\n",
      "2024-11-26 00:57:28,942 - INFO - Initializing recommender...\n",
      "2024-11-26 00:57:28,943 - ERROR - Error in trial 68:\n",
      "2024-11-26 00:57:28,944 - ERROR - Traceback (most recent call last):\n",
      "  File \"/var/folders/t_/9cbyldyd2bv5q2656cp65pbr0000gn/T/ipykernel_39320/27809788.py\", line 44, in objective\n",
      "    recommender = MultiThreadSLIM_SLIMElasticNetRecommender(URM_train=urm_train)\n",
      "NameError: name 'MultiThreadSLIM_SLIMElasticNetRecommender' is not defined\n",
      "\n",
      "[I 2024-11-26 00:57:28,945] Trial 68 finished with value: -inf and parameters: {'alpha': 0.00036722347811619563, 'l1_ratio': 0.9627919180403537, 'topK': 132}. Best is trial 0 with value: -inf.\n",
      "2024-11-26 00:57:28,970 - INFO - \n",
      "Starting Trial 69\n",
      "2024-11-26 00:57:28,970 - INFO - Parameters: {'alpha': 0.003481241193225829, 'l1_ratio': 0.5133106561778812, 'topK': 485, 'workers': 4, 'positive_only': True, 'verbose': False}\n",
      "2024-11-26 00:57:28,971 - INFO - Initializing recommender...\n",
      "2024-11-26 00:57:28,971 - ERROR - Error in trial 69:\n",
      "2024-11-26 00:57:28,972 - ERROR - Traceback (most recent call last):\n",
      "  File \"/var/folders/t_/9cbyldyd2bv5q2656cp65pbr0000gn/T/ipykernel_39320/27809788.py\", line 44, in objective\n",
      "    recommender = MultiThreadSLIM_SLIMElasticNetRecommender(URM_train=urm_train)\n",
      "NameError: name 'MultiThreadSLIM_SLIMElasticNetRecommender' is not defined\n",
      "\n",
      "[I 2024-11-26 00:57:28,973] Trial 69 finished with value: -inf and parameters: {'alpha': 0.003481241193225829, 'l1_ratio': 0.5133106561778812, 'topK': 485}. Best is trial 0 with value: -inf.\n",
      "2024-11-26 00:57:28,996 - INFO - \n",
      "Starting Trial 70\n",
      "2024-11-26 00:57:28,997 - INFO - Parameters: {'alpha': 0.09746924379936647, 'l1_ratio': 0.8863374672404133, 'topK': 679, 'workers': 4, 'positive_only': True, 'verbose': False}\n",
      "2024-11-26 00:57:28,997 - INFO - Initializing recommender...\n",
      "2024-11-26 00:57:28,998 - ERROR - Error in trial 70:\n",
      "2024-11-26 00:57:28,999 - ERROR - Traceback (most recent call last):\n",
      "  File \"/var/folders/t_/9cbyldyd2bv5q2656cp65pbr0000gn/T/ipykernel_39320/27809788.py\", line 44, in objective\n",
      "    recommender = MultiThreadSLIM_SLIMElasticNetRecommender(URM_train=urm_train)\n",
      "NameError: name 'MultiThreadSLIM_SLIMElasticNetRecommender' is not defined\n",
      "\n",
      "[I 2024-11-26 00:57:29,000] Trial 70 finished with value: -inf and parameters: {'alpha': 0.09746924379936647, 'l1_ratio': 0.8863374672404133, 'topK': 679}. Best is trial 0 with value: -inf.\n",
      "2024-11-26 00:57:29,023 - INFO - \n",
      "Starting Trial 71\n",
      "2024-11-26 00:57:29,023 - INFO - Parameters: {'alpha': 0.00010221935967204496, 'l1_ratio': 0.00559121116180062, 'topK': 766, 'workers': 4, 'positive_only': True, 'verbose': False}\n",
      "2024-11-26 00:57:29,024 - INFO - Initializing recommender...\n",
      "2024-11-26 00:57:29,024 - ERROR - Error in trial 71:\n",
      "2024-11-26 00:57:29,025 - ERROR - Traceback (most recent call last):\n",
      "  File \"/var/folders/t_/9cbyldyd2bv5q2656cp65pbr0000gn/T/ipykernel_39320/27809788.py\", line 44, in objective\n",
      "    recommender = MultiThreadSLIM_SLIMElasticNetRecommender(URM_train=urm_train)\n",
      "NameError: name 'MultiThreadSLIM_SLIMElasticNetRecommender' is not defined\n",
      "\n",
      "[I 2024-11-26 00:57:29,027] Trial 71 finished with value: -inf and parameters: {'alpha': 0.00010221935967204496, 'l1_ratio': 0.00559121116180062, 'topK': 766}. Best is trial 0 with value: -inf.\n",
      "2024-11-26 00:57:29,048 - INFO - \n",
      "Starting Trial 72\n",
      "2024-11-26 00:57:29,049 - INFO - Parameters: {'alpha': 0.002709280020665884, 'l1_ratio': 0.028338102422153025, 'topK': 715, 'workers': 4, 'positive_only': True, 'verbose': False}\n",
      "2024-11-26 00:57:29,049 - INFO - Initializing recommender...\n",
      "2024-11-26 00:57:29,050 - ERROR - Error in trial 72:\n",
      "2024-11-26 00:57:29,051 - ERROR - Traceback (most recent call last):\n",
      "  File \"/var/folders/t_/9cbyldyd2bv5q2656cp65pbr0000gn/T/ipykernel_39320/27809788.py\", line 44, in objective\n",
      "    recommender = MultiThreadSLIM_SLIMElasticNetRecommender(URM_train=urm_train)\n",
      "NameError: name 'MultiThreadSLIM_SLIMElasticNetRecommender' is not defined\n",
      "\n",
      "[I 2024-11-26 00:57:29,052] Trial 72 finished with value: -inf and parameters: {'alpha': 0.002709280020665884, 'l1_ratio': 0.028338102422153025, 'topK': 715}. Best is trial 0 with value: -inf.\n",
      "2024-11-26 00:57:29,075 - INFO - \n",
      "Starting Trial 73\n",
      "2024-11-26 00:57:29,076 - INFO - Parameters: {'alpha': 0.023481109967159956, 'l1_ratio': 0.15422525601171563, 'topK': 591, 'workers': 4, 'positive_only': True, 'verbose': False}\n",
      "2024-11-26 00:57:29,076 - INFO - Initializing recommender...\n",
      "2024-11-26 00:57:29,077 - ERROR - Error in trial 73:\n",
      "2024-11-26 00:57:29,078 - ERROR - Traceback (most recent call last):\n",
      "  File \"/var/folders/t_/9cbyldyd2bv5q2656cp65pbr0000gn/T/ipykernel_39320/27809788.py\", line 44, in objective\n",
      "    recommender = MultiThreadSLIM_SLIMElasticNetRecommender(URM_train=urm_train)\n",
      "NameError: name 'MultiThreadSLIM_SLIMElasticNetRecommender' is not defined\n",
      "\n",
      "[I 2024-11-26 00:57:29,079] Trial 73 finished with value: -inf and parameters: {'alpha': 0.023481109967159956, 'l1_ratio': 0.15422525601171563, 'topK': 591}. Best is trial 0 with value: -inf.\n",
      "2024-11-26 00:57:29,100 - INFO - \n",
      "Starting Trial 74\n",
      "2024-11-26 00:57:29,101 - INFO - Parameters: {'alpha': 0.0001399830152900145, 'l1_ratio': 0.07017422975502599, 'topK': 650, 'workers': 4, 'positive_only': True, 'verbose': False}\n",
      "2024-11-26 00:57:29,102 - INFO - Initializing recommender...\n",
      "2024-11-26 00:57:29,102 - ERROR - Error in trial 74:\n",
      "2024-11-26 00:57:29,103 - ERROR - Traceback (most recent call last):\n",
      "  File \"/var/folders/t_/9cbyldyd2bv5q2656cp65pbr0000gn/T/ipykernel_39320/27809788.py\", line 44, in objective\n",
      "    recommender = MultiThreadSLIM_SLIMElasticNetRecommender(URM_train=urm_train)\n",
      "NameError: name 'MultiThreadSLIM_SLIMElasticNetRecommender' is not defined\n",
      "\n",
      "[I 2024-11-26 00:57:29,104] Trial 74 finished with value: -inf and parameters: {'alpha': 0.0001399830152900145, 'l1_ratio': 0.07017422975502599, 'topK': 650}. Best is trial 0 with value: -inf.\n",
      "2024-11-26 00:57:29,125 - INFO - \n",
      "Starting Trial 75\n",
      "2024-11-26 00:57:29,125 - INFO - Parameters: {'alpha': 0.013571715156868778, 'l1_ratio': 0.06618646799793171, 'topK': 958, 'workers': 4, 'positive_only': True, 'verbose': False}\n",
      "2024-11-26 00:57:29,126 - INFO - Initializing recommender...\n",
      "2024-11-26 00:57:29,126 - ERROR - Error in trial 75:\n",
      "2024-11-26 00:57:29,126 - ERROR - Traceback (most recent call last):\n",
      "  File \"/var/folders/t_/9cbyldyd2bv5q2656cp65pbr0000gn/T/ipykernel_39320/27809788.py\", line 44, in objective\n",
      "    recommender = MultiThreadSLIM_SLIMElasticNetRecommender(URM_train=urm_train)\n",
      "NameError: name 'MultiThreadSLIM_SLIMElasticNetRecommender' is not defined\n",
      "\n",
      "[I 2024-11-26 00:57:29,127] Trial 75 finished with value: -inf and parameters: {'alpha': 0.013571715156868778, 'l1_ratio': 0.06618646799793171, 'topK': 958}. Best is trial 0 with value: -inf.\n",
      "2024-11-26 00:57:29,149 - INFO - \n",
      "Starting Trial 76\n",
      "2024-11-26 00:57:29,150 - INFO - Parameters: {'alpha': 0.0007052953014231502, 'l1_ratio': 0.22795439078381174, 'topK': 766, 'workers': 4, 'positive_only': True, 'verbose': False}\n",
      "2024-11-26 00:57:29,150 - INFO - Initializing recommender...\n",
      "2024-11-26 00:57:29,151 - ERROR - Error in trial 76:\n",
      "2024-11-26 00:57:29,152 - ERROR - Traceback (most recent call last):\n",
      "  File \"/var/folders/t_/9cbyldyd2bv5q2656cp65pbr0000gn/T/ipykernel_39320/27809788.py\", line 44, in objective\n",
      "    recommender = MultiThreadSLIM_SLIMElasticNetRecommender(URM_train=urm_train)\n",
      "NameError: name 'MultiThreadSLIM_SLIMElasticNetRecommender' is not defined\n",
      "\n",
      "[I 2024-11-26 00:57:29,153] Trial 76 finished with value: -inf and parameters: {'alpha': 0.0007052953014231502, 'l1_ratio': 0.22795439078381174, 'topK': 766}. Best is trial 0 with value: -inf.\n",
      "2024-11-26 00:57:29,176 - INFO - \n",
      "Starting Trial 77\n",
      "2024-11-26 00:57:29,177 - INFO - Parameters: {'alpha': 0.000466505450268758, 'l1_ratio': 0.9222595489965694, 'topK': 540, 'workers': 4, 'positive_only': True, 'verbose': False}\n",
      "2024-11-26 00:57:29,178 - INFO - Initializing recommender...\n",
      "2024-11-26 00:57:29,178 - ERROR - Error in trial 77:\n",
      "2024-11-26 00:57:29,179 - ERROR - Traceback (most recent call last):\n",
      "  File \"/var/folders/t_/9cbyldyd2bv5q2656cp65pbr0000gn/T/ipykernel_39320/27809788.py\", line 44, in objective\n",
      "    recommender = MultiThreadSLIM_SLIMElasticNetRecommender(URM_train=urm_train)\n",
      "NameError: name 'MultiThreadSLIM_SLIMElasticNetRecommender' is not defined\n",
      "\n",
      "[I 2024-11-26 00:57:29,181] Trial 77 finished with value: -inf and parameters: {'alpha': 0.000466505450268758, 'l1_ratio': 0.9222595489965694, 'topK': 540}. Best is trial 0 with value: -inf.\n",
      "2024-11-26 00:57:29,203 - INFO - \n",
      "Starting Trial 78\n",
      "2024-11-26 00:57:29,203 - INFO - Parameters: {'alpha': 0.04300882199294616, 'l1_ratio': 0.9833914101745433, 'topK': 403, 'workers': 4, 'positive_only': True, 'verbose': False}\n",
      "2024-11-26 00:57:29,204 - INFO - Initializing recommender...\n",
      "2024-11-26 00:57:29,205 - ERROR - Error in trial 78:\n",
      "2024-11-26 00:57:29,206 - ERROR - Traceback (most recent call last):\n",
      "  File \"/var/folders/t_/9cbyldyd2bv5q2656cp65pbr0000gn/T/ipykernel_39320/27809788.py\", line 44, in objective\n",
      "    recommender = MultiThreadSLIM_SLIMElasticNetRecommender(URM_train=urm_train)\n",
      "NameError: name 'MultiThreadSLIM_SLIMElasticNetRecommender' is not defined\n",
      "\n",
      "[I 2024-11-26 00:57:29,206] Trial 78 finished with value: -inf and parameters: {'alpha': 0.04300882199294616, 'l1_ratio': 0.9833914101745433, 'topK': 403}. Best is trial 0 with value: -inf.\n",
      "2024-11-26 00:57:29,229 - INFO - \n",
      "Starting Trial 79\n",
      "2024-11-26 00:57:29,229 - INFO - Parameters: {'alpha': 0.00024946292753087295, 'l1_ratio': 0.8205106653906318, 'topK': 180, 'workers': 4, 'positive_only': True, 'verbose': False}\n",
      "2024-11-26 00:57:29,230 - INFO - Initializing recommender...\n",
      "2024-11-26 00:57:29,230 - ERROR - Error in trial 79:\n",
      "2024-11-26 00:57:29,231 - ERROR - Traceback (most recent call last):\n",
      "  File \"/var/folders/t_/9cbyldyd2bv5q2656cp65pbr0000gn/T/ipykernel_39320/27809788.py\", line 44, in objective\n",
      "    recommender = MultiThreadSLIM_SLIMElasticNetRecommender(URM_train=urm_train)\n",
      "NameError: name 'MultiThreadSLIM_SLIMElasticNetRecommender' is not defined\n",
      "\n",
      "[I 2024-11-26 00:57:29,232] Trial 79 finished with value: -inf and parameters: {'alpha': 0.00024946292753087295, 'l1_ratio': 0.8205106653906318, 'topK': 180}. Best is trial 0 with value: -inf.\n",
      "2024-11-26 00:57:29,319 - INFO - \n",
      "Starting Trial 80\n",
      "2024-11-26 00:57:29,319 - INFO - Parameters: {'alpha': 0.17255713791595487, 'l1_ratio': 0.7921441203106, 'topK': 806, 'workers': 4, 'positive_only': True, 'verbose': False}\n",
      "2024-11-26 00:57:29,320 - INFO - Initializing recommender...\n",
      "2024-11-26 00:57:29,320 - ERROR - Error in trial 80:\n",
      "2024-11-26 00:57:29,321 - ERROR - Traceback (most recent call last):\n",
      "  File \"/var/folders/t_/9cbyldyd2bv5q2656cp65pbr0000gn/T/ipykernel_39320/27809788.py\", line 44, in objective\n",
      "    recommender = MultiThreadSLIM_SLIMElasticNetRecommender(URM_train=urm_train)\n",
      "NameError: name 'MultiThreadSLIM_SLIMElasticNetRecommender' is not defined\n",
      "\n",
      "[I 2024-11-26 00:57:29,322] Trial 80 finished with value: -inf and parameters: {'alpha': 0.17255713791595487, 'l1_ratio': 0.7921441203106, 'topK': 806}. Best is trial 0 with value: -inf.\n",
      "2024-11-26 00:57:29,344 - INFO - \n",
      "Starting Trial 81\n",
      "2024-11-26 00:57:29,344 - INFO - Parameters: {'alpha': 0.01201305500338422, 'l1_ratio': 0.8670545612984479, 'topK': 284, 'workers': 4, 'positive_only': True, 'verbose': False}\n",
      "2024-11-26 00:57:29,345 - INFO - Initializing recommender...\n",
      "2024-11-26 00:57:29,345 - ERROR - Error in trial 81:\n",
      "2024-11-26 00:57:29,346 - ERROR - Traceback (most recent call last):\n",
      "  File \"/var/folders/t_/9cbyldyd2bv5q2656cp65pbr0000gn/T/ipykernel_39320/27809788.py\", line 44, in objective\n",
      "    recommender = MultiThreadSLIM_SLIMElasticNetRecommender(URM_train=urm_train)\n",
      "NameError: name 'MultiThreadSLIM_SLIMElasticNetRecommender' is not defined\n",
      "\n",
      "[I 2024-11-26 00:57:29,347] Trial 81 finished with value: -inf and parameters: {'alpha': 0.01201305500338422, 'l1_ratio': 0.8670545612984479, 'topK': 284}. Best is trial 0 with value: -inf.\n",
      "2024-11-26 00:57:29,371 - INFO - \n",
      "Starting Trial 82\n",
      "2024-11-26 00:57:29,372 - INFO - Parameters: {'alpha': 0.0014386376463756021, 'l1_ratio': 0.9094184353993884, 'topK': 228, 'workers': 4, 'positive_only': True, 'verbose': False}\n",
      "2024-11-26 00:57:29,373 - INFO - Initializing recommender...\n",
      "2024-11-26 00:57:29,373 - ERROR - Error in trial 82:\n",
      "2024-11-26 00:57:29,375 - ERROR - Traceback (most recent call last):\n",
      "  File \"/var/folders/t_/9cbyldyd2bv5q2656cp65pbr0000gn/T/ipykernel_39320/27809788.py\", line 44, in objective\n",
      "    recommender = MultiThreadSLIM_SLIMElasticNetRecommender(URM_train=urm_train)\n",
      "NameError: name 'MultiThreadSLIM_SLIMElasticNetRecommender' is not defined\n",
      "\n",
      "[I 2024-11-26 00:57:29,376] Trial 82 finished with value: -inf and parameters: {'alpha': 0.0014386376463756021, 'l1_ratio': 0.9094184353993884, 'topK': 228}. Best is trial 0 with value: -inf.\n",
      "2024-11-26 00:57:29,402 - INFO - \n",
      "Starting Trial 83\n",
      "2024-11-26 00:57:29,403 - INFO - Parameters: {'alpha': 0.008014738454916986, 'l1_ratio': 0.032229505236865325, 'topK': 847, 'workers': 4, 'positive_only': True, 'verbose': False}\n",
      "2024-11-26 00:57:29,403 - INFO - Initializing recommender...\n",
      "2024-11-26 00:57:29,404 - ERROR - Error in trial 83:\n",
      "2024-11-26 00:57:29,404 - ERROR - Traceback (most recent call last):\n",
      "  File \"/var/folders/t_/9cbyldyd2bv5q2656cp65pbr0000gn/T/ipykernel_39320/27809788.py\", line 44, in objective\n",
      "    recommender = MultiThreadSLIM_SLIMElasticNetRecommender(URM_train=urm_train)\n",
      "NameError: name 'MultiThreadSLIM_SLIMElasticNetRecommender' is not defined\n",
      "\n",
      "[I 2024-11-26 00:57:29,405] Trial 83 finished with value: -inf and parameters: {'alpha': 0.008014738454916986, 'l1_ratio': 0.032229505236865325, 'topK': 847}. Best is trial 0 with value: -inf.\n",
      "2024-11-26 00:57:29,428 - INFO - \n",
      "Starting Trial 84\n",
      "2024-11-26 00:57:29,428 - INFO - Parameters: {'alpha': 0.018578646133648135, 'l1_ratio': 0.12310325657443087, 'topK': 325, 'workers': 4, 'positive_only': True, 'verbose': False}\n",
      "2024-11-26 00:57:29,429 - INFO - Initializing recommender...\n",
      "2024-11-26 00:57:29,430 - ERROR - Error in trial 84:\n",
      "2024-11-26 00:57:29,430 - ERROR - Traceback (most recent call last):\n",
      "  File \"/var/folders/t_/9cbyldyd2bv5q2656cp65pbr0000gn/T/ipykernel_39320/27809788.py\", line 44, in objective\n",
      "    recommender = MultiThreadSLIM_SLIMElasticNetRecommender(URM_train=urm_train)\n",
      "NameError: name 'MultiThreadSLIM_SLIMElasticNetRecommender' is not defined\n",
      "\n",
      "[I 2024-11-26 00:57:29,431] Trial 84 finished with value: -inf and parameters: {'alpha': 0.018578646133648135, 'l1_ratio': 0.12310325657443087, 'topK': 325}. Best is trial 0 with value: -inf.\n",
      "2024-11-26 00:57:29,453 - INFO - \n",
      "Starting Trial 85\n",
      "2024-11-26 00:57:29,454 - INFO - Parameters: {'alpha': 0.057332469844652616, 'l1_ratio': 0.9675420245559516, 'topK': 703, 'workers': 4, 'positive_only': True, 'verbose': False}\n",
      "2024-11-26 00:57:29,454 - INFO - Initializing recommender...\n",
      "2024-11-26 00:57:29,455 - ERROR - Error in trial 85:\n",
      "2024-11-26 00:57:29,455 - ERROR - Traceback (most recent call last):\n",
      "  File \"/var/folders/t_/9cbyldyd2bv5q2656cp65pbr0000gn/T/ipykernel_39320/27809788.py\", line 44, in objective\n",
      "    recommender = MultiThreadSLIM_SLIMElasticNetRecommender(URM_train=urm_train)\n",
      "NameError: name 'MultiThreadSLIM_SLIMElasticNetRecommender' is not defined\n",
      "\n",
      "[I 2024-11-26 00:57:29,456] Trial 85 finished with value: -inf and parameters: {'alpha': 0.057332469844652616, 'l1_ratio': 0.9675420245559516, 'topK': 703}. Best is trial 0 with value: -inf.\n",
      "2024-11-26 00:57:29,479 - INFO - \n",
      "Starting Trial 86\n",
      "2024-11-26 00:57:29,480 - INFO - Parameters: {'alpha': 0.00502709182668543, 'l1_ratio': 0.840020948551004, 'topK': 152, 'workers': 4, 'positive_only': True, 'verbose': False}\n",
      "2024-11-26 00:57:29,480 - INFO - Initializing recommender...\n",
      "2024-11-26 00:57:29,481 - ERROR - Error in trial 86:\n",
      "2024-11-26 00:57:29,482 - ERROR - Traceback (most recent call last):\n",
      "  File \"/var/folders/t_/9cbyldyd2bv5q2656cp65pbr0000gn/T/ipykernel_39320/27809788.py\", line 44, in objective\n",
      "    recommender = MultiThreadSLIM_SLIMElasticNetRecommender(URM_train=urm_train)\n",
      "NameError: name 'MultiThreadSLIM_SLIMElasticNetRecommender' is not defined\n",
      "\n",
      "[I 2024-11-26 00:57:29,482] Trial 86 finished with value: -inf and parameters: {'alpha': 0.00502709182668543, 'l1_ratio': 0.840020948551004, 'topK': 152}. Best is trial 0 with value: -inf.\n",
      "2024-11-26 00:57:29,506 - INFO - \n",
      "Starting Trial 87\n",
      "2024-11-26 00:57:29,506 - INFO - Parameters: {'alpha': 0.00099101517396827, 'l1_ratio': 0.9390256561054576, 'topK': 351, 'workers': 4, 'positive_only': True, 'verbose': False}\n",
      "2024-11-26 00:57:29,507 - INFO - Initializing recommender...\n",
      "2024-11-26 00:57:29,507 - ERROR - Error in trial 87:\n",
      "2024-11-26 00:57:29,508 - ERROR - Traceback (most recent call last):\n",
      "  File \"/var/folders/t_/9cbyldyd2bv5q2656cp65pbr0000gn/T/ipykernel_39320/27809788.py\", line 44, in objective\n",
      "    recommender = MultiThreadSLIM_SLIMElasticNetRecommender(URM_train=urm_train)\n",
      "NameError: name 'MultiThreadSLIM_SLIMElasticNetRecommender' is not defined\n",
      "\n",
      "[I 2024-11-26 00:57:29,509] Trial 87 finished with value: -inf and parameters: {'alpha': 0.00099101517396827, 'l1_ratio': 0.9390256561054576, 'topK': 351}. Best is trial 0 with value: -inf.\n",
      "2024-11-26 00:57:29,530 - INFO - \n",
      "Starting Trial 88\n",
      "2024-11-26 00:57:29,530 - INFO - Parameters: {'alpha': 0.028796276638308735, 'l1_ratio': 0.41583703438307473, 'topK': 899, 'workers': 4, 'positive_only': True, 'verbose': False}\n",
      "2024-11-26 00:57:29,531 - INFO - Initializing recommender...\n",
      "2024-11-26 00:57:29,531 - ERROR - Error in trial 88:\n",
      "2024-11-26 00:57:29,532 - ERROR - Traceback (most recent call last):\n",
      "  File \"/var/folders/t_/9cbyldyd2bv5q2656cp65pbr0000gn/T/ipykernel_39320/27809788.py\", line 44, in objective\n",
      "    recommender = MultiThreadSLIM_SLIMElasticNetRecommender(URM_train=urm_train)\n",
      "NameError: name 'MultiThreadSLIM_SLIMElasticNetRecommender' is not defined\n",
      "\n",
      "[I 2024-11-26 00:57:29,533] Trial 88 finished with value: -inf and parameters: {'alpha': 0.028796276638308735, 'l1_ratio': 0.41583703438307473, 'topK': 899}. Best is trial 0 with value: -inf.\n",
      "2024-11-26 00:57:29,554 - INFO - \n",
      "Starting Trial 89\n",
      "2024-11-26 00:57:29,554 - INFO - Parameters: {'alpha': 0.09433658689385402, 'l1_ratio': 0.9024383965863767, 'topK': 200, 'workers': 4, 'positive_only': True, 'verbose': False}\n",
      "2024-11-26 00:57:29,555 - INFO - Initializing recommender...\n",
      "2024-11-26 00:57:29,555 - ERROR - Error in trial 89:\n",
      "2024-11-26 00:57:29,556 - ERROR - Traceback (most recent call last):\n",
      "  File \"/var/folders/t_/9cbyldyd2bv5q2656cp65pbr0000gn/T/ipykernel_39320/27809788.py\", line 44, in objective\n",
      "    recommender = MultiThreadSLIM_SLIMElasticNetRecommender(URM_train=urm_train)\n",
      "NameError: name 'MultiThreadSLIM_SLIMElasticNetRecommender' is not defined\n",
      "\n",
      "[I 2024-11-26 00:57:29,557] Trial 89 finished with value: -inf and parameters: {'alpha': 0.09433658689385402, 'l1_ratio': 0.9024383965863767, 'topK': 200}. Best is trial 0 with value: -inf.\n",
      "2024-11-26 00:57:29,586 - INFO - \n",
      "Starting Trial 90\n",
      "2024-11-26 00:57:29,587 - INFO - Parameters: {'alpha': 0.002791672605832621, 'l1_ratio': 0.3191956863403276, 'topK': 110, 'workers': 4, 'positive_only': True, 'verbose': False}\n",
      "2024-11-26 00:57:29,587 - INFO - Initializing recommender...\n",
      "2024-11-26 00:57:29,588 - ERROR - Error in trial 90:\n",
      "2024-11-26 00:57:29,589 - ERROR - Traceback (most recent call last):\n",
      "  File \"/var/folders/t_/9cbyldyd2bv5q2656cp65pbr0000gn/T/ipykernel_39320/27809788.py\", line 44, in objective\n",
      "    recommender = MultiThreadSLIM_SLIMElasticNetRecommender(URM_train=urm_train)\n",
      "NameError: name 'MultiThreadSLIM_SLIMElasticNetRecommender' is not defined\n",
      "\n",
      "[I 2024-11-26 00:57:29,590] Trial 90 finished with value: -inf and parameters: {'alpha': 0.002791672605832621, 'l1_ratio': 0.3191956863403276, 'topK': 110}. Best is trial 0 with value: -inf.\n",
      "2024-11-26 00:57:29,613 - INFO - \n",
      "Starting Trial 91\n",
      "2024-11-26 00:57:29,614 - INFO - Parameters: {'alpha': 0.0001624417708015844, 'l1_ratio': 0.7635010026458195, 'topK': 249, 'workers': 4, 'positive_only': True, 'verbose': False}\n",
      "2024-11-26 00:57:29,614 - INFO - Initializing recommender...\n",
      "2024-11-26 00:57:29,614 - ERROR - Error in trial 91:\n",
      "2024-11-26 00:57:29,615 - ERROR - Traceback (most recent call last):\n",
      "  File \"/var/folders/t_/9cbyldyd2bv5q2656cp65pbr0000gn/T/ipykernel_39320/27809788.py\", line 44, in objective\n",
      "    recommender = MultiThreadSLIM_SLIMElasticNetRecommender(URM_train=urm_train)\n",
      "NameError: name 'MultiThreadSLIM_SLIMElasticNetRecommender' is not defined\n",
      "\n",
      "[I 2024-11-26 00:57:29,616] Trial 91 finished with value: -inf and parameters: {'alpha': 0.0001624417708015844, 'l1_ratio': 0.7635010026458195, 'topK': 249}. Best is trial 0 with value: -inf.\n",
      "2024-11-26 00:57:29,638 - INFO - \n",
      "Starting Trial 92\n",
      "2024-11-26 00:57:29,639 - INFO - Parameters: {'alpha': 0.0001258736738485149, 'l1_ratio': 0.5858085739060979, 'topK': 288, 'workers': 4, 'positive_only': True, 'verbose': False}\n",
      "2024-11-26 00:57:29,639 - INFO - Initializing recommender...\n",
      "2024-11-26 00:57:29,640 - ERROR - Error in trial 92:\n",
      "2024-11-26 00:57:29,640 - ERROR - Traceback (most recent call last):\n",
      "  File \"/var/folders/t_/9cbyldyd2bv5q2656cp65pbr0000gn/T/ipykernel_39320/27809788.py\", line 44, in objective\n",
      "    recommender = MultiThreadSLIM_SLIMElasticNetRecommender(URM_train=urm_train)\n",
      "NameError: name 'MultiThreadSLIM_SLIMElasticNetRecommender' is not defined\n",
      "\n",
      "[I 2024-11-26 00:57:29,641] Trial 92 finished with value: -inf and parameters: {'alpha': 0.0001258736738485149, 'l1_ratio': 0.5858085739060979, 'topK': 288}. Best is trial 0 with value: -inf.\n",
      "2024-11-26 00:57:29,717 - INFO - \n",
      "Starting Trial 93\n",
      "2024-11-26 00:57:29,723 - INFO - Parameters: {'alpha': 0.00019512605549260224, 'l1_ratio': 0.9960574160307673, 'topK': 665, 'workers': 4, 'positive_only': True, 'verbose': False}\n",
      "2024-11-26 00:57:29,727 - INFO - Initializing recommender...\n",
      "2024-11-26 00:57:29,727 - ERROR - Error in trial 93:\n",
      "2024-11-26 00:57:29,728 - ERROR - Traceback (most recent call last):\n",
      "  File \"/var/folders/t_/9cbyldyd2bv5q2656cp65pbr0000gn/T/ipykernel_39320/27809788.py\", line 44, in objective\n",
      "    recommender = MultiThreadSLIM_SLIMElasticNetRecommender(URM_train=urm_train)\n",
      "NameError: name 'MultiThreadSLIM_SLIMElasticNetRecommender' is not defined\n",
      "\n",
      "[I 2024-11-26 00:57:29,729] Trial 93 finished with value: -inf and parameters: {'alpha': 0.00019512605549260224, 'l1_ratio': 0.9960574160307673, 'topK': 665}. Best is trial 0 with value: -inf.\n",
      "2024-11-26 00:57:29,754 - INFO - \n",
      "Starting Trial 94\n",
      "2024-11-26 00:57:29,755 - INFO - Parameters: {'alpha': 0.00024150683126017192, 'l1_ratio': 0.6991636889081437, 'topK': 417, 'workers': 4, 'positive_only': True, 'verbose': False}\n",
      "2024-11-26 00:57:29,755 - INFO - Initializing recommender...\n",
      "2024-11-26 00:57:29,756 - ERROR - Error in trial 94:\n",
      "2024-11-26 00:57:29,756 - ERROR - Traceback (most recent call last):\n",
      "  File \"/var/folders/t_/9cbyldyd2bv5q2656cp65pbr0000gn/T/ipykernel_39320/27809788.py\", line 44, in objective\n",
      "    recommender = MultiThreadSLIM_SLIMElasticNetRecommender(URM_train=urm_train)\n",
      "NameError: name 'MultiThreadSLIM_SLIMElasticNetRecommender' is not defined\n",
      "\n",
      "[I 2024-11-26 00:57:29,758] Trial 94 finished with value: -inf and parameters: {'alpha': 0.00024150683126017192, 'l1_ratio': 0.6991636889081437, 'topK': 417}. Best is trial 0 with value: -inf.\n",
      "2024-11-26 00:57:29,781 - INFO - \n",
      "Starting Trial 95\n",
      "2024-11-26 00:57:29,781 - INFO - Parameters: {'alpha': 0.0005292117929764186, 'l1_ratio': 0.7453620616953857, 'topK': 563, 'workers': 4, 'positive_only': True, 'verbose': False}\n",
      "2024-11-26 00:57:29,782 - INFO - Initializing recommender...\n",
      "2024-11-26 00:57:29,782 - ERROR - Error in trial 95:\n",
      "2024-11-26 00:57:29,783 - ERROR - Traceback (most recent call last):\n",
      "  File \"/var/folders/t_/9cbyldyd2bv5q2656cp65pbr0000gn/T/ipykernel_39320/27809788.py\", line 44, in objective\n",
      "    recommender = MultiThreadSLIM_SLIMElasticNetRecommender(URM_train=urm_train)\n",
      "NameError: name 'MultiThreadSLIM_SLIMElasticNetRecommender' is not defined\n",
      "\n",
      "[I 2024-11-26 00:57:29,784] Trial 95 finished with value: -inf and parameters: {'alpha': 0.0005292117929764186, 'l1_ratio': 0.7453620616953857, 'topK': 563}. Best is trial 0 with value: -inf.\n",
      "2024-11-26 00:57:29,808 - INFO - \n",
      "Starting Trial 96\n",
      "2024-11-26 00:57:29,809 - INFO - Parameters: {'alpha': 0.0003515884942124223, 'l1_ratio': 0.6571756804566218, 'topK': 308, 'workers': 4, 'positive_only': True, 'verbose': False}\n",
      "2024-11-26 00:57:29,809 - INFO - Initializing recommender...\n",
      "2024-11-26 00:57:29,810 - ERROR - Error in trial 96:\n",
      "2024-11-26 00:57:29,811 - ERROR - Traceback (most recent call last):\n",
      "  File \"/var/folders/t_/9cbyldyd2bv5q2656cp65pbr0000gn/T/ipykernel_39320/27809788.py\", line 44, in objective\n",
      "    recommender = MultiThreadSLIM_SLIMElasticNetRecommender(URM_train=urm_train)\n",
      "NameError: name 'MultiThreadSLIM_SLIMElasticNetRecommender' is not defined\n",
      "\n",
      "[I 2024-11-26 00:57:29,812] Trial 96 finished with value: -inf and parameters: {'alpha': 0.0003515884942124223, 'l1_ratio': 0.6571756804566218, 'topK': 308}. Best is trial 0 with value: -inf.\n",
      "2024-11-26 00:57:29,837 - INFO - \n",
      "Starting Trial 97\n",
      "2024-11-26 00:57:29,837 - INFO - Parameters: {'alpha': 0.03741082392710588, 'l1_ratio': 0.8031909972148314, 'topK': 84, 'workers': 4, 'positive_only': True, 'verbose': False}\n",
      "2024-11-26 00:57:29,838 - INFO - Initializing recommender...\n",
      "2024-11-26 00:57:29,838 - ERROR - Error in trial 97:\n",
      "2024-11-26 00:57:29,840 - ERROR - Traceback (most recent call last):\n",
      "  File \"/var/folders/t_/9cbyldyd2bv5q2656cp65pbr0000gn/T/ipykernel_39320/27809788.py\", line 44, in objective\n",
      "    recommender = MultiThreadSLIM_SLIMElasticNetRecommender(URM_train=urm_train)\n",
      "NameError: name 'MultiThreadSLIM_SLIMElasticNetRecommender' is not defined\n",
      "\n",
      "[I 2024-11-26 00:57:29,841] Trial 97 finished with value: -inf and parameters: {'alpha': 0.03741082392710588, 'l1_ratio': 0.8031909972148314, 'topK': 84}. Best is trial 0 with value: -inf.\n",
      "2024-11-26 00:57:29,865 - INFO - \n",
      "Starting Trial 98\n",
      "2024-11-26 00:57:29,866 - INFO - Parameters: {'alpha': 0.019535545407997332, 'l1_ratio': 0.6159049430847695, 'topK': 622, 'workers': 4, 'positive_only': True, 'verbose': False}\n",
      "2024-11-26 00:57:29,866 - INFO - Initializing recommender...\n",
      "2024-11-26 00:57:29,867 - ERROR - Error in trial 98:\n",
      "2024-11-26 00:57:29,868 - ERROR - Traceback (most recent call last):\n",
      "  File \"/var/folders/t_/9cbyldyd2bv5q2656cp65pbr0000gn/T/ipykernel_39320/27809788.py\", line 44, in objective\n",
      "    recommender = MultiThreadSLIM_SLIMElasticNetRecommender(URM_train=urm_train)\n",
      "NameError: name 'MultiThreadSLIM_SLIMElasticNetRecommender' is not defined\n",
      "\n",
      "[I 2024-11-26 00:57:29,869] Trial 98 finished with value: -inf and parameters: {'alpha': 0.019535545407997332, 'l1_ratio': 0.6159049430847695, 'topK': 622}. Best is trial 0 with value: -inf.\n",
      "2024-11-26 00:57:29,895 - INFO - \n",
      "Starting Trial 99\n",
      "2024-11-26 00:57:29,896 - INFO - Parameters: {'alpha': 0.13227225717762128, 'l1_ratio': 0.547051412751137, 'topK': 473, 'workers': 4, 'positive_only': True, 'verbose': False}\n",
      "2024-11-26 00:57:29,896 - INFO - Initializing recommender...\n",
      "2024-11-26 00:57:29,897 - ERROR - Error in trial 99:\n",
      "2024-11-26 00:57:29,898 - ERROR - Traceback (most recent call last):\n",
      "  File \"/var/folders/t_/9cbyldyd2bv5q2656cp65pbr0000gn/T/ipykernel_39320/27809788.py\", line 44, in objective\n",
      "    recommender = MultiThreadSLIM_SLIMElasticNetRecommender(URM_train=urm_train)\n",
      "NameError: name 'MultiThreadSLIM_SLIMElasticNetRecommender' is not defined\n",
      "\n",
      "[I 2024-11-26 00:57:29,899] Trial 99 finished with value: -inf and parameters: {'alpha': 0.13227225717762128, 'l1_ratio': 0.547051412751137, 'topK': 473}. Best is trial 0 with value: -inf.\n",
      "2024-11-26 00:57:29,920 - INFO - \n",
      "Optimization completed!\n",
      "2024-11-26 00:57:29,929 - INFO - Number of completed trials: 100\n",
      "2024-11-26 00:57:29,930 - INFO - Best NDCG@10: -inf\n",
      "2024-11-26 00:57:29,932 - INFO - Best hyperparameters: {'alpha': 0.04216944928979198, 'l1_ratio': 0.874776361499749, 'topK': 218}\n",
      "[W 2024-11-26 00:57:30,262] Trial 0 is omitted in visualization because its objective value is inf or nan.\n",
      "[W 2024-11-26 00:57:30,262] Trial 1 is omitted in visualization because its objective value is inf or nan.\n",
      "[W 2024-11-26 00:57:30,263] Trial 2 is omitted in visualization because its objective value is inf or nan.\n",
      "[W 2024-11-26 00:57:30,263] Trial 3 is omitted in visualization because its objective value is inf or nan.\n",
      "[W 2024-11-26 00:57:30,263] Trial 4 is omitted in visualization because its objective value is inf or nan.\n",
      "[W 2024-11-26 00:57:30,264] Trial 5 is omitted in visualization because its objective value is inf or nan.\n",
      "[W 2024-11-26 00:57:30,264] Trial 6 is omitted in visualization because its objective value is inf or nan.\n",
      "[W 2024-11-26 00:57:30,265] Trial 7 is omitted in visualization because its objective value is inf or nan.\n",
      "[W 2024-11-26 00:57:30,265] Trial 8 is omitted in visualization because its objective value is inf or nan.\n",
      "[W 2024-11-26 00:57:30,266] Trial 9 is omitted in visualization because its objective value is inf or nan.\n",
      "[W 2024-11-26 00:57:30,266] Trial 10 is omitted in visualization because its objective value is inf or nan.\n",
      "[W 2024-11-26 00:57:30,266] Trial 11 is omitted in visualization because its objective value is inf or nan.\n",
      "[W 2024-11-26 00:57:30,267] Trial 12 is omitted in visualization because its objective value is inf or nan.\n",
      "[W 2024-11-26 00:57:30,267] Trial 13 is omitted in visualization because its objective value is inf or nan.\n",
      "[W 2024-11-26 00:57:30,267] Trial 14 is omitted in visualization because its objective value is inf or nan.\n",
      "[W 2024-11-26 00:57:30,268] Trial 15 is omitted in visualization because its objective value is inf or nan.\n",
      "[W 2024-11-26 00:57:30,269] Trial 16 is omitted in visualization because its objective value is inf or nan.\n",
      "[W 2024-11-26 00:57:30,269] Trial 17 is omitted in visualization because its objective value is inf or nan.\n",
      "[W 2024-11-26 00:57:30,270] Trial 18 is omitted in visualization because its objective value is inf or nan.\n",
      "[W 2024-11-26 00:57:30,270] Trial 19 is omitted in visualization because its objective value is inf or nan.\n",
      "[W 2024-11-26 00:57:30,271] Trial 20 is omitted in visualization because its objective value is inf or nan.\n",
      "[W 2024-11-26 00:57:30,271] Trial 21 is omitted in visualization because its objective value is inf or nan.\n",
      "[W 2024-11-26 00:57:30,271] Trial 22 is omitted in visualization because its objective value is inf or nan.\n",
      "[W 2024-11-26 00:57:30,272] Trial 23 is omitted in visualization because its objective value is inf or nan.\n",
      "[W 2024-11-26 00:57:30,272] Trial 24 is omitted in visualization because its objective value is inf or nan.\n",
      "[W 2024-11-26 00:57:30,273] Trial 25 is omitted in visualization because its objective value is inf or nan.\n",
      "[W 2024-11-26 00:57:30,273] Trial 26 is omitted in visualization because its objective value is inf or nan.\n",
      "[W 2024-11-26 00:57:30,274] Trial 27 is omitted in visualization because its objective value is inf or nan.\n",
      "[W 2024-11-26 00:57:30,274] Trial 28 is omitted in visualization because its objective value is inf or nan.\n",
      "[W 2024-11-26 00:57:30,275] Trial 29 is omitted in visualization because its objective value is inf or nan.\n",
      "[W 2024-11-26 00:57:30,275] Trial 30 is omitted in visualization because its objective value is inf or nan.\n",
      "[W 2024-11-26 00:57:30,275] Trial 31 is omitted in visualization because its objective value is inf or nan.\n",
      "[W 2024-11-26 00:57:30,276] Trial 32 is omitted in visualization because its objective value is inf or nan.\n",
      "[W 2024-11-26 00:57:30,276] Trial 33 is omitted in visualization because its objective value is inf or nan.\n",
      "[W 2024-11-26 00:57:30,276] Trial 34 is omitted in visualization because its objective value is inf or nan.\n",
      "[W 2024-11-26 00:57:30,276] Trial 35 is omitted in visualization because its objective value is inf or nan.\n",
      "[W 2024-11-26 00:57:30,277] Trial 36 is omitted in visualization because its objective value is inf or nan.\n",
      "[W 2024-11-26 00:57:30,277] Trial 37 is omitted in visualization because its objective value is inf or nan.\n",
      "[W 2024-11-26 00:57:30,277] Trial 38 is omitted in visualization because its objective value is inf or nan.\n",
      "[W 2024-11-26 00:57:30,277] Trial 39 is omitted in visualization because its objective value is inf or nan.\n",
      "[W 2024-11-26 00:57:30,278] Trial 40 is omitted in visualization because its objective value is inf or nan.\n",
      "[W 2024-11-26 00:57:30,278] Trial 41 is omitted in visualization because its objective value is inf or nan.\n",
      "[W 2024-11-26 00:57:30,279] Trial 42 is omitted in visualization because its objective value is inf or nan.\n",
      "[W 2024-11-26 00:57:30,280] Trial 43 is omitted in visualization because its objective value is inf or nan.\n",
      "[W 2024-11-26 00:57:30,280] Trial 44 is omitted in visualization because its objective value is inf or nan.\n",
      "[W 2024-11-26 00:57:30,280] Trial 45 is omitted in visualization because its objective value is inf or nan.\n",
      "[W 2024-11-26 00:57:30,281] Trial 46 is omitted in visualization because its objective value is inf or nan.\n",
      "[W 2024-11-26 00:57:30,281] Trial 47 is omitted in visualization because its objective value is inf or nan.\n",
      "[W 2024-11-26 00:57:30,281] Trial 48 is omitted in visualization because its objective value is inf or nan.\n",
      "[W 2024-11-26 00:57:30,281] Trial 49 is omitted in visualization because its objective value is inf or nan.\n",
      "[W 2024-11-26 00:57:30,283] Trial 50 is omitted in visualization because its objective value is inf or nan.\n",
      "[W 2024-11-26 00:57:30,284] Trial 51 is omitted in visualization because its objective value is inf or nan.\n",
      "[W 2024-11-26 00:57:30,285] Trial 52 is omitted in visualization because its objective value is inf or nan.\n",
      "[W 2024-11-26 00:57:30,286] Trial 53 is omitted in visualization because its objective value is inf or nan.\n",
      "[W 2024-11-26 00:57:30,286] Trial 54 is omitted in visualization because its objective value is inf or nan.\n",
      "[W 2024-11-26 00:57:30,286] Trial 55 is omitted in visualization because its objective value is inf or nan.\n",
      "[W 2024-11-26 00:57:30,287] Trial 56 is omitted in visualization because its objective value is inf or nan.\n",
      "[W 2024-11-26 00:57:30,287] Trial 57 is omitted in visualization because its objective value is inf or nan.\n",
      "[W 2024-11-26 00:57:30,287] Trial 58 is omitted in visualization because its objective value is inf or nan.\n",
      "[W 2024-11-26 00:57:30,288] Trial 59 is omitted in visualization because its objective value is inf or nan.\n",
      "[W 2024-11-26 00:57:30,288] Trial 60 is omitted in visualization because its objective value is inf or nan.\n",
      "[W 2024-11-26 00:57:30,288] Trial 61 is omitted in visualization because its objective value is inf or nan.\n",
      "[W 2024-11-26 00:57:30,289] Trial 62 is omitted in visualization because its objective value is inf or nan.\n",
      "[W 2024-11-26 00:57:30,290] Trial 63 is omitted in visualization because its objective value is inf or nan.\n",
      "[W 2024-11-26 00:57:30,291] Trial 64 is omitted in visualization because its objective value is inf or nan.\n",
      "[W 2024-11-26 00:57:30,292] Trial 65 is omitted in visualization because its objective value is inf or nan.\n",
      "[W 2024-11-26 00:57:30,292] Trial 66 is omitted in visualization because its objective value is inf or nan.\n",
      "[W 2024-11-26 00:57:30,292] Trial 67 is omitted in visualization because its objective value is inf or nan.\n",
      "[W 2024-11-26 00:57:30,292] Trial 68 is omitted in visualization because its objective value is inf or nan.\n",
      "[W 2024-11-26 00:57:30,293] Trial 69 is omitted in visualization because its objective value is inf or nan.\n",
      "[W 2024-11-26 00:57:30,293] Trial 70 is omitted in visualization because its objective value is inf or nan.\n",
      "[W 2024-11-26 00:57:30,293] Trial 71 is omitted in visualization because its objective value is inf or nan.\n",
      "[W 2024-11-26 00:57:30,294] Trial 72 is omitted in visualization because its objective value is inf or nan.\n",
      "[W 2024-11-26 00:57:30,294] Trial 73 is omitted in visualization because its objective value is inf or nan.\n",
      "[W 2024-11-26 00:57:30,295] Trial 74 is omitted in visualization because its objective value is inf or nan.\n",
      "[W 2024-11-26 00:57:30,295] Trial 75 is omitted in visualization because its objective value is inf or nan.\n",
      "[W 2024-11-26 00:57:30,296] Trial 76 is omitted in visualization because its objective value is inf or nan.\n",
      "[W 2024-11-26 00:57:30,296] Trial 77 is omitted in visualization because its objective value is inf or nan.\n",
      "[W 2024-11-26 00:57:30,297] Trial 78 is omitted in visualization because its objective value is inf or nan.\n",
      "[W 2024-11-26 00:57:30,297] Trial 79 is omitted in visualization because its objective value is inf or nan.\n",
      "[W 2024-11-26 00:57:30,297] Trial 80 is omitted in visualization because its objective value is inf or nan.\n",
      "[W 2024-11-26 00:57:30,298] Trial 81 is omitted in visualization because its objective value is inf or nan.\n",
      "[W 2024-11-26 00:57:30,298] Trial 82 is omitted in visualization because its objective value is inf or nan.\n",
      "[W 2024-11-26 00:57:30,298] Trial 83 is omitted in visualization because its objective value is inf or nan.\n",
      "[W 2024-11-26 00:57:30,298] Trial 84 is omitted in visualization because its objective value is inf or nan.\n",
      "[W 2024-11-26 00:57:30,299] Trial 85 is omitted in visualization because its objective value is inf or nan.\n",
      "[W 2024-11-26 00:57:30,299] Trial 86 is omitted in visualization because its objective value is inf or nan.\n",
      "[W 2024-11-26 00:57:30,299] Trial 87 is omitted in visualization because its objective value is inf or nan.\n",
      "[W 2024-11-26 00:57:30,300] Trial 88 is omitted in visualization because its objective value is inf or nan.\n",
      "[W 2024-11-26 00:57:30,300] Trial 89 is omitted in visualization because its objective value is inf or nan.\n",
      "[W 2024-11-26 00:57:30,300] Trial 90 is omitted in visualization because its objective value is inf or nan.\n",
      "[W 2024-11-26 00:57:30,301] Trial 91 is omitted in visualization because its objective value is inf or nan.\n",
      "[W 2024-11-26 00:57:30,301] Trial 92 is omitted in visualization because its objective value is inf or nan.\n",
      "[W 2024-11-26 00:57:30,302] Trial 93 is omitted in visualization because its objective value is inf or nan.\n",
      "[W 2024-11-26 00:57:30,302] Trial 94 is omitted in visualization because its objective value is inf or nan.\n",
      "[W 2024-11-26 00:57:30,314] Trial 95 is omitted in visualization because its objective value is inf or nan.\n",
      "[W 2024-11-26 00:57:30,317] Trial 96 is omitted in visualization because its objective value is inf or nan.\n",
      "[W 2024-11-26 00:57:30,320] Trial 97 is omitted in visualization because its objective value is inf or nan.\n",
      "[W 2024-11-26 00:57:30,321] Trial 98 is omitted in visualization because its objective value is inf or nan.\n",
      "[W 2024-11-26 00:57:30,323] Trial 99 is omitted in visualization because its objective value is inf or nan.\n",
      "[W 2024-11-26 00:57:30,332] Study instance does not contain completed trials.\n"
     ]
    },
    {
     "name": "stdout",
     "output_type": "stream",
     "text": [
      "Best Hyperparameters:\n",
      "{'alpha': 0.04216944928979198, 'l1_ratio': 0.874776361499749, 'topK': 218}\n",
      "Best NDCG@10:\n",
      "-inf\n"
     ]
    }
   ],
   "source": [
    "if __name__ == \"__main__\":\n",
    "\n",
    "    # Call the optimizer for SLIMElasticNet\n",
    "    results = optimize_slim_elasticnet(\n",
    "        urm_train=urm_train,\n",
    "        urm_validation=urm_validation,\n",
    "        n_trials=100  # Number of optimization trials\n",
    "    )\n",
    "\n",
    "    # Print best results\n",
    "    print(\"Best Hyperparameters:\")\n",
    "    print(results[\"best_params\"])\n",
    "    print(\"Best NDCG@10:\")\n",
    "    print(results[\"best_ndcg\"])\n"
   ]
  },
  {
   "cell_type": "code",
   "execution_count": 34,
   "metadata": {},
   "outputs": [
    {
     "name": "stdout",
     "output_type": "stream",
     "text": [
      "RP3betaRecommenderICM: Normalized URM and ICM\n",
      "RP3betaRecommenderICM: Processed 38121 ( 100.00% ) in 2.72 min. Items per second: 234\n",
      "RP3betaRecommenderICM: Computation completed\n"
     ]
    }
   ],
   "source": [
    "# Initialize with both URM and ICM\n",
    "rp3beta_icm = RP3betaRecommenderICM(urm_train, icm_matrix)\n",
    "\n",
    "# Fit with desired parameters\n",
    "rp3beta_icm.fit(\n",
    "    topK= 45,\n",
    "    alpha= 1.8233706541466446,\n",
    "    beta= 0.3532994315100997,\n",
    "    delta= 0.22907169615669423,\n",
    "    min_rating= 0.9940576605024676,\n",
    "    implicit= True,\n",
    "    normalize_similarity= True\n",
    ")"
   ]
  },
  {
   "cell_type": "code",
   "execution_count": 35,
   "metadata": {},
   "outputs": [
    {
     "name": "stdout",
     "output_type": "stream",
     "text": [
      "EvaluatorHoldout: Ignoring 175 ( 0.5%) Users that have less than 1 test interactions\n",
      "EvaluatorHoldout: Processed 35561 (100.0%) in 19.65 sec. Users per second: 1810\n",
      "CUTOFF: 10 - PRECISION: 0.0896122, PRECISION_RECALL_MIN_DEN: 0.1352885, RECALL: 0.1161388, MAP: 0.0443712, MAP_MIN_DEN: 0.0657579, MRR: 0.2526031, NDCG: 0.1292952, F1: 0.1011655, HIT_RATE: 0.5100813, ARHR_ALL_HITS: 0.3307186, NOVELTY: 0.0037006, AVERAGE_POPULARITY: 0.1146078, DIVERSITY_MEAN_INTER_LIST: 0.9965679, DIVERSITY_HERFINDAHL: 0.9996540, COVERAGE_ITEM: 0.5544975, COVERAGE_ITEM_HIT: 0.2335458, ITEMS_IN_GT: 0.9957504, COVERAGE_USER: 0.9951030, COVERAGE_USER_HIT: 0.5075834, USERS_IN_GT: 0.9951030, DIVERSITY_GINI: 0.1705873, SHANNON_ENTROPY: 12.8830481, RATIO_DIVERSITY_HERFINDAHL: 0.9997118, RATIO_DIVERSITY_GINI: 0.2811865, RATIO_SHANNON_ENTROPY: 0.8728449, RATIO_AVERAGE_POPULARITY: 1.5680361, RATIO_NOVELTY: 0.2765146, \n",
      "\n"
     ]
    }
   ],
   "source": [
    "# Initialize the evaluator with the test user-item matrix\n",
    "evaluator = EvaluatorHoldout(urm_test, cutoff_list=[10] )\n",
    "\n",
    "# Evaluate the TopPopularRecommender\n",
    "results_df, results_run_string = evaluator.evaluateRecommender(rp3beta_icm)\n",
    "\n",
    "# Print the evaluation results\n",
    "print(results_run_string)"
   ]
  },
  {
   "cell_type": "code",
   "execution_count": 28,
   "metadata": {},
   "outputs": [
    {
     "name": "stdout",
     "output_type": "stream",
     "text": [
      "RP3betaRecommenderICM: Normalized URM and ICM\n",
      "RP3betaRecommenderICM: Processed 38121 ( 100.00% ) in 2.61 min. Items per second: 244\n",
      "RP3betaRecommenderICM: Computation completed\n"
     ]
    }
   ],
   "source": [
    "# Initialize with both URM and ICM\n",
    "recommender = RP3betaRecommenderICM(urm_train, icm_matrix)\n",
    "\n",
    "# Fit with desired parameters\n",
    "recommender.fit(\n",
    "    topK= 17,\n",
    "    alpha= 0.9996386762753586,\n",
    "    beta= 0.21406242351456914,\n",
    "    delta= 0.17583769441037236,\n",
    "    min_rating= 0.4181995527765843,\n",
    "    implicit= False,\n",
    "    normalize_similarity= True\n",
    ")"
   ]
  },
  {
   "cell_type": "code",
   "execution_count": 29,
   "metadata": {},
   "outputs": [
    {
     "name": "stdout",
     "output_type": "stream",
     "text": [
      "EvaluatorHoldout: Ignoring 175 ( 0.5%) Users that have less than 1 test interactions\n",
      "EvaluatorHoldout: Processed 35561 (100.0%) in 17.16 sec. Users per second: 2072\n",
      "CUTOFF: 10 - PRECISION: 0.0863727, PRECISION_RECALL_MIN_DEN: 0.1306010, RECALL: 0.1120475, MAP: 0.0432113, MAP_MIN_DEN: 0.0643592, MRR: 0.2499103, NDCG: 0.1261464, F1: 0.0975490, HIT_RATE: 0.4984955, ARHR_ALL_HITS: 0.3246523, NOVELTY: 0.0037683, AVERAGE_POPULARITY: 0.0941379, DIVERSITY_MEAN_INTER_LIST: 0.9980544, DIVERSITY_HERFINDAHL: 0.9998026, COVERAGE_ITEM: 0.6986176, COVERAGE_ITEM_HIT: 0.2561580, ITEMS_IN_GT: 0.9957504, COVERAGE_USER: 0.9951030, COVERAGE_USER_HIT: 0.4960544, USERS_IN_GT: 0.9951030, DIVERSITY_GINI: 0.2455011, SHANNON_ENTROPY: 13.4618740, RATIO_DIVERSITY_HERFINDAHL: 0.9998605, RATIO_DIVERSITY_GINI: 0.4046702, RATIO_SHANNON_ENTROPY: 0.9120612, RATIO_AVERAGE_POPULARITY: 1.2879710, RATIO_NOVELTY: 0.2815729, \n",
      "\n"
     ]
    }
   ],
   "source": [
    "# Initialize the evaluator with the test user-item matrix\n",
    "evaluator = EvaluatorHoldout(urm_test, cutoff_list=[10] )\n",
    "\n",
    "# Evaluate the TopPopularRecommender\n",
    "results_df, results_run_string = evaluator.evaluateRecommender(recommender)\n",
    "\n",
    "# Print the evaluation results\n",
    "print(results_run_string)"
   ]
  },
  {
   "cell_type": "code",
   "execution_count": 31,
   "metadata": {},
   "outputs": [
    {
     "name": "stdout",
     "output_type": "stream",
     "text": [
      "RP3betaRecommenderICM: Normalized URM and ICM\n",
      "RP3betaRecommenderICM: Processed 38121 ( 100.00% ) in 2.60 min. Items per second: 245\n",
      "RP3betaRecommenderICM: Computation completed\n"
     ]
    }
   ],
   "source": [
    "# Initialize with both URM and ICM\n",
    "recommender = RP3betaRecommenderICM(urm_train, icm_matrix)\n",
    "\n",
    "# Fit with desired parameters\n",
    "recommender.fit(\n",
    "    topK= 17,\n",
    "    alpha= 0.9996386762753586,\n",
    "    beta= 0.21406242351456914,\n",
    "    delta= 0.17583769441037236,\n",
    "    min_rating= 0.4181995527765843,\n",
    "    implicit= True,\n",
    "    normalize_similarity= True\n",
    ")"
   ]
  },
  {
   "cell_type": "code",
   "execution_count": 32,
   "metadata": {},
   "outputs": [
    {
     "name": "stdout",
     "output_type": "stream",
     "text": [
      "EvaluatorHoldout: Ignoring 175 ( 0.5%) Users that have less than 1 test interactions\n",
      "EvaluatorHoldout: Processed 35561 (100.0%) in 16.92 sec. Users per second: 2102\n",
      "CUTOFF: 10 - PRECISION: 0.0863727, PRECISION_RECALL_MIN_DEN: 0.1306010, RECALL: 0.1120475, MAP: 0.0432113, MAP_MIN_DEN: 0.0643592, MRR: 0.2499103, NDCG: 0.1261464, F1: 0.0975490, HIT_RATE: 0.4984955, ARHR_ALL_HITS: 0.3246523, NOVELTY: 0.0037683, AVERAGE_POPULARITY: 0.0941379, DIVERSITY_MEAN_INTER_LIST: 0.9980544, DIVERSITY_HERFINDAHL: 0.9998026, COVERAGE_ITEM: 0.6986176, COVERAGE_ITEM_HIT: 0.2561580, ITEMS_IN_GT: 0.9957504, COVERAGE_USER: 0.9951030, COVERAGE_USER_HIT: 0.4960544, USERS_IN_GT: 0.9951030, DIVERSITY_GINI: 0.2455011, SHANNON_ENTROPY: 13.4618740, RATIO_DIVERSITY_HERFINDAHL: 0.9998605, RATIO_DIVERSITY_GINI: 0.4046702, RATIO_SHANNON_ENTROPY: 0.9120612, RATIO_AVERAGE_POPULARITY: 1.2879710, RATIO_NOVELTY: 0.2815729, \n",
      "\n"
     ]
    }
   ],
   "source": [
    "# Initialize the evaluator with the test user-item matrix\n",
    "evaluator = EvaluatorHoldout(urm_test, cutoff_list=[10] )\n",
    "\n",
    "# Evaluate the TopPopularRecommender\n",
    "results_df, results_run_string = evaluator.evaluateRecommender(recommender)\n",
    "\n",
    "# Print the evaluation results\n",
    "print(results_run_string)"
   ]
  },
  {
   "cell_type": "markdown",
   "metadata": {},
   "source": [
    "## ItemKNN"
   ]
  },
  {
   "cell_type": "code",
   "execution_count": 13,
   "metadata": {},
   "outputs": [],
   "source": [
    "from Recommenders.KNN.ItemKNNCFRecommender import ItemKNNCFRecommender"
   ]
  },
  {
   "cell_type": "code",
   "execution_count": null,
   "metadata": {},
   "outputs": [
    {
     "name": "stdout",
     "output_type": "stream",
     "text": [
      "Similarity column 38121 (100.0%), 2784.72 column/sec. Elapsed time 13.69 sec\n"
     ]
    }
   ],
   "source": [
    "knn_cf = ItemKNNCFRecommender(urm_train)\n",
    "knn_cf.fit(\n",
    "    topK=100,\n",
    "    shrink=100,\n",
    "    similarity=\"asymmetric\",  # Use asymmetric similarity\n",
    "    normalize=True,\n",
    "    feature_weighting=\"BM25\", # or \"TF-IDF\" or \"none\"\n",
    "    asymmetric_alpha =0.3\n",
    ")"
   ]
  },
  {
   "cell_type": "code",
   "execution_count": 18,
   "metadata": {},
   "outputs": [
    {
     "name": "stdout",
     "output_type": "stream",
     "text": [
      "EvaluatorHoldout: Ignoring 175 ( 0.5%) Users that have less than 1 test interactions\n",
      "EvaluatorHoldout: Processed 35561 (100.0%) in 22.79 sec. Users per second: 1560\n",
      "CUTOFF: 10 - PRECISION: 0.0796378, PRECISION_RECALL_MIN_DEN: 0.1209898, RECALL: 0.1040649, MAP: 0.0389336, MAP_MIN_DEN: 0.0581688, MRR: 0.2323352, NDCG: 0.1160464, F1: 0.0902273, HIT_RATE: 0.4792891, ARHR_ALL_HITS: 0.2976175, NOVELTY: 0.0038064, AVERAGE_POPULARITY: 0.0721470, DIVERSITY_MEAN_INTER_LIST: 0.9986316, DIVERSITY_HERFINDAHL: 0.9998604, COVERAGE_ITEM: 0.6769759, COVERAGE_ITEM_HIT: 0.2622177, ITEMS_IN_GT: 0.9957504, COVERAGE_USER: 0.9951030, COVERAGE_USER_HIT: 0.4769420, USERS_IN_GT: 0.9951030, DIVERSITY_GINI: 0.2462477, SHANNON_ENTROPY: 13.5626774, RATIO_DIVERSITY_HERFINDAHL: 0.9999182, RATIO_DIVERSITY_GINI: 0.4059009, RATIO_SHANNON_ENTROPY: 0.9188908, RATIO_AVERAGE_POPULARITY: 0.9870973, RATIO_NOVELTY: 0.2844203, \n",
      "\n"
     ]
    }
   ],
   "source": [
    "# Initialize the evaluator with the test user-item matrix\n",
    "evaluator = EvaluatorHoldout(urm_test, cutoff_list=[10] )\n",
    "\n",
    "# Evaluate the TopPopularRecommender\n",
    "results_df, results_run_string = evaluator.evaluateRecommender(knn_cf)\n",
    "\n",
    "# Print the evaluation results\n",
    "print(results_run_string)"
   ]
  },
  {
   "cell_type": "code",
   "execution_count": 41,
   "metadata": {},
   "outputs": [],
   "source": [
    "import optuna\n",
    "import logging\n",
    "import os\n",
    "from datetime import datetime\n",
    "from Evaluation.Evaluator import EvaluatorHoldout\n",
    "\n",
    "def optimize_item_knn_cf(urm_train, urm_validation, n_trials=30, output_folder=\"optimization_results\"):\n",
    "    # Setup logging\n",
    "    os.makedirs(output_folder, exist_ok=True)\n",
    "    log_file = os.path.join(output_folder, f'optimization_log_{datetime.now().strftime(\"%Y%m%d_%H%M%S\")}.log')\n",
    "    \n",
    "    logging.basicConfig(\n",
    "        level=logging.INFO,\n",
    "        format='%(asctime)s - %(levelname)s - %(message)s',\n",
    "        handlers=[\n",
    "            logging.FileHandler(log_file),\n",
    "            logging.StreamHandler()\n",
    "        ]\n",
    "    )\n",
    "    \n",
    "    evaluator_validation = EvaluatorHoldout(urm_validation, cutoff_list=[10])\n",
    "\n",
    "    def objective(trial):\n",
    "        # Define hyperparameter ranges\n",
    "        params = {\n",
    "            \"topK\": trial.suggest_int(\"topK\", 10, 200),\n",
    "            \"shrink\": trial.suggest_int(\"shrink\", 0, 300),\n",
    "            \"similarity\": trial.suggest_categorical(\"similarity\", [\"cosine\", \"asymmetric\", \"jaccard\", \"tanimoto\"]),\n",
    "            \"normalize\": trial.suggest_categorical(\"normalize\", [True, False]),\n",
    "            \"feature_weighting\": trial.suggest_categorical(\"feature_weighting\", [\"BM25\", \"TF-IDF\", \"none\"]),\n",
    "            \"asymmetric_alpha\": trial.suggest_float(\"asymmetric_alpha\", 0.1, 2.0),\n",
    "        }\n",
    "        \n",
    "        try:\n",
    "            # Initialize and fit the recommender\n",
    "            recommender = ItemKNNCFRecommender(URM_train=urm_train)\n",
    "            recommender.fit(**params)\n",
    "            \n",
    "            # Evaluate the recommender\n",
    "            results_df, _ = evaluator_validation.evaluateRecommender(recommender)\n",
    "            map_at_10 = results_df.loc[10][\"MAP\"]\n",
    "            \n",
    "            logging.info(f\"Trial {trial.number} results:\")\n",
    "            logging.info(f\"Params: {params}\")\n",
    "            logging.info(f\"MAP@10: {map_at_10}\")\n",
    "            \n",
    "            return map_at_10\n",
    "            \n",
    "        except Exception as e:\n",
    "            logging.error(f\"Error in trial {trial.number}: {str(e)}\")\n",
    "            raise optuna.exceptions.TrialPruned()\n",
    "    \n",
    "    # Create the Optuna study\n",
    "    study = optuna.create_study(direction=\"maximize\")\n",
    "\n",
    "    try:\n",
    "        study.optimize(objective, n_trials=n_trials)\n",
    "        \n",
    "        # Log the best results\n",
    "        logging.info(\"Optimization completed!\")\n",
    "        logging.info(f\"Best trial: {study.best_trial.number}\")\n",
    "        logging.info(f\"Best MAP@10: {study.best_value}\")\n",
    "        logging.info(f\"Best hyperparameters: {study.best_params}\")\n",
    "        \n",
    "        return study.best_params, study.best_value\n",
    "\n",
    "    except Exception as e:\n",
    "        logging.error(f\"Optimization failed: {str(e)}\")\n",
    "        raise"
   ]
  },
  {
   "cell_type": "code",
   "execution_count": 43,
   "metadata": {},
   "outputs": [
    {
     "name": "stderr",
     "output_type": "stream",
     "text": [
      "[I 2024-11-25 05:25:38,665] A new study created in memory with name: no-name-e7cf1e87-8b31-416e-9675-fa7734b89c3f\n"
     ]
    },
    {
     "name": "stdout",
     "output_type": "stream",
     "text": [
      "EvaluatorHoldout: Ignoring 1909 ( 5.3%) Users that have less than 1 test interactions\n",
      "Similarity column 38121 (100.0%), 2870.11 column/sec. Elapsed time 13.28 sec\n",
      "EvaluatorHoldout: Processed 33827 (100.0%) in 23.34 sec. Users per second: 1449\n"
     ]
    },
    {
     "name": "stderr",
     "output_type": "stream",
     "text": [
      "2024-11-25 05:26:15,843 - INFO - Trial 0 results:\n",
      "2024-11-25 05:26:15,845 - INFO - Params: {'topK': 51, 'shrink': 198, 'similarity': 'asymmetric', 'normalize': False, 'feature_weighting': 'TF-IDF', 'asymmetric_alpha': 0.6940616774342656}\n",
      "2024-11-25 05:26:15,846 - INFO - MAP@10: 0.014253392964482152\n",
      "[I 2024-11-25 05:26:15,850] Trial 0 finished with value: 0.014253392964482152 and parameters: {'topK': 51, 'shrink': 198, 'similarity': 'asymmetric', 'normalize': False, 'feature_weighting': 'TF-IDF', 'asymmetric_alpha': 0.6940616774342656}. Best is trial 0 with value: 0.014253392964482152.\n"
     ]
    },
    {
     "name": "stdout",
     "output_type": "stream",
     "text": [
      "Similarity column 38121 (100.0%), 2759.90 column/sec. Elapsed time 13.81 sec\n",
      "EvaluatorHoldout: Processed 33827 (100.0%) in 21.02 sec. Users per second: 1609\n"
     ]
    },
    {
     "name": "stderr",
     "output_type": "stream",
     "text": [
      "2024-11-25 05:26:50,940 - INFO - Trial 1 results:\n",
      "2024-11-25 05:26:50,941 - INFO - Params: {'topK': 44, 'shrink': 76, 'similarity': 'cosine', 'normalize': True, 'feature_weighting': 'none', 'asymmetric_alpha': 1.42348023227323}\n",
      "2024-11-25 05:26:50,941 - INFO - MAP@10: 0.018029600661817684\n",
      "[I 2024-11-25 05:26:50,945] Trial 1 finished with value: 0.018029600661817684 and parameters: {'topK': 44, 'shrink': 76, 'similarity': 'cosine', 'normalize': True, 'feature_weighting': 'none', 'asymmetric_alpha': 1.42348023227323}. Best is trial 1 with value: 0.018029600661817684.\n"
     ]
    },
    {
     "name": "stdout",
     "output_type": "stream",
     "text": [
      "Similarity column 38121 (100.0%), 2823.57 column/sec. Elapsed time 13.50 sec\n",
      "EvaluatorHoldout: Processed 33827 (100.0%) in 22.11 sec. Users per second: 1530\n"
     ]
    },
    {
     "name": "stderr",
     "output_type": "stream",
     "text": [
      "2024-11-25 05:27:26,844 - INFO - Trial 2 results:\n",
      "2024-11-25 05:27:26,846 - INFO - Params: {'topK': 173, 'shrink': 36, 'similarity': 'asymmetric', 'normalize': True, 'feature_weighting': 'TF-IDF', 'asymmetric_alpha': 0.41707276904588536}\n",
      "2024-11-25 05:27:26,846 - INFO - MAP@10: 0.01827251031274456\n",
      "[I 2024-11-25 05:27:26,852] Trial 2 finished with value: 0.01827251031274456 and parameters: {'topK': 173, 'shrink': 36, 'similarity': 'asymmetric', 'normalize': True, 'feature_weighting': 'TF-IDF', 'asymmetric_alpha': 0.41707276904588536}. Best is trial 2 with value: 0.01827251031274456.\n"
     ]
    },
    {
     "name": "stdout",
     "output_type": "stream",
     "text": [
      "Similarity column 38121 (100.0%), 2766.21 column/sec. Elapsed time 13.78 sec\n",
      "EvaluatorHoldout: Processed 33827 (100.0%) in 21.90 sec. Users per second: 1545\n"
     ]
    },
    {
     "name": "stderr",
     "output_type": "stream",
     "text": [
      "2024-11-25 05:28:02,730 - INFO - Trial 3 results:\n",
      "2024-11-25 05:28:02,731 - INFO - Params: {'topK': 88, 'shrink': 48, 'similarity': 'asymmetric', 'normalize': True, 'feature_weighting': 'BM25', 'asymmetric_alpha': 0.4218344550180774}\n",
      "2024-11-25 05:28:02,732 - INFO - MAP@10: 0.016440357589809496\n",
      "[I 2024-11-25 05:28:02,737] Trial 3 finished with value: 0.016440357589809496 and parameters: {'topK': 88, 'shrink': 48, 'similarity': 'asymmetric', 'normalize': True, 'feature_weighting': 'BM25', 'asymmetric_alpha': 0.4218344550180774}. Best is trial 2 with value: 0.01827251031274456.\n"
     ]
    },
    {
     "name": "stdout",
     "output_type": "stream",
     "text": [
      "Similarity column 38121 (100.0%), 2930.98 column/sec. Elapsed time 13.01 sec\n",
      "EvaluatorHoldout: Processed 33827 (100.0%) in 22.33 sec. Users per second: 1515\n"
     ]
    },
    {
     "name": "stderr",
     "output_type": "stream",
     "text": [
      "2024-11-25 05:28:38,320 - INFO - Trial 4 results:\n",
      "2024-11-25 05:28:38,321 - INFO - Params: {'topK': 110, 'shrink': 267, 'similarity': 'jaccard', 'normalize': True, 'feature_weighting': 'BM25', 'asymmetric_alpha': 0.34208685622440077}\n",
      "2024-11-25 05:28:38,321 - INFO - MAP@10: 0.01853555861500707\n",
      "[I 2024-11-25 05:28:38,326] Trial 4 finished with value: 0.01853555861500707 and parameters: {'topK': 110, 'shrink': 267, 'similarity': 'jaccard', 'normalize': True, 'feature_weighting': 'BM25', 'asymmetric_alpha': 0.34208685622440077}. Best is trial 4 with value: 0.01853555861500707.\n"
     ]
    },
    {
     "name": "stdout",
     "output_type": "stream",
     "text": [
      "Similarity column 38121 (100.0%), 3054.13 column/sec. Elapsed time 12.48 sec\n",
      "EvaluatorHoldout: Processed 33827 (100.0%) in 27.82 sec. Users per second: 1216\n"
     ]
    },
    {
     "name": "stderr",
     "output_type": "stream",
     "text": [
      "2024-11-25 05:29:18,895 - INFO - Trial 5 results:\n",
      "2024-11-25 05:29:18,896 - INFO - Params: {'topK': 152, 'shrink': 245, 'similarity': 'asymmetric', 'normalize': False, 'feature_weighting': 'TF-IDF', 'asymmetric_alpha': 0.5862603764392914}\n",
      "2024-11-25 05:29:18,897 - INFO - MAP@10: 0.013481765997951714\n",
      "[I 2024-11-25 05:29:18,902] Trial 5 finished with value: 0.013481765997951714 and parameters: {'topK': 152, 'shrink': 245, 'similarity': 'asymmetric', 'normalize': False, 'feature_weighting': 'TF-IDF', 'asymmetric_alpha': 0.5862603764392914}. Best is trial 4 with value: 0.01853555861500707.\n"
     ]
    },
    {
     "name": "stdout",
     "output_type": "stream",
     "text": [
      "Similarity column 38121 (100.0%), 2905.23 column/sec. Elapsed time 13.12 sec\n",
      "EvaluatorHoldout: Processed 33827 (100.0%) in 21.66 sec. Users per second: 1562\n"
     ]
    },
    {
     "name": "stderr",
     "output_type": "stream",
     "text": [
      "2024-11-25 05:29:53,937 - INFO - Trial 6 results:\n",
      "2024-11-25 05:29:53,938 - INFO - Params: {'topK': 122, 'shrink': 73, 'similarity': 'tanimoto', 'normalize': True, 'feature_weighting': 'BM25', 'asymmetric_alpha': 1.4419809142829643}\n",
      "2024-11-25 05:29:53,939 - INFO - MAP@10: 0.01802171389342893\n",
      "[I 2024-11-25 05:29:53,943] Trial 6 finished with value: 0.01802171389342893 and parameters: {'topK': 122, 'shrink': 73, 'similarity': 'tanimoto', 'normalize': True, 'feature_weighting': 'BM25', 'asymmetric_alpha': 1.4419809142829643}. Best is trial 4 with value: 0.01853555861500707.\n"
     ]
    },
    {
     "name": "stdout",
     "output_type": "stream",
     "text": [
      "Similarity column 38121 (100.0%), 2914.93 column/sec. Elapsed time 13.08 sec\n",
      "EvaluatorHoldout: Processed 33827 (100.0%) in 24.23 sec. Users per second: 1396\n"
     ]
    },
    {
     "name": "stderr",
     "output_type": "stream",
     "text": [
      "2024-11-25 05:30:31,487 - INFO - Trial 7 results:\n",
      "2024-11-25 05:30:31,489 - INFO - Params: {'topK': 120, 'shrink': 229, 'similarity': 'jaccard', 'normalize': False, 'feature_weighting': 'TF-IDF', 'asymmetric_alpha': 1.4088648045873975}\n",
      "2024-11-25 05:30:31,489 - INFO - MAP@10: 0.01698888156872934\n",
      "[I 2024-11-25 05:30:31,494] Trial 7 finished with value: 0.01698888156872934 and parameters: {'topK': 120, 'shrink': 229, 'similarity': 'jaccard', 'normalize': False, 'feature_weighting': 'TF-IDF', 'asymmetric_alpha': 1.4088648045873975}. Best is trial 4 with value: 0.01853555861500707.\n"
     ]
    },
    {
     "name": "stdout",
     "output_type": "stream",
     "text": [
      "Similarity column 38121 (100.0%), 2934.12 column/sec. Elapsed time 12.99 sec\n",
      "EvaluatorHoldout: Processed 33827 (100.0%) in 19.45 sec. Users per second: 1739\n"
     ]
    },
    {
     "name": "stderr",
     "output_type": "stream",
     "text": [
      "2024-11-25 05:31:04,105 - INFO - Trial 8 results:\n",
      "2024-11-25 05:31:04,106 - INFO - Params: {'topK': 67, 'shrink': 104, 'similarity': 'tanimoto', 'normalize': True, 'feature_weighting': 'none', 'asymmetric_alpha': 1.9864855052842467}\n",
      "2024-11-25 05:31:04,107 - INFO - MAP@10: 0.018123213071553238\n",
      "[I 2024-11-25 05:31:04,110] Trial 8 finished with value: 0.018123213071553238 and parameters: {'topK': 67, 'shrink': 104, 'similarity': 'tanimoto', 'normalize': True, 'feature_weighting': 'none', 'asymmetric_alpha': 1.9864855052842467}. Best is trial 4 with value: 0.01853555861500707.\n"
     ]
    },
    {
     "name": "stdout",
     "output_type": "stream",
     "text": [
      "Similarity column 38121 (100.0%), 2936.56 column/sec. Elapsed time 12.98 sec\n",
      "EvaluatorHoldout: Processed 33827 (100.0%) in 16.36 sec. Users per second: 2067\n"
     ]
    },
    {
     "name": "stderr",
     "output_type": "stream",
     "text": [
      "2024-11-25 05:31:33,634 - INFO - Trial 9 results:\n",
      "2024-11-25 05:31:33,636 - INFO - Params: {'topK': 10, 'shrink': 63, 'similarity': 'tanimoto', 'normalize': True, 'feature_weighting': 'TF-IDF', 'asymmetric_alpha': 1.9677096340939513}\n",
      "2024-11-25 05:31:33,636 - INFO - MAP@10: 0.019411969446778792\n",
      "[I 2024-11-25 05:31:33,639] Trial 9 finished with value: 0.019411969446778792 and parameters: {'topK': 10, 'shrink': 63, 'similarity': 'tanimoto', 'normalize': True, 'feature_weighting': 'TF-IDF', 'asymmetric_alpha': 1.9677096340939513}. Best is trial 9 with value: 0.019411969446778792.\n"
     ]
    },
    {
     "name": "stdout",
     "output_type": "stream",
     "text": [
      "Similarity column 38121 (100.0%), 2956.63 column/sec. Elapsed time 12.89 sec\n",
      "EvaluatorHoldout: Processed 33827 (100.0%) in 16.71 sec. Users per second: 2025\n"
     ]
    },
    {
     "name": "stderr",
     "output_type": "stream",
     "text": [
      "2024-11-25 05:32:03,460 - INFO - Trial 10 results:\n",
      "2024-11-25 05:32:03,461 - INFO - Params: {'topK': 15, 'shrink': 135, 'similarity': 'tanimoto', 'normalize': False, 'feature_weighting': 'TF-IDF', 'asymmetric_alpha': 1.9252718849508312}\n",
      "2024-11-25 05:32:03,461 - INFO - MAP@10: 0.01861646984352221\n",
      "[I 2024-11-25 05:32:03,465] Trial 10 finished with value: 0.01861646984352221 and parameters: {'topK': 15, 'shrink': 135, 'similarity': 'tanimoto', 'normalize': False, 'feature_weighting': 'TF-IDF', 'asymmetric_alpha': 1.9252718849508312}. Best is trial 9 with value: 0.019411969446778792.\n"
     ]
    },
    {
     "name": "stdout",
     "output_type": "stream",
     "text": [
      "Similarity column 38121 (100.0%), 2940.66 column/sec. Elapsed time 12.96 sec\n",
      "EvaluatorHoldout: Processed 33827 (100.0%) in 17.34 sec. Users per second: 1951\n"
     ]
    },
    {
     "name": "stderr",
     "output_type": "stream",
     "text": [
      "2024-11-25 05:32:33,995 - INFO - Trial 11 results:\n",
      "2024-11-25 05:32:33,997 - INFO - Params: {'topK': 13, 'shrink': 149, 'similarity': 'tanimoto', 'normalize': False, 'feature_weighting': 'TF-IDF', 'asymmetric_alpha': 1.9992573233647115}\n",
      "2024-11-25 05:32:33,998 - INFO - MAP@10: 0.018608096237578618\n",
      "[I 2024-11-25 05:32:34,000] Trial 11 finished with value: 0.018608096237578618 and parameters: {'topK': 13, 'shrink': 149, 'similarity': 'tanimoto', 'normalize': False, 'feature_weighting': 'TF-IDF', 'asymmetric_alpha': 1.9992573233647115}. Best is trial 9 with value: 0.019411969446778792.\n"
     ]
    },
    {
     "name": "stdout",
     "output_type": "stream",
     "text": [
      "Similarity column 38121 (100.0%), 2980.32 column/sec. Elapsed time 12.79 sec\n",
      "EvaluatorHoldout: Processed 33827 (100.0%) in 16.11 sec. Users per second: 2100\n"
     ]
    },
    {
     "name": "stderr",
     "output_type": "stream",
     "text": [
      "2024-11-25 05:33:03,099 - INFO - Trial 12 results:\n",
      "2024-11-25 05:33:03,100 - INFO - Params: {'topK': 13, 'shrink': 136, 'similarity': 'tanimoto', 'normalize': False, 'feature_weighting': 'TF-IDF', 'asymmetric_alpha': 1.6941254824818281}\n",
      "2024-11-25 05:33:03,101 - INFO - MAP@10: 0.01871007404154005\n",
      "[I 2024-11-25 05:33:03,104] Trial 12 finished with value: 0.01871007404154005 and parameters: {'topK': 13, 'shrink': 136, 'similarity': 'tanimoto', 'normalize': False, 'feature_weighting': 'TF-IDF', 'asymmetric_alpha': 1.6941254824818281}. Best is trial 9 with value: 0.019411969446778792.\n"
     ]
    },
    {
     "name": "stdout",
     "output_type": "stream",
     "text": [
      "Similarity column 38121 (100.0%), 2910.55 column/sec. Elapsed time 13.10 sec\n",
      "EvaluatorHoldout: Processed 33827 (100.0%) in 16.94 sec. Users per second: 1997\n"
     ]
    },
    {
     "name": "stderr",
     "output_type": "stream",
     "text": [
      "2024-11-25 05:33:33,354 - INFO - Trial 13 results:\n",
      "2024-11-25 05:33:33,356 - INFO - Params: {'topK': 35, 'shrink': 7, 'similarity': 'tanimoto', 'normalize': False, 'feature_weighting': 'TF-IDF', 'asymmetric_alpha': 1.6343797962410214}\n",
      "2024-11-25 05:33:33,356 - INFO - MAP@10: 0.018960234639278047\n",
      "[I 2024-11-25 05:33:33,358] Trial 13 finished with value: 0.018960234639278047 and parameters: {'topK': 35, 'shrink': 7, 'similarity': 'tanimoto', 'normalize': False, 'feature_weighting': 'TF-IDF', 'asymmetric_alpha': 1.6343797962410214}. Best is trial 9 with value: 0.019411969446778792.\n"
     ]
    },
    {
     "name": "stdout",
     "output_type": "stream",
     "text": [
      "Similarity column 38121 (100.0%), 2857.96 column/sec. Elapsed time 13.34 sec\n",
      "EvaluatorHoldout: Processed 33827 (100.0%) in 17.52 sec. Users per second: 1931\n"
     ]
    },
    {
     "name": "stderr",
     "output_type": "stream",
     "text": [
      "2024-11-25 05:34:04,318 - INFO - Trial 14 results:\n",
      "2024-11-25 05:34:04,320 - INFO - Params: {'topK': 45, 'shrink': 5, 'similarity': 'cosine', 'normalize': True, 'feature_weighting': 'none', 'asymmetric_alpha': 1.2024857374469329}\n",
      "2024-11-25 05:34:04,320 - INFO - MAP@10: 0.01844998195768289\n",
      "[I 2024-11-25 05:34:04,325] Trial 14 finished with value: 0.01844998195768289 and parameters: {'topK': 45, 'shrink': 5, 'similarity': 'cosine', 'normalize': True, 'feature_weighting': 'none', 'asymmetric_alpha': 1.2024857374469329}. Best is trial 9 with value: 0.019411969446778792.\n"
     ]
    },
    {
     "name": "stdout",
     "output_type": "stream",
     "text": [
      "Similarity column 38121 (100.0%), 2943.33 column/sec. Elapsed time 12.95 sec\n",
      "EvaluatorHoldout: Processed 33827 (100.0%) in 27.97 sec. Users per second: 1209\n"
     ]
    },
    {
     "name": "stderr",
     "output_type": "stream",
     "text": [
      "2024-11-25 05:34:45,475 - INFO - Trial 15 results:\n",
      "2024-11-25 05:34:45,476 - INFO - Params: {'topK': 73, 'shrink': 19, 'similarity': 'tanimoto', 'normalize': False, 'feature_weighting': 'TF-IDF', 'asymmetric_alpha': 1.6752934543637925}\n",
      "2024-11-25 05:34:45,476 - INFO - MAP@10: 0.018603496502512133\n",
      "[I 2024-11-25 05:34:45,482] Trial 15 finished with value: 0.018603496502512133 and parameters: {'topK': 73, 'shrink': 19, 'similarity': 'tanimoto', 'normalize': False, 'feature_weighting': 'TF-IDF', 'asymmetric_alpha': 1.6752934543637925}. Best is trial 9 with value: 0.019411969446778792.\n"
     ]
    },
    {
     "name": "stdout",
     "output_type": "stream",
     "text": [
      "Similarity column 38121 (100.0%), 2773.58 column/sec. Elapsed time 13.74 sec\n",
      "EvaluatorHoldout: Processed 33827 (100.0%) in 18.79 sec. Users per second: 1800\n"
     ]
    },
    {
     "name": "stderr",
     "output_type": "stream",
     "text": [
      "2024-11-25 05:35:18,243 - INFO - Trial 16 results:\n",
      "2024-11-25 05:35:18,244 - INFO - Params: {'topK': 31, 'shrink': 81, 'similarity': 'tanimoto', 'normalize': True, 'feature_weighting': 'TF-IDF', 'asymmetric_alpha': 0.8967712066034252}\n",
      "2024-11-25 05:35:18,244 - INFO - MAP@10: 0.01882578887626638\n",
      "[I 2024-11-25 05:35:18,250] Trial 16 finished with value: 0.01882578887626638 and parameters: {'topK': 31, 'shrink': 81, 'similarity': 'tanimoto', 'normalize': True, 'feature_weighting': 'TF-IDF', 'asymmetric_alpha': 0.8967712066034252}. Best is trial 9 with value: 0.019411969446778792.\n"
     ]
    },
    {
     "name": "stdout",
     "output_type": "stream",
     "text": [
      "Similarity column 38121 (100.0%), 2846.82 column/sec. Elapsed time 13.39 sec\n",
      "EvaluatorHoldout: Processed 33827 (100.0%) in 20.48 sec. Users per second: 1652\n"
     ]
    },
    {
     "name": "stderr",
     "output_type": "stream",
     "text": [
      "2024-11-25 05:35:52,402 - INFO - Trial 17 results:\n",
      "2024-11-25 05:35:52,404 - INFO - Params: {'topK': 81, 'shrink': 3, 'similarity': 'tanimoto', 'normalize': False, 'feature_weighting': 'TF-IDF', 'asymmetric_alpha': 1.7329370025016781}\n",
      "2024-11-25 05:35:52,404 - INFO - MAP@10: 0.018326952828608318\n",
      "[I 2024-11-25 05:35:52,408] Trial 17 finished with value: 0.018326952828608318 and parameters: {'topK': 81, 'shrink': 3, 'similarity': 'tanimoto', 'normalize': False, 'feature_weighting': 'TF-IDF', 'asymmetric_alpha': 1.7329370025016781}. Best is trial 9 with value: 0.019411969446778792.\n"
     ]
    },
    {
     "name": "stdout",
     "output_type": "stream",
     "text": [
      "Similarity column 38121 (100.0%), 2989.79 column/sec. Elapsed time 12.75 sec\n",
      "EvaluatorHoldout: Processed 33827 (100.0%) in 21.31 sec. Users per second: 1587\n"
     ]
    },
    {
     "name": "stderr",
     "output_type": "stream",
     "text": [
      "2024-11-25 05:36:26,606 - INFO - Trial 18 results:\n",
      "2024-11-25 05:36:26,607 - INFO - Params: {'topK': 36, 'shrink': 186, 'similarity': 'cosine', 'normalize': False, 'feature_weighting': 'none', 'asymmetric_alpha': 1.1142803860580381}\n",
      "2024-11-25 05:36:26,607 - INFO - MAP@10: 0.01426629591933983\n",
      "[I 2024-11-25 05:36:26,611] Trial 18 finished with value: 0.01426629591933983 and parameters: {'topK': 36, 'shrink': 186, 'similarity': 'cosine', 'normalize': False, 'feature_weighting': 'none', 'asymmetric_alpha': 1.1142803860580381}. Best is trial 9 with value: 0.019411969446778792.\n"
     ]
    },
    {
     "name": "stdout",
     "output_type": "stream",
     "text": [
      "Similarity column 38121 (100.0%), 2899.46 column/sec. Elapsed time 13.15 sec\n",
      "EvaluatorHoldout: Processed 33827 (100.0%) in 26.25 sec. Users per second: 1289\n"
     ]
    },
    {
     "name": "stderr",
     "output_type": "stream",
     "text": [
      "2024-11-25 05:37:06,475 - INFO - Trial 19 results:\n",
      "2024-11-25 05:37:06,476 - INFO - Params: {'topK': 195, 'shrink': 53, 'similarity': 'jaccard', 'normalize': True, 'feature_weighting': 'BM25', 'asymmetric_alpha': 1.5689407687498997}\n",
      "2024-11-25 05:37:06,477 - INFO - MAP@10: 0.01754289214823718\n",
      "[I 2024-11-25 05:37:06,484] Trial 19 finished with value: 0.01754289214823718 and parameters: {'topK': 195, 'shrink': 53, 'similarity': 'jaccard', 'normalize': True, 'feature_weighting': 'BM25', 'asymmetric_alpha': 1.5689407687498997}. Best is trial 9 with value: 0.019411969446778792.\n"
     ]
    },
    {
     "name": "stdout",
     "output_type": "stream",
     "text": [
      "Similarity column 38121 (100.0%), 2919.36 column/sec. Elapsed time 13.06 sec\n",
      "EvaluatorHoldout: Processed 33827 (100.0%) in 19.66 sec. Users per second: 1721\n"
     ]
    },
    {
     "name": "stderr",
     "output_type": "stream",
     "text": [
      "2024-11-25 05:37:39,668 - INFO - Trial 20 results:\n",
      "2024-11-25 05:37:39,669 - INFO - Params: {'topK': 56, 'shrink': 27, 'similarity': 'tanimoto', 'normalize': False, 'feature_weighting': 'TF-IDF', 'asymmetric_alpha': 1.8252992043179572}\n",
      "2024-11-25 05:37:39,670 - INFO - MAP@10: 0.018732958925926062\n",
      "[I 2024-11-25 05:37:39,674] Trial 20 finished with value: 0.018732958925926062 and parameters: {'topK': 56, 'shrink': 27, 'similarity': 'tanimoto', 'normalize': False, 'feature_weighting': 'TF-IDF', 'asymmetric_alpha': 1.8252992043179572}. Best is trial 9 with value: 0.019411969446778792.\n"
     ]
    },
    {
     "name": "stdout",
     "output_type": "stream",
     "text": [
      "Similarity column 38121 (100.0%), 2779.63 column/sec. Elapsed time 13.71 sec\n",
      "EvaluatorHoldout: Processed 33827 (100.0%) in 18.23 sec. Users per second: 1856\n"
     ]
    },
    {
     "name": "stderr",
     "output_type": "stream",
     "text": [
      "2024-11-25 05:38:11,861 - INFO - Trial 21 results:\n",
      "2024-11-25 05:38:11,862 - INFO - Params: {'topK': 30, 'shrink': 93, 'similarity': 'tanimoto', 'normalize': True, 'feature_weighting': 'TF-IDF', 'asymmetric_alpha': 0.8442913744956274}\n",
      "2024-11-25 05:38:11,862 - INFO - MAP@10: 0.018740030388048293\n",
      "[I 2024-11-25 05:38:11,866] Trial 21 finished with value: 0.018740030388048293 and parameters: {'topK': 30, 'shrink': 93, 'similarity': 'tanimoto', 'normalize': True, 'feature_weighting': 'TF-IDF', 'asymmetric_alpha': 0.8442913744956274}. Best is trial 9 with value: 0.019411969446778792.\n"
     ]
    },
    {
     "name": "stdout",
     "output_type": "stream",
     "text": [
      "Similarity column 38121 (100.0%), 2913.78 column/sec. Elapsed time 13.08 sec\n",
      "EvaluatorHoldout: Processed 33827 (100.0%) in 18.64 sec. Users per second: 1815\n"
     ]
    },
    {
     "name": "stderr",
     "output_type": "stream",
     "text": [
      "2024-11-25 05:38:43,949 - INFO - Trial 22 results:\n",
      "2024-11-25 05:38:43,953 - INFO - Params: {'topK': 31, 'shrink': 109, 'similarity': 'tanimoto', 'normalize': True, 'feature_weighting': 'TF-IDF', 'asymmetric_alpha': 0.11784438190379276}\n",
      "2024-11-25 05:38:43,953 - INFO - MAP@10: 0.018607270373389224\n",
      "[I 2024-11-25 05:38:43,956] Trial 22 finished with value: 0.018607270373389224 and parameters: {'topK': 31, 'shrink': 109, 'similarity': 'tanimoto', 'normalize': True, 'feature_weighting': 'TF-IDF', 'asymmetric_alpha': 0.11784438190379276}. Best is trial 9 with value: 0.019411969446778792.\n"
     ]
    },
    {
     "name": "stdout",
     "output_type": "stream",
     "text": [
      "Similarity column 38121 (100.0%), 2901.16 column/sec. Elapsed time 13.14 sec\n",
      "EvaluatorHoldout: Processed 33827 (100.0%) in 17.48 sec. Users per second: 1935\n"
     ]
    },
    {
     "name": "stderr",
     "output_type": "stream",
     "text": [
      "2024-11-25 05:39:14,778 - INFO - Trial 23 results:\n",
      "2024-11-25 05:39:14,780 - INFO - Params: {'topK': 24, 'shrink': 62, 'similarity': 'tanimoto', 'normalize': True, 'feature_weighting': 'TF-IDF', 'asymmetric_alpha': 0.9042477422717649}\n",
      "2024-11-25 05:39:14,780 - INFO - MAP@10: 0.019069022303494776\n",
      "[I 2024-11-25 05:39:14,784] Trial 23 finished with value: 0.019069022303494776 and parameters: {'topK': 24, 'shrink': 62, 'similarity': 'tanimoto', 'normalize': True, 'feature_weighting': 'TF-IDF', 'asymmetric_alpha': 0.9042477422717649}. Best is trial 9 with value: 0.019411969446778792.\n"
     ]
    },
    {
     "name": "stdout",
     "output_type": "stream",
     "text": [
      "Similarity column 38121 (100.0%), 2877.09 column/sec. Elapsed time 13.25 sec\n",
      "EvaluatorHoldout: Processed 33827 (100.0%) in 16.94 sec. Users per second: 1997\n"
     ]
    },
    {
     "name": "stderr",
     "output_type": "stream",
     "text": [
      "2024-11-25 05:39:45,181 - INFO - Trial 24 results:\n",
      "2024-11-25 05:39:45,182 - INFO - Params: {'topK': 12, 'shrink': 61, 'similarity': 'tanimoto', 'normalize': True, 'feature_weighting': 'TF-IDF', 'asymmetric_alpha': 1.2300218616990624}\n",
      "2024-11-25 05:39:45,183 - INFO - MAP@10: 0.01939478936005374\n",
      "[I 2024-11-25 05:39:45,186] Trial 24 finished with value: 0.01939478936005374 and parameters: {'topK': 12, 'shrink': 61, 'similarity': 'tanimoto', 'normalize': True, 'feature_weighting': 'TF-IDF', 'asymmetric_alpha': 1.2300218616990624}. Best is trial 9 with value: 0.019411969446778792.\n"
     ]
    },
    {
     "name": "stdout",
     "output_type": "stream",
     "text": [
      "Similarity column 38121 (100.0%), 2955.07 column/sec. Elapsed time 12.90 sec\n",
      "EvaluatorHoldout: Processed 33827 (100.0%) in 17.59 sec. Users per second: 1923\n"
     ]
    },
    {
     "name": "stderr",
     "output_type": "stream",
     "text": [
      "2024-11-25 05:40:15,875 - INFO - Trial 25 results:\n",
      "2024-11-25 05:40:15,876 - INFO - Params: {'topK': 17, 'shrink': 117, 'similarity': 'tanimoto', 'normalize': True, 'feature_weighting': 'TF-IDF', 'asymmetric_alpha': 0.9558375928649363}\n",
      "2024-11-25 05:40:15,876 - INFO - MAP@10: 0.01875910972778865\n",
      "[I 2024-11-25 05:40:15,880] Trial 25 finished with value: 0.01875910972778865 and parameters: {'topK': 17, 'shrink': 117, 'similarity': 'tanimoto', 'normalize': True, 'feature_weighting': 'TF-IDF', 'asymmetric_alpha': 0.9558375928649363}. Best is trial 9 with value: 0.019411969446778792.\n"
     ]
    },
    {
     "name": "stdout",
     "output_type": "stream",
     "text": [
      "Similarity column 38121 (100.0%), 2954.75 column/sec. Elapsed time 12.90 sec\n",
      "EvaluatorHoldout: Processed 33827 (100.0%) in 19.48 sec. Users per second: 1736\n"
     ]
    },
    {
     "name": "stderr",
     "output_type": "stream",
     "text": [
      "2024-11-25 05:40:48,487 - INFO - Trial 26 results:\n",
      "2024-11-25 05:40:48,488 - INFO - Params: {'topK': 59, 'shrink': 63, 'similarity': 'tanimoto', 'normalize': True, 'feature_weighting': 'TF-IDF', 'asymmetric_alpha': 1.2566925640901667}\n",
      "2024-11-25 05:40:48,488 - INFO - MAP@10: 0.01857145789899217\n",
      "[I 2024-11-25 05:40:48,491] Trial 26 finished with value: 0.01857145789899217 and parameters: {'topK': 59, 'shrink': 63, 'similarity': 'tanimoto', 'normalize': True, 'feature_weighting': 'TF-IDF', 'asymmetric_alpha': 1.2566925640901667}. Best is trial 9 with value: 0.019411969446778792.\n"
     ]
    },
    {
     "name": "stdout",
     "output_type": "stream",
     "text": [
      "Similarity column 38121 (100.0%), 2868.32 column/sec. Elapsed time 13.29 sec\n",
      "EvaluatorHoldout: Processed 33827 (100.0%) in 20.96 sec. Users per second: 1614\n"
     ]
    },
    {
     "name": "stderr",
     "output_type": "stream",
     "text": [
      "2024-11-25 05:41:22,998 - INFO - Trial 27 results:\n",
      "2024-11-25 05:41:23,000 - INFO - Params: {'topK': 92, 'shrink': 44, 'similarity': 'jaccard', 'normalize': True, 'feature_weighting': 'TF-IDF', 'asymmetric_alpha': 1.0327370297555611}\n",
      "2024-11-25 05:41:23,000 - INFO - MAP@10: 0.018288742532615882\n",
      "[I 2024-11-25 05:41:23,004] Trial 27 finished with value: 0.018288742532615882 and parameters: {'topK': 92, 'shrink': 44, 'similarity': 'jaccard', 'normalize': True, 'feature_weighting': 'TF-IDF', 'asymmetric_alpha': 1.0327370297555611}. Best is trial 9 with value: 0.019411969446778792.\n"
     ]
    },
    {
     "name": "stdout",
     "output_type": "stream",
     "text": [
      "Similarity column 38121 (100.0%), 2838.28 column/sec. Elapsed time 13.43 sec\n",
      "EvaluatorHoldout: Processed 33827 (100.0%) in 26.44 sec. Users per second: 1280\n"
     ]
    },
    {
     "name": "stderr",
     "output_type": "stream",
     "text": [
      "2024-11-25 05:42:03,050 - INFO - Trial 28 results:\n",
      "2024-11-25 05:42:03,051 - INFO - Params: {'topK': 143, 'shrink': 161, 'similarity': 'cosine', 'normalize': True, 'feature_weighting': 'none', 'asymmetric_alpha': 0.7741637228521614}\n",
      "2024-11-25 05:42:03,052 - INFO - MAP@10: 0.016277884060868372\n",
      "[I 2024-11-25 05:42:03,057] Trial 28 finished with value: 0.016277884060868372 and parameters: {'topK': 143, 'shrink': 161, 'similarity': 'cosine', 'normalize': True, 'feature_weighting': 'none', 'asymmetric_alpha': 0.7741637228521614}. Best is trial 9 with value: 0.019411969446778792.\n"
     ]
    },
    {
     "name": "stdout",
     "output_type": "stream",
     "text": [
      "Similarity column 38121 (100.0%), 2774.42 column/sec. Elapsed time 13.74 sec\n",
      "EvaluatorHoldout: Processed 33827 (100.0%) in 17.52 sec. Users per second: 1930\n"
     ]
    },
    {
     "name": "stderr",
     "output_type": "stream",
     "text": [
      "2024-11-25 05:42:34,552 - INFO - Trial 29 results:\n",
      "2024-11-25 05:42:34,553 - INFO - Params: {'topK': 21, 'shrink': 170, 'similarity': 'asymmetric', 'normalize': True, 'feature_weighting': 'BM25', 'asymmetric_alpha': 0.6467022894657983}\n",
      "2024-11-25 05:42:34,554 - INFO - MAP@10: 0.016681553337922744\n",
      "[I 2024-11-25 05:42:34,559] Trial 29 finished with value: 0.016681553337922744 and parameters: {'topK': 21, 'shrink': 170, 'similarity': 'asymmetric', 'normalize': True, 'feature_weighting': 'BM25', 'asymmetric_alpha': 0.6467022894657983}. Best is trial 9 with value: 0.019411969446778792.\n"
     ]
    },
    {
     "name": "stdout",
     "output_type": "stream",
     "text": [
      "Similarity column 38121 (100.0%), 2880.04 column/sec. Elapsed time 13.24 sec\n",
      "EvaluatorHoldout: Processed 33827 (100.0%) in 19.30 sec. Users per second: 1752\n"
     ]
    },
    {
     "name": "stderr",
     "output_type": "stream",
     "text": [
      "2024-11-25 05:43:07,351 - INFO - Trial 30 results:\n",
      "2024-11-25 05:43:07,352 - INFO - Params: {'topK': 53, 'shrink': 91, 'similarity': 'tanimoto', 'normalize': True, 'feature_weighting': 'TF-IDF', 'asymmetric_alpha': 1.261403495367337}\n",
      "2024-11-25 05:43:07,352 - INFO - MAP@10: 0.018462933009744685\n",
      "[I 2024-11-25 05:43:07,356] Trial 30 finished with value: 0.018462933009744685 and parameters: {'topK': 53, 'shrink': 91, 'similarity': 'tanimoto', 'normalize': True, 'feature_weighting': 'TF-IDF', 'asymmetric_alpha': 1.261403495367337}. Best is trial 9 with value: 0.019411969446778792.\n"
     ]
    },
    {
     "name": "stdout",
     "output_type": "stream",
     "text": [
      "Similarity column 38121 (100.0%), 2860.97 column/sec. Elapsed time 13.32 sec\n",
      "EvaluatorHoldout: Processed 33827 (100.0%) in 16.30 sec. Users per second: 2075\n"
     ]
    },
    {
     "name": "stderr",
     "output_type": "stream",
     "text": [
      "2024-11-25 05:43:37,185 - INFO - Trial 31 results:\n",
      "2024-11-25 05:43:37,186 - INFO - Params: {'topK': 10, 'shrink': 22, 'similarity': 'tanimoto', 'normalize': True, 'feature_weighting': 'TF-IDF', 'asymmetric_alpha': 1.5413791879982153}\n",
      "2024-11-25 05:43:37,186 - INFO - MAP@10: 0.019699499225986912\n",
      "[I 2024-11-25 05:43:37,190] Trial 31 finished with value: 0.019699499225986912 and parameters: {'topK': 10, 'shrink': 22, 'similarity': 'tanimoto', 'normalize': True, 'feature_weighting': 'TF-IDF', 'asymmetric_alpha': 1.5413791879982153}. Best is trial 31 with value: 0.019699499225986912.\n"
     ]
    },
    {
     "name": "stdout",
     "output_type": "stream",
     "text": [
      "Similarity column 38121 (100.0%), 2920.67 column/sec. Elapsed time 13.05 sec\n",
      "EvaluatorHoldout: Processed 33827 (100.0%) in 16.53 sec. Users per second: 2047\n"
     ]
    },
    {
     "name": "stderr",
     "output_type": "stream",
     "text": [
      "2024-11-25 05:44:06,967 - INFO - Trial 32 results:\n",
      "2024-11-25 05:44:06,968 - INFO - Params: {'topK': 10, 'shrink': 62, 'similarity': 'tanimoto', 'normalize': True, 'feature_weighting': 'TF-IDF', 'asymmetric_alpha': 1.502880539272836}\n",
      "2024-11-25 05:44:06,968 - INFO - MAP@10: 0.01942452750948913\n",
      "[I 2024-11-25 05:44:06,971] Trial 32 finished with value: 0.01942452750948913 and parameters: {'topK': 10, 'shrink': 62, 'similarity': 'tanimoto', 'normalize': True, 'feature_weighting': 'TF-IDF', 'asymmetric_alpha': 1.502880539272836}. Best is trial 31 with value: 0.019699499225986912.\n"
     ]
    },
    {
     "name": "stdout",
     "output_type": "stream",
     "text": [
      "Similarity column 38121 (100.0%), 2916.15 column/sec. Elapsed time 13.07 sec\n",
      "EvaluatorHoldout: Processed 33827 (100.0%) in 18.13 sec. Users per second: 1866\n"
     ]
    },
    {
     "name": "stderr",
     "output_type": "stream",
     "text": [
      "2024-11-25 05:44:38,393 - INFO - Trial 33 results:\n",
      "2024-11-25 05:44:38,394 - INFO - Params: {'topK': 41, 'shrink': 34, 'similarity': 'tanimoto', 'normalize': True, 'feature_weighting': 'TF-IDF', 'asymmetric_alpha': 1.4882737244222635}\n",
      "2024-11-25 05:44:38,394 - INFO - MAP@10: 0.01891816248971781\n",
      "[I 2024-11-25 05:44:38,398] Trial 33 finished with value: 0.01891816248971781 and parameters: {'topK': 41, 'shrink': 34, 'similarity': 'tanimoto', 'normalize': True, 'feature_weighting': 'TF-IDF', 'asymmetric_alpha': 1.4882737244222635}. Best is trial 31 with value: 0.019699499225986912.\n"
     ]
    },
    {
     "name": "stdout",
     "output_type": "stream",
     "text": [
      "Similarity column 38121 (100.0%), 2911.60 column/sec. Elapsed time 13.09 sec\n",
      "EvaluatorHoldout: Processed 33827 (100.0%) in 16.66 sec. Users per second: 2031\n"
     ]
    },
    {
     "name": "stderr",
     "output_type": "stream",
     "text": [
      "2024-11-25 05:45:08,352 - INFO - Trial 34 results:\n",
      "2024-11-25 05:45:08,353 - INFO - Params: {'topK': 10, 'shrink': 31, 'similarity': 'tanimoto', 'normalize': True, 'feature_weighting': 'TF-IDF', 'asymmetric_alpha': 1.3425832847044898}\n",
      "2024-11-25 05:45:08,353 - INFO - MAP@10: 0.01967455320043484\n",
      "[I 2024-11-25 05:45:08,359] Trial 34 finished with value: 0.01967455320043484 and parameters: {'topK': 10, 'shrink': 31, 'similarity': 'tanimoto', 'normalize': True, 'feature_weighting': 'TF-IDF', 'asymmetric_alpha': 1.3425832847044898}. Best is trial 31 with value: 0.019699499225986912.\n"
     ]
    },
    {
     "name": "stdout",
     "output_type": "stream",
     "text": [
      "Similarity column 38121 (100.0%), 2788.26 column/sec. Elapsed time 13.67 sec\n",
      "EvaluatorHoldout: Processed 33827 (100.0%) in 20.40 sec. Users per second: 1659\n"
     ]
    },
    {
     "name": "stderr",
     "output_type": "stream",
     "text": [
      "2024-11-25 05:45:42,645 - INFO - Trial 35 results:\n",
      "2024-11-25 05:45:42,655 - INFO - Params: {'topK': 10, 'shrink': 23, 'similarity': 'asymmetric', 'normalize': True, 'feature_weighting': 'TF-IDF', 'asymmetric_alpha': 1.3516029202514497}\n",
      "2024-11-25 05:45:42,655 - INFO - MAP@10: 0.004714514938522381\n",
      "[I 2024-11-25 05:45:42,657] Trial 35 finished with value: 0.004714514938522381 and parameters: {'topK': 10, 'shrink': 23, 'similarity': 'asymmetric', 'normalize': True, 'feature_weighting': 'TF-IDF', 'asymmetric_alpha': 1.3516029202514497}. Best is trial 31 with value: 0.019699499225986912.\n"
     ]
    },
    {
     "name": "stdout",
     "output_type": "stream",
     "text": [
      "Similarity column 38121 (100.0%), 2811.53 column/sec. Elapsed time 13.56 sec\n",
      "EvaluatorHoldout: Processed 33827 (100.0%) in 18.16 sec. Users per second: 1863\n"
     ]
    },
    {
     "name": "stderr",
     "output_type": "stream",
     "text": [
      "2024-11-25 05:46:14,558 - INFO - Trial 36 results:\n",
      "2024-11-25 05:46:14,559 - INFO - Params: {'topK': 46, 'shrink': 50, 'similarity': 'cosine', 'normalize': True, 'feature_weighting': 'TF-IDF', 'asymmetric_alpha': 1.5135803103489875}\n",
      "2024-11-25 05:46:14,560 - INFO - MAP@10: 0.0186179725878783\n",
      "[I 2024-11-25 05:46:14,563] Trial 36 finished with value: 0.0186179725878783 and parameters: {'topK': 46, 'shrink': 50, 'similarity': 'cosine', 'normalize': True, 'feature_weighting': 'TF-IDF', 'asymmetric_alpha': 1.5135803103489875}. Best is trial 31 with value: 0.019699499225986912.\n"
     ]
    },
    {
     "name": "stdout",
     "output_type": "stream",
     "text": [
      "Similarity column 38121 (100.0%), 2891.03 column/sec. Elapsed time 13.19 sec\n",
      "EvaluatorHoldout: Processed 33827 (100.0%) in 18.22 sec. Users per second: 1856\n"
     ]
    },
    {
     "name": "stderr",
     "output_type": "stream",
     "text": [
      "2024-11-25 05:46:46,191 - INFO - Trial 37 results:\n",
      "2024-11-25 05:46:46,192 - INFO - Params: {'topK': 24, 'shrink': 292, 'similarity': 'tanimoto', 'normalize': True, 'feature_weighting': 'BM25', 'asymmetric_alpha': 1.3536203127478539}\n",
      "2024-11-25 05:46:46,192 - INFO - MAP@10: 0.0197489677870733\n",
      "[I 2024-11-25 05:46:46,196] Trial 37 finished with value: 0.0197489677870733 and parameters: {'topK': 24, 'shrink': 292, 'similarity': 'tanimoto', 'normalize': True, 'feature_weighting': 'BM25', 'asymmetric_alpha': 1.3536203127478539}. Best is trial 37 with value: 0.0197489677870733.\n"
     ]
    },
    {
     "name": "stdout",
     "output_type": "stream",
     "text": [
      "Similarity column 38121 (100.0%), 2870.50 column/sec. Elapsed time 13.28 sec\n",
      "EvaluatorHoldout: Processed 33827 (100.0%) in 16.98 sec. Users per second: 1992\n"
     ]
    },
    {
     "name": "stderr",
     "output_type": "stream",
     "text": [
      "2024-11-25 05:47:16,688 - INFO - Trial 38 results:\n",
      "2024-11-25 05:47:16,690 - INFO - Params: {'topK': 25, 'shrink': 292, 'similarity': 'asymmetric', 'normalize': True, 'feature_weighting': 'BM25', 'asymmetric_alpha': 1.3580300876687685}\n",
      "2024-11-25 05:47:16,690 - INFO - MAP@10: 0.015868021975495677\n",
      "[I 2024-11-25 05:47:16,694] Trial 38 finished with value: 0.015868021975495677 and parameters: {'topK': 25, 'shrink': 292, 'similarity': 'asymmetric', 'normalize': True, 'feature_weighting': 'BM25', 'asymmetric_alpha': 1.3580300876687685}. Best is trial 37 with value: 0.0197489677870733.\n"
     ]
    },
    {
     "name": "stdout",
     "output_type": "stream",
     "text": [
      "Similarity column 38121 (100.0%), 2848.46 column/sec. Elapsed time 13.38 sec\n",
      "EvaluatorHoldout: Processed 33827 (100.0%) in 21.96 sec. Users per second: 1541\n"
     ]
    },
    {
     "name": "stderr",
     "output_type": "stream",
     "text": [
      "2024-11-25 05:47:52,382 - INFO - Trial 39 results:\n",
      "2024-11-25 05:47:52,383 - INFO - Params: {'topK': 66, 'shrink': 202, 'similarity': 'jaccard', 'normalize': True, 'feature_weighting': 'BM25', 'asymmetric_alpha': 1.1240308431384642}\n",
      "2024-11-25 05:47:52,384 - INFO - MAP@10: 0.01893819086941449\n",
      "[I 2024-11-25 05:47:52,388] Trial 39 finished with value: 0.01893819086941449 and parameters: {'topK': 66, 'shrink': 202, 'similarity': 'jaccard', 'normalize': True, 'feature_weighting': 'BM25', 'asymmetric_alpha': 1.1240308431384642}. Best is trial 37 with value: 0.0197489677870733.\n"
     ]
    },
    {
     "name": "stdout",
     "output_type": "stream",
     "text": [
      "Similarity column 38121 (100.0%), 2857.80 column/sec. Elapsed time 13.34 sec\n",
      "EvaluatorHoldout: Processed 33827 (100.0%) in 18.51 sec. Users per second: 1827\n"
     ]
    },
    {
     "name": "stderr",
     "output_type": "stream",
     "text": [
      "2024-11-25 05:48:24,452 - INFO - Trial 40 results:\n",
      "2024-11-25 05:48:24,453 - INFO - Params: {'topK': 22, 'shrink': 299, 'similarity': 'tanimoto', 'normalize': True, 'feature_weighting': 'BM25', 'asymmetric_alpha': 1.8082432413511473}\n",
      "2024-11-25 05:48:24,454 - INFO - MAP@10: 0.019781320782074435\n",
      "[I 2024-11-25 05:48:24,457] Trial 40 finished with value: 0.019781320782074435 and parameters: {'topK': 22, 'shrink': 299, 'similarity': 'tanimoto', 'normalize': True, 'feature_weighting': 'BM25', 'asymmetric_alpha': 1.8082432413511473}. Best is trial 40 with value: 0.019781320782074435.\n"
     ]
    },
    {
     "name": "stdout",
     "output_type": "stream",
     "text": [
      "Similarity column 38121 (100.0%), 2947.60 column/sec. Elapsed time 12.93 sec\n",
      "EvaluatorHoldout: Processed 33827 (100.0%) in 17.92 sec. Users per second: 1888\n"
     ]
    },
    {
     "name": "stderr",
     "output_type": "stream",
     "text": [
      "2024-11-25 05:48:55,521 - INFO - Trial 41 results:\n",
      "2024-11-25 05:48:55,524 - INFO - Params: {'topK': 21, 'shrink': 272, 'similarity': 'tanimoto', 'normalize': True, 'feature_weighting': 'BM25', 'asymmetric_alpha': 1.8214438206902523}\n",
      "2024-11-25 05:48:55,524 - INFO - MAP@10: 0.01986026589072958\n",
      "[I 2024-11-25 05:48:55,529] Trial 41 finished with value: 0.01986026589072958 and parameters: {'topK': 21, 'shrink': 272, 'similarity': 'tanimoto', 'normalize': True, 'feature_weighting': 'BM25', 'asymmetric_alpha': 1.8214438206902523}. Best is trial 41 with value: 0.01986026589072958.\n"
     ]
    },
    {
     "name": "stdout",
     "output_type": "stream",
     "text": [
      "Similarity column 38121 (100.0%), 2946.75 column/sec. Elapsed time 12.94 sec\n",
      "EvaluatorHoldout: Processed 33827 (100.0%) in 19.24 sec. Users per second: 1758\n"
     ]
    },
    {
     "name": "stderr",
     "output_type": "stream",
     "text": [
      "2024-11-25 05:49:27,908 - INFO - Trial 42 results:\n",
      "2024-11-25 05:49:27,909 - INFO - Params: {'topK': 23, 'shrink': 287, 'similarity': 'tanimoto', 'normalize': True, 'feature_weighting': 'BM25', 'asymmetric_alpha': 1.8387792449733227}\n",
      "2024-11-25 05:49:27,909 - INFO - MAP@10: 0.019753755218546547\n",
      "[I 2024-11-25 05:49:27,913] Trial 42 finished with value: 0.019753755218546547 and parameters: {'topK': 23, 'shrink': 287, 'similarity': 'tanimoto', 'normalize': True, 'feature_weighting': 'BM25', 'asymmetric_alpha': 1.8387792449733227}. Best is trial 41 with value: 0.01986026589072958.\n"
     ]
    },
    {
     "name": "stdout",
     "output_type": "stream",
     "text": [
      "Similarity column 38121 (100.0%), 2954.42 column/sec. Elapsed time 12.90 sec\n",
      "EvaluatorHoldout: Processed 33827 (100.0%) in 19.55 sec. Users per second: 1730\n"
     ]
    },
    {
     "name": "stderr",
     "output_type": "stream",
     "text": [
      "2024-11-25 05:50:00,586 - INFO - Trial 43 results:\n",
      "2024-11-25 05:50:00,587 - INFO - Params: {'topK': 39, 'shrink': 297, 'similarity': 'tanimoto', 'normalize': True, 'feature_weighting': 'BM25', 'asymmetric_alpha': 1.8173088003450582}\n",
      "2024-11-25 05:50:00,588 - INFO - MAP@10: 0.01942983462538845\n",
      "[I 2024-11-25 05:50:00,593] Trial 43 finished with value: 0.01942983462538845 and parameters: {'topK': 39, 'shrink': 297, 'similarity': 'tanimoto', 'normalize': True, 'feature_weighting': 'BM25', 'asymmetric_alpha': 1.8173088003450582}. Best is trial 41 with value: 0.01986026589072958.\n"
     ]
    },
    {
     "name": "stdout",
     "output_type": "stream",
     "text": [
      "Similarity column 38121 (100.0%), 2938.49 column/sec. Elapsed time 12.97 sec\n",
      "EvaluatorHoldout: Processed 33827 (100.0%) in 18.11 sec. Users per second: 1868\n"
     ]
    },
    {
     "name": "stderr",
     "output_type": "stream",
     "text": [
      "2024-11-25 05:50:31,895 - INFO - Trial 44 results:\n",
      "2024-11-25 05:50:31,897 - INFO - Params: {'topK': 23, 'shrink': 272, 'similarity': 'tanimoto', 'normalize': True, 'feature_weighting': 'BM25', 'asymmetric_alpha': 1.7698931688380464}\n",
      "2024-11-25 05:50:31,897 - INFO - MAP@10: 0.01975150990028152\n",
      "[I 2024-11-25 05:50:31,901] Trial 44 finished with value: 0.01975150990028152 and parameters: {'topK': 23, 'shrink': 272, 'similarity': 'tanimoto', 'normalize': True, 'feature_weighting': 'BM25', 'asymmetric_alpha': 1.7698931688380464}. Best is trial 41 with value: 0.01986026589072958.\n"
     ]
    },
    {
     "name": "stdout",
     "output_type": "stream",
     "text": [
      "Similarity column 38121 (100.0%), 2896.08 column/sec. Elapsed time 13.16 sec\n",
      "EvaluatorHoldout: Processed 33827 (100.0%) in 17.76 sec. Users per second: 1905\n"
     ]
    },
    {
     "name": "stderr",
     "output_type": "stream",
     "text": [
      "2024-11-25 05:51:03,029 - INFO - Trial 45 results:\n",
      "2024-11-25 05:51:03,030 - INFO - Params: {'topK': 24, 'shrink': 270, 'similarity': 'tanimoto', 'normalize': True, 'feature_weighting': 'BM25', 'asymmetric_alpha': 1.8613700046332033}\n",
      "2024-11-25 05:51:03,031 - INFO - MAP@10: 0.01979215790335591\n",
      "[I 2024-11-25 05:51:03,035] Trial 45 finished with value: 0.01979215790335591 and parameters: {'topK': 24, 'shrink': 270, 'similarity': 'tanimoto', 'normalize': True, 'feature_weighting': 'BM25', 'asymmetric_alpha': 1.8613700046332033}. Best is trial 41 with value: 0.01986026589072958.\n"
     ]
    },
    {
     "name": "stdout",
     "output_type": "stream",
     "text": [
      "Similarity column 38121 (100.0%), 2967.46 column/sec. Elapsed time 12.85 sec\n",
      "EvaluatorHoldout: Processed 33827 (100.0%) in 20.12 sec. Users per second: 1682\n"
     ]
    },
    {
     "name": "stderr",
     "output_type": "stream",
     "text": [
      "2024-11-25 05:51:36,220 - INFO - Trial 46 results:\n",
      "2024-11-25 05:51:36,221 - INFO - Params: {'topK': 51, 'shrink': 267, 'similarity': 'tanimoto', 'normalize': True, 'feature_weighting': 'BM25', 'asymmetric_alpha': 1.8595558840339688}\n",
      "2024-11-25 05:51:36,221 - INFO - MAP@10: 0.01917585440577428\n",
      "[I 2024-11-25 05:51:36,225] Trial 46 finished with value: 0.01917585440577428 and parameters: {'topK': 51, 'shrink': 267, 'similarity': 'tanimoto', 'normalize': True, 'feature_weighting': 'BM25', 'asymmetric_alpha': 1.8595558840339688}. Best is trial 41 with value: 0.01986026589072958.\n"
     ]
    },
    {
     "name": "stdout",
     "output_type": "stream",
     "text": [
      "Similarity column 38121 (100.0%), 2905.82 column/sec. Elapsed time 13.12 sec\n",
      "EvaluatorHoldout: Processed 33827 (100.0%) in 23.40 sec. Users per second: 1445\n"
     ]
    },
    {
     "name": "stderr",
     "output_type": "stream",
     "text": [
      "2024-11-25 05:52:13,012 - INFO - Trial 47 results:\n",
      "2024-11-25 05:52:13,014 - INFO - Params: {'topK': 106, 'shrink': 265, 'similarity': 'tanimoto', 'normalize': True, 'feature_weighting': 'BM25', 'asymmetric_alpha': 1.7536518878052505}\n",
      "2024-11-25 05:52:13,014 - INFO - MAP@10: 0.01856812276846578\n",
      "[I 2024-11-25 05:52:13,020] Trial 47 finished with value: 0.01856812276846578 and parameters: {'topK': 106, 'shrink': 265, 'similarity': 'tanimoto', 'normalize': True, 'feature_weighting': 'BM25', 'asymmetric_alpha': 1.7536518878052505}. Best is trial 41 with value: 0.01986026589072958.\n"
     ]
    },
    {
     "name": "stdout",
     "output_type": "stream",
     "text": [
      "Similarity column 38121 (100.0%), 2865.28 column/sec. Elapsed time 13.30 sec\n",
      "EvaluatorHoldout: Processed 33827 (100.0%) in 18.98 sec. Users per second: 1782\n"
     ]
    },
    {
     "name": "stderr",
     "output_type": "stream",
     "text": [
      "2024-11-25 05:52:45,545 - INFO - Trial 48 results:\n",
      "2024-11-25 05:52:45,546 - INFO - Params: {'topK': 43, 'shrink': 234, 'similarity': 'asymmetric', 'normalize': True, 'feature_weighting': 'BM25', 'asymmetric_alpha': 1.8968766318397412}\n",
      "2024-11-25 05:52:45,546 - INFO - MAP@10: 0.014296954954270516\n",
      "[I 2024-11-25 05:52:45,550] Trial 48 finished with value: 0.014296954954270516 and parameters: {'topK': 43, 'shrink': 234, 'similarity': 'asymmetric', 'normalize': True, 'feature_weighting': 'BM25', 'asymmetric_alpha': 1.8968766318397412}. Best is trial 41 with value: 0.01986026589072958.\n"
     ]
    },
    {
     "name": "stdout",
     "output_type": "stream",
     "text": [
      "Similarity column 38121 (100.0%), 2893.69 column/sec. Elapsed time 13.17 sec\n",
      "EvaluatorHoldout: Processed 33827 (100.0%) in 25.68 sec. Users per second: 1317\n"
     ]
    },
    {
     "name": "stderr",
     "output_type": "stream",
     "text": [
      "2024-11-25 05:53:24,833 - INFO - Trial 49 results:\n",
      "2024-11-25 05:53:24,835 - INFO - Params: {'topK': 146, 'shrink': 278, 'similarity': 'jaccard', 'normalize': True, 'feature_weighting': 'BM25', 'asymmetric_alpha': 1.7754987172941024}\n",
      "2024-11-25 05:53:24,835 - INFO - MAP@10: 0.018075863133657322\n",
      "[I 2024-11-25 05:53:24,841] Trial 49 finished with value: 0.018075863133657322 and parameters: {'topK': 146, 'shrink': 278, 'similarity': 'jaccard', 'normalize': True, 'feature_weighting': 'BM25', 'asymmetric_alpha': 1.7754987172941024}. Best is trial 41 with value: 0.01986026589072958.\n"
     ]
    },
    {
     "name": "stdout",
     "output_type": "stream",
     "text": [
      "Similarity column 38121 (100.0%), 2938.69 column/sec. Elapsed time 12.97 sec\n",
      "EvaluatorHoldout: Processed 33827 (100.0%) in 21.65 sec. Users per second: 1562\n"
     ]
    },
    {
     "name": "stderr",
     "output_type": "stream",
     "text": [
      "2024-11-25 05:53:59,697 - INFO - Trial 50 results:\n",
      "2024-11-25 05:53:59,699 - INFO - Params: {'topK': 62, 'shrink': 250, 'similarity': 'tanimoto', 'normalize': True, 'feature_weighting': 'BM25', 'asymmetric_alpha': 1.6045701999980884}\n",
      "2024-11-25 05:53:59,699 - INFO - MAP@10: 0.01892869108503086\n",
      "[I 2024-11-25 05:53:59,703] Trial 50 finished with value: 0.01892869108503086 and parameters: {'topK': 62, 'shrink': 250, 'similarity': 'tanimoto', 'normalize': True, 'feature_weighting': 'BM25', 'asymmetric_alpha': 1.6045701999980884}. Best is trial 41 with value: 0.01986026589072958.\n"
     ]
    },
    {
     "name": "stdout",
     "output_type": "stream",
     "text": [
      "Similarity column 38121 (100.0%), 2961.25 column/sec. Elapsed time 12.87 sec\n",
      "EvaluatorHoldout: Processed 33827 (100.0%) in 19.35 sec. Users per second: 1748\n"
     ]
    },
    {
     "name": "stderr",
     "output_type": "stream",
     "text": [
      "2024-11-25 05:54:32,126 - INFO - Trial 51 results:\n",
      "2024-11-25 05:54:32,127 - INFO - Params: {'topK': 27, 'shrink': 279, 'similarity': 'tanimoto', 'normalize': True, 'feature_weighting': 'BM25', 'asymmetric_alpha': 1.9060011416272993}\n",
      "2024-11-25 05:54:32,127 - INFO - MAP@10: 0.019786806209560078\n",
      "[I 2024-11-25 05:54:32,130] Trial 51 finished with value: 0.019786806209560078 and parameters: {'topK': 27, 'shrink': 279, 'similarity': 'tanimoto', 'normalize': True, 'feature_weighting': 'BM25', 'asymmetric_alpha': 1.9060011416272993}. Best is trial 41 with value: 0.01986026589072958.\n"
     ]
    },
    {
     "name": "stdout",
     "output_type": "stream",
     "text": [
      "Similarity column 38121 (100.0%), 2938.64 column/sec. Elapsed time 12.97 sec\n",
      "EvaluatorHoldout: Processed 33827 (100.0%) in 18.63 sec. Users per second: 1816\n"
     ]
    },
    {
     "name": "stderr",
     "output_type": "stream",
     "text": [
      "2024-11-25 05:55:03,938 - INFO - Trial 52 results:\n",
      "2024-11-25 05:55:03,940 - INFO - Params: {'topK': 21, 'shrink': 279, 'similarity': 'tanimoto', 'normalize': True, 'feature_weighting': 'BM25', 'asymmetric_alpha': 1.9209714367046637}\n",
      "2024-11-25 05:55:03,940 - INFO - MAP@10: 0.019855046757521\n",
      "[I 2024-11-25 05:55:03,944] Trial 52 finished with value: 0.019855046757521 and parameters: {'topK': 21, 'shrink': 279, 'similarity': 'tanimoto', 'normalize': True, 'feature_weighting': 'BM25', 'asymmetric_alpha': 1.9209714367046637}. Best is trial 41 with value: 0.01986026589072958.\n"
     ]
    },
    {
     "name": "stdout",
     "output_type": "stream",
     "text": [
      "Similarity column 38121 (100.0%), 2881.94 column/sec. Elapsed time 13.23 sec\n",
      "EvaluatorHoldout: Processed 33827 (100.0%) in 19.42 sec. Users per second: 1742\n"
     ]
    },
    {
     "name": "stderr",
     "output_type": "stream",
     "text": [
      "2024-11-25 05:55:36,804 - INFO - Trial 53 results:\n",
      "2024-11-25 05:55:36,805 - INFO - Params: {'topK': 32, 'shrink': 252, 'similarity': 'tanimoto', 'normalize': True, 'feature_weighting': 'BM25', 'asymmetric_alpha': 1.9249717939114668}\n",
      "2024-11-25 05:55:36,805 - INFO - MAP@10: 0.019554034510799834\n",
      "[I 2024-11-25 05:55:36,809] Trial 53 finished with value: 0.019554034510799834 and parameters: {'topK': 32, 'shrink': 252, 'similarity': 'tanimoto', 'normalize': True, 'feature_weighting': 'BM25', 'asymmetric_alpha': 1.9249717939114668}. Best is trial 41 with value: 0.01986026589072958.\n"
     ]
    },
    {
     "name": "stdout",
     "output_type": "stream",
     "text": [
      "Similarity column 38121 (100.0%), 2956.65 column/sec. Elapsed time 12.89 sec\n",
      "EvaluatorHoldout: Processed 33827 (100.0%) in 18.54 sec. Users per second: 1825\n"
     ]
    },
    {
     "name": "stderr",
     "output_type": "stream",
     "text": [
      "2024-11-25 05:56:08,446 - INFO - Trial 54 results:\n",
      "2024-11-25 05:56:08,447 - INFO - Params: {'topK': 20, 'shrink': 281, 'similarity': 'tanimoto', 'normalize': True, 'feature_weighting': 'BM25', 'asymmetric_alpha': 1.678683818424879}\n",
      "2024-11-25 05:56:08,447 - INFO - MAP@10: 0.019885919297114373\n",
      "[I 2024-11-25 05:56:08,451] Trial 54 finished with value: 0.019885919297114373 and parameters: {'topK': 20, 'shrink': 281, 'similarity': 'tanimoto', 'normalize': True, 'feature_weighting': 'BM25', 'asymmetric_alpha': 1.678683818424879}. Best is trial 54 with value: 0.019885919297114373.\n"
     ]
    },
    {
     "name": "stdout",
     "output_type": "stream",
     "text": [
      "Similarity column 38121 (100.0%), 2882.13 column/sec. Elapsed time 13.23 sec\n",
      "EvaluatorHoldout: Processed 33827 (100.0%) in 20.27 sec. Users per second: 1669\n"
     ]
    },
    {
     "name": "stderr",
     "output_type": "stream",
     "text": [
      "2024-11-25 05:56:42,180 - INFO - Trial 55 results:\n",
      "2024-11-25 05:56:42,181 - INFO - Params: {'topK': 47, 'shrink': 232, 'similarity': 'tanimoto', 'normalize': True, 'feature_weighting': 'BM25', 'asymmetric_alpha': 1.662745065711}\n",
      "2024-11-25 05:56:42,181 - INFO - MAP@10: 0.01921859639688591\n",
      "[I 2024-11-25 05:56:42,185] Trial 55 finished with value: 0.01921859639688591 and parameters: {'topK': 47, 'shrink': 232, 'similarity': 'tanimoto', 'normalize': True, 'feature_weighting': 'BM25', 'asymmetric_alpha': 1.662745065711}. Best is trial 54 with value: 0.019885919297114373.\n"
     ]
    },
    {
     "name": "stdout",
     "output_type": "stream",
     "text": [
      "Similarity column 38121 (100.0%), 2994.83 column/sec. Elapsed time 12.73 sec\n",
      "EvaluatorHoldout: Processed 33827 (100.0%) in 18.70 sec. Users per second: 1809\n"
     ]
    },
    {
     "name": "stderr",
     "output_type": "stream",
     "text": [
      "2024-11-25 05:57:13,760 - INFO - Trial 56 results:\n",
      "2024-11-25 05:57:13,761 - INFO - Params: {'topK': 37, 'shrink': 258, 'similarity': 'cosine', 'normalize': False, 'feature_weighting': 'BM25', 'asymmetric_alpha': 1.9786870461706807}\n",
      "2024-11-25 05:57:13,762 - INFO - MAP@10: 0.016926800982215554\n",
      "[I 2024-11-25 05:57:13,765] Trial 56 finished with value: 0.016926800982215554 and parameters: {'topK': 37, 'shrink': 258, 'similarity': 'cosine', 'normalize': False, 'feature_weighting': 'BM25', 'asymmetric_alpha': 1.9786870461706807}. Best is trial 54 with value: 0.019885919297114373.\n"
     ]
    },
    {
     "name": "stdout",
     "output_type": "stream",
     "text": [
      "Similarity column 38121 (100.0%), 2903.01 column/sec. Elapsed time 13.13 sec\n",
      "EvaluatorHoldout: Processed 33827 (100.0%) in 18.23 sec. Users per second: 1856\n"
     ]
    },
    {
     "name": "stderr",
     "output_type": "stream",
     "text": [
      "2024-11-25 05:57:45,355 - INFO - Trial 57 results:\n",
      "2024-11-25 05:57:45,356 - INFO - Params: {'topK': 19, 'shrink': 214, 'similarity': 'tanimoto', 'normalize': True, 'feature_weighting': 'BM25', 'asymmetric_alpha': 1.8981054393498737}\n",
      "2024-11-25 05:57:45,357 - INFO - MAP@10: 0.01981302622447264\n",
      "[I 2024-11-25 05:57:45,361] Trial 57 finished with value: 0.01981302622447264 and parameters: {'topK': 19, 'shrink': 214, 'similarity': 'tanimoto', 'normalize': True, 'feature_weighting': 'BM25', 'asymmetric_alpha': 1.8981054393498737}. Best is trial 54 with value: 0.019885919297114373.\n"
     ]
    },
    {
     "name": "stdout",
     "output_type": "stream",
     "text": [
      "Similarity column 38121 (100.0%), 2920.26 column/sec. Elapsed time 13.05 sec\n",
      "EvaluatorHoldout: Processed 33827 (100.0%) in 19.03 sec. Users per second: 1778\n"
     ]
    },
    {
     "name": "stderr",
     "output_type": "stream",
     "text": [
      "2024-11-25 05:58:17,656 - INFO - Trial 58 results:\n",
      "2024-11-25 05:58:17,657 - INFO - Params: {'topK': 29, 'shrink': 217, 'similarity': 'tanimoto', 'normalize': True, 'feature_weighting': 'BM25', 'asymmetric_alpha': 1.9077047309201542}\n",
      "2024-11-25 05:58:17,657 - INFO - MAP@10: 0.019636094206703397\n",
      "[I 2024-11-25 05:58:17,661] Trial 58 finished with value: 0.019636094206703397 and parameters: {'topK': 29, 'shrink': 217, 'similarity': 'tanimoto', 'normalize': True, 'feature_weighting': 'BM25', 'asymmetric_alpha': 1.9077047309201542}. Best is trial 54 with value: 0.019885919297114373.\n"
     ]
    },
    {
     "name": "stdout",
     "output_type": "stream",
     "text": [
      "Similarity column 38121 (100.0%), 2871.67 column/sec. Elapsed time 13.27 sec\n",
      "EvaluatorHoldout: Processed 33827 (100.0%) in 23.25 sec. Users per second: 1455\n"
     ]
    },
    {
     "name": "stderr",
     "output_type": "stream",
     "text": [
      "2024-11-25 05:58:54,630 - INFO - Trial 59 results:\n",
      "2024-11-25 05:58:54,645 - INFO - Params: {'topK': 128, 'shrink': 279, 'similarity': 'tanimoto', 'normalize': True, 'feature_weighting': 'BM25', 'asymmetric_alpha': 1.6979694044572273}\n",
      "2024-11-25 05:58:54,646 - INFO - MAP@10: 0.018346784127078047\n",
      "[I 2024-11-25 05:58:54,654] Trial 59 finished with value: 0.018346784127078047 and parameters: {'topK': 128, 'shrink': 279, 'similarity': 'tanimoto', 'normalize': True, 'feature_weighting': 'BM25', 'asymmetric_alpha': 1.6979694044572273}. Best is trial 54 with value: 0.019885919297114373.\n"
     ]
    },
    {
     "name": "stdout",
     "output_type": "stream",
     "text": [
      "Similarity column 38121 (100.0%), 2875.12 column/sec. Elapsed time 13.26 sec\n",
      "EvaluatorHoldout: Processed 33827 (100.0%) in 25.70 sec. Users per second: 1316\n"
     ]
    },
    {
     "name": "stderr",
     "output_type": "stream",
     "text": [
      "2024-11-25 05:59:33,945 - INFO - Trial 60 results:\n",
      "2024-11-25 05:59:33,946 - INFO - Params: {'topK': 178, 'shrink': 240, 'similarity': 'tanimoto', 'normalize': False, 'feature_weighting': 'none', 'asymmetric_alpha': 1.9819434863313707}\n",
      "2024-11-25 05:59:33,947 - INFO - MAP@10: 0.01653517242965047\n",
      "[I 2024-11-25 05:59:33,953] Trial 60 finished with value: 0.01653517242965047 and parameters: {'topK': 178, 'shrink': 240, 'similarity': 'tanimoto', 'normalize': False, 'feature_weighting': 'none', 'asymmetric_alpha': 1.9819434863313707}. Best is trial 54 with value: 0.019885919297114373.\n"
     ]
    },
    {
     "name": "stdout",
     "output_type": "stream",
     "text": [
      "Similarity column 38121 (100.0%), 2971.80 column/sec. Elapsed time 12.83 sec\n",
      "EvaluatorHoldout: Processed 33827 (100.0%) in 18.13 sec. Users per second: 1865\n"
     ]
    },
    {
     "name": "stderr",
     "output_type": "stream",
     "text": [
      "2024-11-25 06:00:05,125 - INFO - Trial 61 results:\n",
      "2024-11-25 06:00:05,126 - INFO - Params: {'topK': 17, 'shrink': 282, 'similarity': 'tanimoto', 'normalize': True, 'feature_weighting': 'BM25', 'asymmetric_alpha': 1.8812056493569156}\n",
      "2024-11-25 06:00:05,127 - INFO - MAP@10: 0.019894306980288445\n",
      "[I 2024-11-25 06:00:05,130] Trial 61 finished with value: 0.019894306980288445 and parameters: {'topK': 17, 'shrink': 282, 'similarity': 'tanimoto', 'normalize': True, 'feature_weighting': 'BM25', 'asymmetric_alpha': 1.8812056493569156}. Best is trial 61 with value: 0.019894306980288445.\n"
     ]
    },
    {
     "name": "stdout",
     "output_type": "stream",
     "text": [
      "Similarity column 38121 (100.0%), 2982.63 column/sec. Elapsed time 12.78 sec\n",
      "EvaluatorHoldout: Processed 33827 (100.0%) in 18.57 sec. Users per second: 1822\n"
     ]
    },
    {
     "name": "stderr",
     "output_type": "stream",
     "text": [
      "2024-11-25 06:00:36,688 - INFO - Trial 62 results:\n",
      "2024-11-25 06:00:36,689 - INFO - Params: {'topK': 17, 'shrink': 281, 'similarity': 'tanimoto', 'normalize': True, 'feature_weighting': 'BM25', 'asymmetric_alpha': 1.8659680844282913}\n",
      "2024-11-25 06:00:36,690 - INFO - MAP@10: 0.01989288283380267\n",
      "[I 2024-11-25 06:00:36,693] Trial 62 finished with value: 0.01989288283380267 and parameters: {'topK': 17, 'shrink': 281, 'similarity': 'tanimoto', 'normalize': True, 'feature_weighting': 'BM25', 'asymmetric_alpha': 1.8659680844282913}. Best is trial 61 with value: 0.019894306980288445.\n"
     ]
    },
    {
     "name": "stdout",
     "output_type": "stream",
     "text": [
      "Similarity column 38121 (100.0%), 2981.77 column/sec. Elapsed time 12.78 sec\n",
      "EvaluatorHoldout: Processed 33827 (100.0%) in 17.73 sec. Users per second: 1908\n"
     ]
    },
    {
     "name": "stderr",
     "output_type": "stream",
     "text": [
      "2024-11-25 06:01:07,420 - INFO - Trial 63 results:\n",
      "2024-11-25 06:01:07,421 - INFO - Params: {'topK': 18, 'shrink': 258, 'similarity': 'tanimoto', 'normalize': True, 'feature_weighting': 'BM25', 'asymmetric_alpha': 1.6070750252443489}\n",
      "2024-11-25 06:01:07,422 - INFO - MAP@10: 0.01992579070630617\n",
      "[I 2024-11-25 06:01:07,425] Trial 63 finished with value: 0.01992579070630617 and parameters: {'topK': 18, 'shrink': 258, 'similarity': 'tanimoto', 'normalize': True, 'feature_weighting': 'BM25', 'asymmetric_alpha': 1.6070750252443489}. Best is trial 63 with value: 0.01992579070630617.\n"
     ]
    },
    {
     "name": "stdout",
     "output_type": "stream",
     "text": [
      "Similarity column 38121 (100.0%), 2958.07 column/sec. Elapsed time 12.89 sec\n",
      "EvaluatorHoldout: Processed 33827 (100.0%) in 18.17 sec. Users per second: 1862\n"
     ]
    },
    {
     "name": "stderr",
     "output_type": "stream",
     "text": [
      "2024-11-25 06:01:38,678 - INFO - Trial 64 results:\n",
      "2024-11-25 06:01:38,685 - INFO - Params: {'topK': 17, 'shrink': 218, 'similarity': 'tanimoto', 'normalize': True, 'feature_weighting': 'BM25', 'asymmetric_alpha': 1.7060217696478983}\n",
      "2024-11-25 06:01:38,686 - INFO - MAP@10: 0.019887687162644954\n",
      "[I 2024-11-25 06:01:38,691] Trial 64 finished with value: 0.019887687162644954 and parameters: {'topK': 17, 'shrink': 218, 'similarity': 'tanimoto', 'normalize': True, 'feature_weighting': 'BM25', 'asymmetric_alpha': 1.7060217696478983}. Best is trial 63 with value: 0.01992579070630617.\n"
     ]
    },
    {
     "name": "stdout",
     "output_type": "stream",
     "text": [
      "Similarity column 38121 (100.0%), 2967.83 column/sec. Elapsed time 12.84 sec\n",
      "EvaluatorHoldout: Processed 33827 (100.0%) in 17.80 sec. Users per second: 1901\n"
     ]
    },
    {
     "name": "stderr",
     "output_type": "stream",
     "text": [
      "2024-11-25 06:02:09,543 - INFO - Trial 65 results:\n",
      "2024-11-25 06:02:09,544 - INFO - Params: {'topK': 17, 'shrink': 258, 'similarity': 'tanimoto', 'normalize': True, 'feature_weighting': 'BM25', 'asymmetric_alpha': 1.6323678952349832}\n",
      "2024-11-25 06:02:09,545 - INFO - MAP@10: 0.019885473518148487\n",
      "[I 2024-11-25 06:02:09,549] Trial 65 finished with value: 0.019885473518148487 and parameters: {'topK': 17, 'shrink': 258, 'similarity': 'tanimoto', 'normalize': True, 'feature_weighting': 'BM25', 'asymmetric_alpha': 1.6323678952349832}. Best is trial 63 with value: 0.01992579070630617.\n"
     ]
    },
    {
     "name": "stdout",
     "output_type": "stream",
     "text": [
      "Similarity column 38121 (100.0%), 2898.36 column/sec. Elapsed time 13.15 sec\n",
      "EvaluatorHoldout: Processed 33827 (100.0%) in 17.18 sec. Users per second: 1969\n"
     ]
    },
    {
     "name": "stderr",
     "output_type": "stream",
     "text": [
      "2024-11-25 06:02:40,083 - INFO - Trial 66 results:\n",
      "2024-11-25 06:02:40,085 - INFO - Params: {'topK': 16, 'shrink': 244, 'similarity': 'jaccard', 'normalize': True, 'feature_weighting': 'BM25', 'asymmetric_alpha': 1.6232376512161892}\n",
      "2024-11-25 06:02:40,085 - INFO - MAP@10: 0.019890651592768115\n",
      "[I 2024-11-25 06:02:40,088] Trial 66 finished with value: 0.019890651592768115 and parameters: {'topK': 16, 'shrink': 244, 'similarity': 'jaccard', 'normalize': True, 'feature_weighting': 'BM25', 'asymmetric_alpha': 1.6232376512161892}. Best is trial 63 with value: 0.01992579070630617.\n"
     ]
    },
    {
     "name": "stdout",
     "output_type": "stream",
     "text": [
      "Similarity column 38121 (100.0%), 2902.81 column/sec. Elapsed time 13.13 sec\n",
      "EvaluatorHoldout: Processed 33827 (100.0%) in 17.55 sec. Users per second: 1927\n"
     ]
    },
    {
     "name": "stderr",
     "output_type": "stream",
     "text": [
      "2024-11-25 06:03:10,981 - INFO - Trial 67 results:\n",
      "2024-11-25 06:03:10,982 - INFO - Params: {'topK': 16, 'shrink': 223, 'similarity': 'jaccard', 'normalize': True, 'feature_weighting': 'BM25', 'asymmetric_alpha': 1.6092806386390863}\n",
      "2024-11-25 06:03:10,983 - INFO - MAP@10: 0.019847907255451405\n",
      "[I 2024-11-25 06:03:10,986] Trial 67 finished with value: 0.019847907255451405 and parameters: {'topK': 16, 'shrink': 223, 'similarity': 'jaccard', 'normalize': True, 'feature_weighting': 'BM25', 'asymmetric_alpha': 1.6092806386390863}. Best is trial 63 with value: 0.01992579070630617.\n"
     ]
    },
    {
     "name": "stdout",
     "output_type": "stream",
     "text": [
      "Similarity column 38121 (100.0%), 2900.38 column/sec. Elapsed time 13.14 sec\n",
      "EvaluatorHoldout: Processed 33827 (100.0%) in 19.42 sec. Users per second: 1742\n"
     ]
    },
    {
     "name": "stderr",
     "output_type": "stream",
     "text": [
      "2024-11-25 06:03:43,734 - INFO - Trial 68 results:\n",
      "2024-11-25 06:03:43,735 - INFO - Params: {'topK': 34, 'shrink': 260, 'similarity': 'jaccard', 'normalize': True, 'feature_weighting': 'none', 'asymmetric_alpha': 1.7014321672914203}\n",
      "2024-11-25 06:03:43,736 - INFO - MAP@10: 0.017471419702773574\n",
      "[I 2024-11-25 06:03:43,739] Trial 68 finished with value: 0.017471419702773574 and parameters: {'topK': 34, 'shrink': 260, 'similarity': 'jaccard', 'normalize': True, 'feature_weighting': 'none', 'asymmetric_alpha': 1.7014321672914203}. Best is trial 63 with value: 0.01992579070630617.\n"
     ]
    },
    {
     "name": "stdout",
     "output_type": "stream",
     "text": [
      "Similarity column 38121 (100.0%), 2816.19 column/sec. Elapsed time 13.54 sec\n",
      "EvaluatorHoldout: Processed 33827 (100.0%) in 18.11 sec. Users per second: 1867\n"
     ]
    },
    {
     "name": "stderr",
     "output_type": "stream",
     "text": [
      "2024-11-25 06:04:15,600 - INFO - Trial 69 results:\n",
      "2024-11-25 06:04:15,601 - INFO - Params: {'topK': 15, 'shrink': 244, 'similarity': 'jaccard', 'normalize': False, 'feature_weighting': 'BM25', 'asymmetric_alpha': 1.455841155743802}\n",
      "2024-11-25 06:04:15,602 - INFO - MAP@10: 0.0199075829817544\n",
      "[I 2024-11-25 06:04:15,606] Trial 69 finished with value: 0.0199075829817544 and parameters: {'topK': 15, 'shrink': 244, 'similarity': 'jaccard', 'normalize': False, 'feature_weighting': 'BM25', 'asymmetric_alpha': 1.455841155743802}. Best is trial 63 with value: 0.01992579070630617.\n"
     ]
    },
    {
     "name": "stdout",
     "output_type": "stream",
     "text": [
      "Similarity column 38121 (100.0%), 2927.01 column/sec. Elapsed time 13.02 sec\n",
      "EvaluatorHoldout: Processed 33827 (100.0%) in 18.02 sec. Users per second: 1877\n"
     ]
    },
    {
     "name": "stderr",
     "output_type": "stream",
     "text": [
      "2024-11-25 06:04:46,883 - INFO - Trial 70 results:\n",
      "2024-11-25 06:04:46,884 - INFO - Params: {'topK': 16, 'shrink': 240, 'similarity': 'jaccard', 'normalize': False, 'feature_weighting': 'BM25', 'asymmetric_alpha': 1.4128414133190503}\n",
      "2024-11-25 06:04:46,885 - INFO - MAP@10: 0.019886785046790263\n",
      "[I 2024-11-25 06:04:46,888] Trial 70 finished with value: 0.019886785046790263 and parameters: {'topK': 16, 'shrink': 240, 'similarity': 'jaccard', 'normalize': False, 'feature_weighting': 'BM25', 'asymmetric_alpha': 1.4128414133190503}. Best is trial 63 with value: 0.01992579070630617.\n"
     ]
    },
    {
     "name": "stdout",
     "output_type": "stream",
     "text": [
      "Similarity column 38121 (100.0%), 2960.37 column/sec. Elapsed time 12.88 sec\n",
      "EvaluatorHoldout: Processed 33827 (100.0%) in 18.08 sec. Users per second: 1871\n"
     ]
    },
    {
     "name": "stderr",
     "output_type": "stream",
     "text": [
      "2024-11-25 06:05:18,056 - INFO - Trial 71 results:\n",
      "2024-11-25 06:05:18,057 - INFO - Params: {'topK': 16, 'shrink': 243, 'similarity': 'jaccard', 'normalize': False, 'feature_weighting': 'BM25', 'asymmetric_alpha': 1.4726364483770469}\n",
      "2024-11-25 06:05:18,057 - INFO - MAP@10: 0.01988679443161058\n",
      "[I 2024-11-25 06:05:18,061] Trial 71 finished with value: 0.01988679443161058 and parameters: {'topK': 16, 'shrink': 243, 'similarity': 'jaccard', 'normalize': False, 'feature_weighting': 'BM25', 'asymmetric_alpha': 1.4726364483770469}. Best is trial 63 with value: 0.01992579070630617.\n"
     ]
    },
    {
     "name": "stdout",
     "output_type": "stream",
     "text": [
      "Similarity column 38121 (100.0%), 2927.53 column/sec. Elapsed time 13.02 sec\n",
      "EvaluatorHoldout: Processed 33827 (100.0%) in 18.53 sec. Users per second: 1825\n"
     ]
    },
    {
     "name": "stderr",
     "output_type": "stream",
     "text": [
      "2024-11-25 06:05:49,819 - INFO - Trial 72 results:\n",
      "2024-11-25 06:05:49,820 - INFO - Params: {'topK': 15, 'shrink': 243, 'similarity': 'jaccard', 'normalize': False, 'feature_weighting': 'BM25', 'asymmetric_alpha': 1.480413919397046}\n",
      "2024-11-25 06:05:49,821 - INFO - MAP@10: 0.019909348501079862\n",
      "[I 2024-11-25 06:05:49,825] Trial 72 finished with value: 0.019909348501079862 and parameters: {'topK': 15, 'shrink': 243, 'similarity': 'jaccard', 'normalize': False, 'feature_weighting': 'BM25', 'asymmetric_alpha': 1.480413919397046}. Best is trial 63 with value: 0.01992579070630617.\n"
     ]
    },
    {
     "name": "stdout",
     "output_type": "stream",
     "text": [
      "Similarity column 38121 (100.0%), 2968.94 column/sec. Elapsed time 12.84 sec\n",
      "EvaluatorHoldout: Processed 33827 (100.0%) in 19.17 sec. Users per second: 1765\n"
     ]
    },
    {
     "name": "stderr",
     "output_type": "stream",
     "text": [
      "2024-11-25 06:06:22,037 - INFO - Trial 73 results:\n",
      "2024-11-25 06:06:22,038 - INFO - Params: {'topK': 31, 'shrink': 207, 'similarity': 'jaccard', 'normalize': False, 'feature_weighting': 'BM25', 'asymmetric_alpha': 1.451984407024399}\n",
      "2024-11-25 06:06:22,039 - INFO - MAP@10: 0.01948198255268047\n",
      "[I 2024-11-25 06:06:22,042] Trial 73 finished with value: 0.01948198255268047 and parameters: {'topK': 31, 'shrink': 207, 'similarity': 'jaccard', 'normalize': False, 'feature_weighting': 'BM25', 'asymmetric_alpha': 1.451984407024399}. Best is trial 63 with value: 0.01992579070630617.\n"
     ]
    },
    {
     "name": "stdout",
     "output_type": "stream",
     "text": [
      "Similarity column 38121 (100.0%), 2949.85 column/sec. Elapsed time 12.92 sec\n",
      "EvaluatorHoldout: Processed 33827 (100.0%) in 23.10 sec. Users per second: 1465\n"
     ]
    },
    {
     "name": "stderr",
     "output_type": "stream",
     "text": [
      "2024-11-25 06:06:58,312 - INFO - Trial 74 results:\n",
      "2024-11-25 06:06:58,313 - INFO - Params: {'topK': 96, 'shrink': 185, 'similarity': 'jaccard', 'normalize': False, 'feature_weighting': 'BM25', 'asymmetric_alpha': 1.580319131203071}\n",
      "2024-11-25 06:06:58,314 - INFO - MAP@10: 0.018664399294073878\n",
      "[I 2024-11-25 06:06:58,318] Trial 74 finished with value: 0.018664399294073878 and parameters: {'topK': 96, 'shrink': 185, 'similarity': 'jaccard', 'normalize': False, 'feature_weighting': 'BM25', 'asymmetric_alpha': 1.580319131203071}. Best is trial 63 with value: 0.01992579070630617.\n"
     ]
    },
    {
     "name": "stdout",
     "output_type": "stream",
     "text": [
      "Similarity column 38121 (100.0%), 2877.62 column/sec. Elapsed time 13.25 sec\n",
      "EvaluatorHoldout: Processed 33827 (100.0%) in 17.60 sec. Users per second: 1922\n"
     ]
    },
    {
     "name": "stderr",
     "output_type": "stream",
     "text": [
      "2024-11-25 06:07:29,373 - INFO - Trial 75 results:\n",
      "2024-11-25 06:07:29,374 - INFO - Params: {'topK': 14, 'shrink': 242, 'similarity': 'jaccard', 'normalize': False, 'feature_weighting': 'BM25', 'asymmetric_alpha': 1.5364060234234969}\n",
      "2024-11-25 06:07:29,374 - INFO - MAP@10: 0.019885294033459573\n",
      "[I 2024-11-25 06:07:29,377] Trial 75 finished with value: 0.019885294033459573 and parameters: {'topK': 14, 'shrink': 242, 'similarity': 'jaccard', 'normalize': False, 'feature_weighting': 'BM25', 'asymmetric_alpha': 1.5364060234234969}. Best is trial 63 with value: 0.01992579070630617.\n"
     ]
    },
    {
     "name": "stdout",
     "output_type": "stream",
     "text": [
      "Similarity column 38121 (100.0%), 2914.83 column/sec. Elapsed time 13.08 sec\n",
      "EvaluatorHoldout: Processed 33827 (100.0%) in 21.71 sec. Users per second: 1558\n"
     ]
    },
    {
     "name": "stderr",
     "output_type": "stream",
     "text": [
      "2024-11-25 06:08:04,534 - INFO - Trial 76 results:\n",
      "2024-11-25 06:08:04,535 - INFO - Params: {'topK': 76, 'shrink': 223, 'similarity': 'jaccard', 'normalize': False, 'feature_weighting': 'BM25', 'asymmetric_alpha': 1.4800999145689988}\n",
      "2024-11-25 06:08:04,536 - INFO - MAP@10: 0.018763603883626412\n",
      "[I 2024-11-25 06:08:04,541] Trial 76 finished with value: 0.018763603883626412 and parameters: {'topK': 76, 'shrink': 223, 'similarity': 'jaccard', 'normalize': False, 'feature_weighting': 'BM25', 'asymmetric_alpha': 1.4800999145689988}. Best is trial 63 with value: 0.01992579070630617.\n"
     ]
    },
    {
     "name": "stdout",
     "output_type": "stream",
     "text": [
      "Similarity column 38121 (100.0%), 2915.10 column/sec. Elapsed time 13.08 sec\n",
      "EvaluatorHoldout: Processed 33827 (100.0%) in 19.54 sec. Users per second: 1731\n"
     ]
    },
    {
     "name": "stderr",
     "output_type": "stream",
     "text": [
      "2024-11-25 06:08:37,392 - INFO - Trial 77 results:\n",
      "2024-11-25 06:08:37,393 - INFO - Params: {'topK': 40, 'shrink': 187, 'similarity': 'jaccard', 'normalize': False, 'feature_weighting': 'BM25', 'asymmetric_alpha': 1.2840565635191297}\n",
      "2024-11-25 06:08:37,394 - INFO - MAP@10: 0.01929159035634632\n",
      "[I 2024-11-25 06:08:37,398] Trial 77 finished with value: 0.01929159035634632 and parameters: {'topK': 40, 'shrink': 187, 'similarity': 'jaccard', 'normalize': False, 'feature_weighting': 'BM25', 'asymmetric_alpha': 1.2840565635191297}. Best is trial 63 with value: 0.01992579070630617.\n"
     ]
    },
    {
     "name": "stdout",
     "output_type": "stream",
     "text": [
      "Similarity column 38121 (100.0%), 2990.16 column/sec. Elapsed time 12.75 sec\n",
      "EvaluatorHoldout: Processed 33827 (100.0%) in 17.70 sec. Users per second: 1911\n"
     ]
    },
    {
     "name": "stderr",
     "output_type": "stream",
     "text": [
      "2024-11-25 06:09:08,020 - INFO - Trial 78 results:\n",
      "2024-11-25 06:09:08,021 - INFO - Params: {'topK': 29, 'shrink': 248, 'similarity': 'jaccard', 'normalize': False, 'feature_weighting': 'none', 'asymmetric_alpha': 1.7325570993147221}\n",
      "2024-11-25 06:09:08,022 - INFO - MAP@10: 0.01770831133766088\n",
      "[I 2024-11-25 06:09:08,025] Trial 78 finished with value: 0.01770831133766088 and parameters: {'topK': 29, 'shrink': 248, 'similarity': 'jaccard', 'normalize': False, 'feature_weighting': 'none', 'asymmetric_alpha': 1.7325570993147221}. Best is trial 63 with value: 0.01992579070630617.\n"
     ]
    },
    {
     "name": "stdout",
     "output_type": "stream",
     "text": [
      "Similarity column 38121 (100.0%), 2907.19 column/sec. Elapsed time 13.11 sec\n",
      "EvaluatorHoldout: Processed 33827 (100.0%) in 16.77 sec. Users per second: 2017\n"
     ]
    },
    {
     "name": "stderr",
     "output_type": "stream",
     "text": [
      "2024-11-25 06:09:38,115 - INFO - Trial 79 results:\n",
      "2024-11-25 06:09:38,116 - INFO - Params: {'topK': 15, 'shrink': 229, 'similarity': 'jaccard', 'normalize': False, 'feature_weighting': 'BM25', 'asymmetric_alpha': 1.4078571491916716}\n",
      "2024-11-25 06:09:38,117 - INFO - MAP@10: 0.019908750218783463\n",
      "[I 2024-11-25 06:09:38,121] Trial 79 finished with value: 0.019908750218783463 and parameters: {'topK': 15, 'shrink': 229, 'similarity': 'jaccard', 'normalize': False, 'feature_weighting': 'BM25', 'asymmetric_alpha': 1.4078571491916716}. Best is trial 63 with value: 0.01992579070630617.\n"
     ]
    },
    {
     "name": "stdout",
     "output_type": "stream",
     "text": [
      "Similarity column 38121 (100.0%), 2935.11 column/sec. Elapsed time 12.99 sec\n",
      "EvaluatorHoldout: Processed 33827 (100.0%) in 18.03 sec. Users per second: 1876\n"
     ]
    },
    {
     "name": "stderr",
     "output_type": "stream",
     "text": [
      "2024-11-25 06:10:09,356 - INFO - Trial 80 results:\n",
      "2024-11-25 06:10:09,357 - INFO - Params: {'topK': 34, 'shrink': 227, 'similarity': 'jaccard', 'normalize': False, 'feature_weighting': 'BM25', 'asymmetric_alpha': 1.4012263911318052}\n",
      "2024-11-25 06:10:09,357 - INFO - MAP@10: 0.019459944648329588\n",
      "[I 2024-11-25 06:10:09,361] Trial 80 finished with value: 0.019459944648329588 and parameters: {'topK': 34, 'shrink': 227, 'similarity': 'jaccard', 'normalize': False, 'feature_weighting': 'BM25', 'asymmetric_alpha': 1.4012263911318052}. Best is trial 63 with value: 0.01992579070630617.\n"
     ]
    },
    {
     "name": "stdout",
     "output_type": "stream",
     "text": [
      "Similarity column 38121 (100.0%), 2960.80 column/sec. Elapsed time 12.88 sec\n",
      "EvaluatorHoldout: Processed 33827 (100.0%) in 17.10 sec. Users per second: 1978\n"
     ]
    },
    {
     "name": "stderr",
     "output_type": "stream",
     "text": [
      "2024-11-25 06:10:39,543 - INFO - Trial 81 results:\n",
      "2024-11-25 06:10:39,545 - INFO - Params: {'topK': 15, 'shrink': 253, 'similarity': 'jaccard', 'normalize': False, 'feature_weighting': 'BM25', 'asymmetric_alpha': 1.572116304131444}\n",
      "2024-11-25 06:10:39,545 - INFO - MAP@10: 0.019896737648755183\n",
      "[I 2024-11-25 06:10:39,549] Trial 81 finished with value: 0.019896737648755183 and parameters: {'topK': 15, 'shrink': 253, 'similarity': 'jaccard', 'normalize': False, 'feature_weighting': 'BM25', 'asymmetric_alpha': 1.572116304131444}. Best is trial 63 with value: 0.01992579070630617.\n"
     ]
    },
    {
     "name": "stdout",
     "output_type": "stream",
     "text": [
      "Similarity column 38121 (100.0%), 2897.25 column/sec. Elapsed time 13.16 sec\n",
      "EvaluatorHoldout: Processed 33827 (100.0%) in 16.63 sec. Users per second: 2034\n"
     ]
    },
    {
     "name": "stderr",
     "output_type": "stream",
     "text": [
      "2024-11-25 06:11:09,538 - INFO - Trial 82 results:\n",
      "2024-11-25 06:11:09,539 - INFO - Params: {'topK': 13, 'shrink': 255, 'similarity': 'jaccard', 'normalize': False, 'feature_weighting': 'BM25', 'asymmetric_alpha': 1.5621540437686217}\n",
      "2024-11-25 06:11:09,539 - INFO - MAP@10: 0.019947945920911123\n",
      "[I 2024-11-25 06:11:09,543] Trial 82 finished with value: 0.019947945920911123 and parameters: {'topK': 13, 'shrink': 255, 'similarity': 'jaccard', 'normalize': False, 'feature_weighting': 'BM25', 'asymmetric_alpha': 1.5621540437686217}. Best is trial 82 with value: 0.019947945920911123.\n"
     ]
    },
    {
     "name": "stdout",
     "output_type": "stream",
     "text": [
      "Similarity column 38121 (100.0%), 2953.42 column/sec. Elapsed time 12.91 sec\n",
      "EvaluatorHoldout: Processed 33827 (100.0%) in 18.50 sec. Users per second: 1828\n"
     ]
    },
    {
     "name": "stderr",
     "output_type": "stream",
     "text": [
      "2024-11-25 06:11:41,159 - INFO - Trial 83 results:\n",
      "2024-11-25 06:11:41,161 - INFO - Params: {'topK': 27, 'shrink': 254, 'similarity': 'jaccard', 'normalize': False, 'feature_weighting': 'BM25', 'asymmetric_alpha': 1.5424133741816135}\n",
      "2024-11-25 06:11:41,161 - INFO - MAP@10: 0.019774939104246974\n",
      "[I 2024-11-25 06:11:41,165] Trial 83 finished with value: 0.019774939104246974 and parameters: {'topK': 27, 'shrink': 254, 'similarity': 'jaccard', 'normalize': False, 'feature_weighting': 'BM25', 'asymmetric_alpha': 1.5424133741816135}. Best is trial 82 with value: 0.019947945920911123.\n"
     ]
    },
    {
     "name": "stdout",
     "output_type": "stream",
     "text": [
      "Similarity column 38121 (100.0%), 2979.70 column/sec. Elapsed time 12.79 sec\n",
      "EvaluatorHoldout: Processed 33827 (100.0%) in 16.87 sec. Users per second: 2006\n"
     ]
    },
    {
     "name": "stderr",
     "output_type": "stream",
     "text": [
      "2024-11-25 06:12:11,028 - INFO - Trial 84 results:\n",
      "2024-11-25 06:12:11,029 - INFO - Params: {'topK': 11, 'shrink': 235, 'similarity': 'jaccard', 'normalize': False, 'feature_weighting': 'BM25', 'asymmetric_alpha': 1.3106599338986122}\n",
      "2024-11-25 06:12:11,029 - INFO - MAP@10: 0.02007268543349172\n",
      "[I 2024-11-25 06:12:11,034] Trial 84 finished with value: 0.02007268543349172 and parameters: {'topK': 11, 'shrink': 235, 'similarity': 'jaccard', 'normalize': False, 'feature_weighting': 'BM25', 'asymmetric_alpha': 1.3106599338986122}. Best is trial 84 with value: 0.02007268543349172.\n"
     ]
    },
    {
     "name": "stdout",
     "output_type": "stream",
     "text": [
      "Similarity column 38121 (100.0%), 2925.48 column/sec. Elapsed time 13.03 sec\n",
      "EvaluatorHoldout: Processed 33827 (100.0%) in 16.76 sec. Users per second: 2018\n"
     ]
    },
    {
     "name": "stderr",
     "output_type": "stream",
     "text": [
      "2024-11-25 06:12:41,027 - INFO - Trial 85 results:\n",
      "2024-11-25 06:12:41,029 - INFO - Params: {'topK': 10, 'shrink': 264, 'similarity': 'jaccard', 'normalize': False, 'feature_weighting': 'BM25', 'asymmetric_alpha': 1.2043488778583}\n",
      "2024-11-25 06:12:41,029 - INFO - MAP@10: 0.02015179829581033\n",
      "[I 2024-11-25 06:12:41,031] Trial 85 finished with value: 0.02015179829581033 and parameters: {'topK': 10, 'shrink': 264, 'similarity': 'jaccard', 'normalize': False, 'feature_weighting': 'BM25', 'asymmetric_alpha': 1.2043488778583}. Best is trial 85 with value: 0.02015179829581033.\n"
     ]
    },
    {
     "name": "stdout",
     "output_type": "stream",
     "text": [
      "Similarity column 38121 (100.0%), 2935.60 column/sec. Elapsed time 12.99 sec\n",
      "EvaluatorHoldout: Processed 33827 (100.0%) in 16.90 sec. Users per second: 2002\n"
     ]
    },
    {
     "name": "stderr",
     "output_type": "stream",
     "text": [
      "2024-11-25 06:13:11,202 - INFO - Trial 86 results:\n",
      "2024-11-25 06:13:11,203 - INFO - Params: {'topK': 11, 'shrink': 264, 'similarity': 'jaccard', 'normalize': False, 'feature_weighting': 'BM25', 'asymmetric_alpha': 1.2898185762248777}\n",
      "2024-11-25 06:13:11,203 - INFO - MAP@10: 0.02008082676513209\n",
      "[I 2024-11-25 06:13:11,206] Trial 86 finished with value: 0.02008082676513209 and parameters: {'topK': 11, 'shrink': 264, 'similarity': 'jaccard', 'normalize': False, 'feature_weighting': 'BM25', 'asymmetric_alpha': 1.2898185762248777}. Best is trial 85 with value: 0.02015179829581033.\n"
     ]
    },
    {
     "name": "stdout",
     "output_type": "stream",
     "text": [
      "Similarity column 38121 (100.0%), 2950.90 column/sec. Elapsed time 12.92 sec\n",
      "EvaluatorHoldout: Processed 33827 (100.0%) in 17.18 sec. Users per second: 1970\n"
     ]
    },
    {
     "name": "stderr",
     "output_type": "stream",
     "text": [
      "2024-11-25 06:13:41,504 - INFO - Trial 87 results:\n",
      "2024-11-25 06:13:41,505 - INFO - Params: {'topK': 10, 'shrink': 263, 'similarity': 'jaccard', 'normalize': False, 'feature_weighting': 'BM25', 'asymmetric_alpha': 1.1566535804294495}\n",
      "2024-11-25 06:13:41,505 - INFO - MAP@10: 0.020150292032146615\n",
      "[I 2024-11-25 06:13:41,509] Trial 87 finished with value: 0.020150292032146615 and parameters: {'topK': 10, 'shrink': 263, 'similarity': 'jaccard', 'normalize': False, 'feature_weighting': 'BM25', 'asymmetric_alpha': 1.1566535804294495}. Best is trial 85 with value: 0.02015179829581033.\n"
     ]
    },
    {
     "name": "stdout",
     "output_type": "stream",
     "text": [
      "Similarity column 38121 (100.0%), 2919.73 column/sec. Elapsed time 13.06 sec\n",
      "EvaluatorHoldout: Processed 33827 (100.0%) in 17.03 sec. Users per second: 1986\n"
     ]
    },
    {
     "name": "stderr",
     "output_type": "stream",
     "text": [
      "2024-11-25 06:14:11,806 - INFO - Trial 88 results:\n",
      "2024-11-25 06:14:11,807 - INFO - Params: {'topK': 10, 'shrink': 232, 'similarity': 'jaccard', 'normalize': False, 'feature_weighting': 'BM25', 'asymmetric_alpha': 1.110720634779732}\n",
      "2024-11-25 06:14:11,807 - INFO - MAP@10: 0.020055583944636895\n",
      "[I 2024-11-25 06:14:11,811] Trial 88 finished with value: 0.020055583944636895 and parameters: {'topK': 10, 'shrink': 232, 'similarity': 'jaccard', 'normalize': False, 'feature_weighting': 'BM25', 'asymmetric_alpha': 1.110720634779732}. Best is trial 85 with value: 0.02015179829581033.\n"
     ]
    },
    {
     "name": "stdout",
     "output_type": "stream",
     "text": [
      "Similarity column 38121 (100.0%), 2858.21 column/sec. Elapsed time 13.34 sec\n",
      "EvaluatorHoldout: Processed 33827 (100.0%) in 16.71 sec. Users per second: 2024\n"
     ]
    },
    {
     "name": "stderr",
     "output_type": "stream",
     "text": [
      "2024-11-25 06:14:42,093 - INFO - Trial 89 results:\n",
      "2024-11-25 06:14:42,095 - INFO - Params: {'topK': 11, 'shrink': 234, 'similarity': 'jaccard', 'normalize': False, 'feature_weighting': 'BM25', 'asymmetric_alpha': 1.18882432771372}\n",
      "2024-11-25 06:14:42,095 - INFO - MAP@10: 0.0200782119195663\n",
      "[I 2024-11-25 06:14:42,098] Trial 89 finished with value: 0.0200782119195663 and parameters: {'topK': 11, 'shrink': 234, 'similarity': 'jaccard', 'normalize': False, 'feature_weighting': 'BM25', 'asymmetric_alpha': 1.18882432771372}. Best is trial 85 with value: 0.02015179829581033.\n"
     ]
    },
    {
     "name": "stdout",
     "output_type": "stream",
     "text": [
      "Similarity column 38121 (100.0%), 2860.98 column/sec. Elapsed time 13.32 sec\n",
      "EvaluatorHoldout: Processed 33827 (100.0%) in 17.21 sec. Users per second: 1966\n"
     ]
    },
    {
     "name": "stderr",
     "output_type": "stream",
     "text": [
      "2024-11-25 06:15:12,843 - INFO - Trial 90 results:\n",
      "2024-11-25 06:15:12,845 - INFO - Params: {'topK': 12, 'shrink': 264, 'similarity': 'jaccard', 'normalize': False, 'feature_weighting': 'BM25', 'asymmetric_alpha': 1.1185229382935737}\n",
      "2024-11-25 06:15:12,845 - INFO - MAP@10: 0.019975864588304203\n",
      "[I 2024-11-25 06:15:12,849] Trial 90 finished with value: 0.019975864588304203 and parameters: {'topK': 12, 'shrink': 264, 'similarity': 'jaccard', 'normalize': False, 'feature_weighting': 'BM25', 'asymmetric_alpha': 1.1185229382935737}. Best is trial 85 with value: 0.02015179829581033.\n"
     ]
    },
    {
     "name": "stdout",
     "output_type": "stream",
     "text": [
      "Similarity column 38121 (100.0%), 2899.01 column/sec. Elapsed time 13.15 sec\n",
      "EvaluatorHoldout: Processed 33827 (100.0%) in 16.66 sec. Users per second: 2031\n"
     ]
    },
    {
     "name": "stderr",
     "output_type": "stream",
     "text": [
      "2024-11-25 06:15:42,935 - INFO - Trial 91 results:\n",
      "2024-11-25 06:15:42,937 - INFO - Params: {'topK': 10, 'shrink': 266, 'similarity': 'jaccard', 'normalize': False, 'feature_weighting': 'BM25', 'asymmetric_alpha': 1.1491104246052215}\n",
      "2024-11-25 06:15:42,937 - INFO - MAP@10: 0.02014803029044598\n",
      "[I 2024-11-25 06:15:42,941] Trial 91 finished with value: 0.02014803029044598 and parameters: {'topK': 10, 'shrink': 266, 'similarity': 'jaccard', 'normalize': False, 'feature_weighting': 'BM25', 'asymmetric_alpha': 1.1491104246052215}. Best is trial 85 with value: 0.02015179829581033.\n"
     ]
    },
    {
     "name": "stdout",
     "output_type": "stream",
     "text": [
      "Similarity column 38121 (100.0%), 2875.16 column/sec. Elapsed time 13.26 sec\n",
      "EvaluatorHoldout: Processed 33827 (100.0%) in 16.61 sec. Users per second: 2036\n"
     ]
    },
    {
     "name": "stderr",
     "output_type": "stream",
     "text": [
      "2024-11-25 06:16:13,039 - INFO - Trial 92 results:\n",
      "2024-11-25 06:16:13,041 - INFO - Params: {'topK': 10, 'shrink': 266, 'similarity': 'jaccard', 'normalize': False, 'feature_weighting': 'BM25', 'asymmetric_alpha': 1.160184397268959}\n",
      "2024-11-25 06:16:13,041 - INFO - MAP@10: 0.02014803029044598\n",
      "[I 2024-11-25 06:16:13,043] Trial 92 finished with value: 0.02014803029044598 and parameters: {'topK': 10, 'shrink': 266, 'similarity': 'jaccard', 'normalize': False, 'feature_weighting': 'BM25', 'asymmetric_alpha': 1.160184397268959}. Best is trial 85 with value: 0.02015179829581033.\n"
     ]
    },
    {
     "name": "stdout",
     "output_type": "stream",
     "text": [
      "Similarity column 38121 (100.0%), 2847.36 column/sec. Elapsed time 13.39 sec\n",
      "EvaluatorHoldout: Processed 33827 (100.0%) in 17.25 sec. Users per second: 1961\n"
     ]
    },
    {
     "name": "stderr",
     "output_type": "stream",
     "text": [
      "2024-11-25 06:16:43,895 - INFO - Trial 93 results:\n",
      "2024-11-25 06:16:43,896 - INFO - Params: {'topK': 10, 'shrink': 270, 'similarity': 'jaccard', 'normalize': False, 'feature_weighting': 'BM25', 'asymmetric_alpha': 1.1622841361419267}\n",
      "2024-11-25 06:16:43,896 - INFO - MAP@10: 0.020148453780463565\n",
      "[I 2024-11-25 06:16:43,899] Trial 93 finished with value: 0.020148453780463565 and parameters: {'topK': 10, 'shrink': 270, 'similarity': 'jaccard', 'normalize': False, 'feature_weighting': 'BM25', 'asymmetric_alpha': 1.1622841361419267}. Best is trial 85 with value: 0.02015179829581033.\n"
     ]
    },
    {
     "name": "stdout",
     "output_type": "stream",
     "text": [
      "Similarity column 38121 (100.0%), 2935.78 column/sec. Elapsed time 12.98 sec\n",
      "EvaluatorHoldout: Processed 33827 (100.0%) in 17.46 sec. Users per second: 1937\n"
     ]
    },
    {
     "name": "stderr",
     "output_type": "stream",
     "text": [
      "2024-11-25 06:17:14,554 - INFO - Trial 94 results:\n",
      "2024-11-25 06:17:14,555 - INFO - Params: {'topK': 10, 'shrink': 267, 'similarity': 'jaccard', 'normalize': False, 'feature_weighting': 'BM25', 'asymmetric_alpha': 1.1529343628213522}\n",
      "2024-11-25 06:17:14,555 - INFO - MAP@10: 0.020143188896255854\n",
      "[I 2024-11-25 06:17:14,558] Trial 94 finished with value: 0.020143188896255854 and parameters: {'topK': 10, 'shrink': 267, 'similarity': 'jaccard', 'normalize': False, 'feature_weighting': 'BM25', 'asymmetric_alpha': 1.1529343628213522}. Best is trial 85 with value: 0.02015179829581033.\n"
     ]
    },
    {
     "name": "stdout",
     "output_type": "stream",
     "text": [
      "Similarity column 38121 (100.0%), 2905.77 column/sec. Elapsed time 13.12 sec\n",
      "EvaluatorHoldout: Processed 33827 (100.0%) in 17.01 sec. Users per second: 1989\n"
     ]
    },
    {
     "name": "stderr",
     "output_type": "stream",
     "text": [
      "2024-11-25 06:17:44,895 - INFO - Trial 95 results:\n",
      "2024-11-25 06:17:44,897 - INFO - Params: {'topK': 10, 'shrink': 272, 'similarity': 'jaccard', 'normalize': False, 'feature_weighting': 'BM25', 'asymmetric_alpha': 1.0554805380512309}\n",
      "2024-11-25 06:17:44,897 - INFO - MAP@10: 0.020144879337018612\n",
      "[I 2024-11-25 06:17:44,900] Trial 95 finished with value: 0.020144879337018612 and parameters: {'topK': 10, 'shrink': 272, 'similarity': 'jaccard', 'normalize': False, 'feature_weighting': 'BM25', 'asymmetric_alpha': 1.0554805380512309}. Best is trial 85 with value: 0.02015179829581033.\n"
     ]
    },
    {
     "name": "stdout",
     "output_type": "stream",
     "text": [
      "Similarity column 38121 (100.0%), 2967.63 column/sec. Elapsed time 12.85 sec\n",
      "EvaluatorHoldout: Processed 33827 (100.0%) in 18.13 sec. Users per second: 1866\n"
     ]
    },
    {
     "name": "stderr",
     "output_type": "stream",
     "text": [
      "2024-11-25 06:18:16,072 - INFO - Trial 96 results:\n",
      "2024-11-25 06:18:16,075 - INFO - Params: {'topK': 10, 'shrink': 289, 'similarity': 'jaccard', 'normalize': False, 'feature_weighting': 'BM25', 'asymmetric_alpha': 1.1806002245889924}\n",
      "2024-11-25 06:18:16,077 - INFO - MAP@10: 0.02013973880168028\n",
      "[I 2024-11-25 06:18:16,080] Trial 96 finished with value: 0.02013973880168028 and parameters: {'topK': 10, 'shrink': 289, 'similarity': 'jaccard', 'normalize': False, 'feature_weighting': 'BM25', 'asymmetric_alpha': 1.1806002245889924}. Best is trial 85 with value: 0.02015179829581033.\n"
     ]
    },
    {
     "name": "stdout",
     "output_type": "stream",
     "text": [
      "Similarity column 38121 (100.0%), 2947.49 column/sec. Elapsed time 12.93 sec\n",
      "EvaluatorHoldout: Processed 33827 (100.0%) in 19.11 sec. Users per second: 1770\n"
     ]
    },
    {
     "name": "stderr",
     "output_type": "stream",
     "text": [
      "2024-11-25 06:18:48,337 - INFO - Trial 97 results:\n",
      "2024-11-25 06:18:48,338 - INFO - Params: {'topK': 26, 'shrink': 290, 'similarity': 'jaccard', 'normalize': False, 'feature_weighting': 'BM25', 'asymmetric_alpha': 1.1866274359901008}\n",
      "2024-11-25 06:18:48,339 - INFO - MAP@10: 0.019808378392201884\n",
      "[I 2024-11-25 06:18:48,342] Trial 97 finished with value: 0.019808378392201884 and parameters: {'topK': 26, 'shrink': 290, 'similarity': 'jaccard', 'normalize': False, 'feature_weighting': 'BM25', 'asymmetric_alpha': 1.1866274359901008}. Best is trial 85 with value: 0.02015179829581033.\n"
     ]
    },
    {
     "name": "stdout",
     "output_type": "stream",
     "text": [
      "Similarity column 38121 (100.0%), 2930.19 column/sec. Elapsed time 13.01 sec\n",
      "EvaluatorHoldout: Processed 33827 (100.0%) in 18.70 sec. Users per second: 1809\n"
     ]
    },
    {
     "name": "stderr",
     "output_type": "stream",
     "text": [
      "2024-11-25 06:19:20,329 - INFO - Trial 98 results:\n",
      "2024-11-25 06:19:20,330 - INFO - Params: {'topK': 24, 'shrink': 270, 'similarity': 'jaccard', 'normalize': False, 'feature_weighting': 'none', 'asymmetric_alpha': 1.0263870985149475}\n",
      "2024-11-25 06:19:20,331 - INFO - MAP@10: 0.01766256385783706\n",
      "[I 2024-11-25 06:19:20,334] Trial 98 finished with value: 0.01766256385783706 and parameters: {'topK': 24, 'shrink': 270, 'similarity': 'jaccard', 'normalize': False, 'feature_weighting': 'none', 'asymmetric_alpha': 1.0263870985149475}. Best is trial 85 with value: 0.02015179829581033.\n"
     ]
    },
    {
     "name": "stdout",
     "output_type": "stream",
     "text": [
      "Similarity column 38121 (100.0%), 2915.05 column/sec. Elapsed time 13.08 sec\n",
      "EvaluatorHoldout: Processed 33827 (100.0%) in 17.71 sec. Users per second: 1910\n"
     ]
    },
    {
     "name": "stderr",
     "output_type": "stream",
     "text": [
      "2024-11-25 06:19:51,336 - INFO - Trial 99 results:\n",
      "2024-11-25 06:19:51,337 - INFO - Params: {'topK': 10, 'shrink': 299, 'similarity': 'jaccard', 'normalize': False, 'feature_weighting': 'BM25', 'asymmetric_alpha': 0.9756384422307992}\n",
      "2024-11-25 06:19:51,338 - INFO - MAP@10: 0.020131989286288905\n",
      "[I 2024-11-25 06:19:51,341] Trial 99 finished with value: 0.020131989286288905 and parameters: {'topK': 10, 'shrink': 299, 'similarity': 'jaccard', 'normalize': False, 'feature_weighting': 'BM25', 'asymmetric_alpha': 0.9756384422307992}. Best is trial 85 with value: 0.02015179829581033.\n",
      "2024-11-25 06:19:51,342 - INFO - Optimization completed!\n",
      "2024-11-25 06:19:51,342 - INFO - Best trial: 85\n",
      "2024-11-25 06:19:51,343 - INFO - Best MAP@10: 0.02015179829581033\n",
      "2024-11-25 06:19:51,345 - INFO - Best hyperparameters: {'topK': 10, 'shrink': 264, 'similarity': 'jaccard', 'normalize': False, 'feature_weighting': 'BM25', 'asymmetric_alpha': 1.2043488778583}\n"
     ]
    },
    {
     "name": "stdout",
     "output_type": "stream",
     "text": [
      "Best MAP@10: 0.02015179829581033\n",
      "Best hyperparameters: {'topK': 10, 'shrink': 264, 'similarity': 'jaccard', 'normalize': False, 'feature_weighting': 'BM25', 'asymmetric_alpha': 1.2043488778583}\n"
     ]
    }
   ],
   "source": [
    "if __name__ == \"__main__\":\n",
    "    # Assuming urm_train and urm_validation are already defined\n",
    "    best_params, best_map = optimize_item_knn_cf(\n",
    "        urm_train=urm_train,\n",
    "        urm_validation=urm_validation,\n",
    "        n_trials=100\n",
    "    )\n",
    "    print(f\"Best MAP@10: {best_map}\")\n",
    "    print(f\"Best hyperparameters: {best_params}\")\n"
   ]
  },
  {
   "cell_type": "code",
   "execution_count": 44,
   "metadata": {},
   "outputs": [
    {
     "name": "stdout",
     "output_type": "stream",
     "text": [
      "Similarity column 38121 (100.0%), 2878.58 column/sec. Elapsed time 13.24 sec\n"
     ]
    }
   ],
   "source": [
    "#insert opt parameters\n",
    "knn_cf = ItemKNNCFRecommender(urm_train)\n",
    "knn_cf.fit(\n",
    "    topK=10,\n",
    "    shrink=264,\n",
    "    similarity=\"jaccard\",  \n",
    "    normalize=False,\n",
    "    feature_weighting=\"BM25\", # or \"TF-IDF\" or \"none\"\n",
    "    asymmetric_alpha =1.2043488778583\n",
    ")"
   ]
  },
  {
   "cell_type": "code",
   "execution_count": 45,
   "metadata": {},
   "outputs": [
    {
     "name": "stdout",
     "output_type": "stream",
     "text": [
      "HybridRP3betaKNNRecommender: Initialized\n"
     ]
    }
   ],
   "source": [
    "from Recommenders.GabsHybridTesting.HybridRP3KNN import HybridRP3betaKNNRecommender\n",
    "\n",
    "hybrid_recommender = HybridRP3betaKNNRecommender(\n",
    "    URM_train=urm_train,\n",
    "    rp3beta_icm_recommender=rp3beta_icm,\n",
    "    knn_recommender=knn_cf,\n",
    "    verbose=True\n",
    ")"
   ]
  },
  {
   "cell_type": "code",
   "execution_count": 53,
   "metadata": {},
   "outputs": [],
   "source": [
    "def objective(trial):\n",
    "    # Define the hyperparameter search space\n",
    "    params = {\n",
    "        \"alpha\": trial.suggest_float(\"alpha\", 0.0, 1.0),  # Expanded range\n",
    "    }\n",
    "\n",
    "    try:\n",
    "        # Initialize the recommender\n",
    "        recommender = HybridRP3betaKNNRecommender(URM_train=urm_train,  rp3beta_icm_recommender=rp3beta_icm, knn_recommender=knn_cf, verbose=True)\n",
    "        recommender.fit(**params)  # Pass the params as keyword arguments\n",
    "\n",
    "        # Evaluate the recommender\n",
    "        evaluator = EvaluatorHoldout(urm_validation, cutoff_list=[10])\n",
    "        results_df, _ = evaluator.evaluateRecommender(recommender)\n",
    "        map_at_10 = results_df.loc[10][\"MAP\"]\n",
    "\n",
    "        return map_at_10  # Objective to maximize\n",
    "\n",
    "    except Exception as e:\n",
    "        # Handle exceptions and prune trial if necessary\n",
    "        raise optuna.exceptions.TrialPruned(f\"Error in trial {trial.number}: {str(e)}\")\n"
   ]
  },
  {
   "cell_type": "code",
   "execution_count": 54,
   "metadata": {},
   "outputs": [
    {
     "name": "stderr",
     "output_type": "stream",
     "text": [
      "[I 2024-11-25 14:44:40,742] A new study created in memory with name: no-name-c0886aff-7f7a-4ea6-8646-5be309215506\n"
     ]
    },
    {
     "name": "stdout",
     "output_type": "stream",
     "text": [
      "HybridRP3betaKNNRecommender: Initialized\n",
      "HybridRP3betaKNNRecommender: Combining matrices with alpha=0.6518977791009515\n",
      "HybridRP3betaKNNRecommender: Computation completed\n",
      "EvaluatorHoldout: Ignoring 1909 ( 5.3%) Users that have less than 1 test interactions\n",
      "EvaluatorHoldout: Processed 33827 (100.0%) in 18.37 sec. Users per second: 1841\n"
     ]
    },
    {
     "name": "stderr",
     "output_type": "stream",
     "text": [
      "[I 2024-11-25 14:44:59,224] Trial 0 finished with value: 0.020584458455980965 and parameters: {'alpha': 0.6518977791009515}. Best is trial 0 with value: 0.020584458455980965.\n"
     ]
    },
    {
     "name": "stdout",
     "output_type": "stream",
     "text": [
      "HybridRP3betaKNNRecommender: Initialized\n",
      "HybridRP3betaKNNRecommender: Combining matrices with alpha=0.09240038153090468\n",
      "HybridRP3betaKNNRecommender: Computation completed\n",
      "EvaluatorHoldout: Ignoring 1909 ( 5.3%) Users that have less than 1 test interactions\n",
      "EvaluatorHoldout: Processed 33827 (100.0%) in 18.06 sec. Users per second: 1873\n"
     ]
    },
    {
     "name": "stderr",
     "output_type": "stream",
     "text": [
      "[I 2024-11-25 14:45:17,359] Trial 1 finished with value: 0.020099380554933613 and parameters: {'alpha': 0.09240038153090468}. Best is trial 0 with value: 0.020584458455980965.\n"
     ]
    },
    {
     "name": "stdout",
     "output_type": "stream",
     "text": [
      "HybridRP3betaKNNRecommender: Initialized\n",
      "HybridRP3betaKNNRecommender: Combining matrices with alpha=0.3172735635811681\n",
      "HybridRP3betaKNNRecommender: Computation completed\n",
      "EvaluatorHoldout: Ignoring 1909 ( 5.3%) Users that have less than 1 test interactions\n",
      "EvaluatorHoldout: Processed 33827 (100.0%) in 18.35 sec. Users per second: 1843\n"
     ]
    },
    {
     "name": "stderr",
     "output_type": "stream",
     "text": [
      "[I 2024-11-25 14:45:35,788] Trial 2 finished with value: 0.021089386425138627 and parameters: {'alpha': 0.3172735635811681}. Best is trial 2 with value: 0.021089386425138627.\n"
     ]
    },
    {
     "name": "stdout",
     "output_type": "stream",
     "text": [
      "HybridRP3betaKNNRecommender: Initialized\n",
      "HybridRP3betaKNNRecommender: Combining matrices with alpha=0.9944832226344116\n",
      "HybridRP3betaKNNRecommender: Computation completed\n",
      "EvaluatorHoldout: Ignoring 1909 ( 5.3%) Users that have less than 1 test interactions\n",
      "EvaluatorHoldout: Processed 33827 (100.0%) in 17.86 sec. Users per second: 1894\n"
     ]
    },
    {
     "name": "stderr",
     "output_type": "stream",
     "text": [
      "[I 2024-11-25 14:45:53,757] Trial 3 finished with value: 0.019424893517482056 and parameters: {'alpha': 0.9944832226344116}. Best is trial 2 with value: 0.021089386425138627.\n"
     ]
    },
    {
     "name": "stdout",
     "output_type": "stream",
     "text": [
      "HybridRP3betaKNNRecommender: Initialized\n",
      "HybridRP3betaKNNRecommender: Combining matrices with alpha=0.3749857053961704\n",
      "HybridRP3betaKNNRecommender: Computation completed\n",
      "EvaluatorHoldout: Ignoring 1909 ( 5.3%) Users that have less than 1 test interactions\n",
      "EvaluatorHoldout: Processed 33827 (100.0%) in 18.05 sec. Users per second: 1874\n"
     ]
    },
    {
     "name": "stderr",
     "output_type": "stream",
     "text": [
      "[I 2024-11-25 14:46:11,887] Trial 4 finished with value: 0.02102209491713405 and parameters: {'alpha': 0.3749857053961704}. Best is trial 2 with value: 0.021089386425138627.\n"
     ]
    },
    {
     "name": "stdout",
     "output_type": "stream",
     "text": [
      "HybridRP3betaKNNRecommender: Initialized\n",
      "HybridRP3betaKNNRecommender: Combining matrices with alpha=0.08366933115057218\n",
      "HybridRP3betaKNNRecommender: Computation completed\n",
      "EvaluatorHoldout: Ignoring 1909 ( 5.3%) Users that have less than 1 test interactions\n",
      "EvaluatorHoldout: Processed 33827 (100.0%) in 18.30 sec. Users per second: 1848\n"
     ]
    },
    {
     "name": "stderr",
     "output_type": "stream",
     "text": [
      "[I 2024-11-25 14:46:30,272] Trial 5 finished with value: 0.01994115365719383 and parameters: {'alpha': 0.08366933115057218}. Best is trial 2 with value: 0.021089386425138627.\n"
     ]
    },
    {
     "name": "stdout",
     "output_type": "stream",
     "text": [
      "HybridRP3betaKNNRecommender: Initialized\n",
      "HybridRP3betaKNNRecommender: Combining matrices with alpha=0.5289766648739156\n",
      "HybridRP3betaKNNRecommender: Computation completed\n",
      "EvaluatorHoldout: Ignoring 1909 ( 5.3%) Users that have less than 1 test interactions\n",
      "EvaluatorHoldout: Processed 33827 (100.0%) in 18.05 sec. Users per second: 1874\n"
     ]
    },
    {
     "name": "stderr",
     "output_type": "stream",
     "text": [
      "[I 2024-11-25 14:46:48,402] Trial 6 finished with value: 0.02081015282710639 and parameters: {'alpha': 0.5289766648739156}. Best is trial 2 with value: 0.021089386425138627.\n"
     ]
    },
    {
     "name": "stdout",
     "output_type": "stream",
     "text": [
      "HybridRP3betaKNNRecommender: Initialized\n",
      "HybridRP3betaKNNRecommender: Combining matrices with alpha=0.12510129302275397\n",
      "HybridRP3betaKNNRecommender: Computation completed\n",
      "EvaluatorHoldout: Ignoring 1909 ( 5.3%) Users that have less than 1 test interactions\n",
      "EvaluatorHoldout: Processed 33827 (100.0%) in 18.19 sec. Users per second: 1860\n"
     ]
    },
    {
     "name": "stderr",
     "output_type": "stream",
     "text": [
      "[I 2024-11-25 14:47:06,668] Trial 7 finished with value: 0.020528976571265095 and parameters: {'alpha': 0.12510129302275397}. Best is trial 2 with value: 0.021089386425138627.\n"
     ]
    },
    {
     "name": "stdout",
     "output_type": "stream",
     "text": [
      "HybridRP3betaKNNRecommender: Initialized\n",
      "HybridRP3betaKNNRecommender: Combining matrices with alpha=0.7581024667577619\n",
      "HybridRP3betaKNNRecommender: Computation completed\n",
      "EvaluatorHoldout: Ignoring 1909 ( 5.3%) Users that have less than 1 test interactions\n",
      "EvaluatorHoldout: Processed 33827 (100.0%) in 18.08 sec. Users per second: 1871\n"
     ]
    },
    {
     "name": "stderr",
     "output_type": "stream",
     "text": [
      "[I 2024-11-25 14:47:24,831] Trial 8 finished with value: 0.02033664289022419 and parameters: {'alpha': 0.7581024667577619}. Best is trial 2 with value: 0.021089386425138627.\n"
     ]
    },
    {
     "name": "stdout",
     "output_type": "stream",
     "text": [
      "HybridRP3betaKNNRecommender: Initialized\n",
      "HybridRP3betaKNNRecommender: Combining matrices with alpha=0.5119826834293373\n",
      "HybridRP3betaKNNRecommender: Computation completed\n",
      "EvaluatorHoldout: Ignoring 1909 ( 5.3%) Users that have less than 1 test interactions\n",
      "EvaluatorHoldout: Processed 33827 (100.0%) in 18.37 sec. Users per second: 1842\n"
     ]
    },
    {
     "name": "stderr",
     "output_type": "stream",
     "text": [
      "[I 2024-11-25 14:47:43,283] Trial 9 finished with value: 0.020832679915217204 and parameters: {'alpha': 0.5119826834293373}. Best is trial 2 with value: 0.021089386425138627.\n"
     ]
    },
    {
     "name": "stdout",
     "output_type": "stream",
     "text": [
      "HybridRP3betaKNNRecommender: Initialized\n",
      "HybridRP3betaKNNRecommender: Combining matrices with alpha=0.3080834773245079\n",
      "HybridRP3betaKNNRecommender: Computation completed\n",
      "EvaluatorHoldout: Ignoring 1909 ( 5.3%) Users that have less than 1 test interactions\n",
      "EvaluatorHoldout: Processed 33827 (100.0%) in 19.12 sec. Users per second: 1769\n"
     ]
    },
    {
     "name": "stderr",
     "output_type": "stream",
     "text": [
      "[I 2024-11-25 14:48:02,497] Trial 10 finished with value: 0.021095969876603473 and parameters: {'alpha': 0.3080834773245079}. Best is trial 10 with value: 0.021095969876603473.\n"
     ]
    },
    {
     "name": "stdout",
     "output_type": "stream",
     "text": [
      "HybridRP3betaKNNRecommender: Initialized\n",
      "HybridRP3betaKNNRecommender: Combining matrices with alpha=0.27556800045983615\n",
      "HybridRP3betaKNNRecommender: Computation completed\n",
      "EvaluatorHoldout: Ignoring 1909 ( 5.3%) Users that have less than 1 test interactions\n",
      "EvaluatorHoldout: Processed 33827 (100.0%) in 18.46 sec. Users per second: 1833\n"
     ]
    },
    {
     "name": "stderr",
     "output_type": "stream",
     "text": [
      "[I 2024-11-25 14:48:21,038] Trial 11 finished with value: 0.021079446727301734 and parameters: {'alpha': 0.27556800045983615}. Best is trial 10 with value: 0.021095969876603473.\n"
     ]
    },
    {
     "name": "stdout",
     "output_type": "stream",
     "text": [
      "HybridRP3betaKNNRecommender: Initialized\n",
      "HybridRP3betaKNNRecommender: Combining matrices with alpha=0.26508496780184415\n",
      "HybridRP3betaKNNRecommender: Computation completed\n",
      "EvaluatorHoldout: Ignoring 1909 ( 5.3%) Users that have less than 1 test interactions\n",
      "EvaluatorHoldout: Processed 33827 (100.0%) in 18.30 sec. Users per second: 1849\n"
     ]
    },
    {
     "name": "stderr",
     "output_type": "stream",
     "text": [
      "[I 2024-11-25 14:48:39,447] Trial 12 finished with value: 0.021065903258456323 and parameters: {'alpha': 0.26508496780184415}. Best is trial 10 with value: 0.021095969876603473.\n"
     ]
    },
    {
     "name": "stdout",
     "output_type": "stream",
     "text": [
      "HybridRP3betaKNNRecommender: Initialized\n",
      "HybridRP3betaKNNRecommender: Combining matrices with alpha=0.35021426473164724\n",
      "HybridRP3betaKNNRecommender: Computation completed\n",
      "EvaluatorHoldout: Ignoring 1909 ( 5.3%) Users that have less than 1 test interactions\n",
      "EvaluatorHoldout: Processed 33827 (100.0%) in 17.63 sec. Users per second: 1919\n"
     ]
    },
    {
     "name": "stderr",
     "output_type": "stream",
     "text": [
      "[I 2024-11-25 14:48:57,162] Trial 13 finished with value: 0.02106995984704585 and parameters: {'alpha': 0.35021426473164724}. Best is trial 10 with value: 0.021095969876603473.\n"
     ]
    },
    {
     "name": "stdout",
     "output_type": "stream",
     "text": [
      "HybridRP3betaKNNRecommender: Initialized\n",
      "HybridRP3betaKNNRecommender: Combining matrices with alpha=0.2226552137021254\n",
      "HybridRP3betaKNNRecommender: Computation completed\n",
      "EvaluatorHoldout: Ignoring 1909 ( 5.3%) Users that have less than 1 test interactions\n",
      "EvaluatorHoldout: Processed 33827 (100.0%) in 17.67 sec. Users per second: 1915\n"
     ]
    },
    {
     "name": "stderr",
     "output_type": "stream",
     "text": [
      "[I 2024-11-25 14:49:14,915] Trial 14 finished with value: 0.02103421658569891 and parameters: {'alpha': 0.2226552137021254}. Best is trial 10 with value: 0.021095969876603473.\n"
     ]
    },
    {
     "name": "stdout",
     "output_type": "stream",
     "text": [
      "HybridRP3betaKNNRecommender: Initialized\n",
      "HybridRP3betaKNNRecommender: Combining matrices with alpha=0.42177881344954904\n",
      "HybridRP3betaKNNRecommender: Computation completed\n",
      "EvaluatorHoldout: Ignoring 1909 ( 5.3%) Users that have less than 1 test interactions\n",
      "EvaluatorHoldout: Processed 33827 (100.0%) in 18.04 sec. Users per second: 1875\n"
     ]
    },
    {
     "name": "stderr",
     "output_type": "stream",
     "text": [
      "[I 2024-11-25 14:49:33,044] Trial 15 finished with value: 0.020962246744757336 and parameters: {'alpha': 0.42177881344954904}. Best is trial 10 with value: 0.021095969876603473.\n"
     ]
    },
    {
     "name": "stdout",
     "output_type": "stream",
     "text": [
      "HybridRP3betaKNNRecommender: Initialized\n",
      "HybridRP3betaKNNRecommender: Combining matrices with alpha=0.673566748818919\n",
      "HybridRP3betaKNNRecommender: Computation completed\n",
      "EvaluatorHoldout: Ignoring 1909 ( 5.3%) Users that have less than 1 test interactions\n",
      "EvaluatorHoldout: Processed 33827 (100.0%) in 18.05 sec. Users per second: 1874\n"
     ]
    },
    {
     "name": "stderr",
     "output_type": "stream",
     "text": [
      "[I 2024-11-25 14:49:51,174] Trial 16 finished with value: 0.020537580105306846 and parameters: {'alpha': 0.673566748818919}. Best is trial 10 with value: 0.021095969876603473.\n"
     ]
    },
    {
     "name": "stdout",
     "output_type": "stream",
     "text": [
      "HybridRP3betaKNNRecommender: Initialized\n",
      "HybridRP3betaKNNRecommender: Combining matrices with alpha=0.22875637077478175\n",
      "HybridRP3betaKNNRecommender: Computation completed\n",
      "EvaluatorHoldout: Ignoring 1909 ( 5.3%) Users that have less than 1 test interactions\n",
      "EvaluatorHoldout: Processed 33827 (100.0%) in 17.71 sec. Users per second: 1910\n"
     ]
    },
    {
     "name": "stderr",
     "output_type": "stream",
     "text": [
      "[I 2024-11-25 14:50:08,968] Trial 17 finished with value: 0.0210495983062274 and parameters: {'alpha': 0.22875637077478175}. Best is trial 10 with value: 0.021095969876603473.\n"
     ]
    },
    {
     "name": "stdout",
     "output_type": "stream",
     "text": [
      "HybridRP3betaKNNRecommender: Initialized\n",
      "HybridRP3betaKNNRecommender: Combining matrices with alpha=0.00686247664609585\n",
      "HybridRP3betaKNNRecommender: Computation completed\n",
      "EvaluatorHoldout: Ignoring 1909 ( 5.3%) Users that have less than 1 test interactions\n",
      "EvaluatorHoldout: Processed 33827 (100.0%) in 17.95 sec. Users per second: 1884\n"
     ]
    },
    {
     "name": "stderr",
     "output_type": "stream",
     "text": [
      "[I 2024-11-25 14:50:27,000] Trial 18 finished with value: 0.012170549401459896 and parameters: {'alpha': 0.00686247664609585}. Best is trial 10 with value: 0.021095969876603473.\n"
     ]
    },
    {
     "name": "stdout",
     "output_type": "stream",
     "text": [
      "HybridRP3betaKNNRecommender: Initialized\n",
      "HybridRP3betaKNNRecommender: Combining matrices with alpha=0.45423349290812653\n",
      "HybridRP3betaKNNRecommender: Computation completed\n",
      "EvaluatorHoldout: Ignoring 1909 ( 5.3%) Users that have less than 1 test interactions\n",
      "EvaluatorHoldout: Processed 33827 (100.0%) in 18.46 sec. Users per second: 1833\n"
     ]
    },
    {
     "name": "stderr",
     "output_type": "stream",
     "text": [
      "[I 2024-11-25 14:50:45,545] Trial 19 finished with value: 0.020941464060126286 and parameters: {'alpha': 0.45423349290812653}. Best is trial 10 with value: 0.021095969876603473.\n"
     ]
    },
    {
     "name": "stdout",
     "output_type": "stream",
     "text": [
      "HybridRP3betaKNNRecommender: Initialized\n",
      "HybridRP3betaKNNRecommender: Combining matrices with alpha=0.5754605384740026\n",
      "HybridRP3betaKNNRecommender: Computation completed\n",
      "EvaluatorHoldout: Ignoring 1909 ( 5.3%) Users that have less than 1 test interactions\n",
      "EvaluatorHoldout: Processed 33827 (100.0%) in 18.08 sec. Users per second: 1871\n"
     ]
    },
    {
     "name": "stderr",
     "output_type": "stream",
     "text": [
      "[I 2024-11-25 14:51:03,714] Trial 20 finished with value: 0.02073847508869799 and parameters: {'alpha': 0.5754605384740026}. Best is trial 10 with value: 0.021095969876603473.\n"
     ]
    },
    {
     "name": "stdout",
     "output_type": "stream",
     "text": [
      "HybridRP3betaKNNRecommender: Initialized\n",
      "HybridRP3betaKNNRecommender: Combining matrices with alpha=0.29018235216597965\n",
      "HybridRP3betaKNNRecommender: Computation completed\n",
      "EvaluatorHoldout: Ignoring 1909 ( 5.3%) Users that have less than 1 test interactions\n",
      "EvaluatorHoldout: Processed 33827 (100.0%) in 18.08 sec. Users per second: 1871\n"
     ]
    },
    {
     "name": "stderr",
     "output_type": "stream",
     "text": [
      "[I 2024-11-25 14:51:21,884] Trial 21 finished with value: 0.021084228293262234 and parameters: {'alpha': 0.29018235216597965}. Best is trial 10 with value: 0.021095969876603473.\n"
     ]
    },
    {
     "name": "stdout",
     "output_type": "stream",
     "text": [
      "HybridRP3betaKNNRecommender: Initialized\n",
      "HybridRP3betaKNNRecommender: Combining matrices with alpha=0.33333421274092545\n",
      "HybridRP3betaKNNRecommender: Computation completed\n",
      "EvaluatorHoldout: Ignoring 1909 ( 5.3%) Users that have less than 1 test interactions\n",
      "EvaluatorHoldout: Processed 33827 (100.0%) in 18.02 sec. Users per second: 1877\n"
     ]
    },
    {
     "name": "stderr",
     "output_type": "stream",
     "text": [
      "[I 2024-11-25 14:51:39,987] Trial 22 finished with value: 0.021084852383814388 and parameters: {'alpha': 0.33333421274092545}. Best is trial 10 with value: 0.021095969876603473.\n"
     ]
    },
    {
     "name": "stdout",
     "output_type": "stream",
     "text": [
      "HybridRP3betaKNNRecommender: Initialized\n",
      "HybridRP3betaKNNRecommender: Combining matrices with alpha=0.16801360143611616\n",
      "HybridRP3betaKNNRecommender: Computation completed\n",
      "EvaluatorHoldout: Ignoring 1909 ( 5.3%) Users that have less than 1 test interactions\n",
      "EvaluatorHoldout: Processed 33827 (100.0%) in 18.12 sec. Users per second: 1867\n"
     ]
    },
    {
     "name": "stderr",
     "output_type": "stream",
     "text": [
      "[I 2024-11-25 14:51:58,193] Trial 23 finished with value: 0.02082682261422597 and parameters: {'alpha': 0.16801360143611616}. Best is trial 10 with value: 0.021095969876603473.\n"
     ]
    },
    {
     "name": "stdout",
     "output_type": "stream",
     "text": [
      "HybridRP3betaKNNRecommender: Initialized\n",
      "HybridRP3betaKNNRecommender: Combining matrices with alpha=0.3505347273618988\n",
      "HybridRP3betaKNNRecommender: Computation completed\n",
      "EvaluatorHoldout: Ignoring 1909 ( 5.3%) Users that have less than 1 test interactions\n",
      "EvaluatorHoldout: Processed 33827 (100.0%) in 18.28 sec. Users per second: 1851\n"
     ]
    },
    {
     "name": "stderr",
     "output_type": "stream",
     "text": [
      "[I 2024-11-25 14:52:16,560] Trial 24 finished with value: 0.021065773044074056 and parameters: {'alpha': 0.3505347273618988}. Best is trial 10 with value: 0.021095969876603473.\n"
     ]
    },
    {
     "name": "stdout",
     "output_type": "stream",
     "text": [
      "HybridRP3betaKNNRecommender: Initialized\n",
      "HybridRP3betaKNNRecommender: Combining matrices with alpha=0.41019356166355786\n",
      "HybridRP3betaKNNRecommender: Computation completed\n",
      "EvaluatorHoldout: Ignoring 1909 ( 5.3%) Users that have less than 1 test interactions\n",
      "EvaluatorHoldout: Processed 33827 (100.0%) in 18.52 sec. Users per second: 1826\n"
     ]
    },
    {
     "name": "stderr",
     "output_type": "stream",
     "text": [
      "[I 2024-11-25 14:52:35,180] Trial 25 finished with value: 0.020981726112464467 and parameters: {'alpha': 0.41019356166355786}. Best is trial 10 with value: 0.021095969876603473.\n"
     ]
    },
    {
     "name": "stdout",
     "output_type": "stream",
     "text": [
      "HybridRP3betaKNNRecommender: Initialized\n",
      "HybridRP3betaKNNRecommender: Combining matrices with alpha=0.18058825020158678\n",
      "HybridRP3betaKNNRecommender: Computation completed\n",
      "EvaluatorHoldout: Ignoring 1909 ( 5.3%) Users that have less than 1 test interactions\n",
      "EvaluatorHoldout: Processed 33827 (100.0%) in 17.79 sec. Users per second: 1901\n"
     ]
    },
    {
     "name": "stderr",
     "output_type": "stream",
     "text": [
      "[I 2024-11-25 14:52:53,052] Trial 26 finished with value: 0.020887373475025155 and parameters: {'alpha': 0.18058825020158678}. Best is trial 10 with value: 0.021095969876603473.\n"
     ]
    },
    {
     "name": "stdout",
     "output_type": "stream",
     "text": [
      "HybridRP3betaKNNRecommender: Initialized\n",
      "HybridRP3betaKNNRecommender: Combining matrices with alpha=0.33134646505974896\n",
      "HybridRP3betaKNNRecommender: Computation completed\n",
      "EvaluatorHoldout: Ignoring 1909 ( 5.3%) Users that have less than 1 test interactions\n",
      "EvaluatorHoldout: Processed 33827 (100.0%) in 17.94 sec. Users per second: 1886\n"
     ]
    },
    {
     "name": "stderr",
     "output_type": "stream",
     "text": [
      "[I 2024-11-25 14:53:11,069] Trial 27 finished with value: 0.021079153451666183 and parameters: {'alpha': 0.33134646505974896}. Best is trial 10 with value: 0.021095969876603473.\n"
     ]
    },
    {
     "name": "stdout",
     "output_type": "stream",
     "text": [
      "HybridRP3betaKNNRecommender: Initialized\n",
      "HybridRP3betaKNNRecommender: Combining matrices with alpha=0.46654951617415463\n",
      "HybridRP3betaKNNRecommender: Computation completed\n",
      "EvaluatorHoldout: Ignoring 1909 ( 5.3%) Users that have less than 1 test interactions\n",
      "EvaluatorHoldout: Processed 33827 (100.0%) in 18.05 sec. Users per second: 1874\n"
     ]
    },
    {
     "name": "stderr",
     "output_type": "stream",
     "text": [
      "[I 2024-11-25 14:53:29,211] Trial 28 finished with value: 0.02092505235556604 and parameters: {'alpha': 0.46654951617415463}. Best is trial 10 with value: 0.021095969876603473.\n"
     ]
    },
    {
     "name": "stdout",
     "output_type": "stream",
     "text": [
      "HybridRP3betaKNNRecommender: Initialized\n",
      "HybridRP3betaKNNRecommender: Combining matrices with alpha=0.5787649597069782\n",
      "HybridRP3betaKNNRecommender: Computation completed\n",
      "EvaluatorHoldout: Ignoring 1909 ( 5.3%) Users that have less than 1 test interactions\n",
      "EvaluatorHoldout: Processed 33827 (100.0%) in 17.76 sec. Users per second: 1905\n"
     ]
    },
    {
     "name": "stderr",
     "output_type": "stream",
     "text": [
      "[I 2024-11-25 14:53:47,056] Trial 29 finished with value: 0.020724112794278347 and parameters: {'alpha': 0.5787649597069782}. Best is trial 10 with value: 0.021095969876603473.\n"
     ]
    },
    {
     "name": "stdout",
     "output_type": "stream",
     "text": [
      "HybridRP3betaKNNRecommender: Initialized\n",
      "HybridRP3betaKNNRecommender: Combining matrices with alpha=0.6338874793646485\n",
      "HybridRP3betaKNNRecommender: Computation completed\n",
      "EvaluatorHoldout: Ignoring 1909 ( 5.3%) Users that have less than 1 test interactions\n",
      "EvaluatorHoldout: Processed 33827 (100.0%) in 17.82 sec. Users per second: 1898\n"
     ]
    },
    {
     "name": "stderr",
     "output_type": "stream",
     "text": [
      "[I 2024-11-25 14:54:04,963] Trial 30 finished with value: 0.020605262256457788 and parameters: {'alpha': 0.6338874793646485}. Best is trial 10 with value: 0.021095969876603473.\n"
     ]
    },
    {
     "name": "stdout",
     "output_type": "stream",
     "text": [
      "HybridRP3betaKNNRecommender: Initialized\n",
      "HybridRP3betaKNNRecommender: Combining matrices with alpha=0.29598339344503444\n",
      "HybridRP3betaKNNRecommender: Computation completed\n",
      "EvaluatorHoldout: Ignoring 1909 ( 5.3%) Users that have less than 1 test interactions\n",
      "EvaluatorHoldout: Processed 33827 (100.0%) in 18.37 sec. Users per second: 1842\n"
     ]
    },
    {
     "name": "stderr",
     "output_type": "stream",
     "text": [
      "[I 2024-11-25 14:54:23,416] Trial 31 finished with value: 0.021089255037653992 and parameters: {'alpha': 0.29598339344503444}. Best is trial 10 with value: 0.021095969876603473.\n"
     ]
    },
    {
     "name": "stdout",
     "output_type": "stream",
     "text": [
      "HybridRP3betaKNNRecommender: Initialized\n",
      "HybridRP3betaKNNRecommender: Combining matrices with alpha=0.3053446904625561\n",
      "HybridRP3betaKNNRecommender: Computation completed\n",
      "EvaluatorHoldout: Ignoring 1909 ( 5.3%) Users that have less than 1 test interactions\n",
      "EvaluatorHoldout: Processed 33827 (100.0%) in 18.05 sec. Users per second: 1874\n"
     ]
    },
    {
     "name": "stderr",
     "output_type": "stream",
     "text": [
      "[I 2024-11-25 14:54:41,551] Trial 32 finished with value: 0.02109934958502648 and parameters: {'alpha': 0.3053446904625561}. Best is trial 32 with value: 0.02109934958502648.\n"
     ]
    },
    {
     "name": "stdout",
     "output_type": "stream",
     "text": [
      "HybridRP3betaKNNRecommender: Initialized\n",
      "HybridRP3betaKNNRecommender: Combining matrices with alpha=0.19305351148411143\n",
      "HybridRP3betaKNNRecommender: Computation completed\n",
      "EvaluatorHoldout: Ignoring 1909 ( 5.3%) Users that have less than 1 test interactions\n",
      "EvaluatorHoldout: Processed 33827 (100.0%) in 17.93 sec. Users per second: 1887\n"
     ]
    },
    {
     "name": "stderr",
     "output_type": "stream",
     "text": [
      "[I 2024-11-25 14:54:59,568] Trial 33 finished with value: 0.02092443530362927 and parameters: {'alpha': 0.19305351148411143}. Best is trial 32 with value: 0.02109934958502648.\n"
     ]
    },
    {
     "name": "stdout",
     "output_type": "stream",
     "text": [
      "HybridRP3betaKNNRecommender: Initialized\n",
      "HybridRP3betaKNNRecommender: Combining matrices with alpha=0.8687505368893964\n",
      "HybridRP3betaKNNRecommender: Computation completed\n",
      "EvaluatorHoldout: Ignoring 1909 ( 5.3%) Users that have less than 1 test interactions\n",
      "EvaluatorHoldout: Processed 33827 (100.0%) in 18.18 sec. Users per second: 1861\n"
     ]
    },
    {
     "name": "stderr",
     "output_type": "stream",
     "text": [
      "[I 2024-11-25 14:55:17,833] Trial 34 finished with value: 0.020028093459671572 and parameters: {'alpha': 0.8687505368893964}. Best is trial 32 with value: 0.02109934958502648.\n"
     ]
    },
    {
     "name": "stdout",
     "output_type": "stream",
     "text": [
      "HybridRP3betaKNNRecommender: Initialized\n",
      "HybridRP3betaKNNRecommender: Combining matrices with alpha=0.031165990215419048\n",
      "HybridRP3betaKNNRecommender: Computation completed\n",
      "EvaluatorHoldout: Ignoring 1909 ( 5.3%) Users that have less than 1 test interactions\n",
      "EvaluatorHoldout: Processed 33827 (100.0%) in 18.13 sec. Users per second: 1866\n"
     ]
    },
    {
     "name": "stderr",
     "output_type": "stream",
     "text": [
      "[I 2024-11-25 14:55:36,046] Trial 35 finished with value: 0.017464952388460325 and parameters: {'alpha': 0.031165990215419048}. Best is trial 32 with value: 0.02109934958502648.\n"
     ]
    },
    {
     "name": "stdout",
     "output_type": "stream",
     "text": [
      "HybridRP3betaKNNRecommender: Initialized\n",
      "HybridRP3betaKNNRecommender: Combining matrices with alpha=0.11459887053939638\n",
      "HybridRP3betaKNNRecommender: Computation completed\n",
      "EvaluatorHoldout: Ignoring 1909 ( 5.3%) Users that have less than 1 test interactions\n",
      "EvaluatorHoldout: Processed 33827 (100.0%) in 18.07 sec. Users per second: 1872\n"
     ]
    },
    {
     "name": "stderr",
     "output_type": "stream",
     "text": [
      "[I 2024-11-25 14:55:54,200] Trial 36 finished with value: 0.020455906360139504 and parameters: {'alpha': 0.11459887053939638}. Best is trial 32 with value: 0.02109934958502648.\n"
     ]
    },
    {
     "name": "stdout",
     "output_type": "stream",
     "text": [
      "HybridRP3betaKNNRecommender: Initialized\n",
      "HybridRP3betaKNNRecommender: Combining matrices with alpha=0.4145859505079803\n",
      "HybridRP3betaKNNRecommender: Computation completed\n",
      "EvaluatorHoldout: Ignoring 1909 ( 5.3%) Users that have less than 1 test interactions\n",
      "EvaluatorHoldout: Processed 33827 (100.0%) in 18.54 sec. Users per second: 1824\n"
     ]
    },
    {
     "name": "stderr",
     "output_type": "stream",
     "text": [
      "[I 2024-11-25 14:56:12,822] Trial 37 finished with value: 0.020970005644969012 and parameters: {'alpha': 0.4145859505079803}. Best is trial 32 with value: 0.02109934958502648.\n"
     ]
    },
    {
     "name": "stdout",
     "output_type": "stream",
     "text": [
      "HybridRP3betaKNNRecommender: Initialized\n",
      "HybridRP3betaKNNRecommender: Combining matrices with alpha=0.2866750079795222\n",
      "HybridRP3betaKNNRecommender: Computation completed\n",
      "EvaluatorHoldout: Ignoring 1909 ( 5.3%) Users that have less than 1 test interactions\n",
      "EvaluatorHoldout: Processed 33827 (100.0%) in 17.79 sec. Users per second: 1902\n"
     ]
    },
    {
     "name": "stderr",
     "output_type": "stream",
     "text": [
      "[I 2024-11-25 14:56:30,700] Trial 38 finished with value: 0.02108062452225374 and parameters: {'alpha': 0.2866750079795222}. Best is trial 32 with value: 0.02109934958502648.\n"
     ]
    },
    {
     "name": "stdout",
     "output_type": "stream",
     "text": [
      "HybridRP3betaKNNRecommender: Initialized\n",
      "HybridRP3betaKNNRecommender: Combining matrices with alpha=0.07350989835644636\n",
      "HybridRP3betaKNNRecommender: Computation completed\n",
      "EvaluatorHoldout: Ignoring 1909 ( 5.3%) Users that have less than 1 test interactions\n",
      "EvaluatorHoldout: Processed 33827 (100.0%) in 17.71 sec. Users per second: 1910\n"
     ]
    },
    {
     "name": "stderr",
     "output_type": "stream",
     "text": [
      "[I 2024-11-25 14:56:48,501] Trial 39 finished with value: 0.019724998955938485 and parameters: {'alpha': 0.07350989835644636}. Best is trial 32 with value: 0.02109934958502648.\n"
     ]
    },
    {
     "name": "stdout",
     "output_type": "stream",
     "text": [
      "HybridRP3betaKNNRecommender: Initialized\n",
      "HybridRP3betaKNNRecommender: Combining matrices with alpha=0.14198170688593076\n",
      "HybridRP3betaKNNRecommender: Computation completed\n",
      "EvaluatorHoldout: Ignoring 1909 ( 5.3%) Users that have less than 1 test interactions\n",
      "EvaluatorHoldout: Processed 33827 (100.0%) in 17.85 sec. Users per second: 1895\n"
     ]
    },
    {
     "name": "stderr",
     "output_type": "stream",
     "text": [
      "[I 2024-11-25 14:57:06,432] Trial 40 finished with value: 0.02069538233992648 and parameters: {'alpha': 0.14198170688593076}. Best is trial 32 with value: 0.02109934958502648.\n"
     ]
    },
    {
     "name": "stdout",
     "output_type": "stream",
     "text": [
      "HybridRP3betaKNNRecommender: Initialized\n",
      "HybridRP3betaKNNRecommender: Combining matrices with alpha=0.3218837525118311\n",
      "HybridRP3betaKNNRecommender: Computation completed\n",
      "EvaluatorHoldout: Ignoring 1909 ( 5.3%) Users that have less than 1 test interactions\n",
      "EvaluatorHoldout: Processed 33827 (100.0%) in 17.73 sec. Users per second: 1908\n"
     ]
    },
    {
     "name": "stderr",
     "output_type": "stream",
     "text": [
      "[I 2024-11-25 14:57:24,243] Trial 41 finished with value: 0.02108829543977472 and parameters: {'alpha': 0.3218837525118311}. Best is trial 32 with value: 0.02109934958502648.\n"
     ]
    },
    {
     "name": "stdout",
     "output_type": "stream",
     "text": [
      "HybridRP3betaKNNRecommender: Initialized\n",
      "HybridRP3betaKNNRecommender: Combining matrices with alpha=0.2425645854393963\n",
      "HybridRP3betaKNNRecommender: Computation completed\n",
      "EvaluatorHoldout: Ignoring 1909 ( 5.3%) Users that have less than 1 test interactions\n",
      "EvaluatorHoldout: Processed 33827 (100.0%) in 17.75 sec. Users per second: 1906\n"
     ]
    },
    {
     "name": "stderr",
     "output_type": "stream",
     "text": [
      "[I 2024-11-25 14:57:42,078] Trial 42 finished with value: 0.02106751158204118 and parameters: {'alpha': 0.2425645854393963}. Best is trial 32 with value: 0.02109934958502648.\n"
     ]
    },
    {
     "name": "stdout",
     "output_type": "stream",
     "text": [
      "HybridRP3betaKNNRecommender: Initialized\n",
      "HybridRP3betaKNNRecommender: Combining matrices with alpha=0.38375723561528163\n",
      "HybridRP3betaKNNRecommender: Computation completed\n",
      "EvaluatorHoldout: Ignoring 1909 ( 5.3%) Users that have less than 1 test interactions\n",
      "EvaluatorHoldout: Processed 33827 (100.0%) in 17.72 sec. Users per second: 1909\n"
     ]
    },
    {
     "name": "stderr",
     "output_type": "stream",
     "text": [
      "[I 2024-11-25 14:57:59,883] Trial 43 finished with value: 0.021003742900969607 and parameters: {'alpha': 0.38375723561528163}. Best is trial 32 with value: 0.02109934958502648.\n"
     ]
    },
    {
     "name": "stdout",
     "output_type": "stream",
     "text": [
      "HybridRP3betaKNNRecommender: Initialized\n",
      "HybridRP3betaKNNRecommender: Combining matrices with alpha=0.3176247795933068\n",
      "HybridRP3betaKNNRecommender: Computation completed\n",
      "EvaluatorHoldout: Ignoring 1909 ( 5.3%) Users that have less than 1 test interactions\n",
      "EvaluatorHoldout: Processed 33827 (100.0%) in 17.99 sec. Users per second: 1881\n"
     ]
    },
    {
     "name": "stderr",
     "output_type": "stream",
     "text": [
      "[I 2024-11-25 14:58:17,954] Trial 44 finished with value: 0.02109054779665504 and parameters: {'alpha': 0.3176247795933068}. Best is trial 32 with value: 0.02109934958502648.\n"
     ]
    },
    {
     "name": "stdout",
     "output_type": "stream",
     "text": [
      "HybridRP3betaKNNRecommender: Initialized\n",
      "HybridRP3betaKNNRecommender: Combining matrices with alpha=0.48270567726302505\n",
      "HybridRP3betaKNNRecommender: Computation completed\n",
      "EvaluatorHoldout: Ignoring 1909 ( 5.3%) Users that have less than 1 test interactions\n",
      "EvaluatorHoldout: Processed 33827 (100.0%) in 18.04 sec. Users per second: 1875\n"
     ]
    },
    {
     "name": "stderr",
     "output_type": "stream",
     "text": [
      "[I 2024-11-25 14:58:36,082] Trial 45 finished with value: 0.020879643902376833 and parameters: {'alpha': 0.48270567726302505}. Best is trial 32 with value: 0.02109934958502648.\n"
     ]
    },
    {
     "name": "stdout",
     "output_type": "stream",
     "text": [
      "HybridRP3betaKNNRecommender: Initialized\n",
      "HybridRP3betaKNNRecommender: Combining matrices with alpha=0.2896199480647481\n",
      "HybridRP3betaKNNRecommender: Computation completed\n",
      "EvaluatorHoldout: Ignoring 1909 ( 5.3%) Users that have less than 1 test interactions\n",
      "EvaluatorHoldout: Processed 33827 (100.0%) in 17.72 sec. Users per second: 1909\n"
     ]
    },
    {
     "name": "stderr",
     "output_type": "stream",
     "text": [
      "[I 2024-11-25 14:58:53,892] Trial 46 finished with value: 0.021087139933771065 and parameters: {'alpha': 0.2896199480647481}. Best is trial 32 with value: 0.02109934958502648.\n"
     ]
    },
    {
     "name": "stdout",
     "output_type": "stream",
     "text": [
      "HybridRP3betaKNNRecommender: Initialized\n",
      "HybridRP3betaKNNRecommender: Combining matrices with alpha=0.37443296623089056\n",
      "HybridRP3betaKNNRecommender: Computation completed\n",
      "EvaluatorHoldout: Ignoring 1909 ( 5.3%) Users that have less than 1 test interactions\n",
      "EvaluatorHoldout: Processed 33827 (100.0%) in 18.00 sec. Users per second: 1879\n"
     ]
    },
    {
     "name": "stderr",
     "output_type": "stream",
     "text": [
      "[I 2024-11-25 14:59:11,988] Trial 47 finished with value: 0.021019860156791866 and parameters: {'alpha': 0.37443296623089056}. Best is trial 32 with value: 0.02109934958502648.\n"
     ]
    },
    {
     "name": "stdout",
     "output_type": "stream",
     "text": [
      "HybridRP3betaKNNRecommender: Initialized\n",
      "HybridRP3betaKNNRecommender: Combining matrices with alpha=0.21861356542814225\n",
      "HybridRP3betaKNNRecommender: Computation completed\n",
      "EvaluatorHoldout: Ignoring 1909 ( 5.3%) Users that have less than 1 test interactions\n",
      "EvaluatorHoldout: Processed 33827 (100.0%) in 18.00 sec. Users per second: 1879\n"
     ]
    },
    {
     "name": "stderr",
     "output_type": "stream",
     "text": [
      "[I 2024-11-25 14:59:30,077] Trial 48 finished with value: 0.021024778975749878 and parameters: {'alpha': 0.21861356542814225}. Best is trial 32 with value: 0.02109934958502648.\n"
     ]
    },
    {
     "name": "stdout",
     "output_type": "stream",
     "text": [
      "HybridRP3betaKNNRecommender: Initialized\n",
      "HybridRP3betaKNNRecommender: Combining matrices with alpha=0.5224204250710761\n",
      "HybridRP3betaKNNRecommender: Computation completed\n",
      "EvaluatorHoldout: Ignoring 1909 ( 5.3%) Users that have less than 1 test interactions\n",
      "EvaluatorHoldout: Processed 33827 (100.0%) in 17.97 sec. Users per second: 1882\n"
     ]
    },
    {
     "name": "stderr",
     "output_type": "stream",
     "text": [
      "[I 2024-11-25 14:59:48,136] Trial 49 finished with value: 0.020824671144164083 and parameters: {'alpha': 0.5224204250710761}. Best is trial 32 with value: 0.02109934958502648.\n"
     ]
    },
    {
     "name": "stdout",
     "output_type": "stream",
     "text": [
      "Best MAP@10: 0.02109934958502648\n",
      "Best hyperparameters: {'alpha': 0.3053446904625561}\n"
     ]
    }
   ],
   "source": [
    "import optuna\n",
    "\n",
    "# Create the study\n",
    "study = optuna.create_study(direction=\"maximize\")  # Maximize MAP@10\n",
    "\n",
    "# Optimize the objective function\n",
    "study.optimize(objective, n_trials=50)  # Adjust n_trials as needed\n",
    "\n",
    "# Print the best results\n",
    "print(f\"Best MAP@10: {study.best_value}\")\n",
    "print(f\"Best hyperparameters: {study.best_params}\")"
   ]
  },
  {
   "cell_type": "code",
   "execution_count": null,
   "metadata": {},
   "outputs": [],
   "source": [
    "best_params = study.best_params  # Retrieve best parameters\n",
    "print(f\"Best hyperparameters: {best_params}\")  # Print the best hyperparameters"
   ]
  },
  {
   "cell_type": "code",
   "execution_count": 56,
   "metadata": {},
   "outputs": [
    {
     "name": "stdout",
     "output_type": "stream",
     "text": [
      "HybridRP3betaKNNRecommender: Combining matrices with alpha=0.3053446904625561\n",
      "HybridRP3betaKNNRecommender: Computation completed\n"
     ]
    }
   ],
   "source": [
    "hybrid_recommender.fit(alpha=0.3053446904625561, normalize_similarity=True)"
   ]
  },
  {
   "cell_type": "code",
   "execution_count": 57,
   "metadata": {},
   "outputs": [
    {
     "name": "stdout",
     "output_type": "stream",
     "text": [
      "EvaluatorHoldout: Ignoring 175 ( 0.5%) Users that have less than 1 test interactions\n",
      "EvaluatorHoldout: Processed 35561 (100.0%) in 18.87 sec. Users per second: 1884\n",
      "CUTOFF: 10 - PRECISION: 0.0915188, PRECISION_RECALL_MIN_DEN: 0.1384221, RECALL: 0.1189492, MAP: 0.0452405, MAP_MIN_DEN: 0.0668279, MRR: 0.2542777, NDCG: 0.1314160, F1: 0.1034465, HIT_RATE: 0.5166615, ARHR_ALL_HITS: 0.3351236, NOVELTY: 0.0037665, AVERAGE_POPULARITY: 0.0917412, DIVERSITY_MEAN_INTER_LIST: 0.9979220, DIVERSITY_HERFINDAHL: 0.9997894, COVERAGE_ITEM: 0.6154875, COVERAGE_ITEM_HIT: 0.2674117, ITEMS_IN_GT: 0.9957504, COVERAGE_USER: 0.9951030, COVERAGE_USER_HIT: 0.5141314, USERS_IN_GT: 0.9951030, DIVERSITY_GINI: 0.2214044, SHANNON_ENTROPY: 13.3383541, RATIO_DIVERSITY_HERFINDAHL: 0.9998472, RATIO_DIVERSITY_GINI: 0.3649506, RATIO_SHANNON_ENTROPY: 0.9036926, RATIO_AVERAGE_POPULARITY: 1.2551798, RATIO_NOVELTY: 0.2814395, \n",
      "\n"
     ]
    }
   ],
   "source": [
    "# Initialize the evaluator with the test user-item matrix\n",
    "evaluator = EvaluatorHoldout(urm_test, cutoff_list=[10] )\n",
    "\n",
    "# Evaluate the TopPopularRecommender\n",
    "results_df, results_run_string = evaluator.evaluateRecommender(hybrid_recommender)\n",
    "\n",
    "# Print the evaluation results\n",
    "print(results_run_string)"
   ]
  },
  {
   "cell_type": "markdown",
   "metadata": {},
   "source": [
    "# SLIM ElasticNet\n",
    "\n",
    "\n"
   ]
  },
  {
   "cell_type": "code",
   "execution_count": 59,
   "metadata": {},
   "outputs": [
    {
     "name": "stdout",
     "output_type": "stream",
     "text": [
      "SLIMElasticNetRecommender: Processed 34036 (89.3%) in 5.00 min. Items per second: 113.45\n",
      "SLIMElasticNetRecommender: Processed 38121 (100.0%) in 5.56 min. Items per second: 114.23\n"
     ]
    }
   ],
   "source": [
    "from Recommenders.SLIM.SLIMElasticNetRecommender import SLIMElasticNetRecommender\n",
    "\n",
    "# Initialize the SLIM ElasticNet recommender\n",
    "slim_recommender = SLIMElasticNetRecommender(urm_train)\n",
    "slim_recommender.fit()"
   ]
  },
  {
   "cell_type": "code",
   "execution_count": 60,
   "metadata": {},
   "outputs": [
    {
     "name": "stdout",
     "output_type": "stream",
     "text": [
      "EvaluatorHoldout: Ignoring 175 ( 0.5%) Users that have less than 1 test interactions\n",
      "EvaluatorHoldout: Processed 35561 (100.0%) in 16.94 sec. Users per second: 2100\n",
      "CUTOFF: 10 - PRECISION: 0.0008689, PRECISION_RECALL_MIN_DEN: 0.0012502, RECALL: 0.0010216, MAP: 0.0002834, MAP_MIN_DEN: 0.0004047, MRR: 0.0026065, NDCG: 0.0010940, F1: 0.0009391, HIT_RATE: 0.0081269, ARHR_ALL_HITS: 0.0027140, NOVELTY: 0.0035503, AVERAGE_POPULARITY: 0.1787349, DIVERSITY_MEAN_INTER_LIST: 0.5258451, DIVERSITY_HERFINDAHL: 0.9525830, COVERAGE_ITEM: 0.0062433, COVERAGE_ITEM_HIT: 0.0011280, ITEMS_IN_GT: 0.9957504, COVERAGE_USER: 0.9951030, COVERAGE_USER_HIT: 0.0080871, USERS_IN_GT: 0.9951030, DIVERSITY_GINI: 0.0005903, SHANNON_ENTROPY: 4.8382483, RATIO_DIVERSITY_HERFINDAHL: 0.9526382, RATIO_DIVERSITY_GINI: 0.0009730, RATIO_SHANNON_ENTROPY: 0.3277982, RATIO_AVERAGE_POPULARITY: 2.4454065, RATIO_NOVELTY: 0.2652854, \n",
      "\n"
     ]
    }
   ],
   "source": [
    "# Initialize the evaluator with the test user-item matrix\n",
    "evaluator = EvaluatorHoldout(urm_test, cutoff_list=[10] )\n",
    "\n",
    "# Evaluate the TopPopularRecommender\n",
    "results_df, results_run_string = evaluator.evaluateRecommender(slim_recommender)\n",
    "\n",
    "# Print the evaluation results\n",
    "print(results_run_string)"
   ]
  },
  {
   "cell_type": "code",
   "execution_count": 69,
   "metadata": {},
   "outputs": [
    {
     "name": "stdout",
     "output_type": "stream",
     "text": [
      "EvaluatorHoldout: Ignoring 1909 ( 5.3%) Users that have less than 1 test interactions\n"
     ]
    }
   ],
   "source": [
    "import optuna\n",
    "from Evaluation.Evaluator import EvaluatorHoldout\n",
    "\n",
    "# Define the number of trials\n",
    "n_trials = 30\n",
    "\n",
    "# Define the evaluator for validation\n",
    "evaluator_validation = EvaluatorHoldout(urm_validation, cutoff_list=[10])\n",
    "\n",
    "# Define the objective function\n",
    "def objective(trial):\n",
    "    # Define hyperparameters to optimize\n",
    "    l1_ratio = trial.suggest_float(\"l1_ratio\", 0.0, 1.0)  # ElasticNet ratio\n",
    "    alpha = trial.suggest_float(\"alpha\", 1e-4, 1e1, log=True)  # Regularization strength\n",
    "    positive_only = trial.suggest_categorical(\"positive_only\", [True, False])\n",
    "    topK = trial.suggest_int(\"topK\", 10, 200)  # TopK for similarity matrix\n",
    "    \n",
    "    # Initialize and fit the SLIM ElasticNet Recommender\n",
    "    recommender = SLIMElasticNetRecommender(URM_train=urm_train)\n",
    "    recommender.fit(l1_ratio=l1_ratio, alpha=alpha, positive_only=positive_only, topK=topK)\n",
    "    \n",
    "    # Evaluate using the validation set\n",
    "    results_df, _ = evaluator_validation.evaluateRecommender(recommender)\n",
    "    map_at_10 = results_df.loc[10][\"MAP\"]  # Extract MAP@10 from results\n",
    "    \n",
    "    return map_at_10"
   ]
  },
  {
   "cell_type": "code",
   "execution_count": 70,
   "metadata": {},
   "outputs": [
    {
     "name": "stderr",
     "output_type": "stream",
     "text": [
      "[I 2024-11-26 01:00:52,546] A new study created in memory with name: no-name-2b4e1c5b-0629-4b6a-a318-23b3d05f0b63\n"
     ]
    },
    {
     "name": "stdout",
     "output_type": "stream",
     "text": [
      "SLIMElasticNetRecommender: Processed 30745 (80.7%) in 5.00 min. Items per second: 102.48\n",
      "SLIMElasticNetRecommender: Processed 38121 (100.0%) in 6.14 min. Items per second: 103.45\n",
      "EvaluatorHoldout: Processed 33827 (100.0%) in 18.87 sec. Users per second: 1793\n"
     ]
    },
    {
     "name": "stderr",
     "output_type": "stream",
     "text": [
      "[I 2024-11-26 01:07:20,215] Trial 0 finished with value: 0.009306577914420907 and parameters: {'l1_ratio': 0.5286860498510946, 'alpha': 0.0016035036587517737, 'positive_only': True, 'topK': 42}. Best is trial 0 with value: 0.009306577914420907.\n"
     ]
    },
    {
     "name": "stdout",
     "output_type": "stream",
     "text": [
      "SLIMElasticNetRecommender: Processed 7049 (18.5%) in 5.00 min. Items per second: 23.49\n",
      "SLIMElasticNetRecommender: Processed 13933 (36.5%) in 10.00 min. Items per second: 23.22\n",
      "SLIMElasticNetRecommender: Processed 21318 (55.9%) in 15.00 min. Items per second: 23.68\n",
      "SLIMElasticNetRecommender: Processed 28199 (74.0%) in 20.00 min. Items per second: 23.50\n",
      "SLIMElasticNetRecommender: Processed 35854 (94.1%) in 25.00 min. Items per second: 23.90\n",
      "SLIMElasticNetRecommender: Processed 38121 (100.0%) in 26.61 min. Items per second: 23.88\n",
      "EvaluatorHoldout: Processed 33827 (100.0%) in 25.51 sec. Users per second: 1326\n"
     ]
    },
    {
     "name": "stderr",
     "output_type": "stream",
     "text": [
      "[I 2024-11-26 01:34:22,365] Trial 1 finished with value: 0.02232020913133592 and parameters: {'l1_ratio': 0.4416370900210117, 'alpha': 0.00018443701158134376, 'positive_only': False, 'topK': 109}. Best is trial 1 with value: 0.02232020913133592.\n"
     ]
    },
    {
     "name": "stdout",
     "output_type": "stream",
     "text": [
      "SLIMElasticNetRecommender: Processed 35085 (92.0%) in 5.00 min. Items per second: 116.94\n",
      "SLIMElasticNetRecommender: Processed 38121 (100.0%) in 5.43 min. Items per second: 117.02\n",
      "EvaluatorHoldout: Processed 33827 (100.0%) in 16.63 sec. Users per second: 2034\n"
     ]
    },
    {
     "name": "stderr",
     "output_type": "stream",
     "text": [
      "[I 2024-11-26 01:40:04,854] Trial 2 finished with value: 0.0008444895385061574 and parameters: {'l1_ratio': 0.5622275490853892, 'alpha': 0.008399085448321537, 'positive_only': False, 'topK': 91}. Best is trial 1 with value: 0.02232020913133592.\n"
     ]
    },
    {
     "name": "stdout",
     "output_type": "stream",
     "text": [
      "SLIMElasticNetRecommender: Processed 33407 (87.6%) in 5.00 min. Items per second: 111.35\n",
      "SLIMElasticNetRecommender: Processed 38121 (100.0%) in 5.72 min. Items per second: 111.02\n",
      "EvaluatorHoldout: Processed 33827 (100.0%) in 16.66 sec. Users per second: 2030\n"
     ]
    },
    {
     "name": "stderr",
     "output_type": "stream",
     "text": [
      "[I 2024-11-26 01:46:04,976] Trial 3 finished with value: 0.0068224077601202315 and parameters: {'l1_ratio': 0.5772897539305945, 'alpha': 0.0021787320677220555, 'positive_only': True, 'topK': 73}. Best is trial 1 with value: 0.02232020913133592.\n"
     ]
    },
    {
     "name": "stdout",
     "output_type": "stream",
     "text": [
      "SLIMElasticNetRecommender: Processed 35276 (92.5%) in 5.00 min. Items per second: 117.58\n",
      "SLIMElasticNetRecommender: Processed 38121 (100.0%) in 5.45 min. Items per second: 116.62\n",
      "EvaluatorHoldout: Processed 33827 (100.0%) in 15.22 sec. Users per second: 2222\n"
     ]
    },
    {
     "name": "stderr",
     "output_type": "stream",
     "text": [
      "[I 2024-11-26 01:51:47,207] Trial 4 finished with value: 0.0001361432423897316 and parameters: {'l1_ratio': 0.30700352590359303, 'alpha': 1.4662179161257725, 'positive_only': False, 'topK': 59}. Best is trial 1 with value: 0.02232020913133592.\n"
     ]
    },
    {
     "name": "stdout",
     "output_type": "stream",
     "text": [
      "SLIMElasticNetRecommender: Processed 31768 (83.3%) in 5.00 min. Items per second: 105.89\n",
      "SLIMElasticNetRecommender: Processed 38121 (100.0%) in 5.90 min. Items per second: 107.68\n",
      "EvaluatorHoldout: Processed 33827 (100.0%) in 15.67 sec. Users per second: 2159\n"
     ]
    },
    {
     "name": "stderr",
     "output_type": "stream",
     "text": [
      "[I 2024-11-26 01:57:57,027] Trial 5 finished with value: 0.0001361432423897316 and parameters: {'l1_ratio': 0.12630514514479652, 'alpha': 0.29967814420291666, 'positive_only': True, 'topK': 122}. Best is trial 1 with value: 0.02232020913133592.\n"
     ]
    },
    {
     "name": "stdout",
     "output_type": "stream",
     "text": [
      "SLIMElasticNetRecommender: Processed 33884 (88.9%) in 5.00 min. Items per second: 112.94\n",
      "SLIMElasticNetRecommender: Processed 38121 (100.0%) in 5.60 min. Items per second: 113.42\n",
      "EvaluatorHoldout: Processed 33827 (100.0%) in 16.72 sec. Users per second: 2023\n"
     ]
    },
    {
     "name": "stderr",
     "output_type": "stream",
     "text": [
      "[I 2024-11-26 02:03:49,984] Trial 6 finished with value: 0.009748436371622194 and parameters: {'l1_ratio': 0.3939446874282032, 'alpha': 0.001995528567997581, 'positive_only': False, 'topK': 161}. Best is trial 1 with value: 0.02232020913133592.\n"
     ]
    },
    {
     "name": "stdout",
     "output_type": "stream",
     "text": [
      "SLIMElasticNetRecommender: Processed 36291 (95.2%) in 5.00 min. Items per second: 120.97\n",
      "SLIMElasticNetRecommender: Processed 38121 (100.0%) in 5.25 min. Items per second: 120.97\n",
      "EvaluatorHoldout: Processed 33827 (100.0%) in 14.89 sec. Users per second: 2273\n"
     ]
    },
    {
     "name": "stderr",
     "output_type": "stream",
     "text": [
      "[I 2024-11-26 02:09:20,073] Trial 7 finished with value: 0.0001361432423897316 and parameters: {'l1_ratio': 0.8904088772866697, 'alpha': 0.26714170880548604, 'positive_only': False, 'topK': 167}. Best is trial 1 with value: 0.02232020913133592.\n"
     ]
    },
    {
     "name": "stdout",
     "output_type": "stream",
     "text": [
      "SLIMElasticNetRecommender: Processed 36499 (95.7%) in 5.00 min. Items per second: 121.66\n",
      "SLIMElasticNetRecommender: Processed 38121 (100.0%) in 5.22 min. Items per second: 121.65\n",
      "EvaluatorHoldout: Processed 33827 (100.0%) in 15.07 sec. Users per second: 2245\n"
     ]
    },
    {
     "name": "stderr",
     "output_type": "stream",
     "text": [
      "[I 2024-11-26 02:14:48,587] Trial 8 finished with value: 0.004142796376145435 and parameters: {'l1_ratio': 0.3078820571441456, 'alpha': 0.006732562621479232, 'positive_only': True, 'topK': 151}. Best is trial 1 with value: 0.02232020913133592.\n"
     ]
    },
    {
     "name": "stdout",
     "output_type": "stream",
     "text": [
      "SLIMElasticNetRecommender: Processed 36548 (95.9%) in 5.00 min. Items per second: 121.82\n",
      "SLIMElasticNetRecommender: Processed 38121 (100.0%) in 5.21 min. Items per second: 121.87\n",
      "EvaluatorHoldout: Processed 33827 (100.0%) in 14.61 sec. Users per second: 2316\n"
     ]
    },
    {
     "name": "stderr",
     "output_type": "stream",
     "text": [
      "[I 2024-11-26 02:20:16,061] Trial 9 finished with value: 0.0001361432423897316 and parameters: {'l1_ratio': 0.5712678476201629, 'alpha': 0.028070367580982254, 'positive_only': False, 'topK': 188}. Best is trial 1 with value: 0.02232020913133592.\n"
     ]
    },
    {
     "name": "stdout",
     "output_type": "stream",
     "text": [
      "SLIMElasticNetRecommender: Processed 13525 (35.5%) in 5.00 min. Items per second: 45.08\n",
      "SLIMElasticNetRecommender: Processed 27672 (72.6%) in 10.00 min. Items per second: 46.12\n",
      "SLIMElasticNetRecommender: Processed 38121 (100.0%) in 13.55 min. Items per second: 46.90\n",
      "EvaluatorHoldout: Processed 33827 (100.0%) in 16.33 sec. Users per second: 2072\n"
     ]
    },
    {
     "name": "stderr",
     "output_type": "stream",
     "text": [
      "[I 2024-11-26 02:34:05,473] Trial 10 finished with value: 0.020880639866435142 and parameters: {'l1_ratio': 0.8681014642709634, 'alpha': 0.00016876757384277585, 'positive_only': False, 'topK': 13}. Best is trial 1 with value: 0.02232020913133592.\n"
     ]
    },
    {
     "name": "stdout",
     "output_type": "stream",
     "text": [
      "SLIMElasticNetRecommender: Processed 9039 (23.7%) in 5.00 min. Items per second: 30.13\n",
      "SLIMElasticNetRecommender: Processed 17532 (46.0%) in 10.00 min. Items per second: 29.22\n",
      "SLIMElasticNetRecommender: Processed 26457 (69.4%) in 15.00 min. Items per second: 29.39\n",
      "SLIMElasticNetRecommender: Processed 35531 (93.2%) in 20.00 min. Items per second: 29.61\n",
      "SLIMElasticNetRecommender: Processed 38121 (100.0%) in 21.43 min. Items per second: 29.64\n",
      "EvaluatorHoldout: Processed 33827 (100.0%) in 21.38 sec. Users per second: 1582\n"
     ]
    },
    {
     "name": "stderr",
     "output_type": "stream",
     "text": [
      "[I 2024-11-26 02:55:52,916] Trial 11 finished with value: 0.021792694245837838 and parameters: {'l1_ratio': 0.996808735504374, 'alpha': 0.00010122216162520236, 'positive_only': False, 'topK': 21}. Best is trial 1 with value: 0.02232020913133592.\n"
     ]
    },
    {
     "name": "stdout",
     "output_type": "stream",
     "text": [
      "SLIMElasticNetRecommender: Processed 6254 (16.4%) in 5.00 min. Items per second: 20.84\n",
      "SLIMElasticNetRecommender: Processed 12969 (34.0%) in 10.00 min. Items per second: 21.61\n",
      "SLIMElasticNetRecommender: Processed 20422 (53.6%) in 15.00 min. Items per second: 22.69\n",
      "SLIMElasticNetRecommender: Processed 27192 (71.3%) in 20.00 min. Items per second: 22.66\n",
      "SLIMElasticNetRecommender: Processed 33949 (89.1%) in 25.00 min. Items per second: 22.63\n",
      "SLIMElasticNetRecommender: Processed 38121 (100.0%) in 27.64 min. Items per second: 22.98\n",
      "EvaluatorHoldout: Processed 33827 (100.0%) in 21.64 sec. Users per second: 1563\n"
     ]
    },
    {
     "name": "stderr",
     "output_type": "stream",
     "text": [
      "[I 2024-11-26 03:23:53,322] Trial 12 finished with value: 0.02233611992111084 and parameters: {'l1_ratio': 0.7514311675861041, 'alpha': 0.00010151706842664845, 'positive_only': False, 'topK': 122}. Best is trial 12 with value: 0.02233611992111084.\n"
     ]
    },
    {
     "name": "stdout",
     "output_type": "stream",
     "text": [
      "SLIMElasticNetRecommender: Processed 23045 (60.5%) in 5.00 min. Items per second: 76.81\n",
      "SLIMElasticNetRecommender: Processed 38121 (100.0%) in 8.27 min. Items per second: 76.87\n",
      "EvaluatorHoldout: Processed 33827 (100.0%) in 15.87 sec. Users per second: 2131\n"
     ]
    },
    {
     "name": "stderr",
     "output_type": "stream",
     "text": [
      "[I 2024-11-26 03:32:25,291] Trial 13 finished with value: 0.01799331190778871 and parameters: {'l1_ratio': 0.7164780030634208, 'alpha': 0.00036833151156997313, 'positive_only': False, 'topK': 121}. Best is trial 12 with value: 0.02233611992111084.\n"
     ]
    },
    {
     "name": "stdout",
     "output_type": "stream",
     "text": [
      "SLIMElasticNetRecommender: Processed 21623 (56.7%) in 5.00 min. Items per second: 72.07\n",
      "SLIMElasticNetRecommender: Processed 38121 (100.0%) in 8.71 min. Items per second: 72.91\n",
      "EvaluatorHoldout: Processed 33827 (100.0%) in 16.14 sec. Users per second: 2096\n"
     ]
    },
    {
     "name": "stderr",
     "output_type": "stream",
     "text": [
      "[I 2024-11-26 03:41:24,385] Trial 14 finished with value: 0.018887510493402305 and parameters: {'l1_ratio': 0.7191778957110821, 'alpha': 0.00031410995701486305, 'positive_only': False, 'topK': 104}. Best is trial 12 with value: 0.02233611992111084.\n"
     ]
    },
    {
     "name": "stdout",
     "output_type": "stream",
     "text": [
      "SLIMElasticNetRecommender: Processed 2288 ( 6.0%) in 5.00 min. Items per second: 7.62\n",
      "SLIMElasticNetRecommender: Processed 4633 (12.2%) in 10.01 min. Items per second: 7.72\n",
      "SLIMElasticNetRecommender: Processed 6934 (18.2%) in 15.01 min. Items per second: 7.70\n",
      "SLIMElasticNetRecommender: Processed 9277 (24.3%) in 20.01 min. Items per second: 7.73\n",
      "SLIMElasticNetRecommender: Processed 11631 (30.5%) in 25.01 min. Items per second: 7.75\n",
      "SLIMElasticNetRecommender: Processed 14047 (36.8%) in 30.01 min. Items per second: 7.80\n",
      "SLIMElasticNetRecommender: Processed 16532 (43.4%) in 35.01 min. Items per second: 7.87\n",
      "SLIMElasticNetRecommender: Processed 18977 (49.8%) in 40.01 min. Items per second: 7.90\n",
      "SLIMElasticNetRecommender: Processed 21444 (56.3%) in 45.01 min. Items per second: 7.94\n",
      "SLIMElasticNetRecommender: Processed 23872 (62.6%) in 50.01 min. Items per second: 7.95\n",
      "SLIMElasticNetRecommender: Processed 26183 (68.7%) in 55.01 min. Items per second: 7.93\n",
      "SLIMElasticNetRecommender: Processed 28507 (74.8%) in 1.00 hour. Items per second: 7.92\n",
      "SLIMElasticNetRecommender: Processed 30986 (81.3%) in 1.08 hour. Items per second: 7.94\n",
      "SLIMElasticNetRecommender: Processed 33493 (87.9%) in 1.17 hour. Items per second: 7.97\n",
      "SLIMElasticNetRecommender: Processed 36019 (94.5%) in 1.25 hour. Items per second: 8.00\n",
      "SLIMElasticNetRecommender: Processed 38121 (100.0%) in 1.32 hour. Items per second: 8.03\n",
      "EvaluatorHoldout: Processed 33827 (100.0%) in 21.50 sec. Users per second: 1573\n"
     ]
    },
    {
     "name": "stderr",
     "output_type": "stream",
     "text": [
      "[I 2024-11-26 05:00:52,255] Trial 15 finished with value: 0.021184018260983123 and parameters: {'l1_ratio': 0.001605303481326703, 'alpha': 0.0006547626399924875, 'positive_only': False, 'topK': 133}. Best is trial 12 with value: 0.02233611992111084.\n"
     ]
    },
    {
     "name": "stdout",
     "output_type": "stream",
     "text": [
      "SLIMElasticNetRecommender: Processed 38078 (99.9%) in 5.00 min. Items per second: 126.92\n",
      "SLIMElasticNetRecommender: Processed 38121 (100.0%) in 5.01 min. Items per second: 126.91\n",
      "EvaluatorHoldout: Processed 33827 (100.0%) in 14.52 sec. Users per second: 2329\n"
     ]
    },
    {
     "name": "stderr",
     "output_type": "stream",
     "text": [
      "[I 2024-11-26 05:06:07,235] Trial 16 finished with value: 0.0001361432423897316 and parameters: {'l1_ratio': 0.7208949558116516, 'alpha': 0.06969585367050003, 'positive_only': False, 'topK': 86}. Best is trial 12 with value: 0.02233611992111084.\n"
     ]
    },
    {
     "name": "stdout",
     "output_type": "stream",
     "text": [
      "SLIMElasticNetRecommender: Processed 25947 (68.1%) in 5.00 min. Items per second: 86.49\n",
      "SLIMElasticNetRecommender: Processed 38121 (100.0%) in 7.36 min. Items per second: 86.34\n",
      "EvaluatorHoldout: Processed 33827 (100.0%) in 15.65 sec. Users per second: 2161\n"
     ]
    },
    {
     "name": "stderr",
     "output_type": "stream",
     "text": [
      "[I 2024-11-26 05:13:44,479] Trial 17 finished with value: 0.017309093984752746 and parameters: {'l1_ratio': 0.3797973858435669, 'alpha': 0.0007328265271657706, 'positive_only': False, 'topK': 137}. Best is trial 12 with value: 0.02233611992111084.\n"
     ]
    },
    {
     "name": "stdout",
     "output_type": "stream",
     "text": [
      "SLIMElasticNetRecommender: Processed 37800 (99.2%) in 5.00 min. Items per second: 126.00\n",
      "SLIMElasticNetRecommender: Processed 38121 (100.0%) in 5.04 min. Items per second: 125.96\n",
      "EvaluatorHoldout: Processed 33827 (100.0%) in 14.67 sec. Users per second: 2305\n"
     ]
    },
    {
     "name": "stderr",
     "output_type": "stream",
     "text": [
      "[I 2024-11-26 05:19:01,865] Trial 18 finished with value: 0.0013893616492132532 and parameters: {'l1_ratio': 0.8064097738738566, 'alpha': 0.005153919542046058, 'positive_only': True, 'topK': 194}. Best is trial 12 with value: 0.02233611992111084.\n"
     ]
    },
    {
     "name": "stdout",
     "output_type": "stream",
     "text": [
      "SLIMElasticNetRecommender: Processed 38121 (100.0%) in 5.00 min. Items per second: 127.09\n",
      "EvaluatorHoldout: Processed 33827 (100.0%) in 14.48 sec. Users per second: 2337\n"
     ]
    },
    {
     "name": "stderr",
     "output_type": "stream",
     "text": [
      "[I 2024-11-26 05:24:16,361] Trial 19 finished with value: 0.0001361432423897316 and parameters: {'l1_ratio': 0.14988319628515845, 'alpha': 5.20175624019033, 'positive_only': False, 'topK': 105}. Best is trial 12 with value: 0.02233611992111084.\n"
     ]
    },
    {
     "name": "stdout",
     "output_type": "stream",
     "text": [
      "SLIMElasticNetRecommender: Processed 7310 (19.2%) in 5.00 min. Items per second: 24.36\n",
      "SLIMElasticNetRecommender: Processed 14744 (38.7%) in 10.00 min. Items per second: 24.57\n",
      "SLIMElasticNetRecommender: Processed 22480 (59.0%) in 15.00 min. Items per second: 24.97\n",
      "SLIMElasticNetRecommender: Processed 30321 (79.5%) in 20.00 min. Items per second: 25.26\n",
      "SLIMElasticNetRecommender: Processed 38121 (100.0%) in 24.81 min. Items per second: 25.61\n",
      "EvaluatorHoldout: Processed 33827 (100.0%) in 19.73 sec. Users per second: 1715\n"
     ]
    },
    {
     "name": "stderr",
     "output_type": "stream",
     "text": [
      "[I 2024-11-26 05:49:24,812] Trial 20 finished with value: 0.022474772429837506 and parameters: {'l1_ratio': 0.4408355927953408, 'alpha': 0.00013519978876092592, 'positive_only': False, 'topK': 59}. Best is trial 20 with value: 0.022474772429837506.\n"
     ]
    },
    {
     "name": "stdout",
     "output_type": "stream",
     "text": [
      "SLIMElasticNetRecommender: Processed 7728 (20.3%) in 5.00 min. Items per second: 25.76\n",
      "SLIMElasticNetRecommender: Processed 15649 (41.1%) in 10.00 min. Items per second: 26.08\n",
      "SLIMElasticNetRecommender: Processed 23763 (62.3%) in 15.00 min. Items per second: 26.40\n",
      "SLIMElasticNetRecommender: Processed 32118 (84.3%) in 20.00 min. Items per second: 26.76\n",
      "SLIMElasticNetRecommender: Processed 38121 (100.0%) in 23.53 min. Items per second: 27.00\n",
      "EvaluatorHoldout: Processed 33827 (100.0%) in 19.10 sec. Users per second: 1771\n"
     ]
    },
    {
     "name": "stderr",
     "output_type": "stream",
     "text": [
      "[I 2024-11-26 06:13:15,676] Trial 21 finished with value: 0.022373823436805225 and parameters: {'l1_ratio': 0.4390697703166049, 'alpha': 0.00016130945983559408, 'positive_only': False, 'topK': 52}. Best is trial 20 with value: 0.022474772429837506.\n"
     ]
    },
    {
     "name": "stdout",
     "output_type": "stream",
     "text": [
      "SLIMElasticNetRecommender: Processed 7633 (20.0%) in 5.00 min. Items per second: 25.44\n",
      "SLIMElasticNetRecommender: Processed 15446 (40.5%) in 10.00 min. Items per second: 25.74\n",
      "SLIMElasticNetRecommender: Processed 23360 (61.3%) in 15.00 min. Items per second: 25.95\n",
      "SLIMElasticNetRecommender: Processed 31568 (82.8%) in 20.00 min. Items per second: 26.30\n",
      "SLIMElasticNetRecommender: Processed 38121 (100.0%) in 23.92 min. Items per second: 26.56\n",
      "EvaluatorHoldout: Processed 33827 (100.0%) in 18.57 sec. Users per second: 1821\n"
     ]
    },
    {
     "name": "stderr",
     "output_type": "stream",
     "text": [
      "[I 2024-11-26 06:37:29,835] Trial 22 finished with value: 0.022306407579931298 and parameters: {'l1_ratio': 0.6524650251584773, 'alpha': 0.00010831827276995025, 'positive_only': False, 'topK': 44}. Best is trial 20 with value: 0.022474772429837506.\n"
     ]
    },
    {
     "name": "stdout",
     "output_type": "stream",
     "text": [
      "SLIMElasticNetRecommender: Processed 17851 (46.8%) in 5.00 min. Items per second: 59.49\n",
      "SLIMElasticNetRecommender: Processed 36691 (96.2%) in 10.00 min. Items per second: 61.14\n",
      "SLIMElasticNetRecommender: Processed 38121 (100.0%) in 10.42 min. Items per second: 60.97\n",
      "EvaluatorHoldout: Processed 33827 (100.0%) in 16.15 sec. Users per second: 2094\n"
     ]
    },
    {
     "name": "stderr",
     "output_type": "stream",
     "text": [
      "[I 2024-11-26 06:48:11,245] Trial 23 finished with value: 0.019710735202132554 and parameters: {'l1_ratio': 0.26153611038839286, 'alpha': 0.0006725765061413102, 'positive_only': False, 'topK': 64}. Best is trial 20 with value: 0.022474772429837506.\n"
     ]
    },
    {
     "name": "stdout",
     "output_type": "stream",
     "text": [
      "SLIMElasticNetRecommender: Processed 15143 (39.7%) in 5.00 min. Items per second: 50.47\n",
      "SLIMElasticNetRecommender: Processed 31032 (81.4%) in 10.00 min. Items per second: 51.72\n",
      "SLIMElasticNetRecommender: Processed 38121 (100.0%) in 12.12 min. Items per second: 52.40\n",
      "EvaluatorHoldout: Processed 33827 (100.0%) in 16.43 sec. Users per second: 2058\n"
     ]
    },
    {
     "name": "stderr",
     "output_type": "stream",
     "text": [
      "[I 2024-11-26 07:00:35,247] Trial 24 finished with value: 0.020592426168445147 and parameters: {'l1_ratio': 0.5111083860809136, 'alpha': 0.00030871448202938676, 'positive_only': False, 'topK': 37}. Best is trial 20 with value: 0.022474772429837506.\n"
     ]
    },
    {
     "name": "stdout",
     "output_type": "stream",
     "text": [
      "SLIMElasticNetRecommender: Processed 32787 (86.0%) in 5.00 min. Items per second: 109.29\n",
      "SLIMElasticNetRecommender: Processed 38121 (100.0%) in 5.76 min. Items per second: 110.35\n",
      "EvaluatorHoldout: Processed 33827 (100.0%) in 15.20 sec. Users per second: 2225\n"
     ]
    },
    {
     "name": "stderr",
     "output_type": "stream",
     "text": [
      "[I 2024-11-26 07:06:35,956] Trial 25 finished with value: 0.013555281988043285 and parameters: {'l1_ratio': 0.4530005753278741, 'alpha': 0.0010638360759435718, 'positive_only': False, 'topK': 72}. Best is trial 20 with value: 0.022474772429837506.\n"
     ]
    },
    {
     "name": "stdout",
     "output_type": "stream",
     "text": [
      "SLIMElasticNetRecommender: Processed 6090 (16.0%) in 5.00 min. Items per second: 20.29\n",
      "SLIMElasticNetRecommender: Processed 12101 (31.7%) in 10.00 min. Items per second: 20.17\n",
      "SLIMElasticNetRecommender: Processed 18441 (48.4%) in 15.00 min. Items per second: 20.49\n",
      "SLIMElasticNetRecommender: Processed 25150 (66.0%) in 20.00 min. Items per second: 20.96\n",
      "SLIMElasticNetRecommender: Processed 31808 (83.4%) in 25.00 min. Items per second: 21.20\n",
      "SLIMElasticNetRecommender: Processed 38121 (100.0%) in 29.56 min. Items per second: 21.49\n",
      "EvaluatorHoldout: Processed 33827 (100.0%) in 18.27 sec. Users per second: 1852\n"
     ]
    },
    {
     "name": "stderr",
     "output_type": "stream",
     "text": [
      "[I 2024-11-26 07:36:28,142] Trial 26 finished with value: 0.02222817806382666 and parameters: {'l1_ratio': 0.6334981751552748, 'alpha': 0.00010396529599157309, 'positive_only': True, 'topK': 29}. Best is trial 20 with value: 0.022474772429837506.\n"
     ]
    },
    {
     "name": "stdout",
     "output_type": "stream",
     "text": [
      "SLIMElasticNetRecommender: Processed 38121 (100.0%) in 4.95 min. Items per second: 128.32\n",
      "EvaluatorHoldout: Processed 33827 (100.0%) in 14.53 sec. Users per second: 2329\n"
     ]
    },
    {
     "name": "stderr",
     "output_type": "stream",
     "text": [
      "[I 2024-11-26 07:41:39,819] Trial 27 finished with value: 0.00036284413549615864 and parameters: {'l1_ratio': 0.21527438655331432, 'alpha': 0.027367264189849836, 'positive_only': False, 'topK': 57}. Best is trial 20 with value: 0.022474772429837506.\n"
     ]
    },
    {
     "name": "stdout",
     "output_type": "stream",
     "text": [
      "SLIMElasticNetRecommender: Processed 38105 (100.0%) in 5.00 min. Items per second: 127.01\n",
      "SLIMElasticNetRecommender: Processed 38121 (100.0%) in 5.00 min. Items per second: 127.01\n",
      "EvaluatorHoldout: Processed 33827 (100.0%) in 14.66 sec. Users per second: 2307\n"
     ]
    },
    {
     "name": "stderr",
     "output_type": "stream",
     "text": [
      "[I 2024-11-26 07:46:54,678] Trial 28 finished with value: 0.005921258541946145 and parameters: {'l1_ratio': 0.3744052711677878, 'alpha': 0.0038395479766108924, 'positive_only': False, 'topK': 89}. Best is trial 20 with value: 0.022474772429837506.\n"
     ]
    },
    {
     "name": "stdout",
     "output_type": "stream",
     "text": [
      "SLIMElasticNetRecommender: Processed 14560 (38.2%) in 5.00 min. Items per second: 48.53\n",
      "SLIMElasticNetRecommender: Processed 29991 (78.7%) in 10.00 min. Items per second: 49.98\n",
      "SLIMElasticNetRecommender: Processed 38121 (100.0%) in 12.40 min. Items per second: 51.22\n",
      "EvaluatorHoldout: Processed 33827 (100.0%) in 16.22 sec. Users per second: 2086\n"
     ]
    },
    {
     "name": "stderr",
     "output_type": "stream",
     "text": [
      "[I 2024-11-26 07:59:35,181] Trial 29 finished with value: 0.020305865371936713 and parameters: {'l1_ratio': 0.4810000935834188, 'alpha': 0.00034537261477321935, 'positive_only': True, 'topK': 42}. Best is trial 20 with value: 0.022474772429837506.\n"
     ]
    },
    {
     "name": "stdout",
     "output_type": "stream",
     "text": [
      "Best hyperparameters: {'l1_ratio': 0.4408355927953408, 'alpha': 0.00013519978876092592, 'positive_only': False, 'topK': 59}\n",
      "Best MAP@10: 0.022474772429837506\n"
     ]
    }
   ],
   "source": [
    "# Create and run the Optuna study\n",
    "study = optuna.create_study(direction=\"maximize\")\n",
    "study.optimize(objective, n_trials=n_trials)\n",
    "\n",
    "# Output the best hyperparameters found\n",
    "print(\"Best hyperparameters:\", study.best_params)\n",
    "print(\"Best MAP@10:\", study.best_value)"
   ]
  },
  {
   "cell_type": "code",
   "execution_count": 71,
   "metadata": {},
   "outputs": [
    {
     "name": "stdout",
     "output_type": "stream",
     "text": [
      "SLIMElasticNetRecommender: Processed 6424 (16.9%) in 5.00 min. Items per second: 21.41\n",
      "SLIMElasticNetRecommender: Processed 12916 (33.9%) in 10.00 min. Items per second: 21.52\n",
      "SLIMElasticNetRecommender: Processed 20566 (53.9%) in 15.00 min. Items per second: 22.85\n",
      "SLIMElasticNetRecommender: Processed 28265 (74.1%) in 20.00 min. Items per second: 23.55\n",
      "SLIMElasticNetRecommender: Processed 36363 (95.4%) in 25.00 min. Items per second: 24.24\n",
      "SLIMElasticNetRecommender: Processed 38121 (100.0%) in 26.19 min. Items per second: 24.26\n"
     ]
    }
   ],
   "source": [
    "from Recommenders.SLIM.SLIMElasticNetRecommender import SLIMElasticNetRecommender\n",
    "\n",
    "# Initialize the SLIM ElasticNet recommender\n",
    "slim_recommender = SLIMElasticNetRecommender(urm_train)\n",
    "slim_recommender.fit(l1_ratio= 0.4408355927953408, alpha= 0.00013519978876092592, positive_only= False, topK= 59)"
   ]
  },
  {
   "cell_type": "code",
   "execution_count": 72,
   "metadata": {},
   "outputs": [
    {
     "name": "stdout",
     "output_type": "stream",
     "text": [
      "EvaluatorHoldout: Ignoring 175 ( 0.5%) Users that have less than 1 test interactions\n",
      "EvaluatorHoldout: Processed 35561 (100.0%) in 23.47 sec. Users per second: 1515\n",
      "CUTOFF: 10 - PRECISION: 0.0952392, PRECISION_RECALL_MIN_DEN: 0.1430107, RECALL: 0.1221699, MAP: 0.0483441, MAP_MIN_DEN: 0.0712179, MRR: 0.2698329, NDCG: 0.1381397, F1: 0.1070366, HIT_RATE: 0.5299064, ARHR_ALL_HITS: 0.3563031, NOVELTY: 0.0037323, AVERAGE_POPULARITY: 0.0950999, DIVERSITY_MEAN_INTER_LIST: 0.9983186, DIVERSITY_HERFINDAHL: 0.9998291, COVERAGE_ITEM: 0.5911702, COVERAGE_ITEM_HIT: 0.2734713, ITEMS_IN_GT: 0.9957504, COVERAGE_USER: 0.9951030, COVERAGE_USER_HIT: 0.5273114, USERS_IN_GT: 0.9951030, DIVERSITY_GINI: 0.2311326, SHANNON_ENTROPY: 13.4244003, RATIO_DIVERSITY_HERFINDAHL: 0.9998869, RATIO_DIVERSITY_GINI: 0.3809860, RATIO_SHANNON_ENTROPY: 0.9095223, RATIO_AVERAGE_POPULARITY: 1.3011331, RATIO_NOVELTY: 0.2788784, \n",
      "\n"
     ]
    }
   ],
   "source": [
    "# Initialize the evaluator with the test user-item matrix\n",
    "evaluator = EvaluatorHoldout(urm_test, cutoff_list=[10] )\n",
    "\n",
    "# Evaluate the TopPopularRecommender\n",
    "results_df, results_run_string = evaluator.evaluateRecommender(slim_recommender)\n",
    "\n",
    "# Print the evaluation results\n",
    "print(results_run_string)"
   ]
  },
  {
   "cell_type": "code",
   "execution_count": 9,
   "metadata": {},
   "outputs": [
    {
     "name": "stdout",
     "output_type": "stream",
     "text": [
      "SLIMElasticNetRecommender: Processed 3625 ( 9.5%) in 5.00 min. Items per second: 12.08\n",
      "SLIMElasticNetRecommender: Processed 7292 (19.1%) in 10.00 min. Items per second: 12.15\n",
      "SLIMElasticNetRecommender: Processed 11025 (28.9%) in 15.00 min. Items per second: 12.25\n",
      "SLIMElasticNetRecommender: Processed 14858 (39.0%) in 20.00 min. Items per second: 12.38\n",
      "SLIMElasticNetRecommender: Processed 18410 (48.3%) in 25.01 min. Items per second: 12.27\n",
      "SLIMElasticNetRecommender: Processed 22110 (58.0%) in 30.03 min. Items per second: 12.27\n",
      "SLIMElasticNetRecommender: Processed 25675 (67.4%) in 35.03 min. Items per second: 12.21\n",
      "SLIMElasticNetRecommender: Processed 28729 (75.4%) in 40.04 min. Items per second: 11.96\n",
      "SLIMElasticNetRecommender: Processed 32496 (85.2%) in 45.04 min. Items per second: 12.03\n",
      "SLIMElasticNetRecommender: Processed 36130 (94.8%) in 50.04 min. Items per second: 12.03\n",
      "SLIMElasticNetRecommender: Processed 38121 (100.0%) in 52.85 min. Items per second: 12.02\n"
     ]
    }
   ],
   "source": [
    "from Recommenders.SLIM.SLIMElasticNetRecommender import SLIMElasticNetRecommender\n",
    "\n",
    "# Initialize the SLIM ElasticNet recommender\n",
    "slim_recommender = SLIMElasticNetRecommender(urm_all)\n",
    "slim_recommender.fit(l1_ratio= 0.4408355927953408, alpha= 0.00013519978876092592, positive_only= False, topK= 59)"
   ]
  },
  {
   "cell_type": "markdown",
   "metadata": {},
   "source": [
    "# MultVAE"
   ]
  },
  {
   "cell_type": "code",
   "execution_count": 11,
   "metadata": {
    "execution": {
     "iopub.execute_input": "2024-11-20T02:33:16.035376Z",
     "iopub.status.busy": "2024-11-20T02:33:16.034740Z",
     "iopub.status.idle": "2024-11-20T02:34:53.110179Z",
     "shell.execute_reply": "2024-11-20T02:34:53.108739Z",
     "shell.execute_reply.started": "2024-11-20T02:33:16.035342Z"
    },
    "trusted": true
   },
   "outputs": [
    {
     "name": "stdout",
     "output_type": "stream",
     "text": [
      "MultVAERecommender: Using default Temp folder './result_experiments/__Temp_MultVAERecommender_30/'\n",
      "MultVAERecommender: Saving model in file './result_experiments/__Temp_MultVAERecommender_30/_best_model'\n",
      "MultVAERecommender: Saving complete\n",
      "MultVAERecommender: Epoch 1 of 100. Elapsed time 17.00 sec\n",
      "MultVAERecommender: Epoch 2 of 100. Elapsed time 31.84 sec\n",
      "MultVAERecommender: Epoch 3 of 100. Elapsed time 46.82 sec\n",
      "MultVAERecommender: Epoch 4 of 100. Elapsed time 1.03 min\n",
      "MultVAERecommender: Epoch 5 of 100. Elapsed time 1.28 min\n",
      "MultVAERecommender: Cleaning temporary files from './result_experiments/__Temp_MultVAERecommender_30/'\n"
     ]
    },
    {
     "ename": "KeyboardInterrupt",
     "evalue": "",
     "output_type": "error",
     "traceback": [
      "\u001b[0;31m---------------------------------------------------------------------------\u001b[0m",
      "\u001b[0;31mKeyboardInterrupt\u001b[0m                         Traceback (most recent call last)",
      "Cell \u001b[0;32mIn[11], line 7\u001b[0m\n\u001b[1;32m      4\u001b[0m vae_recommender \u001b[38;5;241m=\u001b[39m MultVAERecommender(URM_train\u001b[38;5;241m=\u001b[39murm_train)\n\u001b[1;32m      6\u001b[0m \u001b[38;5;66;03m# Fit the model with appropriate hyperparameters\u001b[39;00m\n\u001b[0;32m----> 7\u001b[0m \u001b[43mvae_recommender\u001b[49m\u001b[38;5;241;43m.\u001b[39;49m\u001b[43mfit\u001b[49m\u001b[43m(\u001b[49m\n\u001b[1;32m      8\u001b[0m \u001b[43m    \u001b[49m\u001b[43mepochs\u001b[49m\u001b[38;5;241;43m=\u001b[39;49m\u001b[38;5;241;43m100\u001b[39;49m\u001b[43m,\u001b[49m\u001b[43m \u001b[49m\n\u001b[1;32m      9\u001b[0m \u001b[43m    \u001b[49m\u001b[43mlearning_rate\u001b[49m\u001b[38;5;241;43m=\u001b[39;49m\u001b[38;5;241;43m1e-3\u001b[39;49m\u001b[43m,\u001b[49m\u001b[43m \u001b[49m\n\u001b[1;32m     10\u001b[0m \u001b[43m    \u001b[49m\u001b[43mbatch_size\u001b[49m\u001b[38;5;241;43m=\u001b[39;49m\u001b[38;5;241;43m500\u001b[39;49m\u001b[43m,\u001b[49m\u001b[43m \u001b[49m\n\u001b[1;32m     11\u001b[0m \u001b[43m    \u001b[49m\u001b[43mdropout\u001b[49m\u001b[38;5;241;43m=\u001b[39;49m\u001b[38;5;241;43m0.5\u001b[39;49m\u001b[43m,\u001b[49m\u001b[43m \u001b[49m\n\u001b[1;32m     12\u001b[0m \u001b[43m    \u001b[49m\u001b[43mtotal_anneal_steps\u001b[49m\u001b[38;5;241;43m=\u001b[39;49m\u001b[38;5;241;43m200000\u001b[39;49m\u001b[43m,\u001b[49m\u001b[43m \u001b[49m\n\u001b[1;32m     13\u001b[0m \u001b[43m    \u001b[49m\u001b[43manneal_cap\u001b[49m\u001b[38;5;241;43m=\u001b[39;49m\u001b[38;5;241;43m0.2\u001b[39;49m\u001b[43m,\u001b[49m\u001b[43m \u001b[49m\n\u001b[1;32m     14\u001b[0m \u001b[43m    \u001b[49m\u001b[43mp_dims\u001b[49m\u001b[38;5;241;43m=\u001b[39;49m\u001b[43m[\u001b[49m\u001b[38;5;241;43m200\u001b[39;49m\u001b[43m,\u001b[49m\u001b[43m \u001b[49m\u001b[38;5;241;43m600\u001b[39;49m\u001b[43m]\u001b[49m\u001b[43m,\u001b[49m\u001b[43m \u001b[49m\n\u001b[1;32m     15\u001b[0m \u001b[43m    \u001b[49m\u001b[43ml2_reg\u001b[49m\u001b[38;5;241;43m=\u001b[39;49m\u001b[38;5;241;43m0.01\u001b[39;49m\n\u001b[1;32m     16\u001b[0m \u001b[43m)\u001b[49m\n",
      "File \u001b[0;32m/kaggle/working/recsys/Recommenders/Neural/MultVAERecommender.py:374\u001b[0m, in \u001b[0;36mMultVAERecommender.fit\u001b[0;34m(self, epochs, learning_rate, batch_size, dropout, total_anneal_steps, anneal_cap, p_dims, l2_reg, temp_file_folder, **earlystopping_kwargs)\u001b[0m\n\u001b[1;32m    371\u001b[0m \u001b[38;5;28mself\u001b[39m\u001b[38;5;241m.\u001b[39m_update_best_model()\n\u001b[1;32m    373\u001b[0m \u001b[38;5;28;01mtry\u001b[39;00m:\n\u001b[0;32m--> 374\u001b[0m     \u001b[38;5;28;43mself\u001b[39;49m\u001b[38;5;241;43m.\u001b[39;49m\u001b[43m_train_with_early_stopping\u001b[49m\u001b[43m(\u001b[49m\n\u001b[1;32m    375\u001b[0m \u001b[43m        \u001b[49m\u001b[43mepochs\u001b[49m\u001b[43m,\u001b[49m\u001b[43m \u001b[49m\u001b[43malgorithm_name\u001b[49m\u001b[38;5;241;43m=\u001b[39;49m\u001b[38;5;28;43mself\u001b[39;49m\u001b[38;5;241;43m.\u001b[39;49m\u001b[43mRECOMMENDER_NAME\u001b[49m\u001b[43m,\u001b[49m\u001b[43m \u001b[49m\u001b[38;5;241;43m*\u001b[39;49m\u001b[38;5;241;43m*\u001b[39;49m\u001b[43mearlystopping_kwargs\u001b[49m\n\u001b[1;32m    376\u001b[0m \u001b[43m    \u001b[49m\u001b[43m)\u001b[49m\n\u001b[1;32m    378\u001b[0m     \u001b[38;5;28mself\u001b[39m\u001b[38;5;241m.\u001b[39mload_model(\n\u001b[1;32m    379\u001b[0m         \u001b[38;5;28mself\u001b[39m\u001b[38;5;241m.\u001b[39mtemp_file_folder, file_name\u001b[38;5;241m=\u001b[39m\u001b[38;5;124m\"\u001b[39m\u001b[38;5;124m_best_model\u001b[39m\u001b[38;5;124m\"\u001b[39m, create_zip\u001b[38;5;241m=\u001b[39m\u001b[38;5;28;01mFalse\u001b[39;00m\n\u001b[1;32m    380\u001b[0m     )\n\u001b[1;32m    382\u001b[0m \u001b[38;5;28;01mexcept\u001b[39;00m (\u001b[38;5;167;01mException\u001b[39;00m, tf\u001b[38;5;241m.\u001b[39merrors\u001b[38;5;241m.\u001b[39mInvalidArgumentError) \u001b[38;5;28;01mas\u001b[39;00m e:\n",
      "File \u001b[0;32m/kaggle/working/recsys/Recommenders/Incremental_Training_Early_Stopping.py:231\u001b[0m, in \u001b[0;36mIncremental_Training_Early_Stopping._train_with_early_stopping\u001b[0;34m(self, epochs_max, epochs_min, validation_every_n, stop_on_validation, validation_metric, lower_validations_allowed, evaluator_object, algorithm_name)\u001b[0m\n\u001b[1;32m    228\u001b[0m epochs_current \u001b[38;5;241m=\u001b[39m \u001b[38;5;241m1\u001b[39m\n\u001b[1;32m    230\u001b[0m \u001b[38;5;28;01mwhile\u001b[39;00m epochs_current \u001b[38;5;241m<\u001b[39m\u001b[38;5;241m=\u001b[39m epochs_max \u001b[38;5;129;01mand\u001b[39;00m \u001b[38;5;129;01mnot\u001b[39;00m convergence:\n\u001b[0;32m--> 231\u001b[0m     \u001b[38;5;28;43mself\u001b[39;49m\u001b[38;5;241;43m.\u001b[39;49m\u001b[43m_run_epoch\u001b[49m\u001b[43m(\u001b[49m\u001b[43mepochs_current\u001b[49m\u001b[43m)\u001b[49m\n\u001b[1;32m    233\u001b[0m     \u001b[38;5;66;03m# If no validation required, always keep the latest\u001b[39;00m\n\u001b[1;32m    234\u001b[0m     \u001b[38;5;28;01mif\u001b[39;00m evaluator_object \u001b[38;5;129;01mis\u001b[39;00m \u001b[38;5;28;01mNone\u001b[39;00m:\n",
      "File \u001b[0;32m/kaggle/working/recsys/Recommenders/Neural/MultVAERecommender.py:438\u001b[0m, in \u001b[0;36mMultVAERecommender._run_epoch\u001b[0;34m(self, num_epoch)\u001b[0m\n\u001b[1;32m    430\u001b[0m     anneal \u001b[38;5;241m=\u001b[39m \u001b[38;5;28mself\u001b[39m\u001b[38;5;241m.\u001b[39manneal_cap\n\u001b[1;32m    432\u001b[0m feed_dict \u001b[38;5;241m=\u001b[39m {\n\u001b[1;32m    433\u001b[0m     \u001b[38;5;28mself\u001b[39m\u001b[38;5;241m.\u001b[39mvae\u001b[38;5;241m.\u001b[39minput_ph: X,\n\u001b[1;32m    434\u001b[0m     \u001b[38;5;28mself\u001b[39m\u001b[38;5;241m.\u001b[39mvae\u001b[38;5;241m.\u001b[39mkeep_prob_ph: \u001b[38;5;28mself\u001b[39m\u001b[38;5;241m.\u001b[39mdropout,\n\u001b[1;32m    435\u001b[0m     \u001b[38;5;28mself\u001b[39m\u001b[38;5;241m.\u001b[39mvae\u001b[38;5;241m.\u001b[39manneal_ph: anneal,\n\u001b[1;32m    436\u001b[0m     \u001b[38;5;28mself\u001b[39m\u001b[38;5;241m.\u001b[39mvae\u001b[38;5;241m.\u001b[39mis_training_ph: \u001b[38;5;241m1\u001b[39m,\n\u001b[1;32m    437\u001b[0m }\n\u001b[0;32m--> 438\u001b[0m \u001b[38;5;28;43mself\u001b[39;49m\u001b[38;5;241;43m.\u001b[39;49m\u001b[43msess\u001b[49m\u001b[38;5;241;43m.\u001b[39;49m\u001b[43mrun\u001b[49m\u001b[43m(\u001b[49m\u001b[38;5;28;43mself\u001b[39;49m\u001b[38;5;241;43m.\u001b[39;49m\u001b[43mtrain_op_var\u001b[49m\u001b[43m,\u001b[49m\u001b[43m \u001b[49m\u001b[43mfeed_dict\u001b[49m\u001b[38;5;241;43m=\u001b[39;49m\u001b[43mfeed_dict\u001b[49m\u001b[43m)\u001b[49m\n\u001b[1;32m    440\u001b[0m \u001b[38;5;28mself\u001b[39m\u001b[38;5;241m.\u001b[39mupdate_count \u001b[38;5;241m+\u001b[39m\u001b[38;5;241m=\u001b[39m \u001b[38;5;241m1\u001b[39m\n",
      "File \u001b[0;32m/opt/conda/lib/python3.10/site-packages/tensorflow/python/client/session.py:972\u001b[0m, in \u001b[0;36mBaseSession.run\u001b[0;34m(self, fetches, feed_dict, options, run_metadata)\u001b[0m\n\u001b[1;32m    969\u001b[0m run_metadata_ptr \u001b[38;5;241m=\u001b[39m tf_session\u001b[38;5;241m.\u001b[39mTF_NewBuffer() \u001b[38;5;28;01mif\u001b[39;00m run_metadata \u001b[38;5;28;01melse\u001b[39;00m \u001b[38;5;28;01mNone\u001b[39;00m\n\u001b[1;32m    971\u001b[0m \u001b[38;5;28;01mtry\u001b[39;00m:\n\u001b[0;32m--> 972\u001b[0m   result \u001b[38;5;241m=\u001b[39m \u001b[38;5;28;43mself\u001b[39;49m\u001b[38;5;241;43m.\u001b[39;49m\u001b[43m_run\u001b[49m\u001b[43m(\u001b[49m\u001b[38;5;28;43;01mNone\u001b[39;49;00m\u001b[43m,\u001b[49m\u001b[43m \u001b[49m\u001b[43mfetches\u001b[49m\u001b[43m,\u001b[49m\u001b[43m \u001b[49m\u001b[43mfeed_dict\u001b[49m\u001b[43m,\u001b[49m\u001b[43m \u001b[49m\u001b[43moptions_ptr\u001b[49m\u001b[43m,\u001b[49m\n\u001b[1;32m    973\u001b[0m \u001b[43m                     \u001b[49m\u001b[43mrun_metadata_ptr\u001b[49m\u001b[43m)\u001b[49m\n\u001b[1;32m    974\u001b[0m   \u001b[38;5;28;01mif\u001b[39;00m run_metadata:\n\u001b[1;32m    975\u001b[0m     proto_data \u001b[38;5;241m=\u001b[39m tf_session\u001b[38;5;241m.\u001b[39mTF_GetBuffer(run_metadata_ptr)\n",
      "File \u001b[0;32m/opt/conda/lib/python3.10/site-packages/tensorflow/python/client/session.py:1215\u001b[0m, in \u001b[0;36mBaseSession._run\u001b[0;34m(self, handle, fetches, feed_dict, options, run_metadata)\u001b[0m\n\u001b[1;32m   1212\u001b[0m \u001b[38;5;66;03m# We only want to really perform the run if fetches or targets are provided,\u001b[39;00m\n\u001b[1;32m   1213\u001b[0m \u001b[38;5;66;03m# or if the call is a partial run that specifies feeds.\u001b[39;00m\n\u001b[1;32m   1214\u001b[0m \u001b[38;5;28;01mif\u001b[39;00m final_fetches \u001b[38;5;129;01mor\u001b[39;00m final_targets \u001b[38;5;129;01mor\u001b[39;00m (handle \u001b[38;5;129;01mand\u001b[39;00m feed_dict_tensor):\n\u001b[0;32m-> 1215\u001b[0m   results \u001b[38;5;241m=\u001b[39m \u001b[38;5;28;43mself\u001b[39;49m\u001b[38;5;241;43m.\u001b[39;49m\u001b[43m_do_run\u001b[49m\u001b[43m(\u001b[49m\u001b[43mhandle\u001b[49m\u001b[43m,\u001b[49m\u001b[43m \u001b[49m\u001b[43mfinal_targets\u001b[49m\u001b[43m,\u001b[49m\u001b[43m \u001b[49m\u001b[43mfinal_fetches\u001b[49m\u001b[43m,\u001b[49m\n\u001b[1;32m   1216\u001b[0m \u001b[43m                         \u001b[49m\u001b[43mfeed_dict_tensor\u001b[49m\u001b[43m,\u001b[49m\u001b[43m \u001b[49m\u001b[43moptions\u001b[49m\u001b[43m,\u001b[49m\u001b[43m \u001b[49m\u001b[43mrun_metadata\u001b[49m\u001b[43m)\u001b[49m\n\u001b[1;32m   1217\u001b[0m \u001b[38;5;28;01melse\u001b[39;00m:\n\u001b[1;32m   1218\u001b[0m   results \u001b[38;5;241m=\u001b[39m []\n",
      "File \u001b[0;32m/opt/conda/lib/python3.10/site-packages/tensorflow/python/client/session.py:1395\u001b[0m, in \u001b[0;36mBaseSession._do_run\u001b[0;34m(self, handle, target_list, fetch_list, feed_dict, options, run_metadata)\u001b[0m\n\u001b[1;32m   1392\u001b[0m   \u001b[38;5;28;01mreturn\u001b[39;00m \u001b[38;5;28mself\u001b[39m\u001b[38;5;241m.\u001b[39m_call_tf_sessionprun(handle, feed_dict, fetch_list)\n\u001b[1;32m   1394\u001b[0m \u001b[38;5;28;01mif\u001b[39;00m handle \u001b[38;5;129;01mis\u001b[39;00m \u001b[38;5;28;01mNone\u001b[39;00m:\n\u001b[0;32m-> 1395\u001b[0m   \u001b[38;5;28;01mreturn\u001b[39;00m \u001b[38;5;28;43mself\u001b[39;49m\u001b[38;5;241;43m.\u001b[39;49m\u001b[43m_do_call\u001b[49m\u001b[43m(\u001b[49m\u001b[43m_run_fn\u001b[49m\u001b[43m,\u001b[49m\u001b[43m \u001b[49m\u001b[43mfeeds\u001b[49m\u001b[43m,\u001b[49m\u001b[43m \u001b[49m\u001b[43mfetches\u001b[49m\u001b[43m,\u001b[49m\u001b[43m \u001b[49m\u001b[43mtargets\u001b[49m\u001b[43m,\u001b[49m\u001b[43m \u001b[49m\u001b[43moptions\u001b[49m\u001b[43m,\u001b[49m\n\u001b[1;32m   1396\u001b[0m \u001b[43m                       \u001b[49m\u001b[43mrun_metadata\u001b[49m\u001b[43m)\u001b[49m\n\u001b[1;32m   1397\u001b[0m \u001b[38;5;28;01melse\u001b[39;00m:\n\u001b[1;32m   1398\u001b[0m   \u001b[38;5;28;01mreturn\u001b[39;00m \u001b[38;5;28mself\u001b[39m\u001b[38;5;241m.\u001b[39m_do_call(_prun_fn, handle, feeds, fetches)\n",
      "File \u001b[0;32m/opt/conda/lib/python3.10/site-packages/tensorflow/python/client/session.py:1402\u001b[0m, in \u001b[0;36mBaseSession._do_call\u001b[0;34m(self, fn, *args)\u001b[0m\n\u001b[1;32m   1400\u001b[0m \u001b[38;5;28;01mdef\u001b[39;00m \u001b[38;5;21m_do_call\u001b[39m(\u001b[38;5;28mself\u001b[39m, fn, \u001b[38;5;241m*\u001b[39margs):\n\u001b[1;32m   1401\u001b[0m   \u001b[38;5;28;01mtry\u001b[39;00m:\n\u001b[0;32m-> 1402\u001b[0m     \u001b[38;5;28;01mreturn\u001b[39;00m \u001b[43mfn\u001b[49m\u001b[43m(\u001b[49m\u001b[38;5;241;43m*\u001b[39;49m\u001b[43margs\u001b[49m\u001b[43m)\u001b[49m\n\u001b[1;32m   1403\u001b[0m   \u001b[38;5;28;01mexcept\u001b[39;00m errors\u001b[38;5;241m.\u001b[39mOpError \u001b[38;5;28;01mas\u001b[39;00m e:\n\u001b[1;32m   1404\u001b[0m     message \u001b[38;5;241m=\u001b[39m compat\u001b[38;5;241m.\u001b[39mas_text(e\u001b[38;5;241m.\u001b[39mmessage)\n",
      "File \u001b[0;32m/opt/conda/lib/python3.10/site-packages/tensorflow/python/client/session.py:1385\u001b[0m, in \u001b[0;36mBaseSession._do_run.<locals>._run_fn\u001b[0;34m(feed_dict, fetch_list, target_list, options, run_metadata)\u001b[0m\n\u001b[1;32m   1382\u001b[0m \u001b[38;5;28;01mdef\u001b[39;00m \u001b[38;5;21m_run_fn\u001b[39m(feed_dict, fetch_list, target_list, options, run_metadata):\n\u001b[1;32m   1383\u001b[0m   \u001b[38;5;66;03m# Ensure any changes to the graph are reflected in the runtime.\u001b[39;00m\n\u001b[1;32m   1384\u001b[0m   \u001b[38;5;28mself\u001b[39m\u001b[38;5;241m.\u001b[39m_extend_graph()\n\u001b[0;32m-> 1385\u001b[0m   \u001b[38;5;28;01mreturn\u001b[39;00m \u001b[38;5;28;43mself\u001b[39;49m\u001b[38;5;241;43m.\u001b[39;49m\u001b[43m_call_tf_sessionrun\u001b[49m\u001b[43m(\u001b[49m\u001b[43moptions\u001b[49m\u001b[43m,\u001b[49m\u001b[43m \u001b[49m\u001b[43mfeed_dict\u001b[49m\u001b[43m,\u001b[49m\u001b[43m \u001b[49m\u001b[43mfetch_list\u001b[49m\u001b[43m,\u001b[49m\n\u001b[1;32m   1386\u001b[0m \u001b[43m                                  \u001b[49m\u001b[43mtarget_list\u001b[49m\u001b[43m,\u001b[49m\u001b[43m \u001b[49m\u001b[43mrun_metadata\u001b[49m\u001b[43m)\u001b[49m\n",
      "File \u001b[0;32m/opt/conda/lib/python3.10/site-packages/tensorflow/python/client/session.py:1478\u001b[0m, in \u001b[0;36mBaseSession._call_tf_sessionrun\u001b[0;34m(self, options, feed_dict, fetch_list, target_list, run_metadata)\u001b[0m\n\u001b[1;32m   1476\u001b[0m \u001b[38;5;28;01mdef\u001b[39;00m \u001b[38;5;21m_call_tf_sessionrun\u001b[39m(\u001b[38;5;28mself\u001b[39m, options, feed_dict, fetch_list, target_list,\n\u001b[1;32m   1477\u001b[0m                         run_metadata):\n\u001b[0;32m-> 1478\u001b[0m   \u001b[38;5;28;01mreturn\u001b[39;00m \u001b[43mtf_session\u001b[49m\u001b[38;5;241;43m.\u001b[39;49m\u001b[43mTF_SessionRun_wrapper\u001b[49m\u001b[43m(\u001b[49m\u001b[38;5;28;43mself\u001b[39;49m\u001b[38;5;241;43m.\u001b[39;49m\u001b[43m_session\u001b[49m\u001b[43m,\u001b[49m\u001b[43m \u001b[49m\u001b[43moptions\u001b[49m\u001b[43m,\u001b[49m\u001b[43m \u001b[49m\u001b[43mfeed_dict\u001b[49m\u001b[43m,\u001b[49m\n\u001b[1;32m   1479\u001b[0m \u001b[43m                                          \u001b[49m\u001b[43mfetch_list\u001b[49m\u001b[43m,\u001b[49m\u001b[43m \u001b[49m\u001b[43mtarget_list\u001b[49m\u001b[43m,\u001b[49m\n\u001b[1;32m   1480\u001b[0m \u001b[43m                                          \u001b[49m\u001b[43mrun_metadata\u001b[49m\u001b[43m)\u001b[49m\n",
      "\u001b[0;31mKeyboardInterrupt\u001b[0m: "
     ]
    }
   ],
   "source": [
    "from Recommenders.Neural.MultVAERecommender import MultVAERecommender\n",
    "\n",
    "# Initialize the MultVAE Recommender\n",
    "vae_recommender = MultVAERecommender(URM_train=urm_train)\n",
    "\n",
    "# Fit the model with appropriate hyperparameters\n",
    "vae_recommender.fit(\n",
    "    epochs=100, \n",
    "    learning_rate=1e-3, \n",
    "    batch_size=500, \n",
    "    dropout=0.5, \n",
    "    total_anneal_steps=200000, \n",
    "    anneal_cap=0.2, \n",
    "    p_dims=[200, 600], \n",
    "    l2_reg=0.01\n",
    ")"
   ]
  },
  {
   "cell_type": "code",
   "execution_count": 11,
   "metadata": {
    "execution": {
     "iopub.execute_input": "2024-11-20T10:19:52.854376Z",
     "iopub.status.busy": "2024-11-20T10:19:52.853632Z",
     "iopub.status.idle": "2024-11-20T10:19:53.034381Z",
     "shell.execute_reply": "2024-11-20T10:19:53.033464Z",
     "shell.execute_reply.started": "2024-11-20T10:19:52.854338Z"
    },
    "trusted": true
   },
   "outputs": [
    {
     "name": "stdout",
     "output_type": "stream",
     "text": [
      "EvaluatorHoldout: Ignoring 1909 ( 5.3%) Users that have less than 1 test interactions\n"
     ]
    }
   ],
   "source": [
    "import optuna\n",
    "from Evaluation.Evaluator import EvaluatorHoldout\n",
    "\n",
    "# Define the number of trials\n",
    "n_trials = 30\n",
    "\n",
    "# Define the evaluator for validation\n",
    "evaluator_validation = EvaluatorHoldout(urm_validation, cutoff_list=[10])\n"
   ]
  },
  {
   "cell_type": "code",
   "execution_count": 14,
   "metadata": {
    "execution": {
     "iopub.execute_input": "2024-11-20T10:22:41.514345Z",
     "iopub.status.busy": "2024-11-20T10:22:41.513477Z",
     "iopub.status.idle": "2024-11-20T10:22:41.521232Z",
     "shell.execute_reply": "2024-11-20T10:22:41.520217Z",
     "shell.execute_reply.started": "2024-11-20T10:22:41.514310Z"
    },
    "trusted": true
   },
   "outputs": [],
   "source": [
    "from Recommenders.Neural.MultVAERecommender import MultVAERecommender\n",
    "# Define the objective function\n",
    "def objective(trial):\n",
    "    # Suggest hyperparameters\n",
    "    learning_rate = trial.suggest_float(\"learning_rate\", 1e-5, 1e-2, log=True)\n",
    "    batch_size = trial.suggest_categorical(\"batch_size\", [128, 256, 500, 1024])\n",
    "    dropout = trial.suggest_float(\"dropout\", 0.1, 0.9)\n",
    "    total_anneal_steps = trial.suggest_int(\"total_anneal_steps\", 10000, 500000)\n",
    "    anneal_cap = trial.suggest_float(\"anneal_cap\", 0.1, 0.5)\n",
    "    l2_reg = trial.suggest_float(\"l2_reg\", 1e-5, 1e-2, log=True)\n",
    "    \n",
    "    # Use tuples for p_dims to avoid warnings\n",
    "    p_dims_tuple = trial.suggest_categorical(\"p_dims\", [(200, 600), (300, 600, 800), (128, 256, 512)])\n",
    "    p_dims = list(p_dims_tuple)  # Convert the tuple back to a list\n",
    "\n",
    "    # Initialize the recommender\n",
    "    vae_recommender = MultVAERecommender(URM_train=urm_train)\n",
    "    \n",
    "    # Fit the model with the suggested hyperparameters\n",
    "    vae_recommender.fit(\n",
    "        epochs=10,\n",
    "        learning_rate=learning_rate,\n",
    "        batch_size=batch_size,\n",
    "        dropout=dropout,\n",
    "        total_anneal_steps=total_anneal_steps,\n",
    "        anneal_cap=anneal_cap,\n",
    "        p_dims=p_dims,\n",
    "        l2_reg=l2_reg,\n",
    "        validation_every_n=5,\n",
    "        stop_on_validation=True,\n",
    "        validation_metric=\"MAP\",\n",
    "        lower_validations_allowed=3\n",
    "    )\n",
    "    \n",
    "    # Use EvaluatorHoldout to calculate MAP@10\n",
    "    results_df, _ = evaluator_validation.evaluateRecommender(vae_recommender)\n",
    "    map_at_10 = results_df.loc[10][\"MAP\"]  # Extract MAP@10 from results\n",
    "    \n",
    "    return map_at_10\n"
   ]
  },
  {
   "cell_type": "code",
   "execution_count": 15,
   "metadata": {
    "execution": {
     "iopub.execute_input": "2024-11-20T10:22:45.326730Z",
     "iopub.status.busy": "2024-11-20T10:22:45.326070Z",
     "iopub.status.idle": "2024-11-20T11:58:25.842525Z",
     "shell.execute_reply": "2024-11-20T11:58:25.841594Z",
     "shell.execute_reply.started": "2024-11-20T10:22:45.326699Z"
    },
    "trusted": true
   },
   "outputs": [
    {
     "name": "stderr",
     "output_type": "stream",
     "text": [
      "[I 2024-11-20 10:22:45,328] A new study created in memory with name: no-name-4180292c-0a45-497b-9fbb-4f7388ba508e\n",
      "/opt/conda/lib/python3.10/site-packages/optuna/distributions.py:524: UserWarning: Choices for a categorical distribution should be a tuple of None, bool, int, float and str for persistent storage but contains (200, 600) which is of type tuple.\n",
      "  warnings.warn(message)\n",
      "/opt/conda/lib/python3.10/site-packages/optuna/distributions.py:524: UserWarning: Choices for a categorical distribution should be a tuple of None, bool, int, float and str for persistent storage but contains (300, 600, 800) which is of type tuple.\n",
      "  warnings.warn(message)\n",
      "/opt/conda/lib/python3.10/site-packages/optuna/distributions.py:524: UserWarning: Choices for a categorical distribution should be a tuple of None, bool, int, float and str for persistent storage but contains (128, 256, 512) which is of type tuple.\n",
      "  warnings.warn(message)\n"
     ]
    },
    {
     "name": "stdout",
     "output_type": "stream",
     "text": [
      "MultVAERecommender: Using default Temp folder './result_experiments/__Temp_MultVAERecommender_30/'\n",
      "MultVAERecommender: Saving model in file './result_experiments/__Temp_MultVAERecommender_30/_best_model'\n",
      "MultVAERecommender: Saving complete\n",
      "MultVAERecommender: Epoch 1 of 10. Elapsed time 10.72 sec\n",
      "MultVAERecommender: Epoch 2 of 10. Elapsed time 20.00 sec\n",
      "MultVAERecommender: Epoch 3 of 10. Elapsed time 29.36 sec\n",
      "MultVAERecommender: Epoch 4 of 10. Elapsed time 38.79 sec\n",
      "MultVAERecommender: Epoch 5 of 10. Elapsed time 48.19 sec\n",
      "MultVAERecommender: Epoch 6 of 10. Elapsed time 57.54 sec\n",
      "MultVAERecommender: Epoch 7 of 10. Elapsed time 1.11 min\n",
      "MultVAERecommender: Epoch 8 of 10. Elapsed time 1.27 min\n",
      "MultVAERecommender: Epoch 9 of 10. Elapsed time 1.43 min\n",
      "MultVAERecommender: Epoch 10 of 10. Elapsed time 1.58 min\n",
      "MultVAERecommender: Saving model in file './result_experiments/__Temp_MultVAERecommender_30/_best_model'\n",
      "MultVAERecommender: Saving complete\n",
      "MultVAERecommender: Terminating at epoch 10. Elapsed time 1.61 min\n",
      "MultVAERecommender: Loading model from file './result_experiments/__Temp_MultVAERecommender_30/_best_model'\n",
      "MultVAERecommender: Loading complete\n",
      "MultVAERecommender: Cleaning temporary files from './result_experiments/__Temp_MultVAERecommender_30/'\n",
      "EvaluatorHoldout: Processed 33827 (100.0%) in 39.85 sec. Users per second: 849\n"
     ]
    },
    {
     "name": "stderr",
     "output_type": "stream",
     "text": [
      "[I 2024-11-20 10:25:10,597] Trial 0 finished with value: 0.0053837523420992295 and parameters: {'learning_rate': 0.0006351513277457071, 'batch_size': 128, 'dropout': 0.7368000927719138, 'total_anneal_steps': 349611, 'anneal_cap': 0.47994633137437326, 'l2_reg': 0.0033438675855060208, 'p_dims': (300, 600, 800)}. Best is trial 0 with value: 0.0053837523420992295.\n"
     ]
    },
    {
     "name": "stdout",
     "output_type": "stream",
     "text": [
      "MultVAERecommender: Using default Temp folder './result_experiments/__Temp_MultVAERecommender_30/'\n"
     ]
    },
    {
     "name": "stderr",
     "output_type": "stream",
     "text": [
      "/opt/conda/lib/python3.10/site-packages/optuna/distributions.py:524: UserWarning: Choices for a categorical distribution should be a tuple of None, bool, int, float and str for persistent storage but contains (200, 600) which is of type tuple.\n",
      "  warnings.warn(message)\n",
      "/opt/conda/lib/python3.10/site-packages/optuna/distributions.py:524: UserWarning: Choices for a categorical distribution should be a tuple of None, bool, int, float and str for persistent storage but contains (300, 600, 800) which is of type tuple.\n",
      "  warnings.warn(message)\n",
      "/opt/conda/lib/python3.10/site-packages/optuna/distributions.py:524: UserWarning: Choices for a categorical distribution should be a tuple of None, bool, int, float and str for persistent storage but contains (128, 256, 512) which is of type tuple.\n",
      "  warnings.warn(message)\n"
     ]
    },
    {
     "name": "stdout",
     "output_type": "stream",
     "text": [
      "MultVAERecommender: Saving model in file './result_experiments/__Temp_MultVAERecommender_30/_best_model'\n",
      "MultVAERecommender: Saving complete\n",
      "MultVAERecommender: Epoch 1 of 10. Elapsed time 16.65 sec\n",
      "MultVAERecommender: Epoch 2 of 10. Elapsed time 31.59 sec\n",
      "MultVAERecommender: Epoch 3 of 10. Elapsed time 46.73 sec\n",
      "MultVAERecommender: Epoch 4 of 10. Elapsed time 1.03 min\n",
      "MultVAERecommender: Epoch 5 of 10. Elapsed time 1.28 min\n",
      "MultVAERecommender: Epoch 6 of 10. Elapsed time 1.53 min\n",
      "MultVAERecommender: Epoch 7 of 10. Elapsed time 1.78 min\n",
      "MultVAERecommender: Epoch 8 of 10. Elapsed time 2.04 min\n",
      "MultVAERecommender: Epoch 9 of 10. Elapsed time 2.29 min\n",
      "MultVAERecommender: Epoch 10 of 10. Elapsed time 2.55 min\n",
      "MultVAERecommender: Saving model in file './result_experiments/__Temp_MultVAERecommender_30/_best_model'\n",
      "MultVAERecommender: Saving complete\n",
      "MultVAERecommender: Terminating at epoch 10. Elapsed time 2.57 min\n",
      "MultVAERecommender: Loading model from file './result_experiments/__Temp_MultVAERecommender_30/_best_model'\n",
      "MultVAERecommender: Loading complete\n",
      "MultVAERecommender: Cleaning temporary files from './result_experiments/__Temp_MultVAERecommender_30/'\n",
      "EvaluatorHoldout: Processed 33827 (100.0%) in 39.11 sec. Users per second: 865\n"
     ]
    },
    {
     "name": "stderr",
     "output_type": "stream",
     "text": [
      "[I 2024-11-20 10:28:30,526] Trial 1 finished with value: 0.007702830602585286 and parameters: {'learning_rate': 0.005097485276313987, 'batch_size': 256, 'dropout': 0.37923938150972736, 'total_anneal_steps': 71648, 'anneal_cap': 0.32059388131472755, 'l2_reg': 0.0015858641984505704, 'p_dims': (200, 600)}. Best is trial 1 with value: 0.007702830602585286.\n"
     ]
    },
    {
     "name": "stdout",
     "output_type": "stream",
     "text": [
      "MultVAERecommender: Using default Temp folder './result_experiments/__Temp_MultVAERecommender_30/'\n"
     ]
    },
    {
     "name": "stderr",
     "output_type": "stream",
     "text": [
      "/opt/conda/lib/python3.10/site-packages/optuna/distributions.py:524: UserWarning: Choices for a categorical distribution should be a tuple of None, bool, int, float and str for persistent storage but contains (200, 600) which is of type tuple.\n",
      "  warnings.warn(message)\n",
      "/opt/conda/lib/python3.10/site-packages/optuna/distributions.py:524: UserWarning: Choices for a categorical distribution should be a tuple of None, bool, int, float and str for persistent storage but contains (300, 600, 800) which is of type tuple.\n",
      "  warnings.warn(message)\n",
      "/opt/conda/lib/python3.10/site-packages/optuna/distributions.py:524: UserWarning: Choices for a categorical distribution should be a tuple of None, bool, int, float and str for persistent storage but contains (128, 256, 512) which is of type tuple.\n",
      "  warnings.warn(message)\n"
     ]
    },
    {
     "name": "stdout",
     "output_type": "stream",
     "text": [
      "MultVAERecommender: Saving model in file './result_experiments/__Temp_MultVAERecommender_30/_best_model'\n",
      "MultVAERecommender: Saving complete\n",
      "MultVAERecommender: Epoch 1 of 10. Elapsed time 16.45 sec\n",
      "MultVAERecommender: Epoch 2 of 10. Elapsed time 31.46 sec\n",
      "MultVAERecommender: Epoch 3 of 10. Elapsed time 46.52 sec\n",
      "MultVAERecommender: Epoch 4 of 10. Elapsed time 1.03 min\n",
      "MultVAERecommender: Epoch 5 of 10. Elapsed time 1.28 min\n",
      "MultVAERecommender: Epoch 6 of 10. Elapsed time 1.53 min\n",
      "MultVAERecommender: Epoch 7 of 10. Elapsed time 1.78 min\n",
      "MultVAERecommender: Epoch 8 of 10. Elapsed time 2.03 min\n",
      "MultVAERecommender: Epoch 9 of 10. Elapsed time 2.29 min\n",
      "MultVAERecommender: Epoch 10 of 10. Elapsed time 2.54 min\n",
      "MultVAERecommender: Saving model in file './result_experiments/__Temp_MultVAERecommender_30/_best_model'\n",
      "MultVAERecommender: Saving complete\n",
      "MultVAERecommender: Terminating at epoch 10. Elapsed time 2.56 min\n",
      "MultVAERecommender: Loading model from file './result_experiments/__Temp_MultVAERecommender_30/_best_model'\n",
      "MultVAERecommender: Loading complete\n",
      "MultVAERecommender: Cleaning temporary files from './result_experiments/__Temp_MultVAERecommender_30/'\n",
      "EvaluatorHoldout: Processed 33827 (100.0%) in 39.17 sec. Users per second: 863\n"
     ]
    },
    {
     "name": "stderr",
     "output_type": "stream",
     "text": [
      "[I 2024-11-20 10:31:49,449] Trial 2 finished with value: 0.006593371219853078 and parameters: {'learning_rate': 0.001090540539449836, 'batch_size': 256, 'dropout': 0.8497085036074482, 'total_anneal_steps': 145755, 'anneal_cap': 0.14732208695138677, 'l2_reg': 0.0011577950765100133, 'p_dims': (128, 256, 512)}. Best is trial 1 with value: 0.007702830602585286.\n"
     ]
    },
    {
     "name": "stdout",
     "output_type": "stream",
     "text": [
      "MultVAERecommender: Using default Temp folder './result_experiments/__Temp_MultVAERecommender_30/'\n"
     ]
    },
    {
     "name": "stderr",
     "output_type": "stream",
     "text": [
      "/opt/conda/lib/python3.10/site-packages/optuna/distributions.py:524: UserWarning: Choices for a categorical distribution should be a tuple of None, bool, int, float and str for persistent storage but contains (200, 600) which is of type tuple.\n",
      "  warnings.warn(message)\n",
      "/opt/conda/lib/python3.10/site-packages/optuna/distributions.py:524: UserWarning: Choices for a categorical distribution should be a tuple of None, bool, int, float and str for persistent storage but contains (300, 600, 800) which is of type tuple.\n",
      "  warnings.warn(message)\n",
      "/opt/conda/lib/python3.10/site-packages/optuna/distributions.py:524: UserWarning: Choices for a categorical distribution should be a tuple of None, bool, int, float and str for persistent storage but contains (128, 256, 512) which is of type tuple.\n",
      "  warnings.warn(message)\n"
     ]
    },
    {
     "name": "stdout",
     "output_type": "stream",
     "text": [
      "MultVAERecommender: Saving model in file './result_experiments/__Temp_MultVAERecommender_30/_best_model'\n",
      "MultVAERecommender: Saving complete\n",
      "MultVAERecommender: Epoch 1 of 10. Elapsed time 10.59 sec\n",
      "MultVAERecommender: Epoch 2 of 10. Elapsed time 19.65 sec\n",
      "MultVAERecommender: Epoch 3 of 10. Elapsed time 28.62 sec\n",
      "MultVAERecommender: Epoch 4 of 10. Elapsed time 37.64 sec\n",
      "MultVAERecommender: Epoch 5 of 10. Elapsed time 46.65 sec\n",
      "MultVAERecommender: Epoch 6 of 10. Elapsed time 55.65 sec\n",
      "MultVAERecommender: Epoch 7 of 10. Elapsed time 1.08 min\n",
      "MultVAERecommender: Epoch 8 of 10. Elapsed time 1.23 min\n",
      "MultVAERecommender: Epoch 9 of 10. Elapsed time 1.38 min\n",
      "MultVAERecommender: Epoch 10 of 10. Elapsed time 1.53 min\n",
      "MultVAERecommender: Saving model in file './result_experiments/__Temp_MultVAERecommender_30/_best_model'\n",
      "MultVAERecommender: Saving complete\n",
      "MultVAERecommender: Terminating at epoch 10. Elapsed time 1.56 min\n",
      "MultVAERecommender: Loading model from file './result_experiments/__Temp_MultVAERecommender_30/_best_model'\n",
      "MultVAERecommender: Loading complete\n",
      "MultVAERecommender: Cleaning temporary files from './result_experiments/__Temp_MultVAERecommender_30/'\n",
      "EvaluatorHoldout: Processed 33827 (100.0%) in 40.21 sec. Users per second: 841\n"
     ]
    },
    {
     "name": "stderr",
     "output_type": "stream",
     "text": [
      "[I 2024-11-20 10:34:11,847] Trial 3 finished with value: 0.0036905571345515567 and parameters: {'learning_rate': 9.468603121303454e-05, 'batch_size': 128, 'dropout': 0.4462164153102005, 'total_anneal_steps': 206995, 'anneal_cap': 0.183009811972063, 'l2_reg': 0.0024002865180403573, 'p_dims': (300, 600, 800)}. Best is trial 1 with value: 0.007702830602585286.\n"
     ]
    },
    {
     "name": "stdout",
     "output_type": "stream",
     "text": [
      "MultVAERecommender: Using default Temp folder './result_experiments/__Temp_MultVAERecommender_30/'\n"
     ]
    },
    {
     "name": "stderr",
     "output_type": "stream",
     "text": [
      "/opt/conda/lib/python3.10/site-packages/optuna/distributions.py:524: UserWarning: Choices for a categorical distribution should be a tuple of None, bool, int, float and str for persistent storage but contains (200, 600) which is of type tuple.\n",
      "  warnings.warn(message)\n",
      "/opt/conda/lib/python3.10/site-packages/optuna/distributions.py:524: UserWarning: Choices for a categorical distribution should be a tuple of None, bool, int, float and str for persistent storage but contains (300, 600, 800) which is of type tuple.\n",
      "  warnings.warn(message)\n",
      "/opt/conda/lib/python3.10/site-packages/optuna/distributions.py:524: UserWarning: Choices for a categorical distribution should be a tuple of None, bool, int, float and str for persistent storage but contains (128, 256, 512) which is of type tuple.\n",
      "  warnings.warn(message)\n"
     ]
    },
    {
     "name": "stdout",
     "output_type": "stream",
     "text": [
      "MultVAERecommender: Saving model in file './result_experiments/__Temp_MultVAERecommender_30/_best_model'\n",
      "MultVAERecommender: Saving complete\n",
      "MultVAERecommender: Epoch 1 of 10. Elapsed time 9.46 sec\n",
      "MultVAERecommender: Epoch 2 of 10. Elapsed time 17.56 sec\n",
      "MultVAERecommender: Epoch 3 of 10. Elapsed time 25.55 sec\n",
      "MultVAERecommender: Epoch 4 of 10. Elapsed time 33.52 sec\n",
      "MultVAERecommender: Epoch 5 of 10. Elapsed time 41.50 sec\n",
      "MultVAERecommender: Epoch 6 of 10. Elapsed time 49.49 sec\n",
      "MultVAERecommender: Epoch 7 of 10. Elapsed time 57.51 sec\n",
      "MultVAERecommender: Epoch 8 of 10. Elapsed time 1.09 min\n",
      "MultVAERecommender: Epoch 9 of 10. Elapsed time 1.23 min\n",
      "MultVAERecommender: Epoch 10 of 10. Elapsed time 1.36 min\n",
      "MultVAERecommender: Saving model in file './result_experiments/__Temp_MultVAERecommender_30/_best_model'\n",
      "MultVAERecommender: Saving complete\n",
      "MultVAERecommender: Terminating at epoch 10. Elapsed time 1.38 min\n",
      "MultVAERecommender: Loading model from file './result_experiments/__Temp_MultVAERecommender_30/_best_model'\n",
      "MultVAERecommender: Loading complete\n",
      "MultVAERecommender: Cleaning temporary files from './result_experiments/__Temp_MultVAERecommender_30/'\n",
      "EvaluatorHoldout: Processed 33827 (100.0%) in 38.85 sec. Users per second: 871\n"
     ]
    },
    {
     "name": "stderr",
     "output_type": "stream",
     "text": [
      "[I 2024-11-20 10:36:19,715] Trial 4 finished with value: 0.004112149072240103 and parameters: {'learning_rate': 0.0001094035367894982, 'batch_size': 128, 'dropout': 0.7593226619812885, 'total_anneal_steps': 488936, 'anneal_cap': 0.42609677108780264, 'l2_reg': 0.0009102318790817034, 'p_dims': (128, 256, 512)}. Best is trial 1 with value: 0.007702830602585286.\n"
     ]
    },
    {
     "name": "stdout",
     "output_type": "stream",
     "text": [
      "MultVAERecommender: Using default Temp folder './result_experiments/__Temp_MultVAERecommender_30/'\n"
     ]
    },
    {
     "name": "stderr",
     "output_type": "stream",
     "text": [
      "/opt/conda/lib/python3.10/site-packages/optuna/distributions.py:524: UserWarning: Choices for a categorical distribution should be a tuple of None, bool, int, float and str for persistent storage but contains (200, 600) which is of type tuple.\n",
      "  warnings.warn(message)\n",
      "/opt/conda/lib/python3.10/site-packages/optuna/distributions.py:524: UserWarning: Choices for a categorical distribution should be a tuple of None, bool, int, float and str for persistent storage but contains (300, 600, 800) which is of type tuple.\n",
      "  warnings.warn(message)\n",
      "/opt/conda/lib/python3.10/site-packages/optuna/distributions.py:524: UserWarning: Choices for a categorical distribution should be a tuple of None, bool, int, float and str for persistent storage but contains (128, 256, 512) which is of type tuple.\n",
      "  warnings.warn(message)\n"
     ]
    },
    {
     "name": "stdout",
     "output_type": "stream",
     "text": [
      "MultVAERecommender: Saving model in file './result_experiments/__Temp_MultVAERecommender_30/_best_model'\n",
      "MultVAERecommender: Saving complete\n",
      "MultVAERecommender: Epoch 1 of 10. Elapsed time 15.38 sec\n",
      "MultVAERecommender: Epoch 2 of 10. Elapsed time 29.29 sec\n",
      "MultVAERecommender: Epoch 3 of 10. Elapsed time 43.17 sec\n",
      "MultVAERecommender: Epoch 4 of 10. Elapsed time 57.05 sec\n",
      "MultVAERecommender: Epoch 5 of 10. Elapsed time 1.18 min\n",
      "MultVAERecommender: Epoch 6 of 10. Elapsed time 1.41 min\n",
      "MultVAERecommender: Epoch 7 of 10. Elapsed time 1.64 min\n",
      "MultVAERecommender: Epoch 8 of 10. Elapsed time 1.88 min\n",
      "MultVAERecommender: Epoch 9 of 10. Elapsed time 2.11 min\n",
      "MultVAERecommender: Epoch 10 of 10. Elapsed time 2.34 min\n",
      "MultVAERecommender: Saving model in file './result_experiments/__Temp_MultVAERecommender_30/_best_model'\n",
      "MultVAERecommender: Saving complete\n",
      "MultVAERecommender: Terminating at epoch 10. Elapsed time 2.36 min\n",
      "MultVAERecommender: Loading model from file './result_experiments/__Temp_MultVAERecommender_30/_best_model'\n",
      "MultVAERecommender: Loading complete\n",
      "MultVAERecommender: Cleaning temporary files from './result_experiments/__Temp_MultVAERecommender_30/'\n",
      "EvaluatorHoldout: Processed 33827 (100.0%) in 40.92 sec. Users per second: 827\n"
     ]
    },
    {
     "name": "stderr",
     "output_type": "stream",
     "text": [
      "[I 2024-11-20 10:39:28,983] Trial 5 finished with value: 0.0007401983763322373 and parameters: {'learning_rate': 1.445432069927755e-05, 'batch_size': 1024, 'dropout': 0.45216448087078087, 'total_anneal_steps': 241947, 'anneal_cap': 0.1486882971960807, 'l2_reg': 1.3103011749771254e-05, 'p_dims': (200, 600)}. Best is trial 1 with value: 0.007702830602585286.\n"
     ]
    },
    {
     "name": "stdout",
     "output_type": "stream",
     "text": [
      "MultVAERecommender: Using default Temp folder './result_experiments/__Temp_MultVAERecommender_30/'\n"
     ]
    },
    {
     "name": "stderr",
     "output_type": "stream",
     "text": [
      "/opt/conda/lib/python3.10/site-packages/optuna/distributions.py:524: UserWarning: Choices for a categorical distribution should be a tuple of None, bool, int, float and str for persistent storage but contains (200, 600) which is of type tuple.\n",
      "  warnings.warn(message)\n",
      "/opt/conda/lib/python3.10/site-packages/optuna/distributions.py:524: UserWarning: Choices for a categorical distribution should be a tuple of None, bool, int, float and str for persistent storage but contains (300, 600, 800) which is of type tuple.\n",
      "  warnings.warn(message)\n",
      "/opt/conda/lib/python3.10/site-packages/optuna/distributions.py:524: UserWarning: Choices for a categorical distribution should be a tuple of None, bool, int, float and str for persistent storage but contains (128, 256, 512) which is of type tuple.\n",
      "  warnings.warn(message)\n"
     ]
    },
    {
     "name": "stdout",
     "output_type": "stream",
     "text": [
      "MultVAERecommender: Saving model in file './result_experiments/__Temp_MultVAERecommender_30/_best_model'\n",
      "MultVAERecommender: Saving complete\n",
      "MultVAERecommender: Epoch 1 of 10. Elapsed time 16.82 sec\n",
      "MultVAERecommender: Epoch 2 of 10. Elapsed time 32.24 sec\n",
      "MultVAERecommender: Epoch 3 of 10. Elapsed time 47.72 sec\n",
      "MultVAERecommender: Epoch 4 of 10. Elapsed time 1.05 min\n",
      "MultVAERecommender: Epoch 5 of 10. Elapsed time 1.31 min\n",
      "MultVAERecommender: Epoch 6 of 10. Elapsed time 1.57 min\n",
      "MultVAERecommender: Epoch 7 of 10. Elapsed time 1.83 min\n",
      "MultVAERecommender: Epoch 8 of 10. Elapsed time 2.09 min\n",
      "MultVAERecommender: Epoch 9 of 10. Elapsed time 2.35 min\n",
      "MultVAERecommender: Epoch 10 of 10. Elapsed time 2.61 min\n",
      "MultVAERecommender: Saving model in file './result_experiments/__Temp_MultVAERecommender_30/_best_model'\n",
      "MultVAERecommender: Saving complete\n",
      "MultVAERecommender: Terminating at epoch 10. Elapsed time 2.64 min\n",
      "MultVAERecommender: Loading model from file './result_experiments/__Temp_MultVAERecommender_30/_best_model'\n",
      "MultVAERecommender: Loading complete\n",
      "MultVAERecommender: Cleaning temporary files from './result_experiments/__Temp_MultVAERecommender_30/'\n",
      "EvaluatorHoldout: Processed 33827 (100.0%) in 39.59 sec. Users per second: 854\n"
     ]
    },
    {
     "name": "stderr",
     "output_type": "stream",
     "text": [
      "[I 2024-11-20 10:42:55,560] Trial 6 finished with value: 0.007004645720686191 and parameters: {'learning_rate': 0.0008896990378680851, 'batch_size': 500, 'dropout': 0.4284946094457508, 'total_anneal_steps': 318620, 'anneal_cap': 0.42026432518523993, 'l2_reg': 1.8307760493784425e-05, 'p_dims': (300, 600, 800)}. Best is trial 1 with value: 0.007702830602585286.\n"
     ]
    },
    {
     "name": "stdout",
     "output_type": "stream",
     "text": [
      "MultVAERecommender: Using default Temp folder './result_experiments/__Temp_MultVAERecommender_30/'\n"
     ]
    },
    {
     "name": "stderr",
     "output_type": "stream",
     "text": [
      "/opt/conda/lib/python3.10/site-packages/optuna/distributions.py:524: UserWarning: Choices for a categorical distribution should be a tuple of None, bool, int, float and str for persistent storage but contains (200, 600) which is of type tuple.\n",
      "  warnings.warn(message)\n",
      "/opt/conda/lib/python3.10/site-packages/optuna/distributions.py:524: UserWarning: Choices for a categorical distribution should be a tuple of None, bool, int, float and str for persistent storage but contains (300, 600, 800) which is of type tuple.\n",
      "  warnings.warn(message)\n",
      "/opt/conda/lib/python3.10/site-packages/optuna/distributions.py:524: UserWarning: Choices for a categorical distribution should be a tuple of None, bool, int, float and str for persistent storage but contains (128, 256, 512) which is of type tuple.\n",
      "  warnings.warn(message)\n"
     ]
    },
    {
     "name": "stdout",
     "output_type": "stream",
     "text": [
      "MultVAERecommender: Saving model in file './result_experiments/__Temp_MultVAERecommender_30/_best_model'\n",
      "MultVAERecommender: Saving complete\n",
      "MultVAERecommender: Epoch 1 of 10. Elapsed time 16.85 sec\n",
      "MultVAERecommender: Epoch 2 of 10. Elapsed time 32.43 sec\n",
      "MultVAERecommender: Epoch 3 of 10. Elapsed time 47.65 sec\n",
      "MultVAERecommender: Epoch 4 of 10. Elapsed time 1.05 min\n",
      "MultVAERecommender: Epoch 5 of 10. Elapsed time 1.30 min\n",
      "MultVAERecommender: Epoch 6 of 10. Elapsed time 1.56 min\n",
      "MultVAERecommender: Epoch 7 of 10. Elapsed time 1.82 min\n",
      "MultVAERecommender: Epoch 8 of 10. Elapsed time 2.08 min\n",
      "MultVAERecommender: Epoch 9 of 10. Elapsed time 2.34 min\n",
      "MultVAERecommender: Epoch 10 of 10. Elapsed time 2.60 min\n",
      "MultVAERecommender: Saving model in file './result_experiments/__Temp_MultVAERecommender_30/_best_model'\n",
      "MultVAERecommender: Saving complete\n",
      "MultVAERecommender: Terminating at epoch 10. Elapsed time 2.63 min\n",
      "MultVAERecommender: Loading model from file './result_experiments/__Temp_MultVAERecommender_30/_best_model'\n",
      "MultVAERecommender: Loading complete\n",
      "MultVAERecommender: Cleaning temporary files from './result_experiments/__Temp_MultVAERecommender_30/'\n",
      "EvaluatorHoldout: Processed 33827 (100.0%) in 39.62 sec. Users per second: 854\n"
     ]
    },
    {
     "name": "stderr",
     "output_type": "stream",
     "text": [
      "[I 2024-11-20 10:46:21,511] Trial 7 finished with value: 0.006938724396450536 and parameters: {'learning_rate': 0.0008495155361616368, 'batch_size': 500, 'dropout': 0.2322779456262759, 'total_anneal_steps': 460781, 'anneal_cap': 0.20811172842109882, 'l2_reg': 5.24528199002719e-05, 'p_dims': (300, 600, 800)}. Best is trial 1 with value: 0.007702830602585286.\n"
     ]
    },
    {
     "name": "stdout",
     "output_type": "stream",
     "text": [
      "MultVAERecommender: Using default Temp folder './result_experiments/__Temp_MultVAERecommender_30/'\n"
     ]
    },
    {
     "name": "stderr",
     "output_type": "stream",
     "text": [
      "/opt/conda/lib/python3.10/site-packages/optuna/distributions.py:524: UserWarning: Choices for a categorical distribution should be a tuple of None, bool, int, float and str for persistent storage but contains (200, 600) which is of type tuple.\n",
      "  warnings.warn(message)\n",
      "/opt/conda/lib/python3.10/site-packages/optuna/distributions.py:524: UserWarning: Choices for a categorical distribution should be a tuple of None, bool, int, float and str for persistent storage but contains (300, 600, 800) which is of type tuple.\n",
      "  warnings.warn(message)\n",
      "/opt/conda/lib/python3.10/site-packages/optuna/distributions.py:524: UserWarning: Choices for a categorical distribution should be a tuple of None, bool, int, float and str for persistent storage but contains (128, 256, 512) which is of type tuple.\n",
      "  warnings.warn(message)\n"
     ]
    },
    {
     "name": "stdout",
     "output_type": "stream",
     "text": [
      "MultVAERecommender: Saving model in file './result_experiments/__Temp_MultVAERecommender_30/_best_model'\n",
      "MultVAERecommender: Saving complete\n",
      "MultVAERecommender: Epoch 1 of 10. Elapsed time 15.33 sec\n",
      "MultVAERecommender: Epoch 2 of 10. Elapsed time 29.19 sec\n",
      "MultVAERecommender: Epoch 3 of 10. Elapsed time 43.12 sec\n",
      "MultVAERecommender: Epoch 4 of 10. Elapsed time 57.02 sec\n",
      "MultVAERecommender: Epoch 5 of 10. Elapsed time 1.18 min\n",
      "MultVAERecommender: Epoch 6 of 10. Elapsed time 1.41 min\n",
      "MultVAERecommender: Epoch 7 of 10. Elapsed time 1.65 min\n",
      "MultVAERecommender: Epoch 8 of 10. Elapsed time 1.88 min\n",
      "MultVAERecommender: Epoch 9 of 10. Elapsed time 2.11 min\n",
      "MultVAERecommender: Epoch 10 of 10. Elapsed time 2.34 min\n",
      "MultVAERecommender: Saving model in file './result_experiments/__Temp_MultVAERecommender_30/_best_model'\n",
      "MultVAERecommender: Saving complete\n",
      "MultVAERecommender: Terminating at epoch 10. Elapsed time 2.36 min\n",
      "MultVAERecommender: Loading model from file './result_experiments/__Temp_MultVAERecommender_30/_best_model'\n",
      "MultVAERecommender: Loading complete\n",
      "MultVAERecommender: Cleaning temporary files from './result_experiments/__Temp_MultVAERecommender_30/'\n",
      "EvaluatorHoldout: Processed 33827 (100.0%) in 41.19 sec. Users per second: 821\n"
     ]
    },
    {
     "name": "stderr",
     "output_type": "stream",
     "text": [
      "[I 2024-11-20 10:49:31,175] Trial 8 finished with value: 0.0006463067681916586 and parameters: {'learning_rate': 1.948077098104976e-05, 'batch_size': 1024, 'dropout': 0.18870904799242735, 'total_anneal_steps': 111402, 'anneal_cap': 0.4802826339570545, 'l2_reg': 0.004721264275999795, 'p_dims': (200, 600)}. Best is trial 1 with value: 0.007702830602585286.\n"
     ]
    },
    {
     "name": "stdout",
     "output_type": "stream",
     "text": [
      "MultVAERecommender: Using default Temp folder './result_experiments/__Temp_MultVAERecommender_30/'\n"
     ]
    },
    {
     "name": "stderr",
     "output_type": "stream",
     "text": [
      "/opt/conda/lib/python3.10/site-packages/optuna/distributions.py:524: UserWarning: Choices for a categorical distribution should be a tuple of None, bool, int, float and str for persistent storage but contains (200, 600) which is of type tuple.\n",
      "  warnings.warn(message)\n",
      "/opt/conda/lib/python3.10/site-packages/optuna/distributions.py:524: UserWarning: Choices for a categorical distribution should be a tuple of None, bool, int, float and str for persistent storage but contains (300, 600, 800) which is of type tuple.\n",
      "  warnings.warn(message)\n",
      "/opt/conda/lib/python3.10/site-packages/optuna/distributions.py:524: UserWarning: Choices for a categorical distribution should be a tuple of None, bool, int, float and str for persistent storage but contains (128, 256, 512) which is of type tuple.\n",
      "  warnings.warn(message)\n"
     ]
    },
    {
     "name": "stdout",
     "output_type": "stream",
     "text": [
      "MultVAERecommender: Saving model in file './result_experiments/__Temp_MultVAERecommender_30/_best_model'\n",
      "MultVAERecommender: Saving complete\n",
      "MultVAERecommender: Epoch 1 of 10. Elapsed time 16.70 sec\n",
      "MultVAERecommender: Epoch 2 of 10. Elapsed time 31.94 sec\n",
      "MultVAERecommender: Epoch 3 of 10. Elapsed time 47.16 sec\n",
      "MultVAERecommender: Epoch 4 of 10. Elapsed time 1.04 min\n",
      "MultVAERecommender: Epoch 5 of 10. Elapsed time 1.29 min\n",
      "MultVAERecommender: Epoch 6 of 10. Elapsed time 1.55 min\n",
      "MultVAERecommender: Epoch 7 of 10. Elapsed time 1.80 min\n",
      "MultVAERecommender: Epoch 8 of 10. Elapsed time 2.05 min\n",
      "MultVAERecommender: Epoch 9 of 10. Elapsed time 2.30 min\n",
      "MultVAERecommender: Epoch 10 of 10. Elapsed time 2.56 min\n",
      "MultVAERecommender: Saving model in file './result_experiments/__Temp_MultVAERecommender_30/_best_model'\n",
      "MultVAERecommender: Saving complete\n",
      "MultVAERecommender: Terminating at epoch 10. Elapsed time 2.58 min\n",
      "MultVAERecommender: Loading model from file './result_experiments/__Temp_MultVAERecommender_30/_best_model'\n",
      "MultVAERecommender: Loading complete\n",
      "MultVAERecommender: Cleaning temporary files from './result_experiments/__Temp_MultVAERecommender_30/'\n",
      "EvaluatorHoldout: Processed 33827 (100.0%) in 42.38 sec. Users per second: 798\n"
     ]
    },
    {
     "name": "stderr",
     "output_type": "stream",
     "text": [
      "[I 2024-11-20 10:52:54,814] Trial 9 finished with value: 0.001247961734333571 and parameters: {'learning_rate': 1.9692926704835533e-05, 'batch_size': 256, 'dropout': 0.22604047406139074, 'total_anneal_steps': 385494, 'anneal_cap': 0.3001970773799497, 'l2_reg': 0.00023346544392541385, 'p_dims': (200, 600)}. Best is trial 1 with value: 0.007702830602585286.\n"
     ]
    },
    {
     "name": "stdout",
     "output_type": "stream",
     "text": [
      "MultVAERecommender: Using default Temp folder './result_experiments/__Temp_MultVAERecommender_30/'\n"
     ]
    },
    {
     "name": "stderr",
     "output_type": "stream",
     "text": [
      "/opt/conda/lib/python3.10/site-packages/optuna/distributions.py:524: UserWarning: Choices for a categorical distribution should be a tuple of None, bool, int, float and str for persistent storage but contains (200, 600) which is of type tuple.\n",
      "  warnings.warn(message)\n",
      "/opt/conda/lib/python3.10/site-packages/optuna/distributions.py:524: UserWarning: Choices for a categorical distribution should be a tuple of None, bool, int, float and str for persistent storage but contains (300, 600, 800) which is of type tuple.\n",
      "  warnings.warn(message)\n",
      "/opt/conda/lib/python3.10/site-packages/optuna/distributions.py:524: UserWarning: Choices for a categorical distribution should be a tuple of None, bool, int, float and str for persistent storage but contains (128, 256, 512) which is of type tuple.\n",
      "  warnings.warn(message)\n"
     ]
    },
    {
     "name": "stdout",
     "output_type": "stream",
     "text": [
      "MultVAERecommender: Saving model in file './result_experiments/__Temp_MultVAERecommender_30/_best_model'\n",
      "MultVAERecommender: Saving complete\n",
      "MultVAERecommender: Epoch 1 of 10. Elapsed time 16.82 sec\n",
      "MultVAERecommender: Epoch 2 of 10. Elapsed time 32.16 sec\n",
      "MultVAERecommender: Epoch 3 of 10. Elapsed time 47.42 sec\n",
      "MultVAERecommender: Epoch 4 of 10. Elapsed time 1.04 min\n",
      "MultVAERecommender: Epoch 5 of 10. Elapsed time 1.29 min\n",
      "MultVAERecommender: Epoch 6 of 10. Elapsed time 1.55 min\n",
      "MultVAERecommender: Epoch 7 of 10. Elapsed time 1.80 min\n",
      "MultVAERecommender: Epoch 8 of 10. Elapsed time 2.05 min\n",
      "MultVAERecommender: Epoch 9 of 10. Elapsed time 2.30 min\n",
      "MultVAERecommender: Epoch 10 of 10. Elapsed time 2.55 min\n",
      "MultVAERecommender: Saving model in file './result_experiments/__Temp_MultVAERecommender_30/_best_model'\n",
      "MultVAERecommender: Saving complete\n",
      "MultVAERecommender: Terminating at epoch 10. Elapsed time 2.57 min\n",
      "MultVAERecommender: Loading model from file './result_experiments/__Temp_MultVAERecommender_30/_best_model'\n",
      "MultVAERecommender: Loading complete\n",
      "MultVAERecommender: Cleaning temporary files from './result_experiments/__Temp_MultVAERecommender_30/'\n",
      "EvaluatorHoldout: Processed 33827 (100.0%) in 41.54 sec. Users per second: 814\n"
     ]
    },
    {
     "name": "stderr",
     "output_type": "stream",
     "text": [
      "[I 2024-11-20 10:56:17,464] Trial 10 finished with value: 8.714978783267429e-05 and parameters: {'learning_rate': 0.009634400284542268, 'batch_size': 256, 'dropout': 0.6374803429372453, 'total_anneal_steps': 10232, 'anneal_cap': 0.30666971976522733, 'l2_reg': 0.0097087518513698, 'p_dims': (200, 600)}. Best is trial 1 with value: 0.007702830602585286.\n"
     ]
    },
    {
     "name": "stdout",
     "output_type": "stream",
     "text": [
      "MultVAERecommender: Using default Temp folder './result_experiments/__Temp_MultVAERecommender_30/'\n"
     ]
    },
    {
     "name": "stderr",
     "output_type": "stream",
     "text": [
      "/opt/conda/lib/python3.10/site-packages/optuna/distributions.py:524: UserWarning: Choices for a categorical distribution should be a tuple of None, bool, int, float and str for persistent storage but contains (200, 600) which is of type tuple.\n",
      "  warnings.warn(message)\n",
      "/opt/conda/lib/python3.10/site-packages/optuna/distributions.py:524: UserWarning: Choices for a categorical distribution should be a tuple of None, bool, int, float and str for persistent storage but contains (300, 600, 800) which is of type tuple.\n",
      "  warnings.warn(message)\n",
      "/opt/conda/lib/python3.10/site-packages/optuna/distributions.py:524: UserWarning: Choices for a categorical distribution should be a tuple of None, bool, int, float and str for persistent storage but contains (128, 256, 512) which is of type tuple.\n",
      "  warnings.warn(message)\n"
     ]
    },
    {
     "name": "stdout",
     "output_type": "stream",
     "text": [
      "MultVAERecommender: Saving model in file './result_experiments/__Temp_MultVAERecommender_30/_best_model'\n",
      "MultVAERecommender: Saving complete\n",
      "MultVAERecommender: Epoch 1 of 10. Elapsed time 17.02 sec\n",
      "MultVAERecommender: Epoch 2 of 10. Elapsed time 32.59 sec\n",
      "MultVAERecommender: Epoch 3 of 10. Elapsed time 48.14 sec\n",
      "MultVAERecommender: Epoch 4 of 10. Elapsed time 1.06 min\n",
      "MultVAERecommender: Epoch 5 of 10. Elapsed time 1.32 min\n",
      "MultVAERecommender: Epoch 6 of 10. Elapsed time 1.57 min\n",
      "MultVAERecommender: Epoch 7 of 10. Elapsed time 1.83 min\n",
      "MultVAERecommender: Epoch 8 of 10. Elapsed time 2.09 min\n",
      "MultVAERecommender: Epoch 9 of 10. Elapsed time 2.35 min\n",
      "MultVAERecommender: Epoch 10 of 10. Elapsed time 2.61 min\n",
      "MultVAERecommender: Saving model in file './result_experiments/__Temp_MultVAERecommender_30/_best_model'\n",
      "MultVAERecommender: Saving complete\n",
      "MultVAERecommender: Terminating at epoch 10. Elapsed time 2.64 min\n",
      "MultVAERecommender: Loading model from file './result_experiments/__Temp_MultVAERecommender_30/_best_model'\n",
      "MultVAERecommender: Loading complete\n",
      "MultVAERecommender: Cleaning temporary files from './result_experiments/__Temp_MultVAERecommender_30/'\n",
      "EvaluatorHoldout: Processed 33827 (100.0%) in 39.90 sec. Users per second: 848\n"
     ]
    },
    {
     "name": "stderr",
     "output_type": "stream",
     "text": [
      "[I 2024-11-20 10:59:44,215] Trial 11 finished with value: 0.004160355374991613 and parameters: {'learning_rate': 0.004946019846615245, 'batch_size': 500, 'dropout': 0.3833119076302104, 'total_anneal_steps': 321326, 'anneal_cap': 0.381280650454773, 'l2_reg': 0.00015873313509337235, 'p_dims': (300, 600, 800)}. Best is trial 1 with value: 0.007702830602585286.\n"
     ]
    },
    {
     "name": "stdout",
     "output_type": "stream",
     "text": [
      "MultVAERecommender: Using default Temp folder './result_experiments/__Temp_MultVAERecommender_30/'\n"
     ]
    },
    {
     "name": "stderr",
     "output_type": "stream",
     "text": [
      "/opt/conda/lib/python3.10/site-packages/optuna/distributions.py:524: UserWarning: Choices for a categorical distribution should be a tuple of None, bool, int, float and str for persistent storage but contains (200, 600) which is of type tuple.\n",
      "  warnings.warn(message)\n",
      "/opt/conda/lib/python3.10/site-packages/optuna/distributions.py:524: UserWarning: Choices for a categorical distribution should be a tuple of None, bool, int, float and str for persistent storage but contains (300, 600, 800) which is of type tuple.\n",
      "  warnings.warn(message)\n",
      "/opt/conda/lib/python3.10/site-packages/optuna/distributions.py:524: UserWarning: Choices for a categorical distribution should be a tuple of None, bool, int, float and str for persistent storage but contains (128, 256, 512) which is of type tuple.\n",
      "  warnings.warn(message)\n"
     ]
    },
    {
     "name": "stdout",
     "output_type": "stream",
     "text": [
      "MultVAERecommender: Saving model in file './result_experiments/__Temp_MultVAERecommender_30/_best_model'\n",
      "MultVAERecommender: Saving complete\n",
      "MultVAERecommender: Epoch 1 of 10. Elapsed time 16.25 sec\n",
      "MultVAERecommender: Epoch 2 of 10. Elapsed time 31.05 sec\n",
      "MultVAERecommender: Epoch 3 of 10. Elapsed time 45.74 sec\n",
      "MultVAERecommender: Epoch 4 of 10. Elapsed time 1.01 min\n",
      "MultVAERecommender: Epoch 5 of 10. Elapsed time 1.26 min\n",
      "MultVAERecommender: Epoch 6 of 10. Elapsed time 1.50 min\n",
      "MultVAERecommender: Epoch 7 of 10. Elapsed time 1.74 min\n",
      "MultVAERecommender: Epoch 8 of 10. Elapsed time 1.99 min\n",
      "MultVAERecommender: Epoch 9 of 10. Elapsed time 2.24 min\n",
      "MultVAERecommender: Epoch 10 of 10. Elapsed time 2.48 min\n",
      "MultVAERecommender: Saving model in file './result_experiments/__Temp_MultVAERecommender_30/_best_model'\n",
      "MultVAERecommender: Saving complete\n",
      "MultVAERecommender: Terminating at epoch 10. Elapsed time 2.50 min\n",
      "MultVAERecommender: Loading model from file './result_experiments/__Temp_MultVAERecommender_30/_best_model'\n",
      "MultVAERecommender: Loading complete\n",
      "MultVAERecommender: Cleaning temporary files from './result_experiments/__Temp_MultVAERecommender_30/'\n",
      "EvaluatorHoldout: Processed 33827 (100.0%) in 40.49 sec. Users per second: 835\n"
     ]
    },
    {
     "name": "stderr",
     "output_type": "stream",
     "text": [
      "[I 2024-11-20 11:03:01,370] Trial 12 finished with value: 0.008776654649404362 and parameters: {'learning_rate': 0.0027760607854853225, 'batch_size': 500, 'dropout': 0.34184139762121735, 'total_anneal_steps': 41742, 'anneal_cap': 0.369718398638441, 'l2_reg': 1.4585520126671564e-05, 'p_dims': (200, 600)}. Best is trial 12 with value: 0.008776654649404362.\n"
     ]
    },
    {
     "name": "stdout",
     "output_type": "stream",
     "text": [
      "MultVAERecommender: Using default Temp folder './result_experiments/__Temp_MultVAERecommender_30/'\n"
     ]
    },
    {
     "name": "stderr",
     "output_type": "stream",
     "text": [
      "/opt/conda/lib/python3.10/site-packages/optuna/distributions.py:524: UserWarning: Choices for a categorical distribution should be a tuple of None, bool, int, float and str for persistent storage but contains (200, 600) which is of type tuple.\n",
      "  warnings.warn(message)\n",
      "/opt/conda/lib/python3.10/site-packages/optuna/distributions.py:524: UserWarning: Choices for a categorical distribution should be a tuple of None, bool, int, float and str for persistent storage but contains (300, 600, 800) which is of type tuple.\n",
      "  warnings.warn(message)\n",
      "/opt/conda/lib/python3.10/site-packages/optuna/distributions.py:524: UserWarning: Choices for a categorical distribution should be a tuple of None, bool, int, float and str for persistent storage but contains (128, 256, 512) which is of type tuple.\n",
      "  warnings.warn(message)\n"
     ]
    },
    {
     "name": "stdout",
     "output_type": "stream",
     "text": [
      "MultVAERecommender: Saving model in file './result_experiments/__Temp_MultVAERecommender_30/_best_model'\n",
      "MultVAERecommender: Saving complete\n",
      "MultVAERecommender: Epoch 1 of 10. Elapsed time 16.61 sec\n",
      "MultVAERecommender: Epoch 2 of 10. Elapsed time 31.72 sec\n",
      "MultVAERecommender: Epoch 3 of 10. Elapsed time 46.00 sec\n",
      "MultVAERecommender: Epoch 4 of 10. Elapsed time 1.02 min\n",
      "MultVAERecommender: Epoch 5 of 10. Elapsed time 1.28 min\n",
      "MultVAERecommender: Epoch 6 of 10. Elapsed time 1.53 min\n",
      "MultVAERecommender: Epoch 7 of 10. Elapsed time 1.78 min\n",
      "MultVAERecommender: Epoch 8 of 10. Elapsed time 2.04 min\n",
      "MultVAERecommender: Epoch 9 of 10. Elapsed time 2.29 min\n",
      "MultVAERecommender: Epoch 10 of 10. Elapsed time 2.53 min\n",
      "MultVAERecommender: Saving model in file './result_experiments/__Temp_MultVAERecommender_30/_best_model'\n",
      "MultVAERecommender: Saving complete\n",
      "MultVAERecommender: Terminating at epoch 10. Elapsed time 2.56 min\n",
      "MultVAERecommender: Loading model from file './result_experiments/__Temp_MultVAERecommender_30/_best_model'\n",
      "MultVAERecommender: Loading complete\n",
      "MultVAERecommender: Cleaning temporary files from './result_experiments/__Temp_MultVAERecommender_30/'\n",
      "MultVAERecommender: Epoch 6 of 10. Elapsed time 1.50 min\n",
      "MultVAERecommender: Epoch 7 of 10. Elapsed time 1.75 min\n",
      "MultVAERecommender: Epoch 8 of 10. Elapsed time 1.99 min\n",
      "MultVAERecommender: Epoch 9 of 10. Elapsed time 2.24 min\n",
      "MultVAERecommender: Epoch 10 of 10. Elapsed time 2.48 min\n",
      "MultVAERecommender: Saving model in file './result_experiments/__Temp_MultVAERecommender_30/_best_model'\n",
      "MultVAERecommender: Saving complete\n",
      "MultVAERecommender: Terminating at epoch 10. Elapsed time 2.51 min\n",
      "MultVAERecommender: Loading model from file './result_experiments/__Temp_MultVAERecommender_30/_best_model'\n",
      "MultVAERecommender: Loading complete\n",
      "MultVAERecommender: Cleaning temporary files from './result_experiments/__Temp_MultVAERecommender_30/'\n",
      "EvaluatorHoldout: Processed 33827 (100.0%) in 40.15 sec. Users per second: 843\n"
     ]
    },
    {
     "name": "stderr",
     "output_type": "stream",
     "text": [
      "[I 2024-11-20 11:09:38,851] Trial 14 finished with value: 0.010042611776729682 and parameters: {'learning_rate': 0.0026568295864025713, 'batch_size': 500, 'dropout': 0.3013312941387168, 'total_anneal_steps': 10826, 'anneal_cap': 0.36824533312466806, 'l2_reg': 5.0907337294017876e-05, 'p_dims': (200, 600)}. Best is trial 14 with value: 0.010042611776729682.\n"
     ]
    },
    {
     "name": "stdout",
     "output_type": "stream",
     "text": [
      "MultVAERecommender: Using default Temp folder './result_experiments/__Temp_MultVAERecommender_30/'\n"
     ]
    },
    {
     "name": "stderr",
     "output_type": "stream",
     "text": [
      "/opt/conda/lib/python3.10/site-packages/optuna/distributions.py:524: UserWarning: Choices for a categorical distribution should be a tuple of None, bool, int, float and str for persistent storage but contains (200, 600) which is of type tuple.\n",
      "  warnings.warn(message)\n",
      "/opt/conda/lib/python3.10/site-packages/optuna/distributions.py:524: UserWarning: Choices for a categorical distribution should be a tuple of None, bool, int, float and str for persistent storage but contains (300, 600, 800) which is of type tuple.\n",
      "  warnings.warn(message)\n",
      "/opt/conda/lib/python3.10/site-packages/optuna/distributions.py:524: UserWarning: Choices for a categorical distribution should be a tuple of None, bool, int, float and str for persistent storage but contains (128, 256, 512) which is of type tuple.\n",
      "  warnings.warn(message)\n"
     ]
    },
    {
     "name": "stdout",
     "output_type": "stream",
     "text": [
      "MultVAERecommender: Saving model in file './result_experiments/__Temp_MultVAERecommender_30/_best_model'\n",
      "MultVAERecommender: Saving complete\n",
      "MultVAERecommender: Epoch 1 of 10. Elapsed time 16.66 sec\n",
      "MultVAERecommender: Epoch 2 of 10. Elapsed time 31.84 sec\n",
      "MultVAERecommender: Epoch 3 of 10. Elapsed time 47.28 sec\n",
      "MultVAERecommender: Epoch 4 of 10. Elapsed time 1.04 min\n",
      "MultVAERecommender: Epoch 5 of 10. Elapsed time 1.29 min\n",
      "MultVAERecommender: Epoch 6 of 10. Elapsed time 1.55 min\n",
      "MultVAERecommender: Epoch 7 of 10. Elapsed time 1.81 min\n",
      "MultVAERecommender: Epoch 8 of 10. Elapsed time 2.07 min\n",
      "MultVAERecommender: Epoch 9 of 10. Elapsed time 2.32 min\n",
      "MultVAERecommender: Epoch 10 of 10. Elapsed time 2.58 min\n",
      "MultVAERecommender: Saving model in file './result_experiments/__Temp_MultVAERecommender_30/_best_model'\n",
      "MultVAERecommender: Saving complete\n",
      "MultVAERecommender: Terminating at epoch 10. Elapsed time 2.60 min\n",
      "MultVAERecommender: Loading model from file './result_experiments/__Temp_MultVAERecommender_30/_best_model'\n",
      "MultVAERecommender: Loading complete\n",
      "MultVAERecommender: Cleaning temporary files from './result_experiments/__Temp_MultVAERecommender_30/'\n",
      "EvaluatorHoldout: Processed 33827 (100.0%) in 39.95 sec. Users per second: 847\n"
     ]
    },
    {
     "name": "stderr",
     "output_type": "stream",
     "text": [
      "[I 2024-11-20 11:13:01,269] Trial 15 finished with value: 0.009330064600410916 and parameters: {'learning_rate': 0.0020520913883862063, 'batch_size': 256, 'dropout': 0.1051852412817017, 'total_anneal_steps': 131630, 'anneal_cap': 0.24255690944520372, 'l2_reg': 6.205178861090986e-05, 'p_dims': (200, 600)}. Best is trial 14 with value: 0.010042611776729682.\n"
     ]
    },
    {
     "name": "stdout",
     "output_type": "stream",
     "text": [
      "MultVAERecommender: Using default Temp folder './result_experiments/__Temp_MultVAERecommender_30/'\n"
     ]
    },
    {
     "name": "stderr",
     "output_type": "stream",
     "text": [
      "/opt/conda/lib/python3.10/site-packages/optuna/distributions.py:524: UserWarning: Choices for a categorical distribution should be a tuple of None, bool, int, float and str for persistent storage but contains (200, 600) which is of type tuple.\n",
      "  warnings.warn(message)\n",
      "/opt/conda/lib/python3.10/site-packages/optuna/distributions.py:524: UserWarning: Choices for a categorical distribution should be a tuple of None, bool, int, float and str for persistent storage but contains (300, 600, 800) which is of type tuple.\n",
      "  warnings.warn(message)\n",
      "/opt/conda/lib/python3.10/site-packages/optuna/distributions.py:524: UserWarning: Choices for a categorical distribution should be a tuple of None, bool, int, float and str for persistent storage but contains (128, 256, 512) which is of type tuple.\n",
      "  warnings.warn(message)\n"
     ]
    },
    {
     "name": "stdout",
     "output_type": "stream",
     "text": [
      "MultVAERecommender: Saving model in file './result_experiments/__Temp_MultVAERecommender_30/_best_model'\n",
      "MultVAERecommender: Saving complete\n",
      "MultVAERecommender: Epoch 1 of 10. Elapsed time 15.88 sec\n",
      "MultVAERecommender: Epoch 2 of 10. Elapsed time 30.32 sec\n",
      "MultVAERecommender: Epoch 3 of 10. Elapsed time 44.77 sec\n",
      "MultVAERecommender: Epoch 4 of 10. Elapsed time 59.31 sec\n",
      "MultVAERecommender: Epoch 5 of 10. Elapsed time 1.23 min\n",
      "MultVAERecommender: Epoch 6 of 10. Elapsed time 1.48 min\n",
      "MultVAERecommender: Epoch 7 of 10. Elapsed time 1.72 min\n",
      "MultVAERecommender: Epoch 8 of 10. Elapsed time 1.96 min\n",
      "MultVAERecommender: Epoch 9 of 10. Elapsed time 2.21 min\n",
      "MultVAERecommender: Epoch 10 of 10. Elapsed time 2.45 min\n",
      "MultVAERecommender: Saving model in file './result_experiments/__Temp_MultVAERecommender_30/_best_model'\n",
      "MultVAERecommender: Saving complete\n",
      "MultVAERecommender: Terminating at epoch 10. Elapsed time 2.47 min\n",
      "MultVAERecommender: Loading model from file './result_experiments/__Temp_MultVAERecommender_30/_best_model'\n",
      "MultVAERecommender: Loading complete\n",
      "MultVAERecommender: Cleaning temporary files from './result_experiments/__Temp_MultVAERecommender_30/'\n",
      "EvaluatorHoldout: Processed 33827 (100.0%) in 39.11 sec. Users per second: 865\n"
     ]
    },
    {
     "name": "stderr",
     "output_type": "stream",
     "text": [
      "[I 2024-11-20 11:16:14,495] Trial 16 finished with value: 0.004332990318150099 and parameters: {'learning_rate': 0.0002497323534347427, 'batch_size': 500, 'dropout': 0.5843530160319251, 'total_anneal_steps': 183797, 'anneal_cap': 0.3582543518611845, 'l2_reg': 7.821986132461965e-05, 'p_dims': (128, 256, 512)}. Best is trial 14 with value: 0.010042611776729682.\n"
     ]
    },
    {
     "name": "stdout",
     "output_type": "stream",
     "text": [
      "MultVAERecommender: Using default Temp folder './result_experiments/__Temp_MultVAERecommender_30/'\n"
     ]
    },
    {
     "name": "stderr",
     "output_type": "stream",
     "text": [
      "/opt/conda/lib/python3.10/site-packages/optuna/distributions.py:524: UserWarning: Choices for a categorical distribution should be a tuple of None, bool, int, float and str for persistent storage but contains (200, 600) which is of type tuple.\n",
      "  warnings.warn(message)\n",
      "/opt/conda/lib/python3.10/site-packages/optuna/distributions.py:524: UserWarning: Choices for a categorical distribution should be a tuple of None, bool, int, float and str for persistent storage but contains (300, 600, 800) which is of type tuple.\n",
      "  warnings.warn(message)\n",
      "/opt/conda/lib/python3.10/site-packages/optuna/distributions.py:524: UserWarning: Choices for a categorical distribution should be a tuple of None, bool, int, float and str for persistent storage but contains (128, 256, 512) which is of type tuple.\n",
      "  warnings.warn(message)\n"
     ]
    },
    {
     "name": "stdout",
     "output_type": "stream",
     "text": [
      "MultVAERecommender: Saving model in file './result_experiments/__Temp_MultVAERecommender_30/_best_model'\n",
      "MultVAERecommender: Saving complete\n",
      "MultVAERecommender: Epoch 1 of 10. Elapsed time 15.46 sec\n",
      "MultVAERecommender: Epoch 2 of 10. Elapsed time 29.45 sec\n",
      "MultVAERecommender: Epoch 3 of 10. Elapsed time 43.52 sec\n",
      "MultVAERecommender: Epoch 4 of 10. Elapsed time 57.46 sec\n",
      "MultVAERecommender: Epoch 5 of 10. Elapsed time 1.19 min\n",
      "MultVAERecommender: Epoch 6 of 10. Elapsed time 1.42 min\n",
      "MultVAERecommender: Epoch 7 of 10. Elapsed time 1.66 min\n",
      "MultVAERecommender: Epoch 8 of 10. Elapsed time 1.89 min\n",
      "MultVAERecommender: Epoch 9 of 10. Elapsed time 2.13 min\n",
      "MultVAERecommender: Epoch 10 of 10. Elapsed time 2.36 min\n",
      "MultVAERecommender: Saving model in file './result_experiments/__Temp_MultVAERecommender_30/_best_model'\n",
      "MultVAERecommender: Saving complete\n",
      "MultVAERecommender: Terminating at epoch 10. Elapsed time 2.38 min\n",
      "MultVAERecommender: Loading model from file './result_experiments/__Temp_MultVAERecommender_30/_best_model'\n",
      "MultVAERecommender: Loading complete\n",
      "MultVAERecommender: Cleaning temporary files from './result_experiments/__Temp_MultVAERecommender_30/'\n",
      "EvaluatorHoldout: Processed 33827 (100.0%) in 38.91 sec. Users per second: 869\n"
     ]
    },
    {
     "name": "stderr",
     "output_type": "stream",
     "text": [
      "[I 2024-11-20 11:19:22,950] Trial 17 finished with value: 0.0035109117306030752 and parameters: {'learning_rate': 0.0003453956944621272, 'batch_size': 1024, 'dropout': 0.27643635097694497, 'total_anneal_steps': 80577, 'anneal_cap': 0.2500638745268462, 'l2_reg': 0.0003775016673247366, 'p_dims': (200, 600)}. Best is trial 14 with value: 0.010042611776729682.\n"
     ]
    },
    {
     "name": "stdout",
     "output_type": "stream",
     "text": [
      "MultVAERecommender: Using default Temp folder './result_experiments/__Temp_MultVAERecommender_30/'\n"
     ]
    },
    {
     "name": "stderr",
     "output_type": "stream",
     "text": [
      "/opt/conda/lib/python3.10/site-packages/optuna/distributions.py:524: UserWarning: Choices for a categorical distribution should be a tuple of None, bool, int, float and str for persistent storage but contains (200, 600) which is of type tuple.\n",
      "  warnings.warn(message)\n",
      "/opt/conda/lib/python3.10/site-packages/optuna/distributions.py:524: UserWarning: Choices for a categorical distribution should be a tuple of None, bool, int, float and str for persistent storage but contains (300, 600, 800) which is of type tuple.\n",
      "  warnings.warn(message)\n",
      "/opt/conda/lib/python3.10/site-packages/optuna/distributions.py:524: UserWarning: Choices for a categorical distribution should be a tuple of None, bool, int, float and str for persistent storage but contains (128, 256, 512) which is of type tuple.\n",
      "  warnings.warn(message)\n"
     ]
    },
    {
     "name": "stdout",
     "output_type": "stream",
     "text": [
      "MultVAERecommender: Saving model in file './result_experiments/__Temp_MultVAERecommender_30/_best_model'\n",
      "MultVAERecommender: Saving complete\n",
      "MultVAERecommender: Epoch 1 of 10. Elapsed time 16.67 sec\n",
      "MultVAERecommender: Epoch 2 of 10. Elapsed time 31.93 sec\n",
      "MultVAERecommender: Epoch 3 of 10. Elapsed time 47.14 sec\n",
      "MultVAERecommender: Epoch 4 of 10. Elapsed time 1.04 min\n",
      "MultVAERecommender: Epoch 5 of 10. Elapsed time 1.29 min\n",
      "MultVAERecommender: Epoch 6 of 10. Elapsed time 1.54 min\n",
      "MultVAERecommender: Epoch 7 of 10. Elapsed time 1.80 min\n",
      "MultVAERecommender: Epoch 8 of 10. Elapsed time 2.05 min\n",
      "MultVAERecommender: Epoch 9 of 10. Elapsed time 2.31 min\n",
      "MultVAERecommender: Epoch 10 of 10. Elapsed time 2.57 min\n",
      "MultVAERecommender: Saving model in file './result_experiments/__Temp_MultVAERecommender_30/_best_model'\n",
      "MultVAERecommender: Saving complete\n",
      "MultVAERecommender: Terminating at epoch 10. Elapsed time 2.59 min\n",
      "MultVAERecommender: Loading model from file './result_experiments/__Temp_MultVAERecommender_30/_best_model'\n",
      "MultVAERecommender: Loading complete\n",
      "MultVAERecommender: Cleaning temporary files from './result_experiments/__Temp_MultVAERecommender_30/'\n",
      "EvaluatorHoldout: Processed 33827 (100.0%) in 40.03 sec. Users per second: 845\n"
     ]
    },
    {
     "name": "stderr",
     "output_type": "stream",
     "text": [
      "[I 2024-11-20 11:22:44,971] Trial 18 finished with value: 0.008271019299413877 and parameters: {'learning_rate': 0.0020851471704078856, 'batch_size': 256, 'dropout': 0.5542558324402551, 'total_anneal_steps': 18351, 'anneal_cap': 0.4271877794840244, 'l2_reg': 3.2906697516253937e-05, 'p_dims': (200, 600)}. Best is trial 14 with value: 0.010042611776729682.\n"
     ]
    },
    {
     "name": "stdout",
     "output_type": "stream",
     "text": [
      "MultVAERecommender: Using default Temp folder './result_experiments/__Temp_MultVAERecommender_30/'\n"
     ]
    },
    {
     "name": "stderr",
     "output_type": "stream",
     "text": [
      "/opt/conda/lib/python3.10/site-packages/optuna/distributions.py:524: UserWarning: Choices for a categorical distribution should be a tuple of None, bool, int, float and str for persistent storage but contains (200, 600) which is of type tuple.\n",
      "  warnings.warn(message)\n",
      "/opt/conda/lib/python3.10/site-packages/optuna/distributions.py:524: UserWarning: Choices for a categorical distribution should be a tuple of None, bool, int, float and str for persistent storage but contains (300, 600, 800) which is of type tuple.\n",
      "  warnings.warn(message)\n",
      "/opt/conda/lib/python3.10/site-packages/optuna/distributions.py:524: UserWarning: Choices for a categorical distribution should be a tuple of None, bool, int, float and str for persistent storage but contains (128, 256, 512) which is of type tuple.\n",
      "  warnings.warn(message)\n"
     ]
    },
    {
     "name": "stdout",
     "output_type": "stream",
     "text": [
      "MultVAERecommender: Saving model in file './result_experiments/__Temp_MultVAERecommender_30/_best_model'\n",
      "MultVAERecommender: Saving complete\n",
      "MultVAERecommender: Epoch 1 of 10. Elapsed time 16.12 sec\n",
      "MultVAERecommender: Epoch 2 of 10. Elapsed time 30.81 sec\n",
      "MultVAERecommender: Epoch 3 of 10. Elapsed time 45.55 sec\n",
      "MultVAERecommender: Epoch 4 of 10. Elapsed time 1.00 min\n",
      "MultVAERecommender: Epoch 5 of 10. Elapsed time 1.25 min\n",
      "MultVAERecommender: Epoch 6 of 10. Elapsed time 1.49 min\n",
      "MultVAERecommender: Epoch 7 of 10. Elapsed time 1.74 min\n",
      "MultVAERecommender: Epoch 8 of 10. Elapsed time 1.98 min\n",
      "MultVAERecommender: Epoch 9 of 10. Elapsed time 2.23 min\n",
      "MultVAERecommender: Epoch 10 of 10. Elapsed time 2.48 min\n",
      "MultVAERecommender: Saving model in file './result_experiments/__Temp_MultVAERecommender_30/_best_model'\n",
      "MultVAERecommender: Saving complete\n",
      "MultVAERecommender: Terminating at epoch 10. Elapsed time 2.50 min\n",
      "MultVAERecommender: Loading model from file './result_experiments/__Temp_MultVAERecommender_30/_best_model'\n",
      "MultVAERecommender: Loading complete\n",
      "MultVAERecommender: Cleaning temporary files from './result_experiments/__Temp_MultVAERecommender_30/'\n",
      "EvaluatorHoldout: Processed 33827 (100.0%) in 39.57 sec. Users per second: 855\n"
     ]
    },
    {
     "name": "stderr",
     "output_type": "stream",
     "text": [
      "[I 2024-11-20 11:26:00,992] Trial 19 finished with value: 0.0076911195199101685 and parameters: {'learning_rate': 0.009371389253177723, 'batch_size': 500, 'dropout': 0.11723829318496479, 'total_anneal_steps': 82948, 'anneal_cap': 0.33717867092687653, 'l2_reg': 0.00010879357996707019, 'p_dims': (200, 600)}. Best is trial 14 with value: 0.010042611776729682.\n"
     ]
    },
    {
     "name": "stdout",
     "output_type": "stream",
     "text": [
      "MultVAERecommender: Using default Temp folder './result_experiments/__Temp_MultVAERecommender_30/'\n"
     ]
    },
    {
     "name": "stderr",
     "output_type": "stream",
     "text": [
      "/opt/conda/lib/python3.10/site-packages/optuna/distributions.py:524: UserWarning: Choices for a categorical distribution should be a tuple of None, bool, int, float and str for persistent storage but contains (200, 600) which is of type tuple.\n",
      "  warnings.warn(message)\n",
      "/opt/conda/lib/python3.10/site-packages/optuna/distributions.py:524: UserWarning: Choices for a categorical distribution should be a tuple of None, bool, int, float and str for persistent storage but contains (300, 600, 800) which is of type tuple.\n",
      "  warnings.warn(message)\n",
      "/opt/conda/lib/python3.10/site-packages/optuna/distributions.py:524: UserWarning: Choices for a categorical distribution should be a tuple of None, bool, int, float and str for persistent storage but contains (128, 256, 512) which is of type tuple.\n",
      "  warnings.warn(message)\n"
     ]
    },
    {
     "name": "stdout",
     "output_type": "stream",
     "text": [
      "MultVAERecommender: Saving model in file './result_experiments/__Temp_MultVAERecommender_30/_best_model'\n",
      "MultVAERecommender: Saving complete\n",
      "MultVAERecommender: Epoch 1 of 10. Elapsed time 15.97 sec\n",
      "MultVAERecommender: Epoch 2 of 10. Elapsed time 30.55 sec\n",
      "MultVAERecommender: Epoch 3 of 10. Elapsed time 45.09 sec\n",
      "MultVAERecommender: Epoch 4 of 10. Elapsed time 59.59 sec\n",
      "MultVAERecommender: Epoch 5 of 10. Elapsed time 1.24 min\n",
      "MultVAERecommender: Epoch 6 of 10. Elapsed time 1.49 min\n",
      "MultVAERecommender: Epoch 7 of 10. Elapsed time 1.74 min\n",
      "MultVAERecommender: Epoch 8 of 10. Elapsed time 1.98 min\n",
      "MultVAERecommender: Epoch 9 of 10. Elapsed time 2.23 min\n",
      "MultVAERecommender: Epoch 10 of 10. Elapsed time 2.47 min\n",
      "MultVAERecommender: Saving model in file './result_experiments/__Temp_MultVAERecommender_30/_best_model'\n",
      "MultVAERecommender: Saving complete\n",
      "MultVAERecommender: Terminating at epoch 10. Elapsed time 2.49 min\n",
      "MultVAERecommender: Loading model from file './result_experiments/__Temp_MultVAERecommender_30/_best_model'\n",
      "MultVAERecommender: Loading complete\n",
      "MultVAERecommender: Cleaning temporary files from './result_experiments/__Temp_MultVAERecommender_30/'\n",
      "EvaluatorHoldout: Processed 33827 (100.0%) in 40.41 sec. Users per second: 837\n"
     ]
    },
    {
     "name": "stderr",
     "output_type": "stream",
     "text": [
      "[I 2024-11-20 11:29:17,039] Trial 20 finished with value: 0.007262189825822491 and parameters: {'learning_rate': 0.003283280598061927, 'batch_size': 500, 'dropout': 0.31731093676890904, 'total_anneal_steps': 177571, 'anneal_cap': 0.26588961725218774, 'l2_reg': 0.0003575691718274674, 'p_dims': (128, 256, 512)}. Best is trial 14 with value: 0.010042611776729682.\n"
     ]
    },
    {
     "name": "stdout",
     "output_type": "stream",
     "text": [
      "MultVAERecommender: Using default Temp folder './result_experiments/__Temp_MultVAERecommender_30/'\n"
     ]
    },
    {
     "name": "stderr",
     "output_type": "stream",
     "text": [
      "/opt/conda/lib/python3.10/site-packages/optuna/distributions.py:524: UserWarning: Choices for a categorical distribution should be a tuple of None, bool, int, float and str for persistent storage but contains (200, 600) which is of type tuple.\n",
      "  warnings.warn(message)\n",
      "/opt/conda/lib/python3.10/site-packages/optuna/distributions.py:524: UserWarning: Choices for a categorical distribution should be a tuple of None, bool, int, float and str for persistent storage but contains (300, 600, 800) which is of type tuple.\n",
      "  warnings.warn(message)\n",
      "/opt/conda/lib/python3.10/site-packages/optuna/distributions.py:524: UserWarning: Choices for a categorical distribution should be a tuple of None, bool, int, float and str for persistent storage but contains (128, 256, 512) which is of type tuple.\n",
      "  warnings.warn(message)\n"
     ]
    },
    {
     "name": "stdout",
     "output_type": "stream",
     "text": [
      "MultVAERecommender: Saving model in file './result_experiments/__Temp_MultVAERecommender_30/_best_model'\n",
      "MultVAERecommender: Saving complete\n",
      "MultVAERecommender: Epoch 1 of 10. Elapsed time 16.89 sec\n",
      "MultVAERecommender: Epoch 2 of 10. Elapsed time 32.25 sec\n",
      "MultVAERecommender: Epoch 3 of 10. Elapsed time 47.45 sec\n",
      "MultVAERecommender: Epoch 4 of 10. Elapsed time 1.04 min\n",
      "MultVAERecommender: Epoch 5 of 10. Elapsed time 1.30 min\n",
      "MultVAERecommender: Epoch 6 of 10. Elapsed time 1.56 min\n",
      "MultVAERecommender: Epoch 7 of 10. Elapsed time 1.81 min\n",
      "MultVAERecommender: Epoch 8 of 10. Elapsed time 2.07 min\n",
      "MultVAERecommender: Epoch 9 of 10. Elapsed time 2.33 min\n",
      "MultVAERecommender: Epoch 10 of 10. Elapsed time 2.59 min\n",
      "MultVAERecommender: Saving model in file './result_experiments/__Temp_MultVAERecommender_30/_best_model'\n",
      "MultVAERecommender: Saving complete\n",
      "MultVAERecommender: Terminating at epoch 10. Elapsed time 2.61 min\n",
      "MultVAERecommender: Loading model from file './result_experiments/__Temp_MultVAERecommender_30/_best_model'\n",
      "MultVAERecommender: Loading complete\n",
      "MultVAERecommender: Cleaning temporary files from './result_experiments/__Temp_MultVAERecommender_30/'\n",
      "EvaluatorHoldout: Processed 33827 (100.0%) in 40.44 sec. Users per second: 836\n"
     ]
    },
    {
     "name": "stderr",
     "output_type": "stream",
     "text": [
      "[I 2024-11-20 11:32:40,881] Trial 21 finished with value: 0.009513854575639715 and parameters: {'learning_rate': 0.001699022925443554, 'batch_size': 256, 'dropout': 0.11631208780321953, 'total_anneal_steps': 112682, 'anneal_cap': 0.25772814170951414, 'l2_reg': 3.509092983433978e-05, 'p_dims': (200, 600)}. Best is trial 14 with value: 0.010042611776729682.\n"
     ]
    },
    {
     "name": "stdout",
     "output_type": "stream",
     "text": [
      "MultVAERecommender: Using default Temp folder './result_experiments/__Temp_MultVAERecommender_30/'\n"
     ]
    },
    {
     "name": "stderr",
     "output_type": "stream",
     "text": [
      "/opt/conda/lib/python3.10/site-packages/optuna/distributions.py:524: UserWarning: Choices for a categorical distribution should be a tuple of None, bool, int, float and str for persistent storage but contains (200, 600) which is of type tuple.\n",
      "  warnings.warn(message)\n",
      "/opt/conda/lib/python3.10/site-packages/optuna/distributions.py:524: UserWarning: Choices for a categorical distribution should be a tuple of None, bool, int, float and str for persistent storage but contains (300, 600, 800) which is of type tuple.\n",
      "  warnings.warn(message)\n",
      "/opt/conda/lib/python3.10/site-packages/optuna/distributions.py:524: UserWarning: Choices for a categorical distribution should be a tuple of None, bool, int, float and str for persistent storage but contains (128, 256, 512) which is of type tuple.\n",
      "  warnings.warn(message)\n"
     ]
    },
    {
     "name": "stdout",
     "output_type": "stream",
     "text": [
      "MultVAERecommender: Saving model in file './result_experiments/__Temp_MultVAERecommender_30/_best_model'\n",
      "MultVAERecommender: Saving complete\n",
      "MultVAERecommender: Epoch 1 of 10. Elapsed time 16.95 sec\n",
      "MultVAERecommender: Epoch 2 of 10. Elapsed time 32.44 sec\n",
      "MultVAERecommender: Epoch 3 of 10. Elapsed time 47.91 sec\n",
      "MultVAERecommender: Epoch 4 of 10. Elapsed time 1.06 min\n",
      "MultVAERecommender: Epoch 5 of 10. Elapsed time 1.31 min\n",
      "MultVAERecommender: Epoch 6 of 10. Elapsed time 1.57 min\n",
      "MultVAERecommender: Epoch 7 of 10. Elapsed time 1.82 min\n",
      "MultVAERecommender: Epoch 8 of 10. Elapsed time 2.08 min\n",
      "MultVAERecommender: Epoch 9 of 10. Elapsed time 2.33 min\n",
      "MultVAERecommender: Epoch 10 of 10. Elapsed time 2.58 min\n",
      "MultVAERecommender: Saving model in file './result_experiments/__Temp_MultVAERecommender_30/_best_model'\n",
      "MultVAERecommender: Saving complete\n",
      "MultVAERecommender: Terminating at epoch 10. Elapsed time 2.60 min\n",
      "MultVAERecommender: Loading model from file './result_experiments/__Temp_MultVAERecommender_30/_best_model'\n",
      "MultVAERecommender: Loading complete\n",
      "MultVAERecommender: Cleaning temporary files from './result_experiments/__Temp_MultVAERecommender_30/'\n",
      "EvaluatorHoldout: Processed 33827 (100.0%) in 39.90 sec. Users per second: 848\n"
     ]
    },
    {
     "name": "stderr",
     "output_type": "stream",
     "text": [
      "[I 2024-11-20 11:36:03,380] Trial 22 finished with value: 0.01023216520474647 and parameters: {'learning_rate': 0.0014442518727366142, 'batch_size': 256, 'dropout': 0.1772963486692775, 'total_anneal_steps': 44528, 'anneal_cap': 0.2745822833495719, 'l2_reg': 2.826247044176994e-05, 'p_dims': (200, 600)}. Best is trial 22 with value: 0.01023216520474647.\n"
     ]
    },
    {
     "name": "stdout",
     "output_type": "stream",
     "text": [
      "MultVAERecommender: Using default Temp folder './result_experiments/__Temp_MultVAERecommender_30/'\n"
     ]
    },
    {
     "name": "stderr",
     "output_type": "stream",
     "text": [
      "/opt/conda/lib/python3.10/site-packages/optuna/distributions.py:524: UserWarning: Choices for a categorical distribution should be a tuple of None, bool, int, float and str for persistent storage but contains (200, 600) which is of type tuple.\n",
      "  warnings.warn(message)\n",
      "/opt/conda/lib/python3.10/site-packages/optuna/distributions.py:524: UserWarning: Choices for a categorical distribution should be a tuple of None, bool, int, float and str for persistent storage but contains (300, 600, 800) which is of type tuple.\n",
      "  warnings.warn(message)\n",
      "/opt/conda/lib/python3.10/site-packages/optuna/distributions.py:524: UserWarning: Choices for a categorical distribution should be a tuple of None, bool, int, float and str for persistent storage but contains (128, 256, 512) which is of type tuple.\n",
      "  warnings.warn(message)\n"
     ]
    },
    {
     "name": "stdout",
     "output_type": "stream",
     "text": [
      "MultVAERecommender: Saving model in file './result_experiments/__Temp_MultVAERecommender_30/_best_model'\n",
      "MultVAERecommender: Saving complete\n",
      "MultVAERecommender: Epoch 1 of 10. Elapsed time 16.72 sec\n",
      "MultVAERecommender: Epoch 2 of 10. Elapsed time 32.06 sec\n",
      "MultVAERecommender: Epoch 3 of 10. Elapsed time 47.35 sec\n",
      "MultVAERecommender: Epoch 4 of 10. Elapsed time 1.05 min\n",
      "MultVAERecommender: Epoch 5 of 10. Elapsed time 1.30 min\n",
      "MultVAERecommender: Epoch 6 of 10. Elapsed time 1.55 min\n",
      "MultVAERecommender: Epoch 7 of 10. Elapsed time 1.81 min\n",
      "MultVAERecommender: Epoch 8 of 10. Elapsed time 2.06 min\n",
      "MultVAERecommender: Epoch 9 of 10. Elapsed time 2.31 min\n",
      "MultVAERecommender: Epoch 10 of 10. Elapsed time 2.56 min\n",
      "MultVAERecommender: Saving model in file './result_experiments/__Temp_MultVAERecommender_30/_best_model'\n",
      "MultVAERecommender: Saving complete\n",
      "MultVAERecommender: Terminating at epoch 10. Elapsed time 2.59 min\n",
      "MultVAERecommender: Loading model from file './result_experiments/__Temp_MultVAERecommender_30/_best_model'\n",
      "MultVAERecommender: Loading complete\n",
      "MultVAERecommender: Cleaning temporary files from './result_experiments/__Temp_MultVAERecommender_30/'\n",
      "EvaluatorHoldout: Processed 33827 (100.0%) in 39.97 sec. Users per second: 846\n"
     ]
    },
    {
     "name": "stderr",
     "output_type": "stream",
     "text": [
      "[I 2024-11-20 11:39:25,079] Trial 23 finished with value: 0.01019178114974388 and parameters: {'learning_rate': 0.0014470514420526581, 'batch_size': 256, 'dropout': 0.1646205319067428, 'total_anneal_steps': 58666, 'anneal_cap': 0.27478353206936673, 'l2_reg': 2.9915270596702022e-05, 'p_dims': (200, 600)}. Best is trial 22 with value: 0.01023216520474647.\n"
     ]
    },
    {
     "name": "stdout",
     "output_type": "stream",
     "text": [
      "MultVAERecommender: Using default Temp folder './result_experiments/__Temp_MultVAERecommender_30/'\n"
     ]
    },
    {
     "name": "stderr",
     "output_type": "stream",
     "text": [
      "/opt/conda/lib/python3.10/site-packages/optuna/distributions.py:524: UserWarning: Choices for a categorical distribution should be a tuple of None, bool, int, float and str for persistent storage but contains (200, 600) which is of type tuple.\n",
      "  warnings.warn(message)\n",
      "/opt/conda/lib/python3.10/site-packages/optuna/distributions.py:524: UserWarning: Choices for a categorical distribution should be a tuple of None, bool, int, float and str for persistent storage but contains (300, 600, 800) which is of type tuple.\n",
      "  warnings.warn(message)\n",
      "/opt/conda/lib/python3.10/site-packages/optuna/distributions.py:524: UserWarning: Choices for a categorical distribution should be a tuple of None, bool, int, float and str for persistent storage but contains (128, 256, 512) which is of type tuple.\n",
      "  warnings.warn(message)\n"
     ]
    },
    {
     "name": "stdout",
     "output_type": "stream",
     "text": [
      "MultVAERecommender: Saving model in file './result_experiments/__Temp_MultVAERecommender_30/_best_model'\n",
      "MultVAERecommender: Saving complete\n",
      "MultVAERecommender: Epoch 1 of 10. Elapsed time 16.78 sec\n",
      "MultVAERecommender: Epoch 2 of 10. Elapsed time 32.09 sec\n",
      "MultVAERecommender: Epoch 3 of 10. Elapsed time 47.46 sec\n",
      "MultVAERecommender: Epoch 4 of 10. Elapsed time 1.05 min\n",
      "MultVAERecommender: Epoch 5 of 10. Elapsed time 1.30 min\n",
      "MultVAERecommender: Epoch 6 of 10. Elapsed time 1.55 min\n",
      "MultVAERecommender: Epoch 7 of 10. Elapsed time 1.81 min\n",
      "MultVAERecommender: Epoch 8 of 10. Elapsed time 2.06 min\n",
      "MultVAERecommender: Epoch 9 of 10. Elapsed time 2.31 min\n",
      "MultVAERecommender: Epoch 10 of 10. Elapsed time 2.57 min\n",
      "MultVAERecommender: Saving model in file './result_experiments/__Temp_MultVAERecommender_30/_best_model'\n",
      "MultVAERecommender: Saving complete\n",
      "MultVAERecommender: Terminating at epoch 10. Elapsed time 2.59 min\n",
      "MultVAERecommender: Loading model from file './result_experiments/__Temp_MultVAERecommender_30/_best_model'\n",
      "MultVAERecommender: Loading complete\n",
      "MultVAERecommender: Cleaning temporary files from './result_experiments/__Temp_MultVAERecommender_30/'\n",
      "EvaluatorHoldout: Processed 33827 (100.0%) in 39.36 sec. Users per second: 859\n"
     ]
    },
    {
     "name": "stderr",
     "output_type": "stream",
     "text": [
      "[I 2024-11-20 11:42:46,552] Trial 24 finished with value: 0.0056897878139046615 and parameters: {'learning_rate': 0.0003932010729414925, 'batch_size': 256, 'dropout': 0.18055069123338727, 'total_anneal_steps': 51405, 'anneal_cap': 0.20552862033528058, 'l2_reg': 2.4281901007788127e-05, 'p_dims': (200, 600)}. Best is trial 22 with value: 0.01023216520474647.\n"
     ]
    },
    {
     "name": "stdout",
     "output_type": "stream",
     "text": [
      "MultVAERecommender: Using default Temp folder './result_experiments/__Temp_MultVAERecommender_30/'\n"
     ]
    },
    {
     "name": "stderr",
     "output_type": "stream",
     "text": [
      "/opt/conda/lib/python3.10/site-packages/optuna/distributions.py:524: UserWarning: Choices for a categorical distribution should be a tuple of None, bool, int, float and str for persistent storage but contains (200, 600) which is of type tuple.\n",
      "  warnings.warn(message)\n",
      "/opt/conda/lib/python3.10/site-packages/optuna/distributions.py:524: UserWarning: Choices for a categorical distribution should be a tuple of None, bool, int, float and str for persistent storage but contains (300, 600, 800) which is of type tuple.\n",
      "  warnings.warn(message)\n",
      "/opt/conda/lib/python3.10/site-packages/optuna/distributions.py:524: UserWarning: Choices for a categorical distribution should be a tuple of None, bool, int, float and str for persistent storage but contains (128, 256, 512) which is of type tuple.\n",
      "  warnings.warn(message)\n"
     ]
    },
    {
     "name": "stdout",
     "output_type": "stream",
     "text": [
      "MultVAERecommender: Saving model in file './result_experiments/__Temp_MultVAERecommender_30/_best_model'\n",
      "MultVAERecommender: Saving complete\n",
      "MultVAERecommender: Epoch 1 of 10. Elapsed time 16.74 sec\n",
      "MultVAERecommender: Epoch 2 of 10. Elapsed time 31.95 sec\n",
      "MultVAERecommender: Epoch 3 of 10. Elapsed time 47.31 sec\n",
      "MultVAERecommender: Epoch 4 of 10. Elapsed time 1.04 min\n",
      "MultVAERecommender: Epoch 5 of 10. Elapsed time 1.28 min\n",
      "MultVAERecommender: Epoch 6 of 10. Elapsed time 1.54 min\n",
      "MultVAERecommender: Epoch 7 of 10. Elapsed time 1.79 min\n",
      "MultVAERecommender: Epoch 8 of 10. Elapsed time 2.04 min\n",
      "MultVAERecommender: Epoch 9 of 10. Elapsed time 2.29 min\n",
      "MultVAERecommender: Epoch 10 of 10. Elapsed time 2.55 min\n",
      "MultVAERecommender: Saving model in file './result_experiments/__Temp_MultVAERecommender_30/_best_model'\n",
      "MultVAERecommender: Saving complete\n",
      "MultVAERecommender: Terminating at epoch 10. Elapsed time 2.57 min\n",
      "MultVAERecommender: Loading model from file './result_experiments/__Temp_MultVAERecommender_30/_best_model'\n",
      "MultVAERecommender: Loading complete\n",
      "MultVAERecommender: Cleaning temporary files from './result_experiments/__Temp_MultVAERecommender_30/'\n",
      "EvaluatorHoldout: Processed 33827 (100.0%) in 40.64 sec. Users per second: 832\n"
     ]
    },
    {
     "name": "stderr",
     "output_type": "stream",
     "text": [
      "[I 2024-11-20 11:46:08,140] Trial 25 finished with value: 0.010276267994806656 and parameters: {'learning_rate': 0.0013739782600272086, 'batch_size': 256, 'dropout': 0.1700020997233899, 'total_anneal_steps': 64697, 'anneal_cap': 0.27633313082113736, 'l2_reg': 1.0319354996369627e-05, 'p_dims': (200, 600)}. Best is trial 25 with value: 0.010276267994806656.\n"
     ]
    },
    {
     "name": "stdout",
     "output_type": "stream",
     "text": [
      "MultVAERecommender: Using default Temp folder './result_experiments/__Temp_MultVAERecommender_30/'\n"
     ]
    },
    {
     "name": "stderr",
     "output_type": "stream",
     "text": [
      "/opt/conda/lib/python3.10/site-packages/optuna/distributions.py:524: UserWarning: Choices for a categorical distribution should be a tuple of None, bool, int, float and str for persistent storage but contains (200, 600) which is of type tuple.\n",
      "  warnings.warn(message)\n",
      "/opt/conda/lib/python3.10/site-packages/optuna/distributions.py:524: UserWarning: Choices for a categorical distribution should be a tuple of None, bool, int, float and str for persistent storage but contains (300, 600, 800) which is of type tuple.\n",
      "  warnings.warn(message)\n",
      "/opt/conda/lib/python3.10/site-packages/optuna/distributions.py:524: UserWarning: Choices for a categorical distribution should be a tuple of None, bool, int, float and str for persistent storage but contains (128, 256, 512) which is of type tuple.\n",
      "  warnings.warn(message)\n"
     ]
    },
    {
     "name": "stdout",
     "output_type": "stream",
     "text": [
      "MultVAERecommender: Saving model in file './result_experiments/__Temp_MultVAERecommender_30/_best_model'\n",
      "MultVAERecommender: Saving complete\n",
      "MultVAERecommender: Epoch 1 of 10. Elapsed time 16.98 sec\n",
      "MultVAERecommender: Epoch 2 of 10. Elapsed time 32.47 sec\n",
      "MultVAERecommender: Epoch 3 of 10. Elapsed time 47.77 sec\n",
      "MultVAERecommender: Epoch 4 of 10. Elapsed time 1.05 min\n",
      "MultVAERecommender: Epoch 5 of 10. Elapsed time 1.31 min\n",
      "MultVAERecommender: Epoch 6 of 10. Elapsed time 1.57 min\n",
      "MultVAERecommender: Epoch 7 of 10. Elapsed time 1.82 min\n",
      "MultVAERecommender: Epoch 8 of 10. Elapsed time 2.08 min\n",
      "MultVAERecommender: Epoch 9 of 10. Elapsed time 2.33 min\n",
      "MultVAERecommender: Epoch 10 of 10. Elapsed time 2.58 min\n",
      "MultVAERecommender: Saving model in file './result_experiments/__Temp_MultVAERecommender_30/_best_model'\n",
      "MultVAERecommender: Saving complete\n",
      "MultVAERecommender: Terminating at epoch 10. Elapsed time 2.60 min\n",
      "MultVAERecommender: Loading model from file './result_experiments/__Temp_MultVAERecommender_30/_best_model'\n",
      "MultVAERecommender: Loading complete\n",
      "MultVAERecommender: Cleaning temporary files from './result_experiments/__Temp_MultVAERecommender_30/'\n",
      "EvaluatorHoldout: Processed 33827 (100.0%) in 39.54 sec. Users per second: 856\n"
     ]
    },
    {
     "name": "stderr",
     "output_type": "stream",
     "text": [
      "[I 2024-11-20 11:49:30,403] Trial 26 finished with value: 0.009848796467178386 and parameters: {'learning_rate': 0.0012898367202601377, 'batch_size': 256, 'dropout': 0.17210173834128487, 'total_anneal_steps': 255141, 'anneal_cap': 0.27507931476457875, 'l2_reg': 1.1425139974469317e-05, 'p_dims': (200, 600)}. Best is trial 25 with value: 0.010276267994806656.\n"
     ]
    },
    {
     "name": "stdout",
     "output_type": "stream",
     "text": [
      "MultVAERecommender: Using default Temp folder './result_experiments/__Temp_MultVAERecommender_30/'\n"
     ]
    },
    {
     "name": "stderr",
     "output_type": "stream",
     "text": [
      "/opt/conda/lib/python3.10/site-packages/optuna/distributions.py:524: UserWarning: Choices for a categorical distribution should be a tuple of None, bool, int, float and str for persistent storage but contains (200, 600) which is of type tuple.\n",
      "  warnings.warn(message)\n",
      "/opt/conda/lib/python3.10/site-packages/optuna/distributions.py:524: UserWarning: Choices for a categorical distribution should be a tuple of None, bool, int, float and str for persistent storage but contains (300, 600, 800) which is of type tuple.\n",
      "  warnings.warn(message)\n",
      "/opt/conda/lib/python3.10/site-packages/optuna/distributions.py:524: UserWarning: Choices for a categorical distribution should be a tuple of None, bool, int, float and str for persistent storage but contains (128, 256, 512) which is of type tuple.\n",
      "  warnings.warn(message)\n"
     ]
    },
    {
     "name": "stdout",
     "output_type": "stream",
     "text": [
      "MultVAERecommender: Saving model in file './result_experiments/__Temp_MultVAERecommender_30/_best_model'\n",
      "MultVAERecommender: Saving complete\n",
      "MultVAERecommender: Epoch 1 of 10. Elapsed time 16.61 sec\n",
      "MultVAERecommender: Epoch 2 of 10. Elapsed time 31.77 sec\n",
      "MultVAERecommender: Epoch 3 of 10. Elapsed time 47.15 sec\n",
      "MultVAERecommender: Epoch 4 of 10. Elapsed time 1.04 min\n",
      "MultVAERecommender: Epoch 5 of 10. Elapsed time 1.30 min\n",
      "MultVAERecommender: Epoch 6 of 10. Elapsed time 1.56 min\n",
      "MultVAERecommender: Epoch 7 of 10. Elapsed time 1.82 min\n",
      "MultVAERecommender: Epoch 8 of 10. Elapsed time 2.08 min\n",
      "MultVAERecommender: Epoch 9 of 10. Elapsed time 2.34 min\n",
      "MultVAERecommender: Epoch 10 of 10. Elapsed time 2.60 min\n",
      "MultVAERecommender: Saving model in file './result_experiments/__Temp_MultVAERecommender_30/_best_model'\n",
      "MultVAERecommender: Saving complete\n",
      "MultVAERecommender: Terminating at epoch 10. Elapsed time 2.62 min\n",
      "MultVAERecommender: Loading model from file './result_experiments/__Temp_MultVAERecommender_30/_best_model'\n",
      "MultVAERecommender: Loading complete\n",
      "MultVAERecommender: Cleaning temporary files from './result_experiments/__Temp_MultVAERecommender_30/'\n",
      "EvaluatorHoldout: Processed 33827 (100.0%) in 39.35 sec. Users per second: 860\n"
     ]
    },
    {
     "name": "stderr",
     "output_type": "stream",
     "text": [
      "[I 2024-11-20 11:52:53,308] Trial 27 finished with value: 0.0040528663352886385 and parameters: {'learning_rate': 0.0001800971163274596, 'batch_size': 256, 'dropout': 0.24785891589821613, 'total_anneal_steps': 147911, 'anneal_cap': 0.1170539394577996, 'l2_reg': 2.362115901931681e-05, 'p_dims': (200, 600)}. Best is trial 25 with value: 0.010276267994806656.\n"
     ]
    },
    {
     "name": "stdout",
     "output_type": "stream",
     "text": [
      "MultVAERecommender: Using default Temp folder './result_experiments/__Temp_MultVAERecommender_30/'\n"
     ]
    },
    {
     "name": "stderr",
     "output_type": "stream",
     "text": [
      "/opt/conda/lib/python3.10/site-packages/optuna/distributions.py:524: UserWarning: Choices for a categorical distribution should be a tuple of None, bool, int, float and str for persistent storage but contains (200, 600) which is of type tuple.\n",
      "  warnings.warn(message)\n",
      "/opt/conda/lib/python3.10/site-packages/optuna/distributions.py:524: UserWarning: Choices for a categorical distribution should be a tuple of None, bool, int, float and str for persistent storage but contains (300, 600, 800) which is of type tuple.\n",
      "  warnings.warn(message)\n",
      "/opt/conda/lib/python3.10/site-packages/optuna/distributions.py:524: UserWarning: Choices for a categorical distribution should be a tuple of None, bool, int, float and str for persistent storage but contains (128, 256, 512) which is of type tuple.\n",
      "  warnings.warn(message)\n"
     ]
    },
    {
     "name": "stdout",
     "output_type": "stream",
     "text": [
      "MultVAERecommender: Saving model in file './result_experiments/__Temp_MultVAERecommender_30/_best_model'\n",
      "MultVAERecommender: Saving complete\n",
      "MultVAERecommender: Epoch 1 of 10. Elapsed time 16.82 sec\n",
      "MultVAERecommender: Epoch 2 of 10. Elapsed time 32.06 sec\n",
      "MultVAERecommender: Epoch 3 of 10. Elapsed time 47.24 sec\n",
      "MultVAERecommender: Epoch 4 of 10. Elapsed time 1.04 min\n",
      "MultVAERecommender: Epoch 5 of 10. Elapsed time 1.30 min\n",
      "MultVAERecommender: Epoch 6 of 10. Elapsed time 1.55 min\n",
      "MultVAERecommender: Epoch 7 of 10. Elapsed time 1.81 min\n",
      "MultVAERecommender: Epoch 8 of 10. Elapsed time 2.07 min\n",
      "MultVAERecommender: Epoch 9 of 10. Elapsed time 2.32 min\n",
      "MultVAERecommender: Epoch 10 of 10. Elapsed time 2.58 min\n",
      "MultVAERecommender: Saving model in file './result_experiments/__Temp_MultVAERecommender_30/_best_model'\n",
      "MultVAERecommender: Saving complete\n",
      "MultVAERecommender: Terminating at epoch 10. Elapsed time 2.60 min\n",
      "MultVAERecommender: Loading model from file './result_experiments/__Temp_MultVAERecommender_30/_best_model'\n",
      "MultVAERecommender: Loading complete\n",
      "MultVAERecommender: Cleaning temporary files from './result_experiments/__Temp_MultVAERecommender_30/'\n",
      "EvaluatorHoldout: Processed 33827 (100.0%) in 40.00 sec. Users per second: 846\n"
     ]
    },
    {
     "name": "stderr",
     "output_type": "stream",
     "text": [
      "[I 2024-11-20 11:56:15,956] Trial 28 finished with value: 0.008265285174189384 and parameters: {'learning_rate': 0.005023243594009784, 'batch_size': 256, 'dropout': 0.16454729909940383, 'total_anneal_steps': 105200, 'anneal_cap': 0.22327164908478797, 'l2_reg': 1.0434357261206948e-05, 'p_dims': (200, 600)}. Best is trial 25 with value: 0.010276267994806656.\n"
     ]
    },
    {
     "name": "stdout",
     "output_type": "stream",
     "text": [
      "MultVAERecommender: Using default Temp folder './result_experiments/__Temp_MultVAERecommender_30/'\n"
     ]
    },
    {
     "name": "stderr",
     "output_type": "stream",
     "text": [
      "/opt/conda/lib/python3.10/site-packages/optuna/distributions.py:524: UserWarning: Choices for a categorical distribution should be a tuple of None, bool, int, float and str for persistent storage but contains (200, 600) which is of type tuple.\n",
      "  warnings.warn(message)\n",
      "/opt/conda/lib/python3.10/site-packages/optuna/distributions.py:524: UserWarning: Choices for a categorical distribution should be a tuple of None, bool, int, float and str for persistent storage but contains (300, 600, 800) which is of type tuple.\n",
      "  warnings.warn(message)\n",
      "/opt/conda/lib/python3.10/site-packages/optuna/distributions.py:524: UserWarning: Choices for a categorical distribution should be a tuple of None, bool, int, float and str for persistent storage but contains (128, 256, 512) which is of type tuple.\n",
      "  warnings.warn(message)\n"
     ]
    },
    {
     "name": "stdout",
     "output_type": "stream",
     "text": [
      "MultVAERecommender: Saving model in file './result_experiments/__Temp_MultVAERecommender_30/_best_model'\n",
      "MultVAERecommender: Saving complete\n",
      "MultVAERecommender: Epoch 1 of 10. Elapsed time 9.58 sec\n",
      "MultVAERecommender: Epoch 2 of 10. Elapsed time 17.80 sec\n",
      "MultVAERecommender: Epoch 3 of 10. Elapsed time 25.99 sec\n",
      "MultVAERecommender: Epoch 4 of 10. Elapsed time 34.19 sec\n",
      "MultVAERecommender: Epoch 5 of 10. Elapsed time 42.38 sec\n",
      "MultVAERecommender: Epoch 6 of 10. Elapsed time 50.63 sec\n",
      "MultVAERecommender: Epoch 7 of 10. Elapsed time 58.83 sec\n",
      "MultVAERecommender: Epoch 8 of 10. Elapsed time 1.12 min\n",
      "MultVAERecommender: Epoch 9 of 10. Elapsed time 1.25 min\n",
      "MultVAERecommender: Epoch 10 of 10. Elapsed time 1.38 min\n",
      "MultVAERecommender: Saving model in file './result_experiments/__Temp_MultVAERecommender_30/_best_model'\n",
      "MultVAERecommender: Saving complete\n",
      "MultVAERecommender: Terminating at epoch 10. Elapsed time 1.40 min\n",
      "MultVAERecommender: Loading model from file './result_experiments/__Temp_MultVAERecommender_30/_best_model'\n",
      "MultVAERecommender: Loading complete\n",
      "MultVAERecommender: Cleaning temporary files from './result_experiments/__Temp_MultVAERecommender_30/'\n",
      "EvaluatorHoldout: Processed 33827 (100.0%) in 39.69 sec. Users per second: 852\n"
     ]
    },
    {
     "name": "stderr",
     "output_type": "stream",
     "text": [
      "[I 2024-11-20 11:58:25,838] Trial 29 finished with value: 0.008311403354416427 and parameters: {'learning_rate': 0.0005749088074405894, 'batch_size': 128, 'dropout': 0.5171899626684193, 'total_anneal_steps': 56324, 'anneal_cap': 0.28491643271443967, 'l2_reg': 3.3722284865128834e-05, 'p_dims': (128, 256, 512)}. Best is trial 25 with value: 0.010276267994806656.\n"
     ]
    },
    {
     "name": "stdout",
     "output_type": "stream",
     "text": [
      "Best hyperparameters: {'learning_rate': 0.0013739782600272086, 'batch_size': 256, 'dropout': 0.1700020997233899, 'total_anneal_steps': 64697, 'anneal_cap': 0.27633313082113736, 'l2_reg': 1.0319354996369627e-05, 'p_dims': (200, 600)}\n",
      "Best MAP@10: 0.010276267994806656\n"
     ]
    }
   ],
   "source": [
    "# Create and run the Optuna study\n",
    "study = optuna.create_study(direction=\"maximize\")\n",
    "study.optimize(objective, n_trials=n_trials)\n",
    "\n",
    "# Output the best hyperparameters found\n",
    "print(\"Best hyperparameters:\", study.best_params)\n",
    "print(\"Best MAP@10:\", study.best_value)\n"
   ]
  },
  {
   "cell_type": "code",
   "execution_count": 33,
   "metadata": {
    "execution": {
     "iopub.execute_input": "2024-11-20T14:41:58.028402Z",
     "iopub.status.busy": "2024-11-20T14:41:58.027432Z",
     "iopub.status.idle": "2024-11-20T14:41:58.033528Z",
     "shell.execute_reply": "2024-11-20T14:41:58.032359Z",
     "shell.execute_reply.started": "2024-11-20T14:41:58.028354Z"
    },
    "trusted": true
   },
   "outputs": [],
   "source": [
    "best_params = {\n",
    "    \"learning_rate\": 0.0013739782600272086,\n",
    "    \"batch_size\": 256,\n",
    "    \"dropout\": 0.1700020997233899,\n",
    "    \"total_anneal_steps\": 64697,\n",
    "    \"anneal_cap\": 0.27633313082113736,\n",
    "    \"l2_reg\": 1.0319354996369627e-05,\n",
    "    \"p_dims\": [200, 600],  # Converted from tuple to list\n",
    "}\n"
   ]
  },
  {
   "cell_type": "code",
   "execution_count": null,
   "metadata": {
    "execution": {
     "iopub.execute_input": "2024-11-20T14:42:23.941964Z",
     "iopub.status.busy": "2024-11-20T14:42:23.941325Z",
     "iopub.status.idle": "2024-11-20T14:42:23.972047Z",
     "shell.execute_reply": "2024-11-20T14:42:23.970681Z",
     "shell.execute_reply.started": "2024-11-20T14:42:23.941927Z"
    },
    "trusted": true
   },
   "outputs": [
    {
     "ename": "KeyError",
     "evalue": "'p_dims'",
     "output_type": "error",
     "traceback": [
      "\u001b[0;31m---------------------------------------------------------------------------\u001b[0m",
      "\u001b[0;31mKeyError\u001b[0m                                  Traceback (most recent call last)",
      "Cell \u001b[0;32mIn[35], line 5\u001b[0m\n\u001b[1;32m      2\u001b[0m best_params \u001b[38;5;241m=\u001b[39m study\u001b[38;5;241m.\u001b[39mbest_params\n\u001b[1;32m      4\u001b[0m \u001b[38;5;66;03m# Convert p_dims back from a tuple if needed\u001b[39;00m\n\u001b[0;32m----> 5\u001b[0m best_params[\u001b[38;5;124m\"\u001b[39m\u001b[38;5;124mp_dims\u001b[39m\u001b[38;5;124m\"\u001b[39m] \u001b[38;5;241m=\u001b[39m \u001b[38;5;28mlist\u001b[39m(\u001b[43mbest_params\u001b[49m\u001b[43m[\u001b[49m\u001b[38;5;124;43m\"\u001b[39;49m\u001b[38;5;124;43mp_dims\u001b[39;49m\u001b[38;5;124;43m\"\u001b[39;49m\u001b[43m]\u001b[49m)\n\u001b[1;32m      7\u001b[0m \u001b[38;5;66;03m# Initialize the MultVAE Recommender with the optimal hyperparameters\u001b[39;00m\n\u001b[1;32m      8\u001b[0m vae_recommender \u001b[38;5;241m=\u001b[39m MultVAERecommender(URM_train\u001b[38;5;241m=\u001b[39murm_train)\n",
      "\u001b[0;31mKeyError\u001b[0m: 'p_dims'"
     ]
    }
   ],
   "source": [
    "# Retrieve the best hyperparameters from the Optuna study\n",
    "best_params = study.best_params\n",
    "\n",
    "# Convert p_dims back from a tuple if needed\n",
    "best_params[\"p_dims\"] = list(best_params[\"p_dims\"])"
   ]
  },
  {
   "cell_type": "code",
   "execution_count": null,
   "metadata": {
    "execution": {
     "iopub.execute_input": "2024-11-20T14:44:06.284091Z",
     "iopub.status.busy": "2024-11-20T14:44:06.283680Z"
    },
    "trusted": true
   },
   "outputs": [
    {
     "name": "stdout",
     "output_type": "stream",
     "text": [
      "MultVAERecommender: Using default Temp folder './result_experiments/__Temp_MultVAERecommender_30/'\n",
      "MultVAERecommender: Saving model in file './result_experiments/__Temp_MultVAERecommender_30/_best_model'\n",
      "MultVAERecommender: Saving complete\n"
     ]
    }
   ],
   "source": [
    "from Recommenders.Neural.MultVAERecommender import MultVAERecommender\n",
    "\n",
    "# Initialize the MultVAE Recommender with the optimal hyperparameters\n",
    "vae_recommender = MultVAERecommender(URM_train=urm_train)\n",
    "\n",
    "# Fit the model with the optimal hyperparameters\n",
    "vae_recommender.fit(\n",
    "    epochs=100,  # Full training after finding the best hyperparameters\n",
    "    learning_rate=best_params[\"learning_rate\"],\n",
    "    batch_size=best_params[\"batch_size\"],\n",
    "    dropout=best_params[\"dropout\"],\n",
    "    total_anneal_steps=best_params[\"total_anneal_steps\"],\n",
    "    anneal_cap=best_params[\"anneal_cap\"],\n",
    "    p_dims=best_params[\"p_dims\"],\n",
    "    l2_reg=best_params[\"l2_reg\"],\n",
    "    validation_every_n=5,\n",
    "    stop_on_validation=True,\n",
    "    validation_metric=\"MAP\",\n",
    "    lower_validations_allowed=3\n",
    ")"
   ]
  },
  {
   "cell_type": "code",
   "execution_count": 17,
   "metadata": {
    "execution": {
     "iopub.execute_input": "2024-11-20T12:29:50.164877Z",
     "iopub.status.busy": "2024-11-20T12:29:50.164498Z",
     "iopub.status.idle": "2024-11-20T12:30:32.726807Z",
     "shell.execute_reply": "2024-11-20T12:30:32.725978Z",
     "shell.execute_reply.started": "2024-11-20T12:29:50.164846Z"
    },
    "trusted": true
   },
   "outputs": [
    {
     "name": "stdout",
     "output_type": "stream",
     "text": [
      "EvaluatorHoldout: Ignoring 175 ( 0.5%) Users that have less than 1 test interactions\n",
      "EvaluatorHoldout: Processed 35561 (100.0%) in 42.53 sec. Users per second: 836\n",
      "CUTOFF: 10 - PRECISION: 0.0515368, PRECISION_RECALL_MIN_DEN: 0.0794196, RECALL: 0.0692948, MAP: 0.0218639, MAP_MIN_DEN: 0.0336291, MRR: 0.1527365, NDCG: 0.0731797, F1: 0.0591109, HIT_RATE: 0.3646410, ARHR_ALL_HITS: 0.1815375, NOVELTY: 0.0035525, AVERAGE_POPULARITY: 0.1689908, DIVERSITY_MEAN_INTER_LIST: 0.9907014, DIVERSITY_HERFINDAHL: 0.9990674, COVERAGE_ITEM: 0.5319640, COVERAGE_ITEM_HIT: 0.1609874, ITEMS_IN_GT: 0.9957504, COVERAGE_USER: 0.9951030, COVERAGE_USER_HIT: 0.3628554, USERS_IN_GT: 0.9951030, DIVERSITY_GINI: 0.1191579, SHANNON_ENTROPY: 12.0617342, RATIO_DIVERSITY_HERFINDAHL: 0.9991252, RATIO_DIVERSITY_GINI: 0.1964132, RATIO_SHANNON_ENTROPY: 0.8171998, RATIO_AVERAGE_POPULARITY: 2.3120898, RATIO_NOVELTY: 0.2654441, \n",
      "\n"
     ]
    }
   ],
   "source": [
    "# Initialize the evaluator with the test user-item matrix\n",
    "evaluator = EvaluatorHoldout(urm_test, cutoff_list=[10])\n",
    "\n",
    "# Evaluate the MultVAERecommender\n",
    "results_df, results_run_string = evaluator.evaluateRecommender(vae_recommender)\n",
    "\n",
    "# Print the evaluation results\n",
    "print(results_run_string)"
   ]
  },
  {
   "cell_type": "code",
   "execution_count": null,
   "metadata": {
    "trusted": true
   },
   "outputs": [],
   "source": [
    "from lightfm import LightFM\n",
    "\n",
    "# Initialize LightFM model\n",
    "model = LightFM(loss='warp', no_components=30)\n",
    "\n",
    "# Training loop with epoch progress tracking\n",
    "num_epochs = 20\n",
    "for epoch in range(1, num_epochs + 1):\n",
    "    model.fit_partial(\n",
    "        URM_train,\n",
    "        item_features=icm_matrix,\n",
    "        num_threads=4  # Multithreading for faster training\n",
    "    )\n",
    "    print(f\"Epoch {epoch}/{num_epochs} completed\")\n"
   ]
  },
  {
   "cell_type": "code",
   "execution_count": null,
   "metadata": {
    "trusted": true
   },
   "outputs": [],
   "source": [
    "import numpy as np\n",
    "\n",
    "def lightfm_recommend_batch(model, user_ids, URM_train, item_features, at=10):\n",
    "    \"\"\"\n",
    "    Generate top-N recommendations for a batch of users using LightFM.\n",
    "    \n",
    "    Args:\n",
    "        model: Trained LightFM model.\n",
    "        user_ids: List of user IDs for which to generate recommendations.\n",
    "        URM_train: Training matrix to exclude seen items.\n",
    "        item_features: Optional LightFM item feature matrix.\n",
    "        at: Number of recommendations to generate.\n",
    "\n",
    "    Returns:\n",
    "        List of lists containing recommended item IDs for each user.\n",
    "    \"\"\"\n",
    "    num_items = URM_train.shape[1]\n",
    "    recommendations = []\n",
    "    \n",
    "    for user_id in user_ids:\n",
    "        scores = model.predict(user_id, np.arange(num_items), item_features=item_features)\n",
    "        \n",
    "        # Exclude items seen in training\n",
    "        seen_items = URM_train[user_id].indices\n",
    "        scores[seen_items] = -np.inf\n",
    "        \n",
    "        # Get top-N recommendations\n",
    "        top_items = np.argsort(-scores)[:at]\n",
    "        recommendations.append(top_items)\n",
    "    \n",
    "    return recommendations\n"
   ]
  },
  {
   "cell_type": "code",
   "execution_count": null,
   "metadata": {
    "trusted": true
   },
   "outputs": [],
   "source": [
    "from Evaluation.Evaluator import EvaluatorHoldout\n",
    "\n",
    "# Initialize evaluator for validation\n",
    "evaluator_validation = EvaluatorHoldout(URM_validation, cutoff_list=[10])\n",
    "\n",
    "# Define a wrapper for the evaluator to use LightFM predictions\n",
    "class LightFMRecommenderWrapper:\n",
    "    def __init__(self, model, URM_train, item_features):\n",
    "        self.model = model\n",
    "        self.URM_train = URM_train\n",
    "        self.item_features = item_features\n",
    "\n",
    "    def recommend(self, user_id, at=10):\n",
    "        scores = self.model.predict(user_id, np.arange(self.URM_train.shape[1]), item_features=self.item_features)\n",
    "        seen_items = self.URM_train[user_id].indices\n",
    "        scores[seen_items] = -np.inf\n",
    "        return np.argsort(-scores)[:at]\n",
    "\n",
    "# Wrap the LightFM model\n",
    "lightfm_wrapper = LightFMRecommenderWrapper(model, URM_train, icm_matrix)\n",
    "\n",
    "# Evaluate the wrapped model\n",
    "results = evaluator_validation.evaluateRecommender(lightfm_wrapper)\n",
    "print(\"Validation Results:\", results)\n"
   ]
  },
  {
   "cell_type": "markdown",
   "metadata": {},
   "source": [
    "# LightFM"
   ]
  },
  {
   "cell_type": "code",
   "execution_count": 24,
   "metadata": {
    "execution": {
     "iopub.execute_input": "2024-11-19T16:45:01.862196Z",
     "iopub.status.busy": "2024-11-19T16:45:01.861705Z",
     "iopub.status.idle": "2024-11-19T16:45:01.868641Z",
     "shell.execute_reply": "2024-11-19T16:45:01.867419Z",
     "shell.execute_reply.started": "2024-11-19T16:45:01.862145Z"
    },
    "trusted": true
   },
   "outputs": [
    {
     "name": "stdout",
     "output_type": "stream",
     "text": [
      "4\n"
     ]
    }
   ],
   "source": [
    "import os\n",
    "print(os.cpu_count())"
   ]
  },
  {
   "cell_type": "code",
   "execution_count": 13,
   "metadata": {
    "execution": {
     "iopub.execute_input": "2024-11-21T14:56:29.983860Z",
     "iopub.status.busy": "2024-11-21T14:56:29.983493Z",
     "iopub.status.idle": "2024-11-21T14:56:54.499233Z",
     "shell.execute_reply": "2024-11-21T14:56:54.497513Z",
     "shell.execute_reply.started": "2024-11-21T14:56:29.983830Z"
    },
    "trusted": true
   },
   "outputs": [
    {
     "name": "stdout",
     "output_type": "stream",
     "text": [
      "Collecting lightfm\n",
      "  Downloading lightfm-1.17.tar.gz (316 kB)\n",
      "\u001b[2K     \u001b[90m━━━━━━━━━━━━━━━━━━━━━━━━━━━━━━━━━━━━━━━\u001b[0m \u001b[32m316.4/316.4 kB\u001b[0m \u001b[31m5.2 MB/s\u001b[0m eta \u001b[36m0:00:00\u001b[0ma \u001b[36m0:00:01\u001b[0m\n",
      "\u001b[?25h  Preparing metadata (setup.py) ... \u001b[?25ldone\n",
      "\u001b[?25hRequirement already satisfied: numpy in /opt/conda/lib/python3.10/site-packages (from lightfm) (1.26.4)\n",
      "Requirement already satisfied: scipy>=0.17.0 in /opt/conda/lib/python3.10/site-packages (from lightfm) (1.14.1)\n",
      "Requirement already satisfied: requests in /opt/conda/lib/python3.10/site-packages (from lightfm) (2.32.3)\n",
      "Requirement already satisfied: scikit-learn in /opt/conda/lib/python3.10/site-packages (from lightfm) (1.2.2)\n",
      "Requirement already satisfied: charset-normalizer<4,>=2 in /opt/conda/lib/python3.10/site-packages (from requests->lightfm) (3.3.2)\n",
      "Requirement already satisfied: idna<4,>=2.5 in /opt/conda/lib/python3.10/site-packages (from requests->lightfm) (3.7)\n",
      "Requirement already satisfied: urllib3<3,>=1.21.1 in /opt/conda/lib/python3.10/site-packages (from requests->lightfm) (1.26.18)\n",
      "Requirement already satisfied: certifi>=2017.4.17 in /opt/conda/lib/python3.10/site-packages (from requests->lightfm) (2024.8.30)\n",
      "Requirement already satisfied: joblib>=1.1.1 in /opt/conda/lib/python3.10/site-packages (from scikit-learn->lightfm) (1.4.2)\n",
      "Requirement already satisfied: threadpoolctl>=2.0.0 in /opt/conda/lib/python3.10/site-packages (from scikit-learn->lightfm) (3.5.0)\n",
      "Building wheels for collected packages: lightfm\n",
      "  Building wheel for lightfm (setup.py) ... \u001b[?25ldone\n",
      "\u001b[?25h  Created wheel for lightfm: filename=lightfm-1.17-cp310-cp310-linux_x86_64.whl size=464212 sha256=2047f8be4b04a1c571bae055a42257ed99ce24667ec0bf1050d65fd4ab1c7308\n",
      "  Stored in directory: /root/.cache/pip/wheels/4f/9b/7e/0b256f2168511d8fa4dae4fae0200fdbd729eb424a912ad636\n",
      "Successfully built lightfm\n",
      "Installing collected packages: lightfm\n",
      "Successfully installed lightfm-1.17\n"
     ]
    }
   ],
   "source": [
    "!pip install lightfm"
   ]
  },
  {
   "cell_type": "code",
   "execution_count": 26,
   "metadata": {
    "execution": {
     "iopub.execute_input": "2024-11-19T16:45:13.076740Z",
     "iopub.status.busy": "2024-11-19T16:45:13.076176Z",
     "iopub.status.idle": "2024-11-19T16:56:19.177761Z",
     "shell.execute_reply": "2024-11-19T16:56:19.176376Z",
     "shell.execute_reply.started": "2024-11-19T16:45:13.076674Z"
    },
    "trusted": true
   },
   "outputs": [
    {
     "name": "stdout",
     "output_type": "stream",
     "text": [
      "Epoch 1/20 completed\n",
      "Epoch 2/20 completed\n",
      "Epoch 3/20 completed\n",
      "Epoch 4/20 completed\n",
      "Epoch 5/20 completed\n",
      "Epoch 6/20 completed\n",
      "Epoch 7/20 completed\n",
      "Epoch 8/20 completed\n",
      "Epoch 9/20 completed\n",
      "Epoch 10/20 completed\n",
      "Epoch 11/20 completed\n",
      "Epoch 12/20 completed\n",
      "Epoch 13/20 completed\n",
      "Epoch 14/20 completed\n",
      "Epoch 15/20 completed\n",
      "Epoch 16/20 completed\n",
      "Epoch 17/20 completed\n",
      "Epoch 18/20 completed\n",
      "Epoch 19/20 completed\n",
      "Epoch 20/20 completed\n"
     ]
    }
   ],
   "source": [
    "from lightfm.evaluation import precision_at_k, auc_score\n",
    "import numpy as np\n",
    "\n",
    "# Initialize the model\n",
    "model = LightFM(loss='warp', no_components=30)\n",
    "\n",
    "# Training loop with performance tracking\n",
    "num_epochs = 20\n",
    "for epoch in range(1, num_epochs + 1):\n",
    "    # Partial fit for one epoch\n",
    "    model.fit_partial(\n",
    "        urm_train,\n",
    "        item_features=icm_matrix,\n",
    "        num_threads=4\n",
    "    )\n",
    "    \n",
    "    # Evaluate the model\n",
    "    precision = precision_at_k(model, urm_validation, item_features=icm_matrix, k=10).mean()\n",
    "    auc = auc_score(model, urm_validation, item_features=icm_matrix).mean()\n",
    "\n",
    "    # Print performance\n",
    "    print(f\"Epoch {epoch}/{num_epochs} completed\")\n",
    "    print(f\"Precision@10: {precision:.4f}, AUC: {auc:.4f}\")\n"
   ]
  },
  {
   "cell_type": "markdown",
   "metadata": {},
   "source": [
    "## HyperParams Optimization"
   ]
  },
  {
   "cell_type": "code",
   "execution_count": 22,
   "metadata": {
    "execution": {
     "iopub.execute_input": "2024-11-21T15:53:24.756977Z",
     "iopub.status.busy": "2024-11-21T15:53:24.756529Z",
     "iopub.status.idle": "2024-11-21T15:53:24.776772Z",
     "shell.execute_reply": "2024-11-21T15:53:24.774752Z",
     "shell.execute_reply.started": "2024-11-21T15:53:24.756940Z"
    },
    "trusted": true
   },
   "outputs": [
    {
     "name": "stdout",
     "output_type": "stream",
     "text": [
      "EvaluatorHoldout: Ignoring 1909 ( 5.3%) Users that have less than 1 test interactions\n"
     ]
    }
   ],
   "source": [
    "import optuna\n",
    "from Evaluation.Evaluator import EvaluatorHoldout\n",
    "\n",
    "# Define the number of trials\n",
    "n_trials = 30\n",
    "\n",
    "# Define the evaluator for validation\n",
    "evaluator_validation = EvaluatorHoldout(urm_validation, cutoff_list=[10])"
   ]
  },
  {
   "cell_type": "code",
   "execution_count": null,
   "metadata": {
    "execution": {
     "iopub.execute_input": "2024-11-21T16:25:45.114275Z",
     "iopub.status.busy": "2024-11-21T16:25:45.113577Z"
    },
    "trusted": true
   },
   "outputs": [],
   "source": [
    "import matplotlib.pyplot as plt\n",
    "from lightfm.evaluation import precision_at_k, auc_score\n",
    "from lightfm import LightFM\n",
    "\n",
    "# Initialize the model\n",
    "model = LightFM(loss='warp', no_components=30)\n",
    "\n",
    "# Number of epochs\n",
    "num_epochs = 20\n",
    "\n",
    "# Storage for metrics\n",
    "precision_scores = []\n",
    "auc_scores = []\n",
    "\n",
    "# Training loop with performance tracking\n",
    "for epoch in range(1, num_epochs + 1):\n",
    "    # Partial fit for one epoch\n",
    "    model.fit_partial(\n",
    "        urm_train,\n",
    "        item_features=icm_matrix,\n",
    "        num_threads=4\n",
    "    )\n",
    "    \n",
    "    # Evaluate the model\n",
    "    precision = precision_at_k(model, urm_validation, item_features=icm_matrix, k=10).mean()\n",
    "    auc = auc_score(model, urm_validation, item_features=icm_matrix).mean()\n",
    "\n",
    "    # Store metrics\n",
    "    precision_scores.append(precision)\n",
    "    auc_scores.append(auc)\n",
    "\n",
    "    # Print performance\n",
    "    print(f\"Epoch {epoch}/{num_epochs} completed\")\n",
    "    print(f\"Precision@10: {precision:.4f}, AUC: {auc:.4f}\")\n",
    "\n",
    "# Plotting the metrics\n",
    "plt.figure(figsize=(12, 6))\n",
    "plt.plot(range(1, num_epochs + 1), precision_scores, label=\"Precision@10\")\n",
    "plt.plot(range(1, num_epochs + 1), auc_scores, label=\"AUC\")\n",
    "plt.xlabel(\"Epoch\")\n",
    "plt.ylabel(\"Score\")\n",
    "plt.title(\"Performance Metrics Across Epochs\")\n",
    "plt.legend()\n",
    "plt.grid()\n",
    "plt.show()\n"
   ]
  },
  {
   "cell_type": "code",
   "execution_count": 15,
   "metadata": {
    "execution": {
     "iopub.execute_input": "2024-11-21T15:28:05.666876Z",
     "iopub.status.busy": "2024-11-21T15:28:05.665717Z",
     "iopub.status.idle": "2024-11-21T15:28:05.674522Z",
     "shell.execute_reply": "2024-11-21T15:28:05.673272Z",
     "shell.execute_reply.started": "2024-11-21T15:28:05.666828Z"
    },
    "trusted": true
   },
   "outputs": [
    {
     "data": {
      "text/plain": [
       "<Compressed Sparse Row sparse matrix of dtype 'float64'\n",
       "\twith 1235224 stored elements and shape (35736, 38121)>"
      ]
     },
     "execution_count": 15,
     "metadata": {},
     "output_type": "execute_result"
    }
   ],
   "source": [
    "urm_train"
   ]
  },
  {
   "cell_type": "code",
   "execution_count": null,
   "metadata": {
    "execution": {
     "iopub.execute_input": "2024-11-21T14:51:17.146009Z",
     "iopub.status.busy": "2024-11-21T14:51:17.145584Z"
    },
    "trusted": true
   },
   "outputs": [
    {
     "name": "stderr",
     "output_type": "stream",
     "text": [
      "[I 2024-11-21 14:51:17,153] A new study created in memory with name: no-name-acf8c47c-fc02-41cb-9cd2-9c4502617e0e\n"
     ]
    }
   ],
   "source": [
    "import optuna\n",
    "from optuna.logging import set_verbosity, INFO\n",
    "from lightfm import LightFM\n",
    "from Evaluation.Evaluator import EvaluatorHoldout\n",
    "\n",
    "# Define the objective function\n",
    "def objective(trial):\n",
    "    # Suggest hyperparameters\n",
    "    loss_function = trial.suggest_categorical(\"loss\", [\"logistic\", \"bpr\", \"warp\", \"warp-kos\"])\n",
    "    no_components = trial.suggest_int(\"no_components\", 10, 200)  # Latent factors\n",
    "    learning_rate = trial.suggest_float(\"learning_rate\", 1e-5, 1e-1, log=True)\n",
    "    item_alpha = trial.suggest_float(\"item_alpha\", 1e-6, 1e-1, log=True)  # L2 regularization for items\n",
    "    user_alpha = trial.suggest_float(\"user_alpha\", 1e-6, 1e-1, log=True)  # L2 regularization for users\n",
    "\n",
    "    # Initialize the LightFM model with suggested hyperparameters\n",
    "    model = LightFM(\n",
    "        loss=loss_function,\n",
    "        no_components=no_components,\n",
    "        learning_rate=learning_rate,\n",
    "        item_alpha=item_alpha,\n",
    "        user_alpha=user_alpha,\n",
    "    )\n",
    "    \n",
    "    # Fit the model\n",
    "    model.fit(\n",
    "        urm_train,\n",
    "        item_features=icm_matrix,\n",
    "        epochs=10,\n",
    "        num_threads=4  # Adjust based on your system\n",
    "    )\n",
    "    \n",
    "    # Use EvaluatorHoldout to calculate MAP@10\n",
    "    results_df, _ = evaluator_validation.evaluateRecommender(model)\n",
    "    map_at_10 = results_df.loc[10][\"MAP\"]  # Extract MAP@10 from results\n",
    "\n",
    "    return map_at_10\n",
    "\n",
    "# Progress callback to track optimization progress\n",
    "def progress_callback(study, trial):\n",
    "    print(f\"Trial {trial.number} finished with value: {trial.value} and parameters: {trial.params}\")\n",
    "\n",
    "# Set Optuna verbosity for detailed logging\n",
    "set_verbosity(INFO)\n",
    "\n",
    "# Create and run the Optuna study\n",
    "study = optuna.create_study(direction=\"maximize\")\n",
    "study.optimize(objective, n_trials=50, callbacks=[progress_callback])\n",
    "\n",
    "# Output the best hyperparameters found\n",
    "print(\"Best hyperparameters:\", study.best_params)\n",
    "print(\"Best MAP@10:\", study.best_value)\n"
   ]
  },
  {
   "cell_type": "code",
   "execution_count": 29,
   "metadata": {
    "execution": {
     "iopub.execute_input": "2024-11-19T16:56:19.441499Z",
     "iopub.status.busy": "2024-11-19T16:56:19.441116Z",
     "iopub.status.idle": "2024-11-19T16:56:19.568037Z",
     "shell.execute_reply": "2024-11-19T16:56:19.566654Z",
     "shell.execute_reply.started": "2024-11-19T16:56:19.441464Z"
    },
    "trusted": true
   },
   "outputs": [
    {
     "name": "stdout",
     "output_type": "stream",
     "text": [
      "Recommended items for user 0: [ 3730 11549 15084 12723  4329  6194 30120 20895 30716  9241]\n"
     ]
    }
   ],
   "source": [
    "# Predict scores for all items for a specific user\n",
    "user_id = 0\n",
    "scores = model.predict(user_id, np.arange(num_items), item_features=icm_matrix)\n",
    "\n",
    "# Rank items by score\n",
    "top_items = np.argsort(-scores)[:10]  # Top 10 items\n",
    "print(f\"Recommended items for user {user_id}: {top_items}\")\n"
   ]
  },
  {
   "cell_type": "code",
   "execution_count": 57,
   "metadata": {
    "execution": {
     "iopub.execute_input": "2024-11-19T18:28:33.808157Z",
     "iopub.status.busy": "2024-11-19T18:28:33.807701Z",
     "iopub.status.idle": "2024-11-19T18:28:33.829822Z",
     "shell.execute_reply": "2024-11-19T18:28:33.828433Z",
     "shell.execute_reply.started": "2024-11-19T18:28:33.808116Z"
    },
    "trusted": true
   },
   "outputs": [],
   "source": [
    "from scipy.sparse import coo_matrix\n",
    "\n",
    "# Assuming URM is a DataFrame with columns: user_id, item_id, data\n",
    "URM_sparse = coo_matrix(\n",
    "    (URM['data'].values, (URM['user_id'].values, URM['item_id'].values))\n",
    ")"
   ]
  },
  {
   "cell_type": "code",
   "execution_count": 58,
   "metadata": {
    "execution": {
     "iopub.execute_input": "2024-11-19T18:28:35.586364Z",
     "iopub.status.busy": "2024-11-19T18:28:35.585949Z",
     "iopub.status.idle": "2024-11-19T18:28:35.859784Z",
     "shell.execute_reply": "2024-11-19T18:28:35.857608Z",
     "shell.execute_reply.started": "2024-11-19T18:28:35.586311Z"
    },
    "trusted": true
   },
   "outputs": [
    {
     "ename": "AttributeError",
     "evalue": "'DataFrame' object has no attribute 'nnz'",
     "output_type": "error",
     "traceback": [
      "\u001b[0;31m---------------------------------------------------------------------------\u001b[0m",
      "\u001b[0;31mAttributeError\u001b[0m                            Traceback (most recent call last)",
      "\u001b[0;32m/tmp/ipykernel_229/4028267518.py\u001b[0m in \u001b[0;36m?\u001b[0;34m()\u001b[0m\n\u001b[1;32m      1\u001b[0m \u001b[0;32mfrom\u001b[0m \u001b[0mData_manager\u001b[0m\u001b[0;34m.\u001b[0m\u001b[0msplit_functions\u001b[0m\u001b[0;34m.\u001b[0m\u001b[0msplit_train_validation_random_holdout\u001b[0m \u001b[0;32mimport\u001b[0m \u001b[0msplit_train_in_two_percentage_global_sample\u001b[0m\u001b[0;34m\u001b[0m\u001b[0;34m\u001b[0m\u001b[0m\n\u001b[1;32m      2\u001b[0m \u001b[0;34m\u001b[0m\u001b[0m\n\u001b[1;32m      3\u001b[0m \u001b[0;31m# Assuming URM_all is already loaded as URM\u001b[0m\u001b[0;34m\u001b[0m\u001b[0;34m\u001b[0m\u001b[0m\n\u001b[0;32m----> 4\u001b[0;31m \u001b[0mURM_train\u001b[0m\u001b[0;34m,\u001b[0m \u001b[0mURM_test\u001b[0m \u001b[0;34m=\u001b[0m \u001b[0msplit_train_in_two_percentage_global_sample\u001b[0m\u001b[0;34m(\u001b[0m\u001b[0mURM\u001b[0m\u001b[0;34m,\u001b[0m \u001b[0mtrain_percentage\u001b[0m\u001b[0;34m=\u001b[0m\u001b[0;36m0.8\u001b[0m\u001b[0;34m)\u001b[0m\u001b[0;34m\u001b[0m\u001b[0;34m\u001b[0m\u001b[0m\n\u001b[0m\u001b[1;32m      5\u001b[0m \u001b[0mURM_train\u001b[0m\u001b[0;34m,\u001b[0m \u001b[0mURM_validation\u001b[0m \u001b[0;34m=\u001b[0m \u001b[0msplit_train_in_two_percentage_global_sample\u001b[0m\u001b[0;34m(\u001b[0m\u001b[0mURM_train\u001b[0m\u001b[0;34m,\u001b[0m \u001b[0mtrain_percentage\u001b[0m\u001b[0;34m=\u001b[0m\u001b[0;36m0.8\u001b[0m\u001b[0;34m)\u001b[0m\u001b[0;34m\u001b[0m\u001b[0;34m\u001b[0m\u001b[0m\n",
      "\u001b[0;32m/kaggle/working/recsys/Data_manager/split_functions/split_train_validation_random_holdout.py\u001b[0m in \u001b[0;36m?\u001b[0;34m(URM_all, train_percentage)\u001b[0m\n\u001b[1;32m    142\u001b[0m     )\n\u001b[1;32m    143\u001b[0m \u001b[0;34m\u001b[0m\u001b[0m\n\u001b[1;32m    144\u001b[0m     \u001b[0mURM_train\u001b[0m \u001b[0;34m=\u001b[0m \u001b[0msps\u001b[0m\u001b[0;34m.\u001b[0m\u001b[0mcoo_matrix\u001b[0m\u001b[0;34m(\u001b[0m\u001b[0mURM_all\u001b[0m\u001b[0;34m)\u001b[0m\u001b[0;34m\u001b[0m\u001b[0;34m\u001b[0m\u001b[0m\n\u001b[1;32m    145\u001b[0m \u001b[0;34m\u001b[0m\u001b[0m\n\u001b[0;32m--> 146\u001b[0;31m     \u001b[0mindices_for_sampling\u001b[0m \u001b[0;34m=\u001b[0m \u001b[0mnp\u001b[0m\u001b[0;34m.\u001b[0m\u001b[0marange\u001b[0m\u001b[0;34m(\u001b[0m\u001b[0;36m0\u001b[0m\u001b[0;34m,\u001b[0m \u001b[0mURM_all\u001b[0m\u001b[0;34m.\u001b[0m\u001b[0mnnz\u001b[0m\u001b[0;34m,\u001b[0m \u001b[0mdtype\u001b[0m\u001b[0;34m=\u001b[0m\u001b[0mnp\u001b[0m\u001b[0;34m.\u001b[0m\u001b[0mint32\u001b[0m\u001b[0;34m)\u001b[0m\u001b[0;34m\u001b[0m\u001b[0;34m\u001b[0m\u001b[0m\n\u001b[0m\u001b[1;32m    147\u001b[0m     \u001b[0mnp\u001b[0m\u001b[0;34m.\u001b[0m\u001b[0mrandom\u001b[0m\u001b[0;34m.\u001b[0m\u001b[0mshuffle\u001b[0m\u001b[0;34m(\u001b[0m\u001b[0mindices_for_sampling\u001b[0m\u001b[0;34m)\u001b[0m\u001b[0;34m\u001b[0m\u001b[0;34m\u001b[0m\u001b[0m\n\u001b[1;32m    148\u001b[0m \u001b[0;34m\u001b[0m\u001b[0m\n\u001b[1;32m    149\u001b[0m     \u001b[0mn_train_interactions\u001b[0m \u001b[0;34m=\u001b[0m \u001b[0mround\u001b[0m\u001b[0;34m(\u001b[0m\u001b[0mURM_all\u001b[0m\u001b[0;34m.\u001b[0m\u001b[0mnnz\u001b[0m \u001b[0;34m*\u001b[0m \u001b[0mtrain_percentage\u001b[0m\u001b[0;34m)\u001b[0m\u001b[0;34m\u001b[0m\u001b[0;34m\u001b[0m\u001b[0m\n",
      "\u001b[0;32m/opt/conda/lib/python3.10/site-packages/pandas/core/generic.py\u001b[0m in \u001b[0;36m?\u001b[0;34m(self, name)\u001b[0m\n\u001b[1;32m   6295\u001b[0m             \u001b[0;32mand\u001b[0m \u001b[0mname\u001b[0m \u001b[0;32mnot\u001b[0m \u001b[0;32min\u001b[0m \u001b[0mself\u001b[0m\u001b[0;34m.\u001b[0m\u001b[0m_accessors\u001b[0m\u001b[0;34m\u001b[0m\u001b[0;34m\u001b[0m\u001b[0m\n\u001b[1;32m   6296\u001b[0m             \u001b[0;32mand\u001b[0m \u001b[0mself\u001b[0m\u001b[0;34m.\u001b[0m\u001b[0m_info_axis\u001b[0m\u001b[0;34m.\u001b[0m\u001b[0m_can_hold_identifiers_and_holds_name\u001b[0m\u001b[0;34m(\u001b[0m\u001b[0mname\u001b[0m\u001b[0;34m)\u001b[0m\u001b[0;34m\u001b[0m\u001b[0;34m\u001b[0m\u001b[0m\n\u001b[1;32m   6297\u001b[0m         ):\n\u001b[1;32m   6298\u001b[0m             \u001b[0;32mreturn\u001b[0m \u001b[0mself\u001b[0m\u001b[0;34m[\u001b[0m\u001b[0mname\u001b[0m\u001b[0;34m]\u001b[0m\u001b[0;34m\u001b[0m\u001b[0;34m\u001b[0m\u001b[0m\n\u001b[0;32m-> 6299\u001b[0;31m         \u001b[0;32mreturn\u001b[0m \u001b[0mobject\u001b[0m\u001b[0;34m.\u001b[0m\u001b[0m__getattribute__\u001b[0m\u001b[0;34m(\u001b[0m\u001b[0mself\u001b[0m\u001b[0;34m,\u001b[0m \u001b[0mname\u001b[0m\u001b[0;34m)\u001b[0m\u001b[0;34m\u001b[0m\u001b[0;34m\u001b[0m\u001b[0m\n\u001b[0m",
      "\u001b[0;31mAttributeError\u001b[0m: 'DataFrame' object has no attribute 'nnz'"
     ]
    }
   ],
   "source": [
    "from Data_manager.split_functions.split_train_validation_random_holdout import split_train_in_two_percentage_global_sample\n",
    "\n",
    "# Assuming URM_all is already loaded as URM\n",
    "URM_train, URM_test = split_train_in_two_percentage_global_sample(URM, train_percentage=0.8)\n",
    "URM_train, URM_validation = split_train_in_two_percentage_global_sample(URM_train, train_percentage=0.8)\n"
   ]
  },
  {
   "cell_type": "code",
   "execution_count": null,
   "metadata": {
    "trusted": true
   },
   "outputs": [],
   "source": [
    "from lightfm import LightFM\n",
    "\n",
    "# Initialize LightFM model\n",
    "model = LightFM(loss='warp', no_components=30)\n",
    "\n",
    "# Training loop with epoch progress tracking\n",
    "num_epochs = 20\n",
    "for epoch in range(1, num_epochs + 1):\n",
    "    model.fit_partial(\n",
    "        URM_train,\n",
    "        item_features=icm_matrix,\n",
    "        num_threads=4  # Multithreading for faster training\n",
    "    )\n",
    "    print(f\"Epoch {epoch}/{num_epochs} completed\")\n"
   ]
  },
  {
   "cell_type": "code",
   "execution_count": null,
   "metadata": {
    "trusted": true
   },
   "outputs": [],
   "source": [
    "import numpy as np\n",
    "\n",
    "def lightfm_recommend_batch(model, user_ids, URM_train, item_features, at=10):\n",
    "    \"\"\"\n",
    "    Generate top-N recommendations for a batch of users using LightFM.\n",
    "    \n",
    "    Args:\n",
    "        model: Trained LightFM model.\n",
    "        user_ids: List of user IDs for which to generate recommendations.\n",
    "        URM_train: Training matrix to exclude seen items.\n",
    "        item_features: Optional LightFM item feature matrix.\n",
    "        at: Number of recommendations to generate.\n",
    "\n",
    "    Returns:\n",
    "        List of lists containing recommended item IDs for each user.\n",
    "    \"\"\"\n",
    "    num_items = URM_train.shape[1]\n",
    "    recommendations = []\n",
    "    \n",
    "    for user_id in user_ids:\n",
    "        scores = model.predict(user_id, np.arange(num_items), item_features=item_features)\n",
    "        \n",
    "        # Exclude items seen in training\n",
    "        seen_items = URM_train[user_id].indices\n",
    "        scores[seen_items] = -np.inf\n",
    "        \n",
    "        # Get top-N recommendations\n",
    "        top_items = np.argsort(-scores)[:at]\n",
    "        recommendations.append(top_items)\n",
    "    \n",
    "    return recommendations\n"
   ]
  },
  {
   "cell_type": "code",
   "execution_count": null,
   "metadata": {
    "trusted": true
   },
   "outputs": [],
   "source": [
    "from Evaluation.Evaluator import EvaluatorHoldout\n",
    "\n",
    "# Initialize evaluator for validation\n",
    "evaluator_validation = EvaluatorHoldout(URM_validation, cutoff_list=[10])\n",
    "\n",
    "# Define a wrapper for the evaluator to use LightFM predictions\n",
    "class LightFMRecommenderWrapper:\n",
    "    def __init__(self, model, URM_train, item_features):\n",
    "        self.model = model\n",
    "        self.URM_train = URM_train\n",
    "        self.item_features = item_features\n",
    "\n",
    "    def recommend(self, user_id, at=10):\n",
    "        scores = self.model.predict(user_id, np.arange(self.URM_train.shape[1]), item_features=self.item_features)\n",
    "        seen_items = self.URM_train[user_id].indices\n",
    "        scores[seen_items] = -np.inf\n",
    "        return np.argsort(-scores)[:at]\n",
    "\n",
    "# Wrap the LightFM model\n",
    "lightfm_wrapper = LightFMRecommenderWrapper(model, URM_train, icm_matrix)\n",
    "\n",
    "# Evaluate the wrapped model\n",
    "results = evaluator_validation.evaluateRecommender(lightfm_wrapper)\n",
    "print(\"Validation Results:\", results)\n"
   ]
  },
  {
   "cell_type": "markdown",
   "metadata": {},
   "source": [
    "# EXTRA"
   ]
  },
  {
   "cell_type": "code",
   "execution_count": 13,
   "metadata": {
    "execution": {
     "iopub.execute_input": "2024-11-20T12:43:14.454924Z",
     "iopub.status.busy": "2024-11-20T12:43:14.454304Z",
     "iopub.status.idle": "2024-11-20T12:45:44.492828Z",
     "shell.execute_reply": "2024-11-20T12:45:44.492081Z",
     "shell.execute_reply.started": "2024-11-20T12:43:14.454888Z"
    },
    "trusted": true
   },
   "outputs": [],
   "source": [
    "import pandas as pd\n",
    "\n",
    "# Load the target users\n",
    "target_users = pd.read_csv(\"./data/data_target_users_test.csv\")\n",
    "\n",
    "# Create predictions for each user\n",
    "# Assuming `recommender` is your fitted model and `top_k` is the number of recommendations per user\n",
    "top_k = 10\n",
    "\n",
    "# Generate recommendations\n",
    "def generate_recommendations(user_id):\n",
    "    # Generate recommendations for the user, and slice to take top_k items\n",
    "    recommendations = p3opt.recommend(user_id)[:top_k]\n",
    "    return \" \".join(map(str, recommendations))\n",
    "\n",
    "# Apply the recommendation function to each user in the target list\n",
    "target_users['item_list'] = target_users['user_id'].apply(generate_recommendations)\n",
    "\n",
    "# Save to CSV\n",
    "target_users.to_csv(\"submission.csv\", index=False)\n"
   ]
  },
  {
   "cell_type": "code",
   "execution_count": null,
   "metadata": {
    "trusted": true
   },
   "outputs": [],
   "source": [
    "urm_train"
   ]
  },
  {
   "cell_type": "code",
   "execution_count": null,
   "metadata": {
    "trusted": true
   },
   "outputs": [],
   "source": [
    "urm_validation"
   ]
  },
  {
   "cell_type": "code",
   "execution_count": null,
   "metadata": {
    "trusted": true
   },
   "outputs": [],
   "source": [
    "urm_test"
   ]
  }
 ],
 "metadata": {
  "kaggle": {
   "accelerator": "none",
   "dataSources": [
    {
     "databundleVersionId": 9982103,
     "sourceId": 87439,
     "sourceType": "competition"
    }
   ],
   "isGpuEnabled": false,
   "isInternetEnabled": true,
   "language": "python",
   "sourceType": "notebook"
  },
  "kernelspec": {
   "display_name": "recsys",
   "language": "python",
   "name": "python3"
  },
  "language_info": {
   "codemirror_mode": {
    "name": "ipython",
    "version": 3
   },
   "file_extension": ".py",
   "mimetype": "text/x-python",
   "name": "python",
   "nbconvert_exporter": "python",
   "pygments_lexer": "ipython3",
   "version": "3.9.7"
  }
 },
 "nbformat": 4,
 "nbformat_minor": 4
}
